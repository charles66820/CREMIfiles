{
 "cells": [
  {
   "cell_type": "markdown",
   "metadata": {},
   "source": [
    "# Réseaux de neurones pour la reconnaissance de chiffres manuscrits\n",
    "\n",
    "Dans ce notebook, nous allons voir, étape par étape, comment entrainer un model pour reconnaitre des chiffres manuscrits. Pour cela nous devons :\n",
    "\n",
    "1. importer les bibliothèques nécessaires, en particulier la bibliothèque keras \n",
    "2. charger les données, il s'agit du dataset mnist\n",
    "3. définir notre réseau de neurones\n",
    "4. entrainer le modèle\n",
    "5. Le tester\n",
    "\n",
    "Comme vous pouvez le remarquer, les étapes sont quasiment les mêmes que celles vues dans le cours sur le machine learning et la bibliothèque sklearn. Ce qui change c'est l'utilisation des réseaux de neurones.\n"
   ]
  },
  {
   "cell_type": "markdown",
   "metadata": {},
   "source": [
    "Commençons donc par importer les bibliothèques nécessaires :"
   ]
  },
  {
   "cell_type": "code",
   "execution_count": 1,
   "metadata": {},
   "outputs": [
    {
     "name": "stderr",
     "output_type": "stream",
     "text": [
      "2021-12-09 17:05:27.154072: W tensorflow/stream_executor/platform/default/dso_loader.cc:64] Could not load dynamic library 'libcudart.so.11.0'; dlerror: libcudart.so.11.0: cannot open shared object file: No such file or directory\n",
      "2021-12-09 17:05:27.154111: I tensorflow/stream_executor/cuda/cudart_stub.cc:29] Ignore above cudart dlerror if you do not have a GPU set up on your machine.\n"
     ]
    }
   ],
   "source": [
    "import tensorflow as tf\n",
    "import keras\n",
    "import numpy as np\n",
    "import matplotlib\n",
    "import matplotlib.pyplot as plt"
   ]
  },
  {
   "cell_type": "markdown",
   "metadata": {},
   "source": [
    "Puis nous allons charger les données du dataset."
   ]
  },
  {
   "cell_type": "code",
   "execution_count": 2,
   "metadata": {},
   "outputs": [],
   "source": [
    "from keras.datasets import mnist"
   ]
  },
  {
   "cell_type": "markdown",
   "metadata": {},
   "source": [
    " Les concepteurs de mnist ont bien fait les choses : ils ont prévu une méthode permettant de découper les données en train et test."
   ]
  },
  {
   "cell_type": "code",
   "execution_count": 3,
   "metadata": {},
   "outputs": [],
   "source": [
    "(X_train, Y_train), (X_test, Y_test) = mnist.load_data()"
   ]
  },
  {
   "cell_type": "markdown",
   "metadata": {},
   "source": [
    "On peut commencer par quelques manipulations de base pour explorer les données qu'on vient de charger :"
   ]
  },
  {
   "cell_type": "code",
   "execution_count": 4,
   "metadata": {},
   "outputs": [
    {
     "name": "stdout",
     "output_type": "stream",
     "text": [
      "X_train shape:  (60000, 28, 28)\n",
      "Y_train shape:  (60000,)\n"
     ]
    }
   ],
   "source": [
    "print('X_train shape: ',X_train.shape)\n",
    "print('Y_train shape: ',Y_train.shape)"
   ]
  },
  {
   "cell_type": "markdown",
   "metadata": {},
   "source": [
    "On voit que X_train contient 60k d'exemples. Cheque exemple est une image 28 x 28. Y_train contient 60k  étiquettes. On peut le voir en faisant comme suit :"
   ]
  },
  {
   "cell_type": "code",
   "execution_count": 5,
   "metadata": {},
   "outputs": [
    {
     "data": {
      "image/png": "[encoded data removed]",
      "text/plain": [
       "<Figure size 432x288 with 1 Axes>"
      ]
     },
     "metadata": {
      "needs_background": "light"
     },
     "output_type": "display_data"
    },
    {
     "name": "stdout",
     "output_type": "stream",
     "text": [
      "0\n"
     ]
    }
   ],
   "source": [
    "from matplotlib import pyplot as plt\n",
    "from matplotlib import cm as cm\n",
    "\n",
    "plt.imshow(X_train[1000], cmap=cm.Greys)\n",
    "plt.show()\n",
    "\n",
    "print(Y_train[1000])"
   ]
  },
  {
   "cell_type": "markdown",
   "metadata": {},
   "source": [
    "Maintenant que nous avons vu à quoi ressemble notre dataset, on peut commencer à utiliser les réseaux de neurones pour reconnaître les chiffres manuscrits. \n",
    "\n",
    "Pour le moment, nous avons vu les réseaux de neurones \"simples\" et pas d'architectures avancées. Nous allons donc devoir \"applatir\" les données en entrée de notre réseau. En effet, les données arrivent sous forme d'images 28 x 28. Nous allons donc transformer chaque image en un vecteur de taille 28 x 28 = 784 :"
   ]
  },
  {
   "cell_type": "code",
   "execution_count": 6,
   "metadata": {},
   "outputs": [],
   "source": [
    "num_pixels = X_train.shape[1] * X_train.shape[2]\n",
    "X_train = X_train.reshape(X_train.shape[0], num_pixels).T\n",
    "X_test = X_test.reshape(X_test.shape[0], num_pixels).T\n",
    "Y_train = Y_train.reshape(Y_train.shape[0], 1)\n",
    "Y_test = Y_test.reshape(Y_test.shape[0], 1)"
   ]
  },
  {
   "cell_type": "markdown",
   "metadata": {},
   "source": [
    "Patience encore, nous allons faire quelques transformations supplémetaires sur les données pour changer le type de donnéese et les normer :"
   ]
  },
  {
   "cell_type": "code",
   "execution_count": 7,
   "metadata": {},
   "outputs": [],
   "source": [
    "X_train = X_train.astype('float32')\n",
    "X_test = X_test.astype('float32')\n",
    "Y_train = Y_train.astype('float32')\n",
    "Y_test = Y_test.astype('float32')\n",
    "X_train  = X_train / 255\n",
    "X_test  = X_test / 255"
   ]
  },
  {
   "cell_type": "markdown",
   "metadata": {},
   "source": [
    "Dans un but purement pédagogique, nous allons dans un premier temps faire une classification binaire : les chiffres correspondant à 5 seront labélisés 1 et ceux différents de 5 seront lablisés 0. Encore une fois c'est dans un but purement pédagogique ... "
   ]
  },
  {
   "cell_type": "code",
   "execution_count": 8,
   "metadata": {},
   "outputs": [],
   "source": [
    "Y_new = np.zeros(Y_train.shape)\n",
    "Y_new[np.where(Y_train==5.0)[0]] = 1\n",
    "Y_train = Y_new\n",
    "\n",
    "Y_new = np.zeros(Y_test.shape)\n",
    "Y_new[np.where(Y_test==5.0)[0]] = 1\n",
    "Y_test = Y_new\n",
    "\n",
    "\n",
    "Y_train = Y_train.T\n",
    "Y_test = Y_test.T"
   ]
  },
  {
   "cell_type": "markdown",
   "metadata": {},
   "source": [
    "Une dernière manipulation pour mélanger les données :"
   ]
  },
  {
   "cell_type": "code",
   "execution_count": 9,
   "metadata": {},
   "outputs": [],
   "source": [
    "m = m = X_train.shape[1] #number of examples\n",
    "np.random.seed(138)\n",
    "shuffle_index = np.random.permutation(m)\n",
    "X_train, Y_train = X_train[:,shuffle_index], Y_train[:,shuffle_index]"
   ]
  },
  {
   "cell_type": "markdown",
   "metadata": {},
   "source": [
    "Commençons par essayer d'entrainer un model sans utiliser keras mais juste avec numpy. Pour cela, nous avons besoin de définir nos propres fonctions :"
   ]
  },
  {
   "cell_type": "code",
   "execution_count": 10,
   "metadata": {},
   "outputs": [
    {
     "data": {
      "image/png": "[encoded data removed]",
      "text/plain": [
       "<Figure size 432x288 with 1 Axes>"
      ]
     },
     "metadata": {
      "needs_background": "light"
     },
     "output_type": "display_data"
    }
   ],
   "source": [
    "#On définit la fonction sigmoid :\n",
    "def sigmoid(z):\n",
    "    s = 1. / (1. + np.exp(-z))\n",
    "    return s\n",
    "\n",
    "#On peut visualiser ce qu'elle fait :\n",
    "x = np.arange(-12.0, 12.0, 1.0, dtype=np.float32)\n",
    "y = sigmoid(x)\n",
    "plt.plot(x, y)\n",
    "plt.show()"
   ]
  },
  {
   "cell_type": "code",
   "execution_count": 11,
   "metadata": {},
   "outputs": [],
   "source": [
    "#On définit la fonction de \"loss\" :\n",
    "def compute_loss(Y, Y_hat):\n",
    "    m = Y.shape[1]\n",
    "    L = -(1./m) * (np.sum(np.multiply(np.log(Y_hat),Y)) + np.sum( np.multiply(np.log(1-Y_hat),(1-Y))))\n",
    "    return L"
   ]
  },
  {
   "cell_type": "markdown",
   "metadata": {},
   "source": [
    "Nous y voilà, nous allons pouvoir définir la rétro propagation, construire et entrainer le modèle : "
   ]
  },
  {
   "cell_type": "code",
   "execution_count": 12,
   "metadata": {},
   "outputs": [
    {
     "name": "stdout",
     "output_type": "stream",
     "text": [
      "Y.shape=(1, 60000)\n",
      "Epoch 0 cost:  0.6817831288870175\n",
      "Epoch 20 cost:  0.15693060630580027\n",
      "Epoch 40 cost:  0.1269609305022656\n",
      "Epoch 60 cost:  0.11949298198327493\n",
      "Epoch 80 cost:  0.11494037451099734\n",
      "Final cost: 0.11191596629329834\n"
     ]
    }
   ],
   "source": [
    "learning_rate = 1.\n",
    "\n",
    "X = X_train\n",
    "Y = Y_train\n",
    "\n",
    "print('Y.shape={}'.format(Y.shape))\n",
    "\n",
    "n_x = X.shape[0]\n",
    "m = X.shape[1]\n",
    "\n",
    "W = np.random.randn(1, n_x) * 0.01\n",
    "b = np.zeros((1, 1))\n",
    "\n",
    "costs_list = []\n",
    "for i in range(100):\n",
    "    Z = np.matmul(W, X) + b\n",
    "    A = sigmoid(Z)\n",
    "\n",
    "    cost = compute_loss(Y, A)\n",
    "\n",
    "    #print('A-Y.shape={}'.format((A-Y).shape))\n",
    "    #print('X.T.shape={}'.format((X.T).shape))\n",
    "\n",
    "    dW = (1./m) * np.matmul((A-Y), X.T)\n",
    "    db = (1./m) * np.sum(A-Y, axis=1, keepdims=True)\n",
    "\n",
    "    W = W - learning_rate * dW\n",
    "    b = b - learning_rate * db\n",
    "\n",
    "    if (i % 20 == 0):\n",
    "        print(\"Epoch\", i, \"cost: \", cost)\n",
    "        costs_list.append(cost)\n",
    "\n",
    "print(\"Final cost:\", cost)\n"
   ]
  },
  {
   "cell_type": "code",
   "execution_count": 13,
   "metadata": {},
   "outputs": [
    {
     "data": {
      "image/png": "[encoded data removed]",
      "text/plain": [
       "<Figure size 432x288 with 1 Axes>"
      ]
     },
     "metadata": {
      "needs_background": "light"
     },
     "output_type": "display_data"
    }
   ],
   "source": [
    "x_axis = [i for i in range(0, 100, 20) ]\n",
    "y_axis = costs_list\n",
    "plt.plot(x_axis, y_axis)\n",
    "plt.show()"
   ]
  },
  {
   "cell_type": "markdown",
   "metadata": {},
   "source": [
    "## Réseaux de neurones avec keras\n",
    "\n",
    "Ca reste compliqué de tout faire avec numpy ... Heureusement, il y a keras. \n",
    "\n",
    "Voici le code qui fait exactement la même chose que ce que nous avions fait avant :"
   ]
  },
  {
   "cell_type": "code",
   "execution_count": 18,
   "metadata": {},
   "outputs": [
    {
     "name": "stderr",
     "output_type": "stream",
     "text": [
      "2021-12-09 17:08:16.465499: I tensorflow/stream_executor/cuda/cuda_gpu_executor.cc:937] successful NUMA node read from SysFS had negative value (-1), but there must be at least one NUMA node, so returning NUMA node zero\n",
      "2021-12-09 17:08:16.465793: W tensorflow/stream_executor/platform/default/dso_loader.cc:64] Could not load dynamic library 'libcudart.so.11.0'; dlerror: libcudart.so.11.0: cannot open shared object file: No such file or directory\n",
      "2021-12-09 17:08:16.465857: W tensorflow/stream_executor/platform/default/dso_loader.cc:64] Could not load dynamic library 'libcublas.so.11'; dlerror: libcublas.so.11: cannot open shared object file: No such file or directory\n",
      "2021-12-09 17:08:16.465915: W tensorflow/stream_executor/platform/default/dso_loader.cc:64] Could not load dynamic library 'libcublasLt.so.11'; dlerror: libcublasLt.so.11: cannot open shared object file: No such file or directory\n",
      "2021-12-09 17:08:16.465971: W tensorflow/stream_executor/platform/default/dso_loader.cc:64] Could not load dynamic library 'libcufft.so.10'; dlerror: libcufft.so.10: cannot open shared object file: No such file or directory\n",
      "2021-12-09 17:08:16.466028: W tensorflow/stream_executor/platform/default/dso_loader.cc:64] Could not load dynamic library 'libcurand.so.10'; dlerror: libcurand.so.10: cannot open shared object file: No such file or directory\n",
      "2021-12-09 17:08:16.466085: W tensorflow/stream_executor/platform/default/dso_loader.cc:64] Could not load dynamic library 'libcusolver.so.11'; dlerror: libcusolver.so.11: cannot open shared object file: No such file or directory\n",
      "2021-12-09 17:08:16.466144: W tensorflow/stream_executor/platform/default/dso_loader.cc:64] Could not load dynamic library 'libcusparse.so.11'; dlerror: libcusparse.so.11: cannot open shared object file: No such file or directory\n",
      "2021-12-09 17:08:16.466206: W tensorflow/stream_executor/platform/default/dso_loader.cc:64] Could not load dynamic library 'libcudnn.so.8'; dlerror: libcudnn.so.8: cannot open shared object file: No such file or directory\n",
      "2021-12-09 17:08:16.466216: W tensorflow/core/common_runtime/gpu/gpu_device.cc:1835] Cannot dlopen some GPU libraries. Please make sure the missing libraries mentioned above are installed properly if you would like to use GPU. Follow the guide at https://www.tensorflow.org/install/gpu for how to download and setup the required libraries for your platform.\n",
      "Skipping registering GPU devices...\n",
      "2021-12-09 17:08:16.466518: I tensorflow/core/platform/cpu_feature_guard.cc:142] This TensorFlow binary is optimized with oneAPI Deep Neural Network Library (oneDNN) to use the following CPU instructions in performance-critical operations:  AVX2 FMA\n",
      "To enable them in other operations, rebuild TensorFlow with the appropriate compiler flags.\n"
     ]
    },
    {
     "name": "stdout",
     "output_type": "stream",
     "text": [
      "Model: \"sequential\"\n",
      "_________________________________________________________________\n",
      "Layer (type)                 Output Shape              Param #   \n",
      "=================================================================\n",
      "dense (Dense)                (None, 784)               615440    \n",
      "_________________________________________________________________\n",
      "dense_1 (Dense)              (None, 10)                7850      \n",
      "=================================================================\n",
      "Total params: 623,290\n",
      "Trainable params: 623,290\n",
      "Non-trainable params: 0\n",
      "_________________________________________________________________\n"
     ]
    },
    {
     "name": "stderr",
     "output_type": "stream",
     "text": [
      "2021-12-09 17:08:16.643313: W tensorflow/core/framework/cpu_allocator_impl.cc:80] Allocation of 188160000 exceeds 10% of free system memory.\n",
      "2021-12-09 17:08:16.786638: I tensorflow/compiler/mlir/mlir_graph_optimization_pass.cc:185] None of the MLIR Optimization Passes are enabled (registered 2)\n"
     ]
    },
    {
     "name": "stdout",
     "output_type": "stream",
     "text": [
      "Epoch 1/25\n",
      "600/600 [==============================] - 5s 7ms/step - loss: 0.2297 - accuracy: 0.9333 - val_loss: 0.1059 - val_accuracy: 0.9682\n",
      "Epoch 2/25\n",
      "600/600 [==============================] - 4s 7ms/step - loss: 0.0904 - accuracy: 0.9729 - val_loss: 0.0808 - val_accuracy: 0.9753\n",
      "Epoch 3/25\n",
      "600/600 [==============================] - 4s 6ms/step - loss: 0.0572 - accuracy: 0.9830 - val_loss: 0.0726 - val_accuracy: 0.9765\n",
      "Epoch 4/25\n",
      "600/600 [==============================] - 3s 6ms/step - loss: 0.0384 - accuracy: 0.9886 - val_loss: 0.0701 - val_accuracy: 0.9771\n",
      "Epoch 5/25\n",
      "600/600 [==============================] - 4s 7ms/step - loss: 0.0275 - accuracy: 0.9916 - val_loss: 0.0629 - val_accuracy: 0.9803\n",
      "Epoch 6/25\n",
      "600/600 [==============================] - 4s 7ms/step - loss: 0.0190 - accuracy: 0.9944 - val_loss: 0.0676 - val_accuracy: 0.9786\n",
      "Epoch 7/25\n",
      "600/600 [==============================] - 4s 6ms/step - loss: 0.0147 - accuracy: 0.9957 - val_loss: 0.0606 - val_accuracy: 0.9803\n",
      "Epoch 8/25\n",
      "600/600 [==============================] - 3s 6ms/step - loss: 0.0133 - accuracy: 0.9957 - val_loss: 0.0688 - val_accuracy: 0.9804\n",
      "Epoch 9/25\n",
      "600/600 [==============================] - 4s 6ms/step - loss: 0.0098 - accuracy: 0.9971 - val_loss: 0.0770 - val_accuracy: 0.9796\n",
      "Epoch 10/25\n",
      "600/600 [==============================] - 4s 6ms/step - loss: 0.0083 - accuracy: 0.9977 - val_loss: 0.0674 - val_accuracy: 0.9827\n",
      "Epoch 11/25\n",
      "600/600 [==============================] - 4s 6ms/step - loss: 0.0062 - accuracy: 0.9983 - val_loss: 0.0657 - val_accuracy: 0.9832\n",
      "Epoch 12/25\n",
      "600/600 [==============================] - 4s 6ms/step - loss: 0.0078 - accuracy: 0.9977 - val_loss: 0.0775 - val_accuracy: 0.9805\n",
      "Epoch 13/25\n",
      "600/600 [==============================] - 4s 6ms/step - loss: 0.0072 - accuracy: 0.9976 - val_loss: 0.0874 - val_accuracy: 0.9799\n",
      "Epoch 14/25\n",
      "600/600 [==============================] - 4s 6ms/step - loss: 0.0055 - accuracy: 0.9985 - val_loss: 0.0709 - val_accuracy: 0.9821\n",
      "Epoch 15/25\n",
      "600/600 [==============================] - 4s 6ms/step - loss: 0.0050 - accuracy: 0.9984 - val_loss: 0.0767 - val_accuracy: 0.9814\n",
      "Epoch 16/25\n",
      "600/600 [==============================] - 4s 7ms/step - loss: 0.0067 - accuracy: 0.9979 - val_loss: 0.0712 - val_accuracy: 0.9833\n",
      "Epoch 17/25\n",
      "600/600 [==============================] - 4s 6ms/step - loss: 0.0028 - accuracy: 0.9992 - val_loss: 0.0796 - val_accuracy: 0.9811\n",
      "Epoch 18/25\n",
      "600/600 [==============================] - 4s 6ms/step - loss: 0.0077 - accuracy: 0.9973 - val_loss: 0.0769 - val_accuracy: 0.9839\n",
      "Epoch 19/25\n",
      "600/600 [==============================] - 4s 6ms/step - loss: 0.0029 - accuracy: 0.9992 - val_loss: 0.0842 - val_accuracy: 0.9825\n",
      "Epoch 20/25\n",
      "600/600 [==============================] - 4s 7ms/step - loss: 0.0028 - accuracy: 0.9992 - val_loss: 0.0772 - val_accuracy: 0.9834\n",
      "Epoch 21/25\n",
      "600/600 [==============================] - 4s 7ms/step - loss: 0.0025 - accuracy: 0.9994 - val_loss: 0.0940 - val_accuracy: 0.9802\n",
      "Epoch 22/25\n",
      "600/600 [==============================] - 4s 6ms/step - loss: 0.0065 - accuracy: 0.9977 - val_loss: 0.1048 - val_accuracy: 0.9804\n",
      "Epoch 23/25\n",
      "600/600 [==============================] - 4s 6ms/step - loss: 0.0047 - accuracy: 0.9982 - val_loss: 0.0862 - val_accuracy: 0.9819\n",
      "Epoch 24/25\n",
      "600/600 [==============================] - 4s 6ms/step - loss: 0.0010 - accuracy: 0.9998 - val_loss: 0.0916 - val_accuracy: 0.9814\n",
      "Epoch 25/25\n",
      "600/600 [==============================] - 4s 6ms/step - loss: 2.5338e-04 - accuracy: 1.0000 - val_loss: 0.0738 - val_accuracy: 0.9853\n",
      "313/313 [==============================] - 1s 2ms/step - loss: 0.0738 - accuracy: 0.9853\n",
      "Neural network accuracy: 98.53%\n"
     ]
    }
   ],
   "source": [
    "from __future__ import print_function\n",
    "\n",
    "import tensorflow as tf\n",
    "from tensorflow import keras\n",
    "from keras.datasets import mnist\n",
    "from keras.models import Sequential\n",
    "from keras.layers import Dense, Dropout\n",
    "from tensorflow.keras.optimizers import RMSprop\n",
    "\n",
    "\n",
    "#print('tensorflow:', tf.__version__)\n",
    "#print('keras:', keras.__version__)\n",
    "\n",
    "\n",
    "#load (first download if necessary) the MNIST dataset\n",
    "# (the dataset is stored in your home direcoty in ~/.keras/datasets/mnist.npz\n",
    "#  and will take  ~11MB)\n",
    "# data is already split in train and test datasets\n",
    "(x_train, y_train), (x_test, y_test) = mnist.load_data()\n",
    "\n",
    "# x_train : 60000 images of size 28x28, i.e., x_train.shape = (60000, 28, 28)\n",
    "# y_train : 60000 labels (from 0 to 9)\n",
    "# x_test  : 10000 images of size 28x28, i.e., x_test.shape = (10000, 28, 28)\n",
    "# x_test  : 10000 labels\n",
    "# all datasets are of type uint8\n",
    "\n",
    "#To input our values in our network Dense layer, we need to flatten the datasets, i.e.,\n",
    "# pass from (60000, 28, 28) to (60000, 784)\n",
    "#flatten images\n",
    "num_pixels = x_train.shape[1] * x_train.shape[2]\n",
    "x_train = x_train.reshape(x_train.shape[0], num_pixels)\n",
    "x_test = x_test.reshape(x_test.shape[0], num_pixels)\n",
    "\n",
    "#Convert to float\n",
    "x_train = x_train.astype('float32')\n",
    "x_test = x_test.astype('float32')\n",
    "\n",
    "#Normalize inputs from [0; 255] to [0; 1]\n",
    "x_train = x_train / 255\n",
    "x_test = x_test / 255\n",
    "\n",
    "\n",
    "#Convert class vectors to binary class matrices (\"one hot encoding\")\n",
    "## Doc : https://keras.io/utils/#to_categorical\n",
    "y_train = keras.utils.to_categorical(y_train)\n",
    "y_test = keras.utils.to_categorical(y_test)\n",
    "\n",
    "\n",
    "num_classes = y_train.shape[1]\n",
    "\n",
    "\n",
    "\n",
    "#Let start our work: creating a neural network\n",
    "\n",
    "#####TO COMPLETE\n",
    "def neural_network():\n",
    "    model = Sequential()\n",
    "    model.add(Dense(num_pixels, input_dim=num_pixels, kernel_initializer='normal', activation='relu'))\n",
    "    #model.add(Dropout(.5))\n",
    "    model.add(Dense(num_classes, kernel_initializer='normal', activation='softmax'))\n",
    "    model.compile(loss='categorical_crossentropy', optimizer='adam', metrics=['accuracy'])\n",
    "    return model\n",
    "\n",
    "model = neural_network()\n",
    "model.summary()\n",
    "model.fit(x_train, y_train, validation_data=(x_test, y_test), epochs=25, batch_size=100)#98.36%\n",
    "\n",
    "scores = model.evaluate(x_test, y_test)\n",
    "print(\"Neural network accuracy: %.2f%%\" % (scores[1]*100))\n",
    "\n"
   ]
  },
  {
   "cell_type": "code",
   "execution_count": null,
   "metadata": {},
   "outputs": [],
   "source": []
  }
 ],
 "metadata": {
  "kernelspec": {
   "display_name": "Python 3",
   "language": "python",
   "name": "python3"
  },
  "language_info": {
   "codemirror_mode": {
    "name": "ipython",
    "version": 3
   },
   "file_extension": ".py",
   "mimetype": "text/x-python",
   "name": "python",
   "nbconvert_exporter": "python",
   "pygments_lexer": "ipython3",
   "version": "3.8.10"
  }
 },
 "nbformat": 4,
 "nbformat_minor": 2
}

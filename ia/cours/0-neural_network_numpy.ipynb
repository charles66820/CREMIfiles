{
 "cells": [
  {
   "cell_type": "markdown",
   "metadata": {},
   "source": [
    "### D'abords le neurone :"
   ]
  },
  {
   "cell_type": "code",
   "execution_count": 1,
   "metadata": {},
   "outputs": [
    {
     "name": "stdout",
     "output_type": "stream",
     "text": [
      "[4]\n"
     ]
    }
   ],
   "source": [
    "import numpy as np\n",
    "\n",
    "def z(x,w,b):\n",
    "    z = np.dot(w,x) + b\n",
    "    return z\n",
    "\n",
    "x = np.array([1, 1, 1])\n",
    "w = np.array([1, 1, 1])\n",
    "b = np.array([1])\n",
    "\n",
    "print(z(x,w,b))\n",
    "    "
   ]
  },
  {
   "cell_type": "code",
   "execution_count": 3,
   "metadata": {},
   "outputs": [
    {
     "name": "stdout",
     "output_type": "stream",
     "text": [
      "[1.]\n"
     ]
    }
   ],
   "source": [
    "import numpy as np\n",
    "\n",
    "def sigmoid(z):\n",
    "    return 1./(1 + np.exp(-z))\n",
    "\n",
    "def neurone(x,w,b):\n",
    "    z = np.vdot(x,w) + b\n",
    "    return sigmoid(z)\n",
    "\n",
    "\n",
    "x = np.array([1, 100, 1])\n",
    "w = np.array([1, 1, 1])\n",
    "b = np.array([1])\n",
    "print(neurone(x,w,b))"
   ]
  },
  {
   "cell_type": "markdown",
   "metadata": {},
   "source": [
    "### Un réseau avec une seule couche et deux neurones :"
   ]
  },
  {
   "cell_type": "code",
   "execution_count": 4,
   "metadata": {},
   "outputs": [
    {
     "name": "stdout",
     "output_type": "stream",
     "text": [
      "[[0.98201379]\n",
      " [0.11920292]]\n"
     ]
    }
   ],
   "source": [
    "def nn_1(w,b,x):\n",
    "    z = np.dot(w,x) + b\n",
    "    return sigmoid(z)\n",
    "\n",
    "w = np.array([[1, -2],\n",
    "              [-1, 1]])\n",
    "b = np.array([[1], [0]])\n",
    "x = np.array([[1],\n",
    "              [-1]])\n",
    "\n",
    "print(nn_1(w,b,x))"
   ]
  },
  {
   "cell_type": "markdown",
   "metadata": {},
   "source": [
    "#### Deux couches :"
   ]
  },
  {
   "cell_type": "code",
   "execution_count": 5,
   "metadata": {},
   "outputs": [
    {
     "name": "stdout",
     "output_type": "stream",
     "text": [
      "[[0.86351831]\n",
      " [0.11073744]]\n"
     ]
    }
   ],
   "source": [
    "def nn_2(w,b,x):\n",
    "    y = nn_1(w[0],b[0],x)\n",
    "    return nn_1(w[1],b[1], y)\n",
    "\n",
    "w = np.array([[[1, -2], \n",
    "              [-1, 1]],\n",
    "              [[2, -1], \n",
    "              [-2, -1]]\n",
    "             ])\n",
    "b = np.array([\n",
    "            [[1], [0]],\n",
    "            [[0], [0]]\n",
    "            ])    \n",
    "x = np.array([[1], \n",
    "              [-1]])\n",
    "print(nn_2(w,b,x))"
   ]
  },
  {
   "cell_type": "markdown",
   "metadata": {},
   "source": [
    "#### Et pourquoi pas trois couches :"
   ]
  },
  {
   "cell_type": "code",
   "execution_count": 23,
   "metadata": {},
   "outputs": [
    {
     "name": "stdout",
     "output_type": "stream",
     "text": [
      "[[ 0.61770478]\n",
      " [ 0.82912398]]\n"
     ]
    }
   ],
   "source": [
    "def nn(w,b,x):\n",
    "    y1 = nn_1(w[0],b[0],x)\n",
    "    y2 = nn_1(w[1],b[1], y1)\n",
    "    y3 = nn_1(w[2],b[2], y2)\n",
    "    return y3\n",
    "\n",
    "w = np.array([\n",
    "            [[1, -2], \n",
    "             [-1, 1]],\n",
    "            [[2, -1], \n",
    "              [-2, -1]],\n",
    "            [[3, -1],\n",
    "             [-1, 4]]\n",
    "             ])\n",
    "b = np.array([\n",
    "            [[1], [0]],\n",
    "            [[0], [0]],\n",
    "            [[-2], [2]]\n",
    "            ])    \n",
    "x = np.array([[1], \n",
    "              [-1]])\n",
    "print(nn(w,b,x))"
   ]
  },
  {
   "cell_type": "code",
   "execution_count": 24,
   "metadata": {},
   "outputs": [
    {
     "name": "stdout",
     "output_type": "stream",
     "text": [
      "[[ 0.51184738]\n",
      " [ 0.8543839 ]]\n"
     ]
    }
   ],
   "source": [
    "x = np.array([[0], \n",
    "              [0]])\n",
    "print(nn(w,b,x))"
   ]
  },
  {
   "cell_type": "markdown",
   "metadata": {},
   "source": []
  },
  {
   "cell_type": "code",
   "execution_count": null,
   "metadata": {},
   "outputs": [],
   "source": []
  }
 ],
 "metadata": {
  "kernelspec": {
   "display_name": "Python 3",
   "language": "python",
   "name": "python3"
  },
  "language_info": {
   "codemirror_mode": {
    "name": "ipython",
    "version": 3
   },
   "file_extension": ".py",
   "mimetype": "text/x-python",
   "name": "python",
   "nbconvert_exporter": "python",
   "pygments_lexer": "ipython3",
   "version": "3.7.4"
  }
 },
 "nbformat": 4,
 "nbformat_minor": 2
}

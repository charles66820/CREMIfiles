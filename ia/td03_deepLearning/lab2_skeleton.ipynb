{
 "cells": [
  {
   "cell_type": "code",
   "execution_count": 13,
   "metadata": {},
   "outputs": [],
   "source": [
    "import numpy as np\n",
    "import tensorflow as tf"
   ]
  },
  {
   "cell_type": "code",
   "execution_count": 14,
   "metadata": {},
   "outputs": [],
   "source": [
    "from tensorflow import keras\n",
    "from keras.datasets import mnist\n",
    "(X_train, Y_train), (X_test, Y_test) = mnist.load_data()\n",
    "\n",
    "# Change type\n",
    "X_train = X_train.astype('float32')\n",
    "X_test = X_test.astype('float32')\n",
    "\n",
    "# split ?\n",
    "X_train  = X_train / 255\n",
    "X_test  = X_test / 255\n",
    "\n",
    "# Reshape\n",
    "num_pixels = X_train.shape[1] * X_train.shape[2]\n",
    "Y_new = np.zeros(Y_train.shape)\n",
    "Y_new[np.where(Y_train == 5.0)[0]] = 1\n",
    "Y_train = Y_new\n",
    "\n",
    "Y_new = np.zeros(Y_test.shape)\n",
    "Y_new[np.where(Y_test == 5.0)[0]] = 1\n",
    "Y_test = Y_new\n",
    "\n",
    "Y_train = keras.utils.to_categorical(Y_train)\n",
    "Y_test = keras.utils.to_categorical(Y_test)\n",
    "\n",
    "shape = X_train.shape[1:]"
   ]
  },
  {
   "cell_type": "code",
   "execution_count": 15,
   "metadata": {},
   "outputs": [
    {
     "name": "stdout",
     "output_type": "stream",
     "text": [
      "(28, 28)\n",
      "784\n"
     ]
    }
   ],
   "source": [
    "print(shape)\n",
    "print(num_pixels)"
   ]
  },
  {
   "cell_type": "code",
   "execution_count": 21,
   "metadata": {},
   "outputs": [],
   "source": [
    "from keras.models import Sequential\n",
    "from keras.layers import Dense, Flatten"
   ]
  },
  {
   "cell_type": "markdown",
   "metadata": {},
   "source": [
    "## Exercice 1"
   ]
  },
  {
   "cell_type": "markdown",
   "metadata": {},
   "source": [
    "1. `softmax` par ce que c'est la seul dans le cours avec `relu`. (`relu` en sortie pour l'ancien version)"
   ]
  },
  {
   "cell_type": "code",
   "execution_count": 22,
   "metadata": {},
   "outputs": [],
   "source": [
    "model = Sequential()\n",
    "model.add(Flatten(input_shape=shape))\n",
    "model.add(Dense(2, input_dim=num_pixels, activation='softmax', kernel_initializer='normal'))\n",
    "model.compile(loss='categorical_crossentropy', optimizer='sgd', metrics=['accuracy'])"
   ]
  },
  {
   "cell_type": "code",
   "execution_count": 18,
   "metadata": {},
   "outputs": [
    {
     "name": "stdout",
     "output_type": "stream",
     "text": [
      "Model: \"sequential_3\"\n",
      "_________________________________________________________________\n",
      "Layer (type)                 Output Shape              Param #   \n",
      "=================================================================\n",
      "flatten_3 (Flatten)          (None, 784)               0         \n",
      "_________________________________________________________________\n",
      "dense_3 (Dense)              (None, 2)                 1570      \n",
      "=================================================================\n",
      "Total params: 1,570\n",
      "Trainable params: 1,570\n",
      "Non-trainable params: 0\n",
      "_________________________________________________________________\n"
     ]
    }
   ],
   "source": [
    "model.summary()"
   ]
  },
  {
   "cell_type": "markdown",
   "metadata": {},
   "source": [
    "2. Un petit peut en augmentent le nombre d'epochs"
   ]
  },
  {
   "cell_type": "code",
   "execution_count": 19,
   "metadata": {},
   "outputs": [
    {
     "name": "stdout",
     "output_type": "stream",
     "text": [
      "Epoch 1/10\n",
      "600/600 [==============================] - 1s 1ms/step - loss: 0.1000 - accuracy: 0.9692 - val_loss: 0.0935 - val_accuracy: 0.9717\n",
      "Epoch 2/10\n",
      "600/600 [==============================] - 1s 2ms/step - loss: 0.0996 - accuracy: 0.9694 - val_loss: 0.0931 - val_accuracy: 0.9719\n",
      "Epoch 3/10\n",
      "600/600 [==============================] - 1s 1ms/step - loss: 0.0993 - accuracy: 0.9694 - val_loss: 0.0929 - val_accuracy: 0.9721\n",
      "Epoch 4/10\n",
      "600/600 [==============================] - 1s 1ms/step - loss: 0.0989 - accuracy: 0.9698 - val_loss: 0.0925 - val_accuracy: 0.9721\n",
      "Epoch 5/10\n",
      "600/600 [==============================] - 1s 1ms/step - loss: 0.0987 - accuracy: 0.9700 - val_loss: 0.0923 - val_accuracy: 0.9721\n",
      "Epoch 6/10\n",
      "600/600 [==============================] - 1s 1ms/step - loss: 0.0984 - accuracy: 0.9698 - val_loss: 0.0921 - val_accuracy: 0.9724\n",
      "Epoch 7/10\n",
      "600/600 [==============================] - 1s 1ms/step - loss: 0.0981 - accuracy: 0.9700 - val_loss: 0.0918 - val_accuracy: 0.9727\n",
      "Epoch 8/10\n",
      "600/600 [==============================] - 1s 1ms/step - loss: 0.0978 - accuracy: 0.9701 - val_loss: 0.0916 - val_accuracy: 0.9730\n",
      "Epoch 9/10\n",
      "600/600 [==============================] - 1s 1ms/step - loss: 0.0976 - accuracy: 0.9703 - val_loss: 0.0914 - val_accuracy: 0.9732\n",
      "Epoch 10/10\n",
      "600/600 [==============================] - 1s 1ms/step - loss: 0.0973 - accuracy: 0.9702 - val_loss: 0.0912 - val_accuracy: 0.9736\n",
      "313/313 [==============================] - 0s 1ms/step - loss: 0.0912 - accuracy: 0.9736\n",
      "Neural network accuracy: 97.36%\n"
     ]
    }
   ],
   "source": [
    "model.fit(X_train, Y_train, validation_data=(X_test, Y_test), epochs=10, batch_size=100)\n",
    "\n",
    "scores = model.evaluate(X_test, Y_test)\n",
    "print(\"Neural network accuracy: %.2f%%\" % (scores[1]*100))"
   ]
  },
  {
   "cell_type": "code",
   "execution_count": 20,
   "metadata": {},
   "outputs": [
    {
     "name": "stdout",
     "output_type": "stream",
     "text": [
      "Epoch 1/25\n",
      "600/600 [==============================] - 1s 1ms/step - loss: 0.0971 - accuracy: 0.9703 - val_loss: 0.0910 - val_accuracy: 0.9730\n",
      "Epoch 2/25\n",
      "600/600 [==============================] - 1s 1ms/step - loss: 0.0969 - accuracy: 0.9706 - val_loss: 0.0909 - val_accuracy: 0.9729\n",
      "Epoch 3/25\n",
      "600/600 [==============================] - 1s 1ms/step - loss: 0.0967 - accuracy: 0.9706 - val_loss: 0.0908 - val_accuracy: 0.9736\n",
      "Epoch 4/25\n",
      "600/600 [==============================] - 1s 1ms/step - loss: 0.0965 - accuracy: 0.9708 - val_loss: 0.0905 - val_accuracy: 0.9738\n",
      "Epoch 5/25\n",
      "600/600 [==============================] - 1s 1ms/step - loss: 0.0962 - accuracy: 0.9709 - val_loss: 0.0903 - val_accuracy: 0.9738\n",
      "Epoch 6/25\n",
      "600/600 [==============================] - 1s 1ms/step - loss: 0.0960 - accuracy: 0.9708 - val_loss: 0.0902 - val_accuracy: 0.9737\n",
      "Epoch 7/25\n",
      "600/600 [==============================] - 1s 1ms/step - loss: 0.0959 - accuracy: 0.9706 - val_loss: 0.0901 - val_accuracy: 0.9736\n",
      "Epoch 8/25\n",
      "600/600 [==============================] - 1s 1ms/step - loss: 0.0957 - accuracy: 0.9707 - val_loss: 0.0898 - val_accuracy: 0.9737\n",
      "Epoch 9/25\n",
      "600/600 [==============================] - 1s 1ms/step - loss: 0.0955 - accuracy: 0.9709 - val_loss: 0.0897 - val_accuracy: 0.9739\n",
      "Epoch 10/25\n",
      "600/600 [==============================] - 1s 1ms/step - loss: 0.0953 - accuracy: 0.9709 - val_loss: 0.0895 - val_accuracy: 0.9740\n",
      "Epoch 11/25\n",
      "600/600 [==============================] - 1s 1ms/step - loss: 0.0951 - accuracy: 0.9711 - val_loss: 0.0895 - val_accuracy: 0.9738\n",
      "Epoch 12/25\n",
      "600/600 [==============================] - 1s 1ms/step - loss: 0.0950 - accuracy: 0.9709 - val_loss: 0.0894 - val_accuracy: 0.9739\n",
      "Epoch 13/25\n",
      "600/600 [==============================] - 1s 1ms/step - loss: 0.0948 - accuracy: 0.9711 - val_loss: 0.0892 - val_accuracy: 0.9742\n",
      "Epoch 14/25\n",
      "600/600 [==============================] - 1s 1ms/step - loss: 0.0947 - accuracy: 0.9712 - val_loss: 0.0891 - val_accuracy: 0.9744\n",
      "Epoch 15/25\n",
      "600/600 [==============================] - 1s 2ms/step - loss: 0.0945 - accuracy: 0.9710 - val_loss: 0.0890 - val_accuracy: 0.9737\n",
      "Epoch 16/25\n",
      "600/600 [==============================] - 1s 1ms/step - loss: 0.0944 - accuracy: 0.9712 - val_loss: 0.0888 - val_accuracy: 0.9746\n",
      "Epoch 17/25\n",
      "600/600 [==============================] - 1s 1ms/step - loss: 0.0942 - accuracy: 0.9711 - val_loss: 0.0888 - val_accuracy: 0.9744\n",
      "Epoch 18/25\n",
      "600/600 [==============================] - 1s 1ms/step - loss: 0.0941 - accuracy: 0.9714 - val_loss: 0.0886 - val_accuracy: 0.9746\n",
      "Epoch 19/25\n",
      "600/600 [==============================] - 1s 1ms/step - loss: 0.0940 - accuracy: 0.9714 - val_loss: 0.0885 - val_accuracy: 0.9746\n",
      "Epoch 20/25\n",
      "600/600 [==============================] - 1s 1ms/step - loss: 0.0938 - accuracy: 0.9715 - val_loss: 0.0884 - val_accuracy: 0.9747\n",
      "Epoch 21/25\n",
      "600/600 [==============================] - 1s 1ms/step - loss: 0.0937 - accuracy: 0.9713 - val_loss: 0.0885 - val_accuracy: 0.9739\n",
      "Epoch 22/25\n",
      "600/600 [==============================] - 1s 1ms/step - loss: 0.0936 - accuracy: 0.9714 - val_loss: 0.0883 - val_accuracy: 0.9746\n",
      "Epoch 23/25\n",
      "600/600 [==============================] - 1s 1ms/step - loss: 0.0934 - accuracy: 0.9717 - val_loss: 0.0883 - val_accuracy: 0.9737\n",
      "Epoch 24/25\n",
      "600/600 [==============================] - 1s 1ms/step - loss: 0.0933 - accuracy: 0.9714 - val_loss: 0.0881 - val_accuracy: 0.9741\n",
      "Epoch 25/25\n",
      "600/600 [==============================] - 1s 1ms/step - loss: 0.0932 - accuracy: 0.9716 - val_loss: 0.0880 - val_accuracy: 0.9745\n",
      "313/313 [==============================] - 0s 1ms/step - loss: 0.0880 - accuracy: 0.9745\n",
      "Neural network accuracy: 97.45%\n"
     ]
    }
   ],
   "source": [
    "model.fit(X_train, Y_train, validation_data=(X_test, Y_test), epochs=25, batch_size=100)\n",
    "\n",
    "scores = model.evaluate(X_test, Y_test)\n",
    "print(\"Neural network accuracy: %.2f%%\" % (scores[1]*100))"
   ]
  },
  {
   "cell_type": "markdown",
   "metadata": {},
   "source": [
    "3. C'est pire"
   ]
  },
  {
   "cell_type": "code",
   "execution_count": 33,
   "metadata": {},
   "outputs": [],
   "source": [
    "model = Sequential()\n",
    "model.add(Flatten(input_shape=shape))\n",
    "model.add(Dense(2, input_dim=num_pixels, activation='softmax', kernel_initializer='normal'))\n",
    "model.add(Dense(1, input_dim=2, activation='sigmoid', kernel_initializer='normal'))\n",
    "model.add(Dense(2, input_dim=1, activation='softmax', kernel_initializer='normal'))\n",
    "model.compile(loss='categorical_crossentropy', optimizer='sgd', metrics=['accuracy'])"
   ]
  },
  {
   "cell_type": "code",
   "execution_count": 34,
   "metadata": {},
   "outputs": [
    {
     "name": "stdout",
     "output_type": "stream",
     "text": [
      "Model: \"sequential_8\"\n",
      "_________________________________________________________________\n",
      "Layer (type)                 Output Shape              Param #   \n",
      "=================================================================\n",
      "flatten_8 (Flatten)          (None, 784)               0         \n",
      "_________________________________________________________________\n",
      "dense_13 (Dense)             (None, 2)                 1570      \n",
      "_________________________________________________________________\n",
      "dense_14 (Dense)             (None, 1)                 3         \n",
      "_________________________________________________________________\n",
      "dense_15 (Dense)             (None, 2)                 4         \n",
      "=================================================================\n",
      "Total params: 1,577\n",
      "Trainable params: 1,577\n",
      "Non-trainable params: 0\n",
      "_________________________________________________________________\n"
     ]
    }
   ],
   "source": [
    "model.summary()"
   ]
  },
  {
   "cell_type": "code",
   "execution_count": 35,
   "metadata": {},
   "outputs": [
    {
     "name": "stdout",
     "output_type": "stream",
     "text": [
      "Epoch 1/10\n",
      "600/600 [==============================] - 1s 2ms/step - loss: 0.3764 - accuracy: 0.9097 - val_loss: 0.3072 - val_accuracy: 0.9108\n",
      "Epoch 2/10\n",
      "600/600 [==============================] - 1s 2ms/step - loss: 0.3052 - accuracy: 0.9097 - val_loss: 0.3011 - val_accuracy: 0.9108\n",
      "Epoch 3/10\n",
      "600/600 [==============================] - 1s 2ms/step - loss: 0.3035 - accuracy: 0.9097 - val_loss: 0.3008 - val_accuracy: 0.9108\n",
      "Epoch 4/10\n",
      "600/600 [==============================] - 1s 2ms/step - loss: 0.3033 - accuracy: 0.9097 - val_loss: 0.3007 - val_accuracy: 0.9108\n",
      "Epoch 5/10\n",
      "600/600 [==============================] - 1s 1ms/step - loss: 0.3033 - accuracy: 0.9097 - val_loss: 0.3007 - val_accuracy: 0.9108\n",
      "Epoch 6/10\n",
      "600/600 [==============================] - 1s 1ms/step - loss: 0.3033 - accuracy: 0.9097 - val_loss: 0.3007 - val_accuracy: 0.9108\n",
      "Epoch 7/10\n",
      "600/600 [==============================] - 1s 2ms/step - loss: 0.3033 - accuracy: 0.9097 - val_loss: 0.3006 - val_accuracy: 0.9108\n",
      "Epoch 8/10\n",
      "600/600 [==============================] - 1s 2ms/step - loss: 0.3033 - accuracy: 0.9097 - val_loss: 0.3006 - val_accuracy: 0.9108\n",
      "Epoch 9/10\n",
      "600/600 [==============================] - 1s 1ms/step - loss: 0.3033 - accuracy: 0.9097 - val_loss: 0.3006 - val_accuracy: 0.9108\n",
      "Epoch 10/10\n",
      "600/600 [==============================] - 1s 1ms/step - loss: 0.3033 - accuracy: 0.9097 - val_loss: 0.3006 - val_accuracy: 0.9108\n",
      "313/313 [==============================] - 0s 901us/step - loss: 0.3006 - accuracy: 0.9108\n",
      "Neural network accuracy: 91.08%\n"
     ]
    }
   ],
   "source": [
    "model.fit(X_train, Y_train, validation_data=(X_test, Y_test), epochs=10, batch_size=100)\n",
    "\n",
    "scores = model.evaluate(X_test, Y_test)\n",
    "print(\"Neural network accuracy: %.2f%%\" % (scores[1]*100))"
   ]
  }
 ],
 "metadata": {
  "interpreter": {
   "hash": "31f2aee4e71d21fbe5cf8b01ff0e069b9275f58929596ceb00d14d90e3e16cd6"
  },
  "kernelspec": {
   "display_name": "Python 3.8.10 64-bit",
   "language": "python",
   "name": "python3"
  },
  "language_info": {
   "codemirror_mode": {
    "name": "ipython",
    "version": 3
   },
   "file_extension": ".py",
   "mimetype": "text/x-python",
   "name": "python",
   "nbconvert_exporter": "python",
   "pygments_lexer": "ipython3",
   "version": "3.8.10"
  },
  "orig_nbformat": 4
 },
 "nbformat": 4,
 "nbformat_minor": 2
}

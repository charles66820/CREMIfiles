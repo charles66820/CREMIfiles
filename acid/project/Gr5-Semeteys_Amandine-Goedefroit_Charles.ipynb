{
 "cells": [
  {
   "cell_type": "markdown",
   "metadata": {},
   "source": [
    "# Projet"
   ]
  },
  {
   "cell_type": "code",
   "execution_count": 67,
   "metadata": {},
   "outputs": [],
   "source": [
    "import pandas as pa\n",
    "import numpy as np\n",
    "import matplotlib.pyplot as plt\n",
    "%matplotlib inline\n",
    "\n",
    "from sklearn.metrics import confusion_matrix\n",
    "from sklearn.metrics import accuracy_score\n",
    "from time import time\n",
    "\n",
    "from numpy.linalg import eig, inv\n",
    "import warnings\n",
    "warnings.filterwarnings(\"ignore\")"
   ]
  },
  {
   "cell_type": "code",
   "execution_count": 68,
   "metadata": {},
   "outputs": [],
   "source": [
    "from keras.datasets import fashion_mnist\n",
    "(X_train, Y_train), (X_test, Y_test) = fashion_mnist.load_data()"
   ]
  },
  {
   "cell_type": "markdown",
   "metadata": {},
   "source": [
    "Classes :\n",
    "|nb|name|\n",
    "|--|--|\n",
    "|0 |T-shirt/top|\n",
    "|1 |Trouser|\n",
    "|2 |Pullover|\n",
    "|3 |Dress|\n",
    "|4 |Coat|\n",
    "|5 |Sandal|\n",
    "|6 |Shirt|\n",
    "|7 |Sneaker|\n",
    "|8 |Bag|\n",
    "|9 |Ankle boot|"
   ]
  },
  {
   "cell_type": "code",
   "execution_count": 69,
   "metadata": {},
   "outputs": [],
   "source": [
    "classes = { 0: \"T-shirt/top\", 1: \"Trouser\", 2: \"Pullover\", 3: \"Dress\", 4: \"Coat\", 5: \"Sandal\", 6: \"Shirt\", 7: \"Sneaker\", 8: \"Bag\", 9: \"Ankle boot\"}\n",
    "def isA(nb: int):\n",
    "  return classes[nb]"
   ]
  },
  {
   "cell_type": "code",
   "execution_count": 70,
   "metadata": {},
   "outputs": [
    {
     "name": "stdout",
     "output_type": "stream",
     "text": [
      "Class: Ankle boot\n"
     ]
    },
    {
     "data": {
      "image/png": "[encoded data removed]",
      "text/plain": [
       "<Figure size 432x288 with 1 Axes>"
      ]
     },
     "metadata": {
      "needs_background": "light"
     },
     "output_type": "display_data"
    }
   ],
   "source": [
    "from matplotlib import cm\n",
    "plt.imshow(X_train[0], cmap=cm.Greys)\n",
    "print(\"Class:\", isA(Y_train[0]))"
   ]
  },
  {
   "cell_type": "markdown",
   "metadata": {},
   "source": [
    "On voit que l'element 0 est de la class `Ankle boot`"
   ]
  },
  {
   "cell_type": "markdown",
   "metadata": {},
   "source": [
    "## 1. Test des differents algorithmes de classification"
   ]
  },
  {
   "cell_type": "code",
   "execution_count": 71,
   "metadata": {},
   "outputs": [],
   "source": [
    "# Re shape\n",
    "X_train = X_train.reshape(X_train.shape[0], X_train.shape[1] * X_train.shape[2])\n",
    "X_test = X_test.reshape(X_test.shape[0], X_test.shape[1] * X_test.shape[2])"
   ]
  },
  {
   "cell_type": "markdown",
   "metadata": {},
   "source": [
    "### K-nn"
   ]
  },
  {
   "cell_type": "code",
   "execution_count": 72,
   "metadata": {},
   "outputs": [],
   "source": [
    "from sklearn.neighbors import KNeighborsClassifier\n",
    "\n",
    "def executeKnn(X_train, Y_train, X_test, Y_test, k=5):\n",
    "  # Create K-nn classifier\n",
    "  knn = KNeighborsClassifier(n_neighbors=k, metric='euclidean')\n",
    "  t = time()\n",
    "  # Train the classifier\n",
    "  knn.fit(X_train, Y_train)\n",
    "  print(\"training time: \", time() - t)\n",
    "\n",
    "  # Test the classifier\n",
    "  Y_pred = knn.predict(X_test)\n",
    "\n",
    "  print(\"k = {:d} : {:.2%}\".format(k, accuracy_score(Y_test, Y_pred)))"
   ]
  },
  {
   "cell_type": "markdown",
   "metadata": {},
   "source": [
    "On se limite à un échantillon du dataset car le K-nn était trop lent à s'exécuter"
   ]
  },
  {
   "cell_type": "code",
   "execution_count": 73,
   "metadata": {},
   "outputs": [
    {
     "name": "stdout",
     "output_type": "stream",
     "text": [
      "Nb train 60000\n",
      "Nb test 10000\n",
      "Nb train sample 7500\n",
      "Nb test sample 1250\n"
     ]
    }
   ],
   "source": [
    "nbTrain = X_train.shape[0]\n",
    "print(\"Nb train\", nbTrain)\n",
    "nbTest = X_test.shape[0]\n",
    "print(\"Nb test\", nbTest)\n",
    "\n",
    "divFactor = 8\n",
    "\n",
    "nbTrainSample = round(nbTrain / divFactor)\n",
    "print(\"Nb train sample\", nbTrainSample)\n",
    "nbTestSample = round(nbTest / divFactor)\n",
    "print(\"Nb test sample\", nbTestSample)\n",
    "\n",
    "X_train_sample = X_train[:nbTrainSample]\n",
    "Y_train_sample = Y_train[:nbTrainSample]\n",
    "X_test_sample = X_test[:nbTestSample]\n",
    "Y_test_sample = Y_test[:nbTestSample]"
   ]
  },
  {
   "cell_type": "code",
   "execution_count": 74,
   "metadata": {},
   "outputs": [
    {
     "name": "stdout",
     "output_type": "stream",
     "text": [
      "training time:  0.544898509979248\n",
      "k = 1 : 79.28%\n",
      "training time:  0.5133836269378662\n",
      "k = 2 : 80.64%\n",
      "training time:  0.5168232917785645\n",
      "k = 3 : 80.80%\n",
      "training time:  0.5087499618530273\n",
      "k = 4 : 80.88%\n",
      "training time:  0.49982404708862305\n",
      "k = 5 : 82.24%\n"
     ]
    }
   ],
   "source": [
    "for k in range (1, 6):\n",
    "  executeKnn(X_train_sample, Y_train_sample, X_test_sample, Y_test_sample, k)"
   ]
  },
  {
   "cell_type": "markdown",
   "metadata": {},
   "source": [
    "### Classifieur bayésien"
   ]
  },
  {
   "cell_type": "code",
   "execution_count": 75,
   "metadata": {},
   "outputs": [],
   "source": [
    "from sklearn.naive_bayes import GaussianNB\n",
    "\n",
    "def executeBayes(X_train, Y_train, X_test, Y_test):\n",
    "  # Create ML classifier\n",
    "  knn = GaussianNB()\n",
    "  t = time()\n",
    "  # Train the classifier\n",
    "  knn.fit(X_train, Y_train)\n",
    "  print(\"training time: \", time() - t)\n",
    "\n",
    "  # Test the classifier\n",
    "  Y_pred = knn.predict(X_test)\n",
    "\n",
    "  print(\"{:.2%}\".format(accuracy_score(Y_test, Y_pred)))"
   ]
  },
  {
   "cell_type": "code",
   "execution_count": 76,
   "metadata": {},
   "outputs": [
    {
     "name": "stdout",
     "output_type": "stream",
     "text": [
      "training time:  0.5331282615661621\n",
      "58.56%\n"
     ]
    }
   ],
   "source": [
    "executeBayes(X_train, Y_train, X_test, Y_test)"
   ]
  },
  {
   "cell_type": "markdown",
   "metadata": {},
   "source": [
    "### Arbre de décision"
   ]
  },
  {
   "cell_type": "code",
   "execution_count": 77,
   "metadata": {},
   "outputs": [],
   "source": [
    "from sklearn.tree import export_graphviz\n",
    "from sklearn.externals.six import StringIO\n",
    "from IPython.display import Image\n",
    "import pydotplus\n",
    "\n",
    "def displayTree(dt, features_cols, class_names):\n",
    "  dot_data = StringIO()\n",
    "  export_graphviz(dt, out_file=dot_data,\n",
    "                  filled=True, rounded=True,\n",
    "                  special_characters=True,feature_names = features_cols,class_names=class_names)\n",
    "  graph = pydotplus.graph_from_dot_data(dot_data.getvalue())\n",
    "  graph.write_png('fashion.png')\n",
    "  Image(graph.create_png())"
   ]
  },
  {
   "cell_type": "code",
   "execution_count": 78,
   "metadata": {},
   "outputs": [],
   "source": [
    "from sklearn.tree import DecisionTreeClassifier\n",
    "\n",
    "def executeDecisionTree(X_train, Y_train, X_test, Y_test, display=False):\n",
    "  # Create Decision Tree classifier\n",
    "  dt = DecisionTreeClassifier(criterion='entropy')\n",
    "  t = time()\n",
    "  # Train the classifier\n",
    "  dt.fit(X_train, Y_train)\n",
    "  print(\"training time: \", time() - t)\n",
    "\n",
    "  if display:\n",
    "    features_cols = [str(k) for k in range(X_train.shape[1])]\n",
    "    class_names = [str(k) for k in classes.keys()]\n",
    "    displayTree(dt, features_cols, class_names)\n",
    "\n",
    "  # Test the classifier\n",
    "  Y_pred = dt.predict(X_test)\n",
    "\n",
    "  print(\"{:.2%}\".format(accuracy_score(Y_test, Y_pred)))"
   ]
  },
  {
   "cell_type": "code",
   "execution_count": 79,
   "metadata": {},
   "outputs": [
    {
     "name": "stdout",
     "output_type": "stream",
     "text": [
      "training time:  32.81132435798645\n",
      "80.32%\n"
     ]
    }
   ],
   "source": [
    "executeDecisionTree(X_train, Y_train, X_test, Y_test)"
   ]
  },
  {
   "cell_type": "markdown",
   "metadata": {},
   "source": [
    "On a trop de données donc l'arbre de décision est trop grand pour être affiché"
   ]
  },
  {
   "cell_type": "markdown",
   "metadata": {},
   "source": [
    "Search best params"
   ]
  },
  {
   "cell_type": "code",
   "execution_count": 80,
   "metadata": {},
   "outputs": [
    {
     "name": "stdout",
     "output_type": "stream",
     "text": [
      "Best Accuracy:  81.17%\n",
      "Parameters:  ['entropy', 10, 1, 4]\n"
     ]
    }
   ],
   "source": [
    "criterion = ['gini', 'entropy']\n",
    "max_depth = [3, 5, 10]\n",
    "min_samples_leaf = [1, 2, 5]\n",
    "min_samples_split = [2, 3, 4]\n",
    "\n",
    "best_params = None\n",
    "best_score = 0\n",
    "for c in criterion:\n",
    "    for depth in max_depth:\n",
    "        for l in min_samples_leaf:\n",
    "            for s in min_samples_split:\n",
    "                dt = DecisionTreeClassifier(criterion=c, max_depth=depth, min_samples_leaf=l, min_samples_split=s)\n",
    "                dt.fit(X_train, Y_train)\n",
    "                y_pred = dt.predict(X_test)\n",
    "                scores = accuracy_score(Y_test, y_pred)\n",
    "                if best_score==0 or scores > best_score:\n",
    "                    best_score = scores\n",
    "                    best_params = [c, depth, l, s]\n",
    "\n",
    "print('Best Accuracy: ','{:2.2%}'.format(best_score))\n",
    "print('Parameters: ', best_params)"
   ]
  },
  {
   "cell_type": "markdown",
   "metadata": {},
   "source": [
    "### Forêts aléatoires"
   ]
  },
  {
   "cell_type": "code",
   "execution_count": 85,
   "metadata": {},
   "outputs": [],
   "source": [
    "from sklearn.ensemble import RandomForestClassifier\n",
    "\n",
    "def executeRandomForest(X_train, Y_train, X_test, Y_test):\n",
    "  # Create Random Forest classifier\n",
    "  rf = RandomForestClassifier()\n",
    "  t = time()\n",
    "  # Train the classifier\n",
    "  rf.fit(X_train, Y_train)\n",
    "  print(\"training time: \", time() - t)\n",
    "\n",
    "  # Test the classifier\n",
    "  Y_pred = dt.predict(X_test)\n",
    "\n",
    "  print(\"{:.2%}\".format(accuracy_score(Y_test, Y_pred)))"
   ]
  },
  {
   "cell_type": "code",
   "execution_count": 86,
   "metadata": {},
   "outputs": [
    {
     "name": "stdout",
     "output_type": "stream",
     "text": [
      "training time:  84.11152672767639\n",
      "81.08%\n"
     ]
    }
   ],
   "source": [
    "executeRandomForest(X_train, Y_train, X_test, Y_test)"
   ]
  },
  {
   "cell_type": "markdown",
   "metadata": {},
   "source": [
    "Search best params"
   ]
  },
  {
   "cell_type": "code",
   "execution_count": 83,
   "metadata": {},
   "outputs": [
    {
     "name": "stdout",
     "output_type": "stream",
     "text": [
      "{'n_estimators': [200, 400, 600, 800, 1000, 1200, 1400, 1600, 1800, 2000], 'max_features': ['auto', 'sqrt'], 'max_depth': [3, 5, 10, None], 'min_samples_split': [1, 2, 5], 'min_samples_leaf': [2, 3, 4], 'bootstrap': [True, False]}\n"
     ]
    }
   ],
   "source": [
    "import numpy as np\n",
    "from sklearn.model_selection import RandomizedSearchCV\n",
    "# Number of trees in random forest\n",
    "n_estimators = [int(x) for x in np.linspace(start = 200, stop = 2000, num = 10)]\n",
    "# Number of features to consider at every split\n",
    "max_features = ['auto', 'sqrt']\n",
    "# Maximum number of levels in tree\n",
    "max_depth = [3, 5, 10]\n",
    "max_depth.append(None)\n",
    "# Minimum number of samples required to split a node\n",
    "min_samples_split = [1, 2, 5]\n",
    "# Minimum number of samples required at each leaf node\n",
    "min_samples_leaf = [2, 3, 4]\n",
    "# Method of selecting samples for training each tree\n",
    "bootstrap = [True, False]\n",
    "# Create the random grid\n",
    "random_grid = {'n_estimators': n_estimators,\n",
    "               'max_features': max_features,\n",
    "               'max_depth': max_depth,\n",
    "               'min_samples_split': min_samples_split,\n",
    "               'min_samples_leaf': min_samples_leaf,\n",
    "               'bootstrap': bootstrap}\n",
    "print(random_grid)"
   ]
  },
  {
   "cell_type": "code",
   "execution_count": 87,
   "metadata": {},
   "outputs": [],
   "source": [
    "if False:\n",
    "  rf = RandomForestClassifier()\n",
    "  rf_random = RandomizedSearchCV(estimator = rf, param_distributions = random_grid, n_iter = 100,\n",
    "                                cv = 3, verbose=2, random_state=42, n_jobs = -1)\n",
    "  t = time()\n",
    "\n",
    "  rf_random.fit(X_train, Y_train)\n",
    "  print(\"training time: \", time() - t)\n",
    "\n",
    "  Y_pred = dt.predict(X_test)\n",
    "  print(\"{:.2%}\".format(accuracy_score(Y_test, Y_pred)))\n",
    "  rf_random.best_params_"
   ]
  },
  {
   "cell_type": "markdown",
   "metadata": {},
   "source": [
    "On vois que TODO:"
   ]
  },
  {
   "cell_type": "markdown",
   "metadata": {},
   "source": [
    "## 2. Comparaison des technique de reduction de dimension"
   ]
  },
  {
   "cell_type": "code",
   "execution_count": null,
   "metadata": {},
   "outputs": [],
   "source": []
  }
 ],
 "metadata": {
  "interpreter": {
   "hash": "31f2aee4e71d21fbe5cf8b01ff0e069b9275f58929596ceb00d14d90e3e16cd6"
  },
  "kernelspec": {
   "display_name": "Python 3.8.10 64-bit",
   "language": "python",
   "name": "python3"
  },
  "language_info": {
   "codemirror_mode": {
    "name": "ipython",
    "version": 3
   },
   "file_extension": ".py",
   "mimetype": "text/x-python",
   "name": "python",
   "nbconvert_exporter": "python",
   "pygments_lexer": "ipython3",
   "version": "3.8.10"
  },
  "orig_nbformat": 4
 },
 "nbformat": 4,
 "nbformat_minor": 2
}

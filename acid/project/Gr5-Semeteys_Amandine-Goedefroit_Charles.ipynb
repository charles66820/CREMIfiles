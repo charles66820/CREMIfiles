{
 "cells": [
  {
   "cell_type": "markdown",
   "metadata": {},
   "source": [
    "# Projet"
   ]
  },
  {
   "cell_type": "code",
   "execution_count": 9,
   "metadata": {},
   "outputs": [],
   "source": [
    "import pandas as pa\n",
    "import numpy as np\n",
    "import matplotlib.pyplot as plt\n",
    "%matplotlib inline\n",
    "\n",
    "from sklearn.metrics import confusion_matrix\n",
    "from sklearn.metrics import accuracy_score\n",
    "from time import time\n",
    "\n",
    "from numpy.linalg import eig, inv\n",
    "import warnings\n",
    "warnings.filterwarnings(\"ignore\")"
   ]
  },
  {
   "cell_type": "code",
   "execution_count": 10,
   "metadata": {},
   "outputs": [],
   "source": [
    "from keras.datasets import fashion_mnist\n",
    "(X_train, Y_train), (X_test, Y_test) = fashion_mnist.load_data()"
   ]
  },
  {
   "cell_type": "markdown",
   "metadata": {},
   "source": [
    "Classes :\n",
    "|nb|name|\n",
    "|--|--|\n",
    "|0 |T-shirt/top|\n",
    "|1 |Trouser|\n",
    "|2 |Pullover|\n",
    "|3 |Dress|\n",
    "|4 |Coat|\n",
    "|5 |Sandal|\n",
    "|6 |Shirt|\n",
    "|7 |Sneaker|\n",
    "|8 |Bag|\n",
    "|9 |Ankle boot|"
   ]
  },
  {
   "cell_type": "code",
   "execution_count": 11,
   "metadata": {},
   "outputs": [],
   "source": [
    "classes = { 0: \"T-shirt/top\", 1: \"Trouser\", 2: \"Pullover\", 3: \"Dress\", 4: \"Coat\", 5: \"Sandal\", 6: \"Shirt\", 7: \"Sneaker\", 8: \"Bag\", 9: \"Ankle boot\"}\n",
    "def isA(nb: int):\n",
    "  return classes[nb]"
   ]
  },
  {
   "cell_type": "code",
   "execution_count": 12,
   "metadata": {},
   "outputs": [
    {
     "name": "stdout",
     "output_type": "stream",
     "text": [
      "Class: Ankle boot\n"
     ]
    },
    {
     "data": {
      "image/png": "[encoded data removed]",
      "text/plain": [
       "<Figure size 432x288 with 1 Axes>"
      ]
     },
     "metadata": {
      "needs_background": "light"
     },
     "output_type": "display_data"
    }
   ],
   "source": [
    "from matplotlib import cm\n",
    "plt.imshow(X_train[0], cmap=cm.Greys)\n",
    "print(\"Class:\", isA(Y_train[0]))"
   ]
  },
  {
   "cell_type": "markdown",
   "metadata": {},
   "source": [
    "On voit que l'element 0 est de la class `Ankle boot`"
   ]
  },
  {
   "cell_type": "markdown",
   "metadata": {},
   "source": [
    "## 1. Test des differents algorithmes de classification"
   ]
  },
  {
   "cell_type": "markdown",
   "metadata": {},
   "source": [
    "### K-nn"
   ]
  },
  {
   "cell_type": "code",
   "execution_count": 13,
   "metadata": {},
   "outputs": [],
   "source": [
    "from sklearn.neighbors import KNeighborsClassifier\n",
    "\n",
    "def executeKnn(X_train, Y_train, X_test, Y_test, k=5):\n",
    "  # Re shape\n",
    "  X_train = X_train.reshape(X_train.shape[0], X_train.shape[1] * X_train.shape[2])\n",
    "  X_test = X_test.reshape(X_test.shape[0], X_test.shape[1] * X_test.shape[2])\n",
    "\n",
    "  # Create K-nn classifier\n",
    "  knn = KNeighborsClassifier(n_neighbors=k, metric='euclidean')\n",
    "  t = time()\n",
    "  # Train the classifier\n",
    "  knn.fit(X_train, Y_train)\n",
    "  print(\"training time: \", time() - t)\n",
    "\n",
    "  # Test the classifier\n",
    "  Y_pred = knn.predict(X_test)\n",
    "\n",
    "  print(\"k = {:d} : {:.2%}\".format(k, accuracy_score(Y_test, Y_pred)))"
   ]
  },
  {
   "cell_type": "markdown",
   "metadata": {},
   "source": [
    "On se limite à un échantillon du dataset car le K-nn était trop lent à s'exécuter"
   ]
  },
  {
   "cell_type": "code",
   "execution_count": 14,
   "metadata": {},
   "outputs": [
    {
     "name": "stdout",
     "output_type": "stream",
     "text": [
      "Nb train 60000\n",
      "Nb test 10000\n",
      "Nb train sample 7500\n",
      "Nb test sample 1250\n"
     ]
    }
   ],
   "source": [
    "nbTrain = X_train.shape[0]\n",
    "print(\"Nb train\", nbTrain)\n",
    "nbTest = X_test.shape[0]\n",
    "print(\"Nb test\", nbTest)\n",
    "\n",
    "divFactor = 8\n",
    "\n",
    "nbTrainSample = round(nbTrain / divFactor)\n",
    "print(\"Nb train sample\", nbTrainSample)\n",
    "nbTestSample = round(nbTest / divFactor)\n",
    "print(\"Nb test sample\", nbTestSample)\n",
    "\n",
    "X_train_sample = X_train[:nbTrainSample]\n",
    "Y_train_sample = Y_train[:nbTrainSample]\n",
    "X_test_sample = X_test[:nbTestSample]\n",
    "Y_test_sample = Y_test[:nbTestSample]"
   ]
  },
  {
   "cell_type": "code",
   "execution_count": 15,
   "metadata": {},
   "outputs": [
    {
     "name": "stdout",
     "output_type": "stream",
     "text": [
      "training time:  0.5379211902618408\n",
      "k = 1 : 79.28%\n",
      "training time:  0.4831714630126953\n",
      "k = 2 : 80.64%\n",
      "training time:  0.48018860816955566\n",
      "k = 3 : 80.80%\n",
      "training time:  0.5131649971008301\n",
      "k = 4 : 80.88%\n",
      "training time:  0.5325145721435547\n",
      "k = 5 : 82.24%\n"
     ]
    }
   ],
   "source": [
    "for k in range (1, 6):\n",
    "  executeKnn(X_train_sample, Y_train_sample, X_test_sample, Y_test_sample, k)"
   ]
  },
  {
   "cell_type": "markdown",
   "metadata": {},
   "source": [
    "## 2. Comparaison des technique de reduction de dimension"
   ]
  }
 ],
 "metadata": {
  "interpreter": {
   "hash": "31f2aee4e71d21fbe5cf8b01ff0e069b9275f58929596ceb00d14d90e3e16cd6"
  },
  "kernelspec": {
   "display_name": "Python 3.8.10 64-bit",
   "language": "python",
   "name": "python3"
  },
  "language_info": {
   "codemirror_mode": {
    "name": "ipython",
    "version": 3
   },
   "file_extension": ".py",
   "mimetype": "text/x-python",
   "name": "python",
   "nbconvert_exporter": "python",
   "pygments_lexer": "ipython3",
   "version": "3.8.10"
  },
  "orig_nbformat": 4
 },
 "nbformat": 4,
 "nbformat_minor": 2
}

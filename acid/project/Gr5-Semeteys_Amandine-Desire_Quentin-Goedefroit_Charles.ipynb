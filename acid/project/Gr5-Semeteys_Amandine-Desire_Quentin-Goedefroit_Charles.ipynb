{
 "cells": [
  {
   "cell_type": "markdown",
   "metadata": {},
   "source": [
    "# Projet"
   ]
  },
  {
   "cell_type": "code",
   "execution_count": 2,
   "metadata": {},
   "outputs": [],
   "source": [
    "import pandas as pa\n",
    "import numpy as np\n",
    "import matplotlib.pyplot as plt\n",
    "%matplotlib inline\n",
    "\n",
    "from sklearn.metrics import confusion_matrix\n",
    "from sklearn.metrics import accuracy_score\n",
    "from time import time\n",
    "\n",
    "from numpy.linalg import eig, inv\n",
    "import warnings\n",
    "warnings.filterwarnings(\"ignore\")"
   ]
  },
  {
   "cell_type": "code",
   "execution_count": 3,
   "metadata": {},
   "outputs": [
    {
     "name": "stderr",
     "output_type": "stream",
     "text": [
      "2022-01-01 16:43:33.241309: W tensorflow/stream_executor/platform/default/dso_loader.cc:64] Could not load dynamic library 'libcudart.so.11.0'; dlerror: libcudart.so.11.0: cannot open shared object file: No such file or directory\n",
      "2022-01-01 16:43:33.241338: I tensorflow/stream_executor/cuda/cudart_stub.cc:29] Ignore above cudart dlerror if you do not have a GPU set up on your machine.\n"
     ]
    }
   ],
   "source": [
    "from keras.datasets import fashion_mnist\n",
    "(X_train, Y_train), (X_test, Y_test) = fashion_mnist.load_data()"
   ]
  },
  {
   "cell_type": "markdown",
   "metadata": {},
   "source": [
    "Classes :\n",
    "|nb|name|\n",
    "|--|--|\n",
    "|0 |T-shirt/top|\n",
    "|1 |Trouser|\n",
    "|2 |Pullover|\n",
    "|3 |Dress|\n",
    "|4 |Coat|\n",
    "|5 |Sandal|\n",
    "|6 |Shirt|\n",
    "|7 |Sneaker|\n",
    "|8 |Bag|\n",
    "|9 |Ankle boot|"
   ]
  },
  {
   "cell_type": "code",
   "execution_count": 4,
   "metadata": {},
   "outputs": [],
   "source": [
    "classes = { 0: \"T-shirt/top\", 1: \"Trouser\", 2: \"Pullover\", 3: \"Dress\", 4: \"Coat\", 5: \"Sandal\", 6: \"Shirt\", 7: \"Sneaker\", 8: \"Bag\", 9: \"Ankle boot\"}\n",
    "def isA(nb: int):\n",
    "  return classes[nb]"
   ]
  },
  {
   "cell_type": "code",
   "execution_count": 5,
   "metadata": {},
   "outputs": [
    {
     "name": "stdout",
     "output_type": "stream",
     "text": [
      "Class: Ankle boot\n"
     ]
    },
    {
     "data": {
      "image/png": "[encoded data removed]",
      "text/plain": [
       "<Figure size 432x288 with 1 Axes>"
      ]
     },
     "metadata": {
      "needs_background": "light"
     },
     "output_type": "display_data"
    }
   ],
   "source": [
    "from matplotlib import cm\n",
    "plt.imshow(X_train[0], cmap=cm.Greys)\n",
    "print(\"Class:\", isA(Y_train[0]))"
   ]
  },
  {
   "cell_type": "markdown",
   "metadata": {},
   "source": [
    "On voit que l'element 0 est de la class `Ankle boot`"
   ]
  },
  {
   "cell_type": "markdown",
   "metadata": {},
   "source": [
    "## 1. Test des differents algorithmes de classification"
   ]
  },
  {
   "cell_type": "code",
   "execution_count": 6,
   "metadata": {},
   "outputs": [],
   "source": [
    "# Re shape\n",
    "X_train = X_train.reshape(X_train.shape[0], X_train.shape[1] * X_train.shape[2])\n",
    "X_test = X_test.reshape(X_test.shape[0], X_test.shape[1] * X_test.shape[2])"
   ]
  },
  {
   "cell_type": "markdown",
   "metadata": {},
   "source": [
    "### K-nn"
   ]
  },
  {
   "cell_type": "code",
   "execution_count": 7,
   "metadata": {},
   "outputs": [],
   "source": [
    "from sklearn.neighbors import KNeighborsClassifier\n",
    "\n",
    "def executeKnn(X_train, Y_train, X_test, Y_test, k=5):\n",
    "  # Create K-nn classifier\n",
    "  knn = KNeighborsClassifier(n_neighbors=k, metric='euclidean')\n",
    "  t = time()\n",
    "  # Train the classifier\n",
    "  knn.fit(X_train, Y_train)\n",
    "  print(\"training time: \", time() - t)\n",
    "\n",
    "  # Test the classifier\n",
    "  Y_pred = knn.predict(X_test)\n",
    "\n",
    "  print(\"k = {:d} : {:.2%}\".format(k, accuracy_score(Y_test, Y_pred)))"
   ]
  },
  {
   "cell_type": "markdown",
   "metadata": {},
   "source": [
    "On se limite à un échantillon du dataset car le K-nn était trop lent à s'exécuter"
   ]
  },
  {
   "cell_type": "code",
   "execution_count": 8,
   "metadata": {},
   "outputs": [
    {
     "name": "stdout",
     "output_type": "stream",
     "text": [
      "Nb train 60000\n",
      "Nb test 10000\n",
      "Nb train sample 7500\n",
      "Nb test sample 1250\n"
     ]
    }
   ],
   "source": [
    "nbTrain = X_train.shape[0]\n",
    "print(\"Nb train\", nbTrain)\n",
    "nbTest = X_test.shape[0]\n",
    "print(\"Nb test\", nbTest)\n",
    "\n",
    "divFactor = 8\n",
    "\n",
    "nbTrainSample = round(nbTrain / divFactor)\n",
    "print(\"Nb train sample\", nbTrainSample)\n",
    "nbTestSample = round(nbTest / divFactor)\n",
    "print(\"Nb test sample\", nbTestSample)\n",
    "\n",
    "X_train_sample = X_train[:nbTrainSample]\n",
    "Y_train_sample = Y_train[:nbTrainSample]\n",
    "X_test_sample = X_test[:nbTestSample]\n",
    "Y_test_sample = Y_test[:nbTestSample]"
   ]
  },
  {
   "cell_type": "code",
   "execution_count": 8,
   "metadata": {},
   "outputs": [
    {
     "name": "stdout",
     "output_type": "stream",
     "text": [
      "training time:  0.5710036754608154\n",
      "k = 1 : 79.28%\n",
      "training time:  0.5431709289550781\n",
      "k = 2 : 80.64%\n",
      "training time:  0.5408463478088379\n",
      "k = 3 : 80.80%\n",
      "training time:  0.5455806255340576\n",
      "k = 4 : 80.88%\n",
      "training time:  0.5360336303710938\n",
      "k = 5 : 82.24%\n"
     ]
    }
   ],
   "source": [
    "for k in range (1, 6):\n",
    "  executeKnn(X_train_sample, Y_train_sample, X_test_sample, Y_test_sample, k)"
   ]
  },
  {
   "cell_type": "markdown",
   "metadata": {},
   "source": [
    "### Classifieur bayésien"
   ]
  },
  {
   "cell_type": "code",
   "execution_count": 9,
   "metadata": {},
   "outputs": [],
   "source": [
    "from sklearn.naive_bayes import GaussianNB\n",
    "\n",
    "def executeBayes(X_train, Y_train, X_test, Y_test):\n",
    "  # Create ML classifier\n",
    "  knn = GaussianNB()\n",
    "  t = time()\n",
    "  # Train the classifier\n",
    "  knn.fit(X_train, Y_train)\n",
    "  print(\"training time: \", time() - t)\n",
    "\n",
    "  # Test the classifier\n",
    "  Y_pred = knn.predict(X_test)\n",
    "\n",
    "  print(\"{:.2%}\".format(accuracy_score(Y_test, Y_pred)))"
   ]
  },
  {
   "cell_type": "code",
   "execution_count": 10,
   "metadata": {},
   "outputs": [
    {
     "name": "stdout",
     "output_type": "stream",
     "text": [
      "training time:  0.7100265026092529\n",
      "58.56%\n"
     ]
    }
   ],
   "source": [
    "executeBayes(X_train, Y_train, X_test, Y_test)"
   ]
  },
  {
   "cell_type": "markdown",
   "metadata": {},
   "source": [
    "### Arbre de décision"
   ]
  },
  {
   "cell_type": "code",
   "execution_count": 10,
   "metadata": {},
   "outputs": [],
   "source": [
    "from sklearn.tree import export_graphviz\n",
    "from sklearn.externals.six import StringIO\n",
    "from IPython.display import Image\n",
    "import pydotplus\n",
    "\n",
    "def displayTree(dt, features_cols, class_names):\n",
    "  dot_data = StringIO()\n",
    "  export_graphviz(dt, out_file=dot_data,\n",
    "                  filled=True, rounded=True,\n",
    "                  special_characters=True,feature_names = features_cols,class_names=class_names)\n",
    "  graph = pydotplus.graph_from_dot_data(dot_data.getvalue())\n",
    "  graph.write_png('fashion.png')\n",
    "  Image(graph.create_png())"
   ]
  },
  {
   "cell_type": "code",
   "execution_count": 11,
   "metadata": {},
   "outputs": [],
   "source": [
    "from sklearn.tree import DecisionTreeClassifier\n",
    "\n",
    "def executeDecisionTree(X_train, Y_train, X_test, Y_test, display=False):\n",
    "  # Create Decision Tree classifier\n",
    "  dt = DecisionTreeClassifier(criterion='entropy')\n",
    "  t = time()\n",
    "  # Train the classifier\n",
    "  dt.fit(X_train, Y_train)\n",
    "  print(\"training time: \", time() - t)\n",
    "\n",
    "  if display:\n",
    "    features_cols = [str(k) for k in range(X_train.shape[1])]\n",
    "    class_names = [str(k) for k in classes.keys()]\n",
    "    displayTree(dt, features_cols, class_names)\n",
    "\n",
    "  # Test the classifier\n",
    "  Y_pred = dt.predict(X_test)\n",
    "\n",
    "  print(\"{:.2%}\".format(accuracy_score(Y_test, Y_pred)))"
   ]
  },
  {
   "cell_type": "code",
   "execution_count": 13,
   "metadata": {},
   "outputs": [
    {
     "name": "stdout",
     "output_type": "stream",
     "text": [
      "training time:  34.88049650192261\n",
      "80.36%\n"
     ]
    }
   ],
   "source": [
    "executeDecisionTree(X_train, Y_train, X_test, Y_test)"
   ]
  },
  {
   "cell_type": "markdown",
   "metadata": {},
   "source": [
    "On a trop de données donc l'arbre de décision est trop grand pour être affiché"
   ]
  },
  {
   "cell_type": "markdown",
   "metadata": {},
   "source": [
    "On cherche les meilleurs paramètres."
   ]
  },
  {
   "cell_type": "code",
   "execution_count": 14,
   "metadata": {},
   "outputs": [
    {
     "name": "stdout",
     "output_type": "stream",
     "text": [
      "Best Accuracy:  81.17%\n",
      "Parameters:  ['entropy', 10, 1, 4]\n"
     ]
    }
   ],
   "source": [
    "if False:\n",
    "  criterion = ['gini', 'entropy']\n",
    "  max_depth = [3, 5, 10]\n",
    "  min_samples_leaf = [1, 2, 5]\n",
    "  min_samples_split = [2, 3, 4]\n",
    "\n",
    "  best_params = None\n",
    "  best_score = 0\n",
    "  for c in criterion:\n",
    "      for depth in max_depth:\n",
    "          for l in min_samples_leaf:\n",
    "              for s in min_samples_split:\n",
    "                  dt = DecisionTreeClassifier(criterion=c, max_depth=depth, min_samples_leaf=l, min_samples_split=s)\n",
    "                  dt.fit(X_train, Y_train)\n",
    "                  y_pred = dt.predict(X_test)\n",
    "                  scores = accuracy_score(Y_test, y_pred)\n",
    "                  if best_score==0 or scores > best_score:\n",
    "                      best_score = scores\n",
    "                      best_params = [c, depth, l, s]\n",
    "\n",
    "  print('Best Accuracy: ','{:2.2%}'.format(best_score))\n",
    "  print('Parameters: ', best_params)"
   ]
  },
  {
   "cell_type": "markdown",
   "metadata": {},
   "source": [
    "### Forêts aléatoires"
   ]
  },
  {
   "cell_type": "code",
   "execution_count": 19,
   "metadata": {},
   "outputs": [],
   "source": [
    "from sklearn.ensemble import RandomForestClassifier\n",
    "\n",
    "def executeRandomForest(X_train, Y_train, X_test, Y_test):\n",
    "  # Create Random Forest classifier\n",
    "  rf = RandomForestClassifier()\n",
    "  t = time()\n",
    "  # Train the classifier\n",
    "  rf.fit(X_train, Y_train)\n",
    "  print(\"training time: \", time() - t)\n",
    "\n",
    "  # Test the classifier\n",
    "  Y_pred = rf.predict(X_test)\n",
    "\n",
    "  print(\"{:.2%}\".format(accuracy_score(Y_test, Y_pred)))"
   ]
  },
  {
   "cell_type": "code",
   "execution_count": 20,
   "metadata": {},
   "outputs": [
    {
     "name": "stdout",
     "output_type": "stream",
     "text": [
      "training time:  86.60316777229309\n",
      "87.29%\n"
     ]
    }
   ],
   "source": [
    "executeRandomForest(X_train, Y_train, X_test, Y_test)"
   ]
  },
  {
   "cell_type": "markdown",
   "metadata": {},
   "source": [
    "On cherche les meilleurs paramètres."
   ]
  },
  {
   "cell_type": "code",
   "execution_count": 21,
   "metadata": {},
   "outputs": [
    {
     "name": "stdout",
     "output_type": "stream",
     "text": [
      "{'n_estimators': [200, 400, 600, 800, 1000, 1200, 1400, 1600, 1800, 2000], 'max_features': ['auto', 'sqrt'], 'max_depth': [3, 5, 10, None], 'min_samples_split': [1, 2, 5], 'min_samples_leaf': [2, 3, 4], 'bootstrap': [True, False]}\n"
     ]
    }
   ],
   "source": [
    "import numpy as np\n",
    "from sklearn.model_selection import RandomizedSearchCV\n",
    "# Number of trees in random forest\n",
    "n_estimators = [int(x) for x in np.linspace(start = 200, stop = 2000, num = 10)]\n",
    "# Number of features to consider at every split\n",
    "max_features = ['auto', 'sqrt']\n",
    "# Maximum number of levels in tree\n",
    "max_depth = [3, 5, 10]\n",
    "max_depth.append(None)\n",
    "# Minimum number of samples required to split a node\n",
    "min_samples_split = [1, 2, 5]\n",
    "# Minimum number of samples required at each leaf node\n",
    "min_samples_leaf = [2, 3, 4]\n",
    "# Method of selecting samples for training each tree\n",
    "bootstrap = [True, False]\n",
    "# Create the random grid\n",
    "random_grid = {'n_estimators': n_estimators,\n",
    "               'max_features': max_features,\n",
    "               'max_depth': max_depth,\n",
    "               'min_samples_split': min_samples_split,\n",
    "               'min_samples_leaf': min_samples_leaf,\n",
    "               'bootstrap': bootstrap}\n",
    "print(random_grid)"
   ]
  },
  {
   "cell_type": "code",
   "execution_count": 24,
   "metadata": {},
   "outputs": [],
   "source": [
    "if False:\n",
    "  rf = RandomForestClassifier()\n",
    "  rf_random = RandomizedSearchCV(estimator = rf, param_distributions = random_grid, n_iter = 100,\n",
    "                                cv = 3, verbose=2, random_state=42, n_jobs = -1)\n",
    "  t = time()\n",
    "\n",
    "  rf_random.fit(X_train_sample, Y_train_sample)\n",
    "  print(\"training time: \", time() - t)\n",
    "\n",
    "  Y_pred = rf.predict(X_test_sample)\n",
    "  print(\"{:.2%}\".format(accuracy_score(Y_test_sample, Y_pred)))\n",
    "  rf_random.best_params_"
   ]
  },
  {
   "cell_type": "markdown",
   "metadata": {},
   "source": [
    "On voit que l'accuracy de K-NN, Random forest et Decision tree tourne autour de 80%. Donc ces algorithmes sont efficaces par rapport à Bayes qui n'a qu'une accuracy à 60%."
   ]
  },
  {
   "cell_type": "markdown",
   "metadata": {},
   "source": [
    "## 2. Comparaison des technique de reduction de dimension"
   ]
  },
  {
   "cell_type": "markdown",
   "metadata": {},
   "source": [
    "### Evaluation de l'imcate de la redution `ACP`2020342"
   ]
  },
  {
   "cell_type": "code",
   "execution_count": 108,
   "metadata": {},
   "outputs": [],
   "source": [
    "from sklearn.preprocessing import StandardScaler\n",
    "from sklearn.decomposition import PCA\n",
    "\n",
    "def doPCA(X, nbComponents=None, display=False):\n",
    "  # StandardScaler removes the mean and scales to the unit variance\n",
    "  scaler = StandardScaler()\n",
    "  z = scaler.fit_transform(X)\n",
    "\n",
    "  # Do the PCA reduction\n",
    "  acp = PCA(nbComponents)\n",
    "  X_acp = acp.fit_transform(z)\n",
    "\n",
    "  print(acp.n_components_)\n",
    "  print(acp.explained_variance_ratio_.sum())\n",
    "\n",
    "  if display:\n",
    "    plt.grid()\n",
    "    plt.plot(np.arange(1, acp.n_components_+1),acp.explained_variance_ratio_)\n",
    "    plt.ylabel(\"Eigen values\")\n",
    "    plt.xlabel(\"Factor number\")\n",
    "    plt.xlim([0, 20])\n",
    "    plt.show()\n",
    "\n",
    "  return X_acp"
   ]
  },
  {
   "cell_type": "code",
   "execution_count": 109,
   "metadata": {},
   "outputs": [
    {
     "name": "stdout",
     "output_type": "stream",
     "text": [
      "(70000, 784)\n"
     ]
    },
    {
     "data": {
      "text/plain": [
       "array([[0, 0, 0, ..., 0, 0, 0],\n",
       "       [0, 0, 0, ..., 0, 0, 0],\n",
       "       [0, 0, 0, ..., 0, 0, 0],\n",
       "       ...,\n",
       "       [0, 0, 0, ..., 0, 0, 0],\n",
       "       [0, 0, 0, ..., 0, 0, 0],\n",
       "       [0, 0, 0, ..., 0, 0, 0]], dtype=uint8)"
      ]
     },
     "execution_count": 109,
     "metadata": {},
     "output_type": "execute_result"
    }
   ],
   "source": [
    "# Merge data\n",
    "X = np.concatenate([X_train, X_test])\n",
    "print(X.shape)\n",
    "X"
   ]
  },
  {
   "cell_type": "code",
   "execution_count": 110,
   "metadata": {},
   "outputs": [
    {
     "name": "stdout",
     "output_type": "stream",
     "text": [
      "784\n",
      "1.0000000000000002\n"
     ]
    },
    {
     "data": {
      "image/png": "[encoded data removed]",
      "text/plain": [
       "<Figure size 432x288 with 1 Axes>"
      ]
     },
     "metadata": {
      "needs_background": "light"
     },
     "output_type": "display_data"
    },
    {
     "data": {
      "text/plain": [
       "array([[-8.24695128e-01,  2.08626045e+01, -1.29060470e+01, ...,\n",
       "        -1.09710294e-01, -1.51331698e-02,  4.88783375e-02],\n",
       "       [ 1.70733898e+01, -4.96621704e+00, -2.00699267e+00, ...,\n",
       "         1.52411750e-02, -1.20782039e-02, -3.00088460e-03],\n",
       "       [-9.60003596e+00, -1.23219278e+01,  1.11963308e+00, ...,\n",
       "         3.43797361e-03,  1.11448033e-02,  1.35217906e-02],\n",
       "       ...,\n",
       "       [-6.99353047e+00, -8.48864653e+00,  3.95530544e-01, ...,\n",
       "         6.82168794e-02,  1.12211400e-02, -1.06401132e-02],\n",
       "       [-2.89228540e+00, -1.53764669e+01, -7.59981403e+00, ...,\n",
       "        -6.76469957e-03, -1.63065434e-02, -1.38673547e-02],\n",
       "       [-1.75322476e+01,  1.24833183e-01,  3.25432528e+00, ...,\n",
       "        -7.24656788e-03,  5.06611536e-02, -3.78014431e-02]])"
      ]
     },
     "execution_count": 110,
     "metadata": {},
     "output_type": "execute_result"
    }
   ],
   "source": [
    "# elbow criterion\n",
    "X_acp = doPCA(X, None, True)"
   ]
  },
  {
   "cell_type": "code",
   "execution_count": 111,
   "metadata": {},
   "outputs": [
    {
     "name": "stdout",
     "output_type": "stream",
     "text": [
      "3\n",
      "0.4195832834270295\n"
     ]
    }
   ],
   "source": [
    "X_acp = doPCA(X, 3)\n",
    "X_train_acp = X_acp[:nbTrain]\n",
    "X_test_acp = X_acp[nbTrain:]"
   ]
  },
  {
   "cell_type": "code",
   "execution_count": 112,
   "metadata": {},
   "outputs": [
    {
     "name": "stdout",
     "output_type": "stream",
     "text": [
      "training time:  0.0463106632232666\n",
      "k = 1 : 56.89%\n",
      "training time:  0.04699516296386719\n",
      "k = 2 : 56.98%\n",
      "training time:  0.04682183265686035\n",
      "k = 3 : 60.10%\n",
      "training time:  0.033620595932006836\n",
      "k = 4 : 60.98%\n",
      "training time:  0.03473615646362305\n",
      "k = 5 : 62.09%\n"
     ]
    }
   ],
   "source": [
    "#Execution of K-nn on reduced data\n",
    "for k in range (1, 6):\n",
    "  executeKnn(X_train_acp, Y_train, X_test_acp, Y_test, k)"
   ]
  },
  {
   "cell_type": "markdown",
   "metadata": {},
   "source": [
    "Compare avec avec l'execution de k-nn sans reduction :\n",
    "- si c'est faisable\n",
    "- si c'est plus efficatce (best acc)\n",
    "- si c'est long sa mere"
   ]
  },
  {
   "cell_type": "code",
   "execution_count": 113,
   "metadata": {},
   "outputs": [],
   "source": [
    "#Execution bayes sur les donner reduites"
   ]
  },
  {
   "cell_type": "markdown",
   "metadata": {},
   "source": [
    "Compare avec avec l'execution de bayes sans reduction :"
   ]
  },
  {
   "cell_type": "code",
   "execution_count": 114,
   "metadata": {},
   "outputs": [],
   "source": [
    "#Execution tree sur les donner reduites"
   ]
  },
  {
   "cell_type": "markdown",
   "metadata": {},
   "source": [
    "Compare avec avec l'execution de tree sans reduction :"
   ]
  },
  {
   "cell_type": "code",
   "execution_count": 115,
   "metadata": {},
   "outputs": [],
   "source": [
    "#Execution forest sur les donner reduites"
   ]
  },
  {
   "cell_type": "markdown",
   "metadata": {},
   "source": [
    "Compare avec avec l'execution de forest sans reduction :"
   ]
  },
  {
   "cell_type": "markdown",
   "metadata": {},
   "source": [
    "### Evaluation de l'imcate de la redution `LDA`"
   ]
  },
  {
   "cell_type": "code",
   "execution_count": 116,
   "metadata": {},
   "outputs": [],
   "source": [
    "# reduction lda"
   ]
  },
  {
   "cell_type": "code",
   "execution_count": 117,
   "metadata": {},
   "outputs": [],
   "source": [
    "#Execution K-nn sur les donner reduites"
   ]
  },
  {
   "cell_type": "markdown",
   "metadata": {},
   "source": [
    "Compare avec avec l'execution de k-nn sans reduction :\n",
    "- si c'est faisable\n",
    "- si c'est plus efficatce (best acc)\n",
    "- si c'est long sa mere"
   ]
  },
  {
   "cell_type": "code",
   "execution_count": 118,
   "metadata": {},
   "outputs": [],
   "source": [
    "#Execution bayes sur les donner reduites"
   ]
  },
  {
   "cell_type": "markdown",
   "metadata": {},
   "source": [
    "Compare avec avec l'execution de bayes sans reduction :"
   ]
  },
  {
   "cell_type": "code",
   "execution_count": 119,
   "metadata": {},
   "outputs": [],
   "source": [
    "#Execution tree sur les donner reduites"
   ]
  },
  {
   "cell_type": "markdown",
   "metadata": {},
   "source": [
    "Compare avec avec l'execution de tree sans reduction :"
   ]
  },
  {
   "cell_type": "code",
   "execution_count": 120,
   "metadata": {},
   "outputs": [],
   "source": [
    "#Execution forest sur les donner reduites"
   ]
  },
  {
   "cell_type": "markdown",
   "metadata": {},
   "source": [
    "Compare avec avec l'execution de forest sans reduction :"
   ]
  },
  {
   "cell_type": "markdown",
   "metadata": {},
   "source": [
    "### Conclusion:"
   ]
  }
 ],
 "metadata": {
  "interpreter": {
   "hash": "31f2aee4e71d21fbe5cf8b01ff0e069b9275f58929596ceb00d14d90e3e16cd6"
  },
  "kernelspec": {
   "display_name": "Python 3.8.10 64-bit",
   "language": "python",
   "name": "python3"
  },
  "language_info": {
   "codemirror_mode": {
    "name": "ipython",
    "version": 3
   },
   "file_extension": ".py",
   "mimetype": "text/x-python",
   "name": "python",
   "nbconvert_exporter": "python",
   "pygments_lexer": "ipython3",
   "version": "3.8.10"
  },
  "orig_nbformat": 4
 },
 "nbformat": 4,
 "nbformat_minor": 2
}

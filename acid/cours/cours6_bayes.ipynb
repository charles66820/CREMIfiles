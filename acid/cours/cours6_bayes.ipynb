{
 "cells": [
  {
   "cell_type": "markdown",
   "metadata": {},
   "source": [
    "### Méthode de Bayes"
   ]
  },
  {
   "cell_type": "markdown",
   "metadata": {},
   "source": [
    "#### A la main :"
   ]
  },
  {
   "cell_type": "code",
   "execution_count": 1,
   "metadata": {},
   "outputs": [],
   "source": [
    "import pandas as pa\n",
    "\n",
    "dic = {'S': ['M', 'M', 'M', 'M', 'F', 'F', 'F', 'F'],\n",
    "      'H': [1.82, 1.80, 1.70, 1.80, 1.52, 1.65, 1.68, 1.75],\n",
    "      'W': [82, 86, 77, 75, 45, 68, 59, 68],\n",
    "      'F': [30, 28, 30, 25, 15, 20, 18, 23]}\n",
    "\n",
    "data = pa.DataFrame(data=dic)"
   ]
  },
  {
   "cell_type": "code",
   "execution_count": 2,
   "metadata": {},
   "outputs": [
    {
     "name": "stdout",
     "output_type": "stream",
     "text": [
      "   S     H   W   F\n",
      "0  M  1.82  82  30\n",
      "1  M  1.80  86  28\n",
      "2  M  1.70  77  30\n",
      "3  M  1.80  75  25\n",
      "4  F  1.52  45  15\n",
      "5  F  1.65  68  20\n",
      "6  F  1.68  59  18\n",
      "7  F  1.75  68  23\n"
     ]
    }
   ],
   "source": [
    "print(data)"
   ]
  },
  {
   "cell_type": "code",
   "execution_count": 3,
   "metadata": {},
   "outputs": [],
   "source": [
    "data = data.sample(frac=1)"
   ]
  },
  {
   "cell_type": "code",
   "execution_count": 4,
   "metadata": {},
   "outputs": [],
   "source": [
    "X = data[['H', 'W', 'F']]\n",
    "y = data['S']"
   ]
  },
  {
   "cell_type": "code",
   "execution_count": 5,
   "metadata": {},
   "outputs": [
    {
     "name": "stdout",
     "output_type": "stream",
     "text": [
      "means:  [[1.78, 1.65], [80.0, 60.0], [28.25, 19.0]]\n",
      "sigmas:  [[0.04690415759823434, 0.08336666000266532], [4.301162633521313, 9.40744386111339], [2.0463381929681126, 2.9154759474226504]]\n",
      "[0.5, 0.5]\n"
     ]
    }
   ],
   "source": [
    "#entrainement : il s'agit essentiellement d'inférer les valeurs des m et s de chaque variable\n",
    "import numpy as np\n",
    "\n",
    "means = []\n",
    "sigmas = []\n",
    "\n",
    "\n",
    "for c in X.columns:\n",
    "    means.append([np.mean(X[c][y=='M']), np.mean(X[c][y=='F'])])\n",
    "    sigmas.append([np.sqrt(np.var(X[c][y=='M'])), np.sqrt(np.var(X[c][y=='F']))])\n",
    "print('means: ', means)\n",
    "print('sigmas: ', sigmas)\n",
    "\n",
    "\n",
    "#propbas a priori:\n",
    "probas = [len(y[y=='M'])/len(y), len(y[y=='F'])/len(y)]\n",
    "print(probas)\n"
   ]
  },
  {
   "cell_type": "code",
   "execution_count": 6,
   "metadata": {},
   "outputs": [
    {
     "name": "stdout",
     "output_type": "stream",
     "text": [
      "F\n"
     ]
    }
   ],
   "source": [
    "import scipy.stats as st\n",
    "def predict(item):\n",
    "    p_m = 1\n",
    "    p_f = 1\n",
    "    for i in range(len(means)):\n",
    "        p_m *= st.norm.pdf(item[i], means[i][0], sigmas[i][0])\n",
    "        p_f *= st.norm.pdf(item[i], means[i][1], sigmas[i][1])\n",
    "    if probas[0] * p_m > probas[1] * p_f :\n",
    "        return 'M'\n",
    "    return 'F'\n",
    "\n",
    "print(predict([1.81, 59, 21]))"
   ]
  },
  {
   "cell_type": "markdown",
   "metadata": {},
   "source": [
    "#### Avec sklearn: "
   ]
  },
  {
   "cell_type": "code",
   "execution_count": 7,
   "metadata": {},
   "outputs": [
    {
     "data": {
      "text/plain": [
       "GaussianNB()"
      ]
     },
     "execution_count": 7,
     "metadata": {},
     "output_type": "execute_result"
    }
   ],
   "source": [
    "from sklearn.naive_bayes import GaussianNB\n",
    "nb = GaussianNB()\n",
    "nb.fit(X, y)"
   ]
  },
  {
   "cell_type": "code",
   "execution_count": 8,
   "metadata": {},
   "outputs": [
    {
     "name": "stdout",
     "output_type": "stream",
     "text": [
      "F\n"
     ]
    },
    {
     "name": "stderr",
     "output_type": "stream",
     "text": [
      "/home/charles/.local/lib/python3.8/site-packages/sklearn/base.py:441: UserWarning: X does not have valid feature names, but GaussianNB was fitted with feature names\n",
      "  warnings.warn(\n"
     ]
    }
   ],
   "source": [
    "print(nb.predict([[1.81, 59, 21]])[0])"
   ]
  },
  {
   "cell_type": "code",
   "execution_count": null,
   "metadata": {},
   "outputs": [],
   "source": []
  }
 ],
 "metadata": {
  "interpreter": {
   "hash": "31f2aee4e71d21fbe5cf8b01ff0e069b9275f58929596ceb00d14d90e3e16cd6"
  },
  "kernelspec": {
   "display_name": "Python 3.8.10 64-bit",
   "name": "python3"
  },
  "language_info": {
   "codemirror_mode": {
    "name": "ipython",
    "version": 3
   },
   "file_extension": ".py",
   "mimetype": "text/x-python",
   "name": "python",
   "nbconvert_exporter": "python",
   "pygments_lexer": "ipython3",
   "version": "3.8.10"
  }
 },
 "nbformat": 4,
 "nbformat_minor": 2
}

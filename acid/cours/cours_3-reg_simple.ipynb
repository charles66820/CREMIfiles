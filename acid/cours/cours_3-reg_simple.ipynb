{
 "cells": [
  {
   "cell_type": "code",
   "execution_count": 24,
   "source": [
    "import pandas as pa"
   ],
   "outputs": [],
   "metadata": {}
  },
  {
   "cell_type": "code",
   "execution_count": 25,
   "source": [
    "data = pa.read_csv('food_truck.csv')\n",
    "data.head()"
   ],
   "outputs": [
    {
     "output_type": "execute_result",
     "data": {
      "text/html": [
       "<div>\n",
       "<style scoped>\n",
       "    .dataframe tbody tr th:only-of-type {\n",
       "        vertical-align: middle;\n",
       "    }\n",
       "\n",
       "    .dataframe tbody tr th {\n",
       "        vertical-align: top;\n",
       "    }\n",
       "\n",
       "    .dataframe thead th {\n",
       "        text-align: right;\n",
       "    }\n",
       "</style>\n",
       "<table border=\"1\" class=\"dataframe\">\n",
       "  <thead>\n",
       "    <tr style=\"text-align: right;\">\n",
       "      <th></th>\n",
       "      <th>Population(10.000)</th>\n",
       "      <th>Profit(10.000 $)</th>\n",
       "    </tr>\n",
       "  </thead>\n",
       "  <tbody>\n",
       "    <tr>\n",
       "      <td>0</td>\n",
       "      <td>6.1101</td>\n",
       "      <td>17.5920</td>\n",
       "    </tr>\n",
       "    <tr>\n",
       "      <td>1</td>\n",
       "      <td>5.5277</td>\n",
       "      <td>9.1302</td>\n",
       "    </tr>\n",
       "    <tr>\n",
       "      <td>2</td>\n",
       "      <td>8.5186</td>\n",
       "      <td>13.6620</td>\n",
       "    </tr>\n",
       "    <tr>\n",
       "      <td>3</td>\n",
       "      <td>7.0032</td>\n",
       "      <td>11.8540</td>\n",
       "    </tr>\n",
       "    <tr>\n",
       "      <td>4</td>\n",
       "      <td>5.8598</td>\n",
       "      <td>6.8233</td>\n",
       "    </tr>\n",
       "  </tbody>\n",
       "</table>\n",
       "</div>"
      ],
      "text/plain": [
       "   Population(10.000)  Profit(10.000 $)\n",
       "0              6.1101           17.5920\n",
       "1              5.5277            9.1302\n",
       "2              8.5186           13.6620\n",
       "3              7.0032           11.8540\n",
       "4              5.8598            6.8233"
      ]
     },
     "metadata": {},
     "execution_count": 25
    }
   ],
   "metadata": {}
  },
  {
   "cell_type": "code",
   "execution_count": 26,
   "source": [
    "#On découpe les données en X et en Y:\n",
    "X = data['Population(10.000)']\n",
    "print(X.head())\n",
    "Y = data['Profit(10.000 $)']\n",
    "print(Y.head())"
   ],
   "outputs": [
    {
     "output_type": "stream",
     "name": "stdout",
     "text": [
      "0    6.1101\n",
      "1    5.5277\n",
      "2    8.5186\n",
      "3    7.0032\n",
      "4    5.8598\n",
      "Name: Population(10.000), dtype: float64\n",
      "0    17.5920\n",
      "1     9.1302\n",
      "2    13.6620\n",
      "3    11.8540\n",
      "4     6.8233\n",
      "Name: Profit(10.000 $), dtype: float64\n"
     ]
    }
   ],
   "metadata": {}
  },
  {
   "cell_type": "code",
   "execution_count": 27,
   "source": [
    "#On peut visualiser les données : \n",
    "import matplotlib.pyplot as plt\n",
    "%matplotlib inline\n",
    "axes = plt.axes()\n",
    "#On dessine une grille pour une meilleur lecture du graphique :\n",
    "axes.grid()\n",
    "#On définit les axes : il s'agit de notre X et de notre Y :\n",
    "plt.scatter(X,Y,color=\"red\",marker=\"x\")\n",
    "plt.xlabel(\"population in 10000's\")\n",
    "plt.ylabel(\"profit in 10000 $\")\n",
    "plt.show()"
   ],
   "outputs": [
    {
     "output_type": "display_data",
     "data": {
      "image/png": "[encoded data removed]",
      "text/plain": [
       "<Figure size 432x288 with 1 Axes>"
      ]
     },
     "metadata": {
      "needs_background": "light"
     }
    }
   ],
   "metadata": {}
  },
  {
   "cell_type": "markdown",
   "source": [
    "#### Régression linéaire simple (à la main)"
   ],
   "metadata": {}
  },
  {
   "cell_type": "code",
   "execution_count": 28,
   "source": [
    "import numpy as np\n",
    "x_bar = np.mean(X)\n",
    "y_bar = np.mean(Y)\n",
    "a = np.sum((Y-y_bar) * (X-x_bar)) / np.sum((X-x_bar)*(X-x_bar))\n",
    "b = y_bar - a*x_bar\n",
    "print('modèle de régression \"à la main\" :')\n",
    "print('Y = ', a, '* X + ', b)"
   ],
   "outputs": [
    {
     "output_type": "stream",
     "name": "stdout",
     "text": [
      "modèle de régression \"à la main\" :\n",
      "Y =  1.1930336441895937 * X +  -3.89578087831186\n"
     ]
    }
   ],
   "metadata": {}
  },
  {
   "cell_type": "markdown",
   "source": [
    "#### Régression linéaire simple avec <code>stats</code>"
   ],
   "metadata": {}
  },
  {
   "cell_type": "code",
   "execution_count": 29,
   "source": [
    "from scipy import stats\n",
    "slope, intercept, r_value, p_value, std_err = stats.linregress(X,Y)"
   ],
   "outputs": [],
   "metadata": {}
  },
  {
   "cell_type": "code",
   "execution_count": 30,
   "source": [
    "print(slope, intercept, r_value, p_value, std_err)"
   ],
   "outputs": [
    {
     "output_type": "stream",
     "name": "stdout",
     "text": [
      "1.1930336441895941 -3.8957808783118555 0.8378732325263409 1.0232099778760961e-26 0.07974394383258743\n"
     ]
    }
   ],
   "metadata": {}
  },
  {
   "cell_type": "markdown",
   "source": [
    "R^2 = 84%\n",
    "--> 84% de la variation de Y est expliquée par X\n",
    "\n",
    "H_0 : Beta_1 = 0\n",
    "r_value =1.0232099778760961e-26 <<< 0.05 = 5%\n",
    "--> On rejette H0 au risque alpha = 5%"
   ],
   "metadata": {}
  },
  {
   "cell_type": "code",
   "execution_count": 31,
   "source": [
    "print('modèle de régression : ')\n",
    "print ('Y = ', slope,' * X + ', intercept)"
   ],
   "outputs": [
    {
     "output_type": "stream",
     "name": "stdout",
     "text": [
      "modèle de régression : \n",
      "Y =  1.1930336441895941  * X +  -3.8957808783118555\n"
     ]
    }
   ],
   "metadata": {}
  },
  {
   "cell_type": "code",
   "execution_count": 32,
   "source": [
    "def predict(x):\n",
    "    return slope * x + intercept"
   ],
   "outputs": [],
   "metadata": {}
  },
  {
   "cell_type": "code",
   "execution_count": 15,
   "source": [
    "#On prédit à présent les valeurs de X:\n",
    "fitline = predict(X)\n",
    "fitline.head()\n",
    "#Et on dessine le nuage ainsi que la ligne de régression :\n",
    "plt.scatter(X, fitline,color='blue',marker='x')\n",
    "plt.scatter(X,Y,color='red',marker='o')\n",
    "plt.plot(X, fitline, c='m')\n",
    "\n",
    "plt.show()"
   ],
   "outputs": [
    {
     "output_type": "display_data",
     "data": {
      "image/png": "[encoded data removed]",
      "text/plain": [
       "<Figure size 432x288 with 1 Axes>"
      ]
     },
     "metadata": {
      "needs_background": "light"
     }
    }
   ],
   "metadata": {}
  }
 ],
 "metadata": {
  "kernelspec": {
   "display_name": "Python 3",
   "language": "python",
   "name": "python3"
  },
  "language_info": {
   "codemirror_mode": {
    "name": "ipython",
    "version": 3
   },
   "file_extension": ".py",
   "mimetype": "text/x-python",
   "name": "python",
   "nbconvert_exporter": "python",
   "pygments_lexer": "ipython3",
   "version": "3.7.4"
  }
 },
 "nbformat": 4,
 "nbformat_minor": 2
}
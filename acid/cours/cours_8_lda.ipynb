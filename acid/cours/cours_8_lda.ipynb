{
 "cells": [
  {
   "cell_type": "code",
   "execution_count": 78,
   "metadata": {},
   "outputs": [],
   "source": [
    "import numpy as np\n",
    "import pandas as pa\n",
    "import matplotlib.pyplot as plt\n",
    "\n",
    "from numpy.linalg import eig, inv\n",
    "\n",
    "import warnings\n",
    "warnings.filterwarnings(\"ignore\")"
   ]
  },
  {
   "cell_type": "code",
   "execution_count": 79,
   "metadata": {},
   "outputs": [],
   "source": [
    "dict = {'X1': [1, 2, 3, 4, 5, 1, 2, 3, 3, 5, 6],\n",
    "       'X2': [2, 3, 3, 5, 5, 0, 1, 1, 2, 3, 5],\n",
    "       'C': [1, 1, 1, 1, 1, 2, 2, 2, 2, 2, 2]}\n",
    "data = pa.DataFrame(data=dict)"
   ]
  },
  {
   "cell_type": "code",
   "execution_count": 80,
   "metadata": {},
   "outputs": [],
   "source": [
    "X = data[['X1', 'X2']]"
   ]
  },
  {
   "cell_type": "code",
   "execution_count": 81,
   "metadata": {},
   "outputs": [
    {
     "data": {
      "text/plain": [
       "<matplotlib.collections.PathCollection at 0x7f3d0ec90a58>"
      ]
     },
     "execution_count": 81,
     "metadata": {},
     "output_type": "execute_result"
    },
    {
     "data": {
      "image/png": "[encoded data removed]",
      "text/plain": [
       "<Figure size 432x288 with 1 Axes>"
      ]
     },
     "metadata": {
      "needs_background": "light"
     },
     "output_type": "display_data"
    }
   ],
   "source": [
    "plt.grid()\n",
    "plt.scatter(data.X1, data.X2, c=data.C)"
   ]
  },
  {
   "cell_type": "markdown",
   "metadata": {},
   "source": [
    "### Avec une ACP :"
   ]
  },
  {
   "cell_type": "code",
   "execution_count": 82,
   "metadata": {},
   "outputs": [
    {
     "name": "stdout",
     "output_type": "stream",
     "text": [
      "[ 6.9605153 56.6394847]\n",
      "[[-0.72676058 -0.68689087]\n",
      " [ 0.68689087 -0.72676058]]\n"
     ]
    }
   ],
   "source": [
    "Z = X - X.mean()\n",
    "S = len(X) * X.cov()\n",
    "lambdas, vect = eig(S)\n",
    "print(lambdas)\n",
    "print(vect)"
   ]
  },
  {
   "cell_type": "code",
   "execution_count": 83,
   "metadata": {},
   "outputs": [
    {
     "name": "stdout",
     "output_type": "stream",
     "text": [
      "[-0.68689087 -0.72676058]\n"
     ]
    }
   ],
   "source": [
    "v = vect[:,1]\n",
    "print(v)"
   ]
  },
  {
   "cell_type": "code",
   "execution_count": 84,
   "metadata": {},
   "outputs": [],
   "source": [
    "Y = np.dot(v.T, Z.T)"
   ]
  },
  {
   "cell_type": "code",
   "execution_count": 85,
   "metadata": {},
   "outputs": [
    {
     "data": {
      "text/plain": [
       "<matplotlib.collections.PathCollection at 0x7f3d0ec6cf28>"
      ]
     },
     "execution_count": 85,
     "metadata": {},
     "output_type": "execute_result"
    },
    {
     "data": {
      "image/png": "[encoded data removed]",
      "text/plain": [
       "<Figure size 432x288 with 1 Axes>"
      ]
     },
     "metadata": {
      "needs_background": "light"
     },
     "output_type": "display_data"
    }
   ],
   "source": [
    "plt.grid()\n",
    "plt.scatter(Y, np.ones(len(Y)), c=data.C)"
   ]
  },
  {
   "cell_type": "code",
   "execution_count": 108,
   "metadata": {},
   "outputs": [
    {
     "data": {
      "text/plain": [
       "<matplotlib.collections.PathCollection at 0x7f3d0e5cf978>"
      ]
     },
     "execution_count": 108,
     "metadata": {},
     "output_type": "execute_result"
    },
    {
     "data": {
      "image/png": "[encoded data removed]",
      "text/plain": [
       "<Figure size 432x288 with 1 Axes>"
      ]
     },
     "metadata": {
      "needs_background": "light"
     },
     "output_type": "display_data"
    }
   ],
   "source": [
    "from sklearn.decomposition import PCA\n",
    "pca = PCA(n_components=1)\n",
    "X_acp = pca.fit(X).transform(X)\n",
    "plt.grid()\n",
    "plt.scatter(X_acp, np.ones(len(X_acp)), c=data.C)"
   ]
  },
  {
   "cell_type": "markdown",
   "metadata": {},
   "source": [
    "#### Pas top top pour la séparation des classes ..."
   ]
  },
  {
   "cell_type": "markdown",
   "metadata": {},
   "source": [
    "### Avec une LDA :"
   ]
  },
  {
   "cell_type": "code",
   "execution_count": 87,
   "metadata": {},
   "outputs": [
    {
     "name": "stdout",
     "output_type": "stream",
     "text": [
      "X1    3.0\n",
      "X2    3.6\n",
      "dtype: float64\n",
      "X1    3.333333\n",
      "X2    2.000000\n",
      "dtype: float64\n"
     ]
    }
   ],
   "source": [
    "#On calcule les moyennes :\n",
    "mu1 = np.mean(data[['X1', 'X2']][data.C==1])\n",
    "mu2 = np.mean(data[['X1', 'X2']][data.C==2])\n",
    "print(mu1)\n",
    "print(mu2)"
   ]
  },
  {
   "cell_type": "code",
   "execution_count": 88,
   "metadata": {},
   "outputs": [
    {
     "name": "stdout",
     "output_type": "stream",
     "text": [
      "      X1   X2\n",
      "X1  10.0  8.0\n",
      "X2   8.0  7.2\n",
      "           X1    X2\n",
      "X1  17.333333  16.0\n",
      "X2  16.000000  16.0\n"
     ]
    }
   ],
   "source": [
    "#On calcule les matrices de dispersion (scatter matrices)\n",
    "S1 = (len(X[data.C==1]) - 1) * X[data.C==1].cov()\n",
    "S2 = (len(X[data.C==2]) - 1) * X[data.C==2].cov()\n",
    "print(S1)\n",
    "print(S2)"
   ]
  },
  {
   "cell_type": "code",
   "execution_count": 89,
   "metadata": {},
   "outputs": [
    {
     "name": "stdout",
     "output_type": "stream",
     "text": [
      "           X1    X2\n",
      "X1  27.333333  24.0\n",
      "X2  24.000000  23.2\n"
     ]
    }
   ],
   "source": [
    "#dispersion intra-classes :\n",
    "Sw = S1 + S2\n",
    "print(Sw)"
   ]
  },
  {
   "cell_type": "code",
   "execution_count": 90,
   "metadata": {},
   "outputs": [
    {
     "name": "stdout",
     "output_type": "stream",
     "text": [
      "[[ 0.39908257 -0.41284404]\n",
      " [-0.41284404  0.47018349]]\n"
     ]
    }
   ],
   "source": [
    "#Inverse de la matrice Sw :\n",
    "invSw = inv(Sw)\n",
    "print(invSw)"
   ]
  },
  {
   "cell_type": "code",
   "execution_count": 91,
   "metadata": {},
   "outputs": [
    {
     "name": "stdout",
     "output_type": "stream",
     "text": [
      "X1   -0.793578\n",
      "X2    0.889908\n",
      "dtype: float64\n"
     ]
    }
   ],
   "source": [
    "#Vecteur de la meilleur direction :\n",
    "v = np.matmul(invSw, mu1 - mu2)\n",
    "print(v)"
   ]
  },
  {
   "cell_type": "code",
   "execution_count": 92,
   "metadata": {},
   "outputs": [
    {
     "name": "stdout",
     "output_type": "stream",
     "text": [
      "[ 0.98623853  1.08256881  0.28899083  1.27522936  0.48165138 -0.79357798\n",
      " -0.69724771 -1.49082569 -0.60091743 -1.29816514 -0.31192661]\n"
     ]
    }
   ],
   "source": [
    "#Et on projette les données :\n",
    "#print(v)\n",
    "#print(X.T)\n",
    "y = np.dot(v.T, X.T)\n",
    "print(y)"
   ]
  },
  {
   "cell_type": "code",
   "execution_count": 93,
   "metadata": {},
   "outputs": [
    {
     "data": {
      "text/plain": [
       "<matplotlib.collections.PathCollection at 0x7f3d0eb3ea58>"
      ]
     },
     "execution_count": 93,
     "metadata": {},
     "output_type": "execute_result"
    },
    {
     "data": {
      "image/png": "[encoded data removed]",
      "text/plain": [
       "<Figure size 432x288 with 1 Axes>"
      ]
     },
     "metadata": {
      "needs_background": "light"
     },
     "output_type": "display_data"
    }
   ],
   "source": [
    "#Et on projette :\n",
    "plt.grid()\n",
    "plt.scatter(y, np.ones(len(y)), c=data.C)"
   ]
  },
  {
   "cell_type": "markdown",
   "metadata": {},
   "source": [
    "yyyoooouuuuuupppppppiiiii :-)"
   ]
  },
  {
   "cell_type": "code",
   "execution_count": 94,
   "metadata": {},
   "outputs": [
    {
     "data": {
      "text/plain": [
       "<matplotlib.collections.PathCollection at 0x7f3d0eb1e860>"
      ]
     },
     "execution_count": 94,
     "metadata": {},
     "output_type": "execute_result"
    },
    {
     "data": {
      "image/png": "[encoded data removed]",
      "text/plain": [
       "<Figure size 432x288 with 1 Axes>"
      ]
     },
     "metadata": {
      "needs_background": "light"
     },
     "output_type": "display_data"
    }
   ],
   "source": [
    "from sklearn.discriminant_analysis import LinearDiscriminantAnalysis\n",
    "lda = LinearDiscriminantAnalysis(n_components=1)\n",
    "X_lda = lda.fit(X, data.C).transform(X)\n",
    "plt.grid()\n",
    "plt.scatter(X_lda, np.ones(len(X_lda)), c=data.C)"
   ]
  }
 ],
 "metadata": {
  "interpreter": {
   "hash": "916dbcbb3f70747c44a77c7bcd40155683ae19c65e1c03b4aa3499c5328201f1"
  },
  "kernelspec": {
   "display_name": "Python 3.7.3 64-bit",
   "name": "python3"
  },
  "language_info": {
   "codemirror_mode": {
    "name": "ipython",
    "version": 3
   },
   "file_extension": ".py",
   "mimetype": "text/x-python",
   "name": "python",
   "nbconvert_exporter": "python",
   "pygments_lexer": "ipython3",
   "version": "3.7.3"
  }
 },
 "nbformat": 4,
 "nbformat_minor": 2
}

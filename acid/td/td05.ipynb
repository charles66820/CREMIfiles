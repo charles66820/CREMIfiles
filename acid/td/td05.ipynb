{
 "cells": [
  {
   "cell_type": "markdown",
   "metadata": {},
   "source": [
    "# Classifieur bayésien"
   ]
  },
  {
   "cell_type": "code",
   "execution_count": 117,
   "metadata": {},
   "outputs": [
    {
     "data": {
      "text/html": [
       "<div>\n",
       "<style scoped>\n",
       "    .dataframe tbody tr th:only-of-type {\n",
       "        vertical-align: middle;\n",
       "    }\n",
       "\n",
       "    .dataframe tbody tr th {\n",
       "        vertical-align: top;\n",
       "    }\n",
       "\n",
       "    .dataframe thead th {\n",
       "        text-align: right;\n",
       "    }\n",
       "</style>\n",
       "<table border=\"1\" class=\"dataframe\">\n",
       "  <thead>\n",
       "    <tr style=\"text-align: right;\">\n",
       "      <th></th>\n",
       "      <th>lightness</th>\n",
       "      <th>width</th>\n",
       "      <th>species</th>\n",
       "    </tr>\n",
       "  </thead>\n",
       "  <tbody>\n",
       "    <tr>\n",
       "      <th>0</th>\n",
       "      <td>9.710457</td>\n",
       "      <td>8.673699</td>\n",
       "      <td>0</td>\n",
       "    </tr>\n",
       "    <tr>\n",
       "      <th>1</th>\n",
       "      <td>6.528089</td>\n",
       "      <td>7.330887</td>\n",
       "      <td>0</td>\n",
       "    </tr>\n",
       "    <tr>\n",
       "      <th>2</th>\n",
       "      <td>1.770695</td>\n",
       "      <td>7.599677</td>\n",
       "      <td>0</td>\n",
       "    </tr>\n",
       "    <tr>\n",
       "      <th>3</th>\n",
       "      <td>4.819293</td>\n",
       "      <td>7.328198</td>\n",
       "      <td>0</td>\n",
       "    </tr>\n",
       "    <tr>\n",
       "      <th>4</th>\n",
       "      <td>6.769638</td>\n",
       "      <td>8.575629</td>\n",
       "      <td>0</td>\n",
       "    </tr>\n",
       "  </tbody>\n",
       "</table>\n",
       "</div>"
      ],
      "text/plain": [
       "   lightness     width  species\n",
       "0   9.710457  8.673699        0\n",
       "1   6.528089  7.330887        0\n",
       "2   1.770695  7.599677        0\n",
       "3   4.819293  7.328198        0\n",
       "4   6.769638  8.575629        0"
      ]
     },
     "execution_count": 117,
     "metadata": {},
     "output_type": "execute_result"
    }
   ],
   "source": [
    "import pandas as pa\n",
    "import numpy as np\n",
    "\n",
    "dataset = pa.read_csv(\"https://www.labri.fr/perso/zemmari/datasets/salmon_seabass.csv\", sep=\";\")\n",
    "df = pa.DataFrame(dataset)\n",
    "\n",
    "df.head()"
   ]
  },
  {
   "cell_type": "code",
   "execution_count": 118,
   "metadata": {},
   "outputs": [
    {
     "name": "stdout",
     "output_type": "stream",
     "text": [
      "Saumon : 1000 Bar : 500\n"
     ]
    }
   ],
   "source": [
    "# class = data type\n",
    "# col `species` is class\n",
    "# 0 : il s'agit d'un saumon\n",
    "# 1 : il s'agit d'un bar\n",
    "\n",
    "sizeVTSaumon = np.count_nonzero(df[\"species\"] == 0)\n",
    "sizeVTBar = np.count_nonzero(df[\"species\"] == 1)\n",
    "\n",
    "print(\"Saumon :\", sizeVTSaumon, \"Bar :\", sizeVTBar)"
   ]
  },
  {
   "cell_type": "markdown",
   "metadata": {},
   "source": [
    "## Exercice 1"
   ]
  },
  {
   "cell_type": "code",
   "execution_count": 119,
   "metadata": {},
   "outputs": [],
   "source": [
    "data = df.sample(frac=1)"
   ]
  },
  {
   "cell_type": "code",
   "execution_count": 120,
   "metadata": {},
   "outputs": [],
   "source": [
    "X = data[\"width\"]\n",
    "Y = data[\"species\"]"
   ]
  },
  {
   "cell_type": "code",
   "execution_count": 121,
   "metadata": {},
   "outputs": [
    {
     "name": "stdout",
     "output_type": "stream",
     "text": [
      "1200 80.0%\n",
      "300 20.0%\n"
     ]
    }
   ],
   "source": [
    "from sklearn.model_selection import train_test_split\n",
    "\n",
    "X_train, X_test, Y_train, Y_test = train_test_split(X, Y, test_size=0.2, random_state=1)\n",
    "print(len(X_train), str(len(X_train) * 100 / len(X)) + \"%\")\n",
    "print(len(X_test), str(len(X_test) * 100 / len(X)) + \"%\")"
   ]
  },
  {
   "cell_type": "markdown",
   "metadata": {},
   "source": [
    "### Classifieur ML"
   ]
  },
  {
   "cell_type": "code",
   "execution_count": 122,
   "metadata": {},
   "outputs": [
    {
     "name": "stdout",
     "output_type": "stream",
     "text": [
      "8.038518912974792 12.033448089823104 0.9692746485968268 2.0373566187198517\n"
     ]
    }
   ],
   "source": [
    "# mean is average in statistics (la moyenne)\n",
    "meanSaumon = np.mean(X_train[Y_train == 0])\n",
    "meanBar = np.mean(X_train[Y_train == 1])\n",
    "\n",
    "# l'écart type = standard deviation, the variance : a measure of the spread of a distribution, of the array elements.\n",
    "stdSaumon = np.std(X_train[Y_train == 0], 0)\n",
    "stdBar = np.std(X_train[Y_train == 1], 0)\n",
    "print(meanSaumon, meanBar, stdSaumon, stdBar)"
   ]
  },
  {
   "cell_type": "code",
   "execution_count": 123,
   "metadata": {},
   "outputs": [
    {
     "data": {
      "text/plain": [
       "<matplotlib.collections.PathCollection at 0x7f4f14dd50a0>"
      ]
     },
     "execution_count": 123,
     "metadata": {},
     "output_type": "execute_result"
    },
    {
     "data": {
      "image/png": "[encoded data removed]",
      "text/plain": [
       "<Figure size 432x288 with 1 Axes>"
      ]
     },
     "metadata": {
      "needs_background": "light"
     },
     "output_type": "display_data"
    }
   ],
   "source": [
    "%matplotlib inline\n",
    "import matplotlib.pyplot as plt\n",
    "import scipy.stats as ss\n",
    "norm = ss.norm # normal low package\n",
    "\n",
    "x = np.linspace(0, 25, 100)\n",
    "\n",
    "yn = norm.pdf(x, meanSaumon, stdSaumon)\n",
    "plt.plot(x, yn, c=\"red\")\n",
    "\n",
    "yn = norm.pdf(x, meanBar, stdBar)\n",
    "plt.plot(x, yn, c=\"yellow\")\n",
    "\n",
    "plt.scatter(9.75, norm.pdf(9.75, meanBar, stdBar), c=\"green\")"
   ]
  },
  {
   "cell_type": "markdown",
   "metadata": {},
   "source": [
    "- La frontière de décision est 9.75"
   ]
  },
  {
   "cell_type": "code",
   "execution_count": 124,
   "metadata": {},
   "outputs": [
    {
     "name": "stdout",
     "output_type": "stream",
     "text": [
      "Bar\n"
     ]
    }
   ],
   "source": [
    "width = 12\n",
    "if norm.pdf(width, meanSaumon, stdSaumon) > norm.pdf(width, meanBar, stdBar) :\n",
    "  print(\"Saumon\")\n",
    "else:\n",
    "  print(\"Bar\")"
   ]
  },
  {
   "cell_type": "markdown",
   "metadata": {},
   "source": [
    "- Un poisson de longueur 12 est un bar"
   ]
  },
  {
   "cell_type": "code",
   "execution_count": 125,
   "metadata": {},
   "outputs": [
    {
     "name": "stdout",
     "output_type": "stream",
     "text": [
      "[[188  14]\n",
      " [  8  90]]\n",
      "92.67%\n"
     ]
    }
   ],
   "source": [
    "from sklearn.metrics import confusion_matrix\n",
    "\n",
    "Y_pred = [norm.pdf(x, meanSaumon, stdSaumon) < norm.pdf(x, meanBar, stdBar) for x in X_test]\n",
    "\n",
    "cm = confusion_matrix(Y_test, Y_pred)\n",
    "print(cm)\n",
    "acc = np.sum(np.diag(cm))/np.sum(cm)\n",
    "\n",
    "print(\"{:.2%}\".format(acc))"
   ]
  },
  {
   "cell_type": "markdown",
   "metadata": {},
   "source": [
    "### Classifieur MAP"
   ]
  },
  {
   "cell_type": "markdown",
   "metadata": {},
   "source": [
    "la vraisemblance de l c'est $\\mathbb{P}(l| saumon)$\n",
    "\n",
    "la probabilités a posteriori (map) = le plus grand entre $\\mathbb{P}(saumon|l)=\\frac{\\mathbb{P}(l| saumon) \\cdot\\mathbb{P}(saumon)}{\\mathbb{P}(l)}$ et $\\frac{\\mathbb{P}(l|bar) \\cdot\\mathbb{P}(bar)}{\\mathbb{P}(l)}$ donc le plus grand entre $\\mathbb{P}(l| saumon) \\cdot\\mathbb{P}(saumon)$ et $\\mathbb{P}(l|bar) \\cdot\\mathbb{P}(bar)$"
   ]
  },
  {
   "cell_type": "markdown",
   "metadata": {},
   "source": [
    "loi normal :\n",
    "$$\n",
    "\\sigma = std\\\\\n",
    "\\mu = mean\\\\\n",
    "f(x)=\\frac{1}{\\sigma\\sqrt{2\\pi}}e^{-\\frac{1}{2}(\\frac{x-\\mu}{\\sigma})^2}\n",
    "$$"
   ]
  },
  {
   "cell_type": "markdown",
   "metadata": {},
   "source": [
    "fonctions de vraisemblance :\n",
    "$$f(x|saumon)=\\frac{1}{\\sqrt{2\\pi}}e^{-\\frac{(x-\\mu)^2}{2*\\sigma}}$$\n",
    "$$f(x|bar)=\\frac{1}{2\\sqrt{2\\pi}}e^{-\\frac{(x-\\mu)^2}{2*\\sigma}}$$"
   ]
  },
  {
   "cell_type": "code",
   "execution_count": 126,
   "metadata": {},
   "outputs": [],
   "source": [
    "# N(mean, std)\n",
    "# Saumon : N(5, 1)\n",
    "# Bar : N(10, 4)\n",
    "def classify(x):\n",
    "  vraisemblanceSaumon = (1/(np.sqrt(2*np.pi)))*np.exp((-(x-meanSaumon)**2)/(2 * stdSaumon))\n",
    "  vraisemblanceBar =  (1/(2*np.sqrt(2*np.pi)))*np.exp((-(x-meanBar)**2)/(2 * stdBar))\n",
    "\n",
    "  probaSaumon = 2/3\n",
    "  probaBar = 1/3\n",
    "\n",
    "  return vraisemblanceSaumon * probaSaumon < vraisemblanceBar * probaBar\n"
   ]
  },
  {
   "cell_type": "code",
   "execution_count": 127,
   "metadata": {},
   "outputs": [
    {
     "name": "stdout",
     "output_type": "stream",
     "text": [
      "Bar\n"
     ]
    }
   ],
   "source": [
    "if classify(12):\n",
    "  print(\"Bar\")\n",
    "else:\n",
    "  print(\"Saumon\")"
   ]
  },
  {
   "cell_type": "code",
   "execution_count": 128,
   "metadata": {},
   "outputs": [
    {
     "name": "stdout",
     "output_type": "stream",
     "text": [
      "[[193   9]\n",
      " [ 11  87]]\n",
      "93.33%\n"
     ]
    }
   ],
   "source": [
    "Y_pred = [classify(x) for x in X_test.values]\n",
    "\n",
    "cm = confusion_matrix(Y_test.values, Y_pred)\n",
    "print(cm)\n",
    "acc = np.sum(np.diag(cm))/np.sum(cm)\n",
    "\n",
    "print(\"{:.2%}\".format(acc))"
   ]
  },
  {
   "cell_type": "markdown",
   "metadata": {},
   "source": [
    "## Exercice 2"
   ]
  },
  {
   "cell_type": "code",
   "execution_count": 129,
   "metadata": {},
   "outputs": [
    {
     "name": "stdout",
     "output_type": "stream",
     "text": [
      "1200 80.0%\n",
      "300 20.0%\n"
     ]
    }
   ],
   "source": [
    "X = data[[\"width\", \"lightness\"]]\n",
    "Y = data[\"species\"]\n",
    "\n",
    "X_train, X_test, Y_train, Y_test = train_test_split(X, Y, test_size=0.2, random_state=1)\n",
    "print(len(X_train), str(len(X_train) * 100 / len(X)) + \"%\")\n",
    "print(len(X_test), str(len(X_test) * 100 / len(X)) + \"%\")"
   ]
  },
  {
   "cell_type": "markdown",
   "metadata": {},
   "source": [
    "### Classifieur ML"
   ]
  },
  {
   "cell_type": "code",
   "execution_count": 130,
   "metadata": {},
   "outputs": [
    {
     "name": "stdout",
     "output_type": "stream",
     "text": [
      "width        8.038519\n",
      "lightness    4.975670\n",
      "dtype: float64 width        12.033448\n",
      "lightness    10.765521\n",
      "dtype: float64 width        0.969275\n",
      "lightness    1.851541\n",
      "dtype: float64 width        2.037357\n",
      "lightness    3.809547\n",
      "dtype: float64\n"
     ]
    }
   ],
   "source": [
    "# mean is average in statistics (la moyenne)\n",
    "meanSaumon = np.mean(X_train[Y_train == 0])\n",
    "meanBar = np.mean(X_train[Y_train == 1])\n",
    "\n",
    "# l'écart type = standard deviation, the sqrt variance : a measure of the spread of a distribution, of the array elements.\n",
    "stdSaumon = np.std(X_train[Y_train == 0], 0)\n",
    "stdBar = np.std(X_train[Y_train == 1], 0)\n",
    "\n",
    "print(meanSaumon, meanBar, stdSaumon, stdBar)"
   ]
  },
  {
   "cell_type": "code",
   "execution_count": 131,
   "metadata": {},
   "outputs": [],
   "source": [
    "probas = [len(Y_train.values[Y_train.values == 0]) / len(Y_train.values), len(Y_train.values[Y_train.values == 1]) / len(Y_train.values)]\n",
    "\n",
    "def predict(item):\n",
    "  p_s = 1 * norm.pdf(item[\"width\"], meanSaumon[\"width\"], stdSaumon[\"width\"])\n",
    "  p_b = 1 * norm.pdf(item[\"width\"], meanBar[\"width\"], stdBar[\"width\"])\n",
    "\n",
    "  p_s *= norm.pdf(item[\"lightness\"], meanSaumon[\"lightness\"], stdSaumon[\"lightness\"])\n",
    "  p_b *= norm.pdf(item[\"lightness\"], meanBar[\"lightness\"], stdBar[\"lightness\"])\n",
    "\n",
    "  if p_s > p_b :\n",
    "    return 0\n",
    "  return 1"
   ]
  },
  {
   "cell_type": "code",
   "execution_count": 132,
   "metadata": {},
   "outputs": [
    {
     "data": {
      "text/plain": [
       "1"
      ]
     },
     "execution_count": 132,
     "metadata": {},
     "output_type": "execute_result"
    }
   ],
   "source": [
    "predict({\n",
    "  \"width\": 1.81,\n",
    "  \"lightness\" : 59\n",
    "})"
   ]
  },
  {
   "cell_type": "code",
   "execution_count": 133,
   "metadata": {},
   "outputs": [
    {
     "name": "stdout",
     "output_type": "stream",
     "text": [
      "Efficiency\n",
      "[[192  10]\n",
      " [  3  95]]\n",
      "95.67%\n"
     ]
    }
   ],
   "source": [
    "print(\"Efficiency\")\n",
    "Y_pred = [predict({\"width\": x[0], \"lightness\": x[1]}) for x in X_test.values]\n",
    "\n",
    "cm = confusion_matrix(Y_test.values, Y_pred)\n",
    "print(cm)\n",
    "acc = np.sum(np.diag(cm))/np.sum(cm)\n",
    "\n",
    "print(\"{:.2%}\".format(acc))"
   ]
  },
  {
   "cell_type": "markdown",
   "metadata": {},
   "source": [
    "### Classifieur MAP"
   ]
  },
  {
   "cell_type": "code",
   "execution_count": 134,
   "metadata": {},
   "outputs": [],
   "source": [
    "def classify2(item):\n",
    "  probas = [len(Y_train.values[Y_train.values == 0]) / len(Y_train.values), len(Y_train.values[Y_train.values == 1]) / len(Y_train.values)]\n",
    "\n",
    "  p_s = 1 * norm.pdf(item[\"width\"], meanSaumon[\"width\"], stdSaumon[\"width\"])\n",
    "  p_b = 1 * norm.pdf(item[\"width\"], meanBar[\"width\"], stdBar[\"width\"])\n",
    "\n",
    "  p_s *= norm.pdf(item[\"lightness\"], meanSaumon[\"lightness\"], stdSaumon[\"lightness\"])\n",
    "  p_b *= norm.pdf(item[\"lightness\"], meanBar[\"lightness\"], stdBar[\"lightness\"])\n",
    "\n",
    "  if probas[0] * p_s > probas[1] * p_b :\n",
    "    return 0\n",
    "  return 1"
   ]
  },
  {
   "cell_type": "code",
   "execution_count": 135,
   "metadata": {},
   "outputs": [
    {
     "name": "stdout",
     "output_type": "stream",
     "text": [
      "Efficiency\n",
      "[[197   5]\n",
      " [  3  95]]\n",
      "97.33%\n"
     ]
    }
   ],
   "source": [
    "from sklearn.metrics import confusion_matrix\n",
    "\n",
    "print(\"Efficiency\")\n",
    "Y_pred = [classify2({\"width\": x[0], \"lightness\": x[1]}) for x in X_test.values]\n",
    "\n",
    "cm = confusion_matrix(Y_test.values, Y_pred)\n",
    "print(cm)\n",
    "acc = np.sum(np.diag(cm))/np.sum(cm)\n",
    "\n",
    "print(\"{:.2%}\".format(acc))"
   ]
  },
  {
   "cell_type": "markdown",
   "metadata": {},
   "source": [
    "## Exercice 3"
   ]
  },
  {
   "cell_type": "code",
   "execution_count": 136,
   "metadata": {},
   "outputs": [
    {
     "data": {
      "text/plain": [
       "GaussianNB()"
      ]
     },
     "execution_count": 136,
     "metadata": {},
     "output_type": "execute_result"
    }
   ],
   "source": [
    "from sklearn.naive_bayes import GaussianNB\n",
    "nb = GaussianNB()\n",
    "nb.fit(X_train.values, Y_train.values)"
   ]
  },
  {
   "cell_type": "code",
   "execution_count": 137,
   "metadata": {},
   "outputs": [
    {
     "name": "stdout",
     "output_type": "stream",
     "text": [
      "[[197   5]\n",
      " [  3  95]]\n",
      "97.33%\n"
     ]
    }
   ],
   "source": [
    "Y_pred = nb.predict(X_test.values)\n",
    "\n",
    "cm = confusion_matrix(Y_test.values, Y_pred)\n",
    "print(cm)\n",
    "\n",
    "from sklearn.metrics import accuracy_score\n",
    "print(\"{:.2%}\".format(accuracy_score(Y_test, Y_pred)))"
   ]
  },
  {
   "cell_type": "code",
   "execution_count": 138,
   "metadata": {},
   "outputs": [
    {
     "name": "stdout",
     "output_type": "stream",
     "text": [
      "Bar\n"
     ]
    }
   ],
   "source": [
    "predF = nb.predict([[1.81, 59]])\n",
    "\n",
    "if predF[0]:\n",
    "  print(\"Bar\")\n",
    "else:\n",
    "  print(\"Saumon\")"
   ]
  }
 ],
 "metadata": {
  "interpreter": {
   "hash": "31f2aee4e71d21fbe5cf8b01ff0e069b9275f58929596ceb00d14d90e3e16cd6"
  },
  "kernelspec": {
   "display_name": "Python 3.8.10 64-bit",
   "name": "python3"
  },
  "language_info": {
   "codemirror_mode": {
    "name": "ipython",
    "version": 3
   },
   "file_extension": ".py",
   "mimetype": "text/x-python",
   "name": "python",
   "nbconvert_exporter": "python",
   "pygments_lexer": "ipython3",
   "version": "3.8.10"
  },
  "orig_nbformat": 4
 },
 "nbformat": 4,
 "nbformat_minor": 2
}

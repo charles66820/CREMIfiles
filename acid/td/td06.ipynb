{
 "cells": [
  {
   "cell_type": "markdown",
   "metadata": {},
   "source": [
    "# Analyse en Composantes Principales (ACP)"
   ]
  },
  {
   "cell_type": "code",
   "execution_count": 2,
   "metadata": {},
   "outputs": [],
   "source": [
    "import pandas as pa\n",
    "import numpy as np"
   ]
  },
  {
   "cell_type": "code",
   "execution_count": 3,
   "metadata": {},
   "outputs": [],
   "source": [
    "\n",
    "def droite2DVd(x, vd, point):\n",
    "  # vd : la droite de vecteur directeur\n",
    "  y = None\n",
    "\n",
    "  y = (((x - point[0]) * vd[1]) / vd[0]) + point[1]\n",
    "\n",
    "  return y # ordonnées des points"
   ]
  },
  {
   "cell_type": "code",
   "execution_count": 4,
   "metadata": {},
   "outputs": [],
   "source": [
    "vd = [2, 1]\n",
    "point = (3, 4)\n",
    "x = 8"
   ]
  },
  {
   "cell_type": "code",
   "execution_count": 5,
   "metadata": {},
   "outputs": [
    {
     "data": {
      "text/plain": [
       "[<matplotlib.lines.Line2D at 0x7fbcbad5eee0>]"
      ]
     },
     "execution_count": 5,
     "metadata": {},
     "output_type": "execute_result"
    },
    {
     "data": {
      "image/png": "[encoded data removed]",
      "text/plain": [
       "<Figure size 432x288 with 1 Axes>"
      ]
     },
     "metadata": {
      "needs_background": "light"
     },
     "output_type": "display_data"
    }
   ],
   "source": [
    "# droite2DVd() test\n",
    "%matplotlib inline\n",
    "import matplotlib.pyplot as plt\n",
    "\n",
    "plt.scatter(point[0], point[1], c=\"red\")\n",
    "plt.scatter(point[0] + vd[0], point[1] + vd[1], c=\"blue\")\n",
    "plt.scatter(x, droite2DVd(x, vd, point), c=\"green\")\n",
    "\n",
    "X = np.linspace(-25, 25, 100)\n",
    "Y = [droite2DVd(x, vd, point) for x in X]\n",
    "plt.plot(X, Y, c=\"m\")\n"
   ]
  },
  {
   "cell_type": "markdown",
   "metadata": {},
   "source": [
    "## Exercice 1"
   ]
  },
  {
   "cell_type": "code",
   "execution_count": null,
   "metadata": {},
   "outputs": [],
   "source": [
    "dataset = pa.read_csv(\"https://www.labri.fr/perso/zemmari/datasets/salmon_seabass.csv\", sep=\";\")\n",
    "df = pa.DataFrame(dataset)"
   ]
  },
  {
   "cell_type": "code",
   "execution_count": null,
   "metadata": {},
   "outputs": [],
   "source": [
    "\n",
    "def CalculACP(echantillon):\n",
    "  return # vecteurs propres triés de la plus grande à la plus petite\n",
    "\n",
    "# les vecteurs propres = les variances des axes"
   ]
  }
 ],
 "metadata": {
  "interpreter": {
   "hash": "31f2aee4e71d21fbe5cf8b01ff0e069b9275f58929596ceb00d14d90e3e16cd6"
  },
  "kernelspec": {
   "display_name": "Python 3.8.10 64-bit",
   "name": "python3"
  },
  "language_info": {
   "codemirror_mode": {
    "name": "ipython",
    "version": 3
   },
   "file_extension": ".py",
   "mimetype": "text/x-python",
   "name": "python",
   "nbconvert_exporter": "python",
   "pygments_lexer": "ipython3",
   "version": "3.8.10"
  },
  "orig_nbformat": 4
 },
 "nbformat": 4,
 "nbformat_minor": 2
}

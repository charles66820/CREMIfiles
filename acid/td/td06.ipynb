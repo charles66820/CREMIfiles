{
 "cells": [
  {
   "cell_type": "markdown",
   "metadata": {},
   "source": [
    "# Analyse en Composantes Principales (ACP)"
   ]
  },
  {
   "cell_type": "code",
   "execution_count": 33,
   "metadata": {},
   "outputs": [],
   "source": [
    "import pandas as pa\n",
    "import numpy as np\n",
    "import collections"
   ]
  },
  {
   "cell_type": "code",
   "execution_count": 34,
   "metadata": {},
   "outputs": [],
   "source": [
    "\n",
    "def droite2DVd(x, vd, point):\n",
    "  # vd : la droite de vecteur directeur\n",
    "  y = None\n",
    "\n",
    "  λ = x - point[0]\n",
    "\n",
    "  y = ((λ * vd[1]) / vd[0]) + point[1]\n",
    "\n",
    "  return y # ordonnées des points"
   ]
  },
  {
   "cell_type": "code",
   "execution_count": 35,
   "metadata": {},
   "outputs": [],
   "source": [
    "vd = [2, 1]\n",
    "point = (3, 4)\n",
    "x = 8"
   ]
  },
  {
   "cell_type": "code",
   "execution_count": 36,
   "metadata": {},
   "outputs": [
    {
     "data": {
      "text/plain": [
       "[<matplotlib.lines.Line2D at 0x7f728b4f3070>]"
      ]
     },
     "execution_count": 36,
     "metadata": {},
     "output_type": "execute_result"
    },
    {
     "data": {
      "image/png": "[encoded data removed]",
      "text/plain": [
       "<Figure size 432x288 with 1 Axes>"
      ]
     },
     "metadata": {
      "needs_background": "light"
     },
     "output_type": "display_data"
    }
   ],
   "source": [
    "# droite2DVd() test\n",
    "%matplotlib inline\n",
    "import matplotlib.pyplot as plt\n",
    "\n",
    "plt.scatter(point[0], point[1], c=\"red\")\n",
    "plt.scatter(point[0] + vd[0], point[1] + vd[1], c=\"blue\")\n",
    "plt.scatter(x, droite2DVd(x, vd, point), c=\"green\")\n",
    "\n",
    "X = np.linspace(-25, 25, 100)\n",
    "Y = [droite2DVd(x, vd, point) for x in X]\n",
    "plt.plot(X, Y, c=\"m\")\n"
   ]
  },
  {
   "cell_type": "markdown",
   "metadata": {},
   "source": [
    "## Exercice 1"
   ]
  },
  {
   "cell_type": "code",
   "execution_count": 37,
   "metadata": {},
   "outputs": [],
   "source": [
    "dataset = pa.read_csv(\"https://www.labri.fr/perso/zemmari/datasets/salmon_seabass.csv\", sep=\";\")\n",
    "df = pa.DataFrame(dataset)"
   ]
  },
  {
   "cell_type": "code",
   "execution_count": 38,
   "metadata": {},
   "outputs": [],
   "source": [
    "dataX = dataset[[\"lightness\", \"width\"]]\n",
    "dataY = dataset[\"species\"]"
   ]
  },
  {
   "cell_type": "code",
   "execution_count": 39,
   "metadata": {},
   "outputs": [],
   "source": [
    "\n",
    "def CalculACP(X):\n",
    "  # 1. calcule la moyenne de l'échantillon\n",
    "  means = np.mean(X)\n",
    "\n",
    "  # 2. centrage des données\n",
    "  Z = X - means\n",
    "\n",
    "  # 3. calcule la \"scatter matrix\" avec le theorem de la saucisse le retour\n",
    "  teacherChange = False\n",
    "  if (teacherChange):\n",
    "    X = Z / np.var(X)\n",
    "    S = (len(X) - 1) * X.cov()\n",
    "  else:\n",
    "    S = len(X) * X.cov()\n",
    "\n",
    "  # 4. calcule des vecteurs propres et des valeurs propres de S\n",
    "  # lambdas or λ (le valeur propre) and vec or E (vecteur propre)\n",
    "  lambdas, vec = np.linalg.eig(S)\n",
    "\n",
    "  # tris\n",
    "  res = dict(zip(lambdas, vec))\n",
    "  res = collections.OrderedDict(sorted(res.items(), reverse=True))\n",
    "\n",
    "  return np.array(list(res.values())) # vecteurs propres triés de la plus grande à la plus petite\n",
    "\n",
    "# les vecteurs propres = les variances des axes"
   ]
  },
  {
   "cell_type": "code",
   "execution_count": 40,
   "metadata": {},
   "outputs": [
    {
     "name": "stdout",
     "output_type": "stream",
     "text": [
      "Vecteur propre : [[ 0.91122236 -0.41191481]\n",
      " [ 0.41191481  0.91122236]]\n"
     ]
    }
   ],
   "source": [
    "E = CalculACP(dataX)\n",
    "\n",
    "print(\"Vecteur propre :\", E)"
   ]
  },
  {
   "cell_type": "code",
   "execution_count": 41,
   "metadata": {},
   "outputs": [],
   "source": [
    "# W matrice de projection\n",
    "def Projection(W, X):\n",
    "  # calcule de Z\n",
    "  means = np.mean(X) # calcule la moyenne de l'échantillon\n",
    "  Z = X - means # centrage des données\n",
    "\n",
    "  # 6. Le vecteur recherché est\n",
    "  y = np.dot(W.T, Z.T) # E.T・z\n",
    "\n",
    "  return y # projection de X."
   ]
  },
  {
   "cell_type": "code",
   "execution_count": 42,
   "metadata": {},
   "outputs": [
    {
     "name": "stdout",
     "output_type": "stream",
     "text": [
      "[0.91122236 0.41191481]\n",
      "[-0.41191481  0.91122236]\n"
     ]
    },
    {
     "data": {
      "text/plain": [
       "array([ 2.25100964, -1.2019596 , -5.42628467, ...,  9.45037968,\n",
       "        2.56895816,  0.53158506])"
      ]
     },
     "execution_count": 42,
     "metadata": {},
     "output_type": "execute_result"
    }
   ],
   "source": [
    "# 5. E (vecteur propre)\n",
    "E = CalculACP(dataX)\n",
    "\n",
    "# On prend le premier qui a la plus grosse valeur propre\n",
    "e1 = E[:,0]\n",
    "e2 = E[:,1]\n",
    "print(e1)\n",
    "print(e2)\n",
    "\n",
    "prjY = Projection(e1, dataX)\n",
    "prjY"
   ]
  },
  {
   "cell_type": "code",
   "execution_count": 43,
   "metadata": {},
   "outputs": [
    {
     "data": {
      "text/plain": [
       "<matplotlib.collections.PathCollection at 0x7f728b4d0760>"
      ]
     },
     "execution_count": 43,
     "metadata": {},
     "output_type": "execute_result"
    },
    {
     "data": {
      "image/png": "[encoded data removed]",
      "text/plain": [
       "<Figure size 432x288 with 1 Axes>"
      ]
     },
     "metadata": {
      "needs_background": "light"
     },
     "output_type": "display_data"
    }
   ],
   "source": [
    "import matplotlib.pyplot as plt\n",
    "means = np.mean(dataX)\n",
    "plt.scatter(dataX[\"lightness\"], dataX[\"width\"])\n",
    "plt.scatter(means[\"lightness\"], means[\"width\"])"
   ]
  },
  {
   "cell_type": "code",
   "execution_count": 44,
   "metadata": {},
   "outputs": [
    {
     "name": "stdout",
     "output_type": "stream",
     "text": [
      "10.17020098592207\n"
     ]
    },
    {
     "data": {
      "text/plain": [
       "<matplotlib.collections.PathCollection at 0x7f728b42bcd0>"
      ]
     },
     "execution_count": 44,
     "metadata": {},
     "output_type": "execute_result"
    },
    {
     "data": {
      "image/png": "[encoded data removed]",
      "text/plain": [
       "<Figure size 432x288 with 1 Axes>"
      ]
     },
     "metadata": {
      "needs_background": "light"
     },
     "output_type": "display_data"
    }
   ],
   "source": [
    "import matplotlib.pyplot as plt\n",
    "\n",
    "plt.scatter(prjY, np.ones(len(prjY)))\n",
    "origin = np.dot(e1.T, means.T)\n",
    "print(origin)\n",
    "plt.scatter(origin, 1)"
   ]
  },
  {
   "cell_type": "code",
   "execution_count": 45,
   "metadata": {},
   "outputs": [
    {
     "name": "stdout",
     "output_type": "stream",
     "text": [
      "1200 1200.0%\n",
      "300 300.0%\n"
     ]
    }
   ],
   "source": [
    "from sklearn.model_selection import train_test_split\n",
    "\n",
    "X_train, X_test, Y_train, Y_test = train_test_split(dataX, dataY, test_size=0.2, random_state=1)\n",
    "print(len(X_train), str(len(X_train) * 100 / len(X)) + \"%\")\n",
    "print(len(X_test), str(len(X_test) * 100 / len(X)) + \"%\")"
   ]
  },
  {
   "cell_type": "code",
   "execution_count": 46,
   "metadata": {},
   "outputs": [],
   "source": [
    "from sklearn.decomposition import PCA\n",
    "# ACP train\n",
    "pca = PCA(n_components=1)\n",
    "pca.fit(X_train.values)\n",
    "prjY_train = pca.transform(X_train.values)\n",
    "\n",
    "# ACP test\n",
    "pca = PCA(n_components=1)\n",
    "pca.fit(X_test.values)\n",
    "prjY_test = pca.transform(X_test.values)"
   ]
  },
  {
   "cell_type": "code",
   "execution_count": 47,
   "metadata": {},
   "outputs": [],
   "source": [
    "from sklearn.metrics import confusion_matrix\n",
    "from sklearn.metrics import accuracy_score"
   ]
  },
  {
   "cell_type": "markdown",
   "metadata": {},
   "source": [
    "### MAP 2D vs MAP ACP"
   ]
  },
  {
   "cell_type": "code",
   "execution_count": 48,
   "metadata": {},
   "outputs": [
    {
     "name": "stdout",
     "output_type": "stream",
     "text": [
      "MAP 2D :\n",
      "[[197   5]\n",
      " [  9  89]]\n",
      "95.33%\n"
     ]
    }
   ],
   "source": [
    "print(\"MAP 2D :\")\n",
    "from sklearn.naive_bayes import GaussianNB\n",
    "nb = GaussianNB()\n",
    "nb.fit(X_train.values, Y_train)\n",
    "\n",
    "# Evaluate\n",
    "Y_pred = nb.predict(X_test.values)\n",
    "\n",
    "cm = confusion_matrix(Y_test, Y_pred)\n",
    "print(cm)\n",
    "\n",
    "print(\"{:.2%}\".format(accuracy_score(Y_test, Y_pred)))"
   ]
  },
  {
   "cell_type": "code",
   "execution_count": 49,
   "metadata": {},
   "outputs": [
    {
     "name": "stdout",
     "output_type": "stream",
     "text": [
      "MAP ACP :\n",
      "[[195   7]\n",
      " [ 14  84]]\n",
      "93.00%\n"
     ]
    }
   ],
   "source": [
    "print(\"MAP ACP :\")\n",
    "from sklearn.naive_bayes import GaussianNB\n",
    "nb = GaussianNB()\n",
    "nb.fit(prjY_train, Y_train)\n",
    "\n",
    "# Evaluate\n",
    "Y_pred = nb.predict(prjY_test)\n",
    "\n",
    "cm = confusion_matrix(Y_test, Y_pred)\n",
    "print(cm)\n",
    "\n",
    "print(\"{:.2%}\".format(accuracy_score(Y_test, Y_pred)))"
   ]
  },
  {
   "cell_type": "markdown",
   "metadata": {},
   "source": [
    "### k-nn 2D vs k-nn ACP"
   ]
  },
  {
   "cell_type": "code",
   "execution_count": 50,
   "metadata": {},
   "outputs": [
    {
     "name": "stdout",
     "output_type": "stream",
     "text": [
      "k-nn 2D :\n",
      "[[197   5]\n",
      " [ 11  87]]\n",
      "94.67%\n"
     ]
    }
   ],
   "source": [
    "print(\"k-nn 2D :\")\n",
    "from sklearn.neighbors import KNeighborsClassifier\n",
    "k = 5\n",
    "knn = KNeighborsClassifier(n_neighbors=k, metric='euclidean')\n",
    "knn.fit(X_train.values, Y_train)\n",
    "\n",
    "# Evaluate\n",
    "Y_pred = knn.predict(X_test.values)\n",
    "\n",
    "cm = confusion_matrix(Y_test, Y_pred)\n",
    "print(cm)\n",
    "\n",
    "print(\"{:.2%}\".format(accuracy_score(Y_test, Y_pred)))"
   ]
  },
  {
   "cell_type": "code",
   "execution_count": 51,
   "metadata": {},
   "outputs": [
    {
     "name": "stdout",
     "output_type": "stream",
     "text": [
      "k-nn ACP :\n",
      "[[192  10]\n",
      " [ 14  84]]\n",
      "92.00%\n"
     ]
    }
   ],
   "source": [
    "print(\"k-nn ACP :\")\n",
    "from sklearn.neighbors import KNeighborsClassifier\n",
    "k = 5\n",
    "knn = KNeighborsClassifier(n_neighbors=k, metric='euclidean')\n",
    "knn.fit(prjY_train, Y_train)\n",
    "\n",
    "# Evaluate\n",
    "Y_pred = knn.predict(prjY_test)\n",
    "\n",
    "cm = confusion_matrix(Y_test, Y_pred)\n",
    "print(cm)\n",
    "\n",
    "print(\"{:.2%}\".format(accuracy_score(Y_test, Y_pred)))"
   ]
  },
  {
   "cell_type": "markdown",
   "metadata": {},
   "source": [
    "## Exercice 2"
   ]
  },
  {
   "cell_type": "code",
   "execution_count": 52,
   "metadata": {},
   "outputs": [
    {
     "data": {
      "text/plain": [
       "dict_keys(['data', 'target', 'frame', 'target_names', 'DESCR', 'feature_names', 'filename', 'data_module'])"
      ]
     },
     "execution_count": 52,
     "metadata": {},
     "output_type": "execute_result"
    }
   ],
   "source": [
    "from sklearn.datasets import load_breast_cancer\n",
    "cancer = load_breast_cancer()\n",
    "cancer.keys()"
   ]
  },
  {
   "cell_type": "code",
   "execution_count": 53,
   "metadata": {},
   "outputs": [
    {
     "name": "stdout",
     "output_type": "stream",
     "text": [
      ".. _breast_cancer_dataset:\n",
      "\n",
      "Breast cancer wisconsin (diagnostic) dataset\n",
      "--------------------------------------------\n",
      "\n",
      "**Data Set Characteristics:**\n",
      "\n",
      "    :Number of Instances: 569\n",
      "\n",
      "    :Number of Attributes: 30 numeric, predictive attributes and the class\n",
      "\n",
      "    :Attribute Information:\n",
      "        - radius (mean of distances from center to points on the perimeter)\n",
      "        - texture (standard deviation of gray-scale values)\n",
      "        - perimeter\n",
      "        - area\n",
      "        - smoothness (local variation in radius lengths)\n",
      "        - compactness (perimeter^2 / area - 1.0)\n",
      "        - concavity (severity of concave portions of the contour)\n",
      "        - concave points (number of concave portions of the contour)\n",
      "        - symmetry\n",
      "        - fractal dimension (\"coastline approximation\" - 1)\n",
      "\n",
      "        The mean, standard error, and \"worst\" or largest (mean of the three\n",
      "        worst/largest values) of these features were computed for each image,\n",
      "        resulting in 30 features.  For instance, field 0 is Mean Radius, field\n",
      "        10 is Radius SE, field 20 is Worst Radius.\n",
      "\n",
      "        - class:\n",
      "                - WDBC-Malignant\n",
      "                - WDBC-Benign\n",
      "\n",
      "    :Summary Statistics:\n",
      "\n",
      "    ===================================== ====== ======\n",
      "                                           Min    Max\n",
      "    ===================================== ====== ======\n",
      "    radius (mean):                        6.981  28.11\n",
      "    texture (mean):                       9.71   39.28\n",
      "    perimeter (mean):                     43.79  188.5\n",
      "    area (mean):                          143.5  2501.0\n",
      "    smoothness (mean):                    0.053  0.163\n",
      "    compactness (mean):                   0.019  0.345\n",
      "    concavity (mean):                     0.0    0.427\n",
      "    concave points (mean):                0.0    0.201\n",
      "    symmetry (mean):                      0.106  0.304\n",
      "    fractal dimension (mean):             0.05   0.097\n",
      "    radius (standard error):              0.112  2.873\n",
      "    texture (standard error):             0.36   4.885\n",
      "    perimeter (standard error):           0.757  21.98\n",
      "    area (standard error):                6.802  542.2\n",
      "    smoothness (standard error):          0.002  0.031\n",
      "    compactness (standard error):         0.002  0.135\n",
      "    concavity (standard error):           0.0    0.396\n",
      "    concave points (standard error):      0.0    0.053\n",
      "    symmetry (standard error):            0.008  0.079\n",
      "    fractal dimension (standard error):   0.001  0.03\n",
      "    radius (worst):                       7.93   36.04\n",
      "    texture (worst):                      12.02  49.54\n",
      "    perimeter (worst):                    50.41  251.2\n",
      "    area (worst):                         185.2  4254.0\n",
      "    smoothness (worst):                   0.071  0.223\n",
      "    compactness (worst):                  0.027  1.058\n",
      "    concavity (worst):                    0.0    1.252\n",
      "    concave points (worst):               0.0    0.291\n",
      "    symmetry (worst):                     0.156  0.664\n",
      "    fractal dimension (worst):            0.055  0.208\n",
      "    ===================================== ====== ======\n",
      "\n",
      "    :Missing Attribute Values: None\n",
      "\n",
      "    :Class Distribution: 212 - Malignant, 357 - Benign\n",
      "\n",
      "    :Creator:  Dr. William H. Wolberg, W. Nick Street, Olvi L. Mangasarian\n",
      "\n",
      "    :Donor: Nick Street\n",
      "\n",
      "    :Date: November, 1995\n",
      "\n",
      "This is a copy of UCI ML Breast Cancer Wisconsin (Diagnostic) datasets.\n",
      "https://goo.gl/U2Uwz2\n",
      "\n",
      "Features are computed from a digitized image of a fine needle\n",
      "aspirate (FNA) of a breast mass.  They describe\n",
      "characteristics of the cell nuclei present in the image.\n",
      "\n",
      "Separating plane described above was obtained using\n",
      "Multisurface Method-Tree (MSM-T) [K. P. Bennett, \"Decision Tree\n",
      "Construction Via Linear Programming.\" Proceedings of the 4th\n",
      "Midwest Artificial Intelligence and Cognitive Science Society,\n",
      "pp. 97-101, 1992], a classification method which uses linear\n",
      "programming to construct a decision tree.  Relevant features\n",
      "were selected using an exhaustive search in the space of 1-4\n",
      "features and 1-3 separating planes.\n",
      "\n",
      "The actual linear program used to obtain the separating plane\n",
      "in the 3-dimensional space is that described in:\n",
      "[K. P. Bennett and O. L. Mangasarian: \"Robust Linear\n",
      "Programming Discrimination of Two Linearly Inseparable Sets\",\n",
      "Optimization Methods and Software 1, 1992, 23-34].\n",
      "\n",
      "This database is also available through the UW CS ftp server:\n",
      "\n",
      "ftp ftp.cs.wisc.edu\n",
      "cd math-prog/cpo-dataset/machine-learn/WDBC/\n",
      "\n",
      ".. topic:: References\n",
      "\n",
      "   - W.N. Street, W.H. Wolberg and O.L. Mangasarian. Nuclear feature extraction \n",
      "     for breast tumor diagnosis. IS&T/SPIE 1993 International Symposium on \n",
      "     Electronic Imaging: Science and Technology, volume 1905, pages 861-870,\n",
      "     San Jose, CA, 1993.\n",
      "   - O.L. Mangasarian, W.N. Street and W.H. Wolberg. Breast cancer diagnosis and \n",
      "     prognosis via linear programming. Operations Research, 43(4), pages 570-577, \n",
      "     July-August 1995.\n",
      "   - W.H. Wolberg, W.N. Street, and O.L. Mangasarian. Machine learning techniques\n",
      "     to diagnose breast cancer from fine-needle aspirates. Cancer Letters 77 (1994) \n",
      "     163-171.\n"
     ]
    }
   ],
   "source": [
    "print(cancer.DESCR)"
   ]
  },
  {
   "cell_type": "code",
   "execution_count": 54,
   "metadata": {},
   "outputs": [
    {
     "data": {
      "text/plain": [
       "(569, 30)"
      ]
     },
     "execution_count": 54,
     "metadata": {},
     "output_type": "execute_result"
    }
   ],
   "source": [
    "X = cancer.data\n",
    "Y = cancer.target\n",
    "X.shape"
   ]
  },
  {
   "cell_type": "code",
   "execution_count": 55,
   "metadata": {},
   "outputs": [
    {
     "name": "stdout",
     "output_type": "stream",
     "text": [
      "[[-43.90071234 -51.51071234  60.90928766 ... -61.62531234 -61.43061234\n",
      "  -61.77181234]\n",
      " [-41.32071234 -44.12071234  71.00928766 ... -61.70471234 -61.61571234\n",
      "  -61.80169234]\n",
      " [-42.20071234 -40.64071234  68.10928766 ... -61.64771234 -61.52941234\n",
      "  -61.80313234]\n",
      " ...\n",
      " [-45.29071234 -33.81071234  46.40928766 ... -61.74891234 -61.66891234\n",
      "  -61.81251234]\n",
      " [-41.29071234 -32.56071234  78.20928766 ... -61.62571234 -61.48201234\n",
      "  -61.76671234]\n",
      " [-54.13071234 -37.35071234 -13.97071234 ... -61.89071234 -61.60361234\n",
      "  -61.82032234]]\n",
      "[0 0 0 0 0 0 0 0 0 0 0 0 0 0 0 0 0 0 0 1 1 1 0 0 0 0 0 0 0 0 0 0 0 0 0 0 0\n",
      " 1 0 0 0 0 0 0 0 0 1 0 1 1 1 1 1 0 0 1 0 0 1 1 1 1 0 1 0 0 1 1 1 1 0 1 0 0\n",
      " 1 0 1 0 0 1 1 1 0 0 1 0 0 0 1 1 1 0 1 1 0 0 1 1 1 0 0 1 1 1 1 0 1 1 0 1 1\n",
      " 1 1 1 1 1 1 0 0 0 1 0 0 1 1 1 0 0 1 0 1 0 0 1 0 0 1 1 0 1 1 0 1 1 1 1 0 1\n",
      " 1 1 1 1 1 1 1 1 0 1 1 1 1 0 0 1 0 1 1 0 0 1 1 0 0 1 1 1 1 0 1 1 0 0 0 1 0\n",
      " 1 0 1 1 1 0 1 1 0 0 1 0 0 0 0 1 0 0 0 1 0 1 0 1 1 0 1 0 0 0 0 1 1 0 0 1 1\n",
      " 1 0 1 1 1 1 1 0 0 1 1 0 1 1 0 0 1 0 1 1 1 1 0 1 1 1 1 1 0 1 0 0 0 0 0 0 0\n",
      " 0 0 0 0 0 0 0 1 1 1 1 1 1 0 1 0 1 1 0 1 1 0 1 0 0 1 1 1 1 1 1 1 1 1 1 1 1\n",
      " 1 0 1 1 0 1 0 1 1 1 1 1 1 1 1 1 1 1 1 1 1 0 1 1 1 0 1 0 1 1 1 1 0 0 0 1 1\n",
      " 1 1 0 1 0 1 0 1 1 1 0 1 1 1 1 1 1 1 0 0 0 1 1 1 1 1 1 1 1 1 1 1 0 0 1 0 0\n",
      " 0 1 0 0 1 1 1 1 1 0 1 1 1 1 1 0 1 1 1 0 1 1 0 0 1 1 1 1 1 1 0 1 1 1 1 1 1\n",
      " 1 0 1 1 1 1 1 0 1 1 0 1 1 1 1 1 1 1 1 1 1 1 1 0 1 0 0 1 0 1 1 1 1 1 0 1 1\n",
      " 0 1 0 1 1 0 1 0 1 1 1 1 1 1 1 1 0 0 1 1 1 1 1 1 0 1 1 1 1 1 1 1 1 1 1 0 1\n",
      " 1 1 1 1 1 1 0 1 0 1 1 0 1 1 1 1 1 0 0 1 0 1 0 1 1 1 1 1 0 1 1 0 1 0 1 0 0\n",
      " 1 1 1 0 1 1 1 1 1 1 1 1 1 1 1 0 1 0 0 1 1 1 1 1 1 1 1 1 1 1 1 1 1 1 1 1 1\n",
      " 1 1 1 1 1 1 1 0 0 0 0 0 0 1]\n"
     ]
    }
   ],
   "source": [
    "# centrage des donnée\n",
    "# means = np.mean(X) # calcule la moyenne de l'échantillon\n",
    "# X = X - means # centrage des données\n",
    "\n",
    "print(X)\n",
    "print(Y)"
   ]
  },
  {
   "cell_type": "code",
   "execution_count": 56,
   "metadata": {},
   "outputs": [
    {
     "data": {
      "text/plain": [
       "PCA(n_components=1)"
      ]
     },
     "execution_count": 56,
     "metadata": {},
     "output_type": "execute_result"
    }
   ],
   "source": [
    "from sklearn.decomposition import PCA\n",
    "pca = PCA(n_components=1)\n",
    "pca.fit(X)"
   ]
  },
  {
   "cell_type": "code",
   "execution_count": 57,
   "metadata": {},
   "outputs": [
    {
     "name": "stdout",
     "output_type": "stream",
     "text": [
      "[[ 1.16014257e+03  1.26912244e+03  9.95793889e+02 -4.07180803e+02\n",
      "   9.30341180e+02 -2.11591259e+02  8.21210900e+02 -2.50899776e+01\n",
      "  -1.91292834e+02 -2.38292863e+02  3.04687818e+02  4.24361128e+02\n",
      "   6.34514335e+02  6.30426906e+01 -1.96441210e+02  5.60046828e+01\n",
      "   2.35858120e+02  4.47392780e+02  1.61509345e+03 -1.91621045e+02\n",
      "  -2.85051275e+02 -6.83583952e+02  1.12560459e+02  1.87373312e+03\n",
      "   1.27373066e+03  6.34879769e+02  8.59184126e+00  6.77784526e+02\n",
      "   3.73719881e+02  4.53678089e+02  9.03981279e+02 -1.03689312e+02\n",
      "   5.24945203e+02  1.06217159e+03  4.04385934e+02  4.10049756e+02\n",
      "  -8.06577946e+01 -3.55877850e+02 -1.28973156e+02 -1.70245723e+02\n",
      "  -1.27994761e+02 -4.62028008e+02  8.97027427e+02 -3.43752015e+01\n",
      "  -1.84707363e+02  8.07564573e+02 -7.83838668e+02 -1.66757183e+02\n",
      "  -3.62699507e+02 -2.05111744e+02 -4.30034080e+02 -2.35893530e+02\n",
      "  -4.16469507e+02  5.76360308e+02  1.57404079e+02 -4.48982719e+02\n",
      "   1.34213857e+03  9.09989494e+01 -2.86145436e+02 -7.44091835e+02\n",
      "  -6.16729721e+02 -7.45600808e+02  6.44083862e+01 -6.93961699e+02\n",
      "  -7.42768046e+01  4.51754297e+01 -6.72376704e+02 -4.90879529e+02\n",
      "  -6.87223199e+02 -3.58981873e+02  1.09240105e+03 -7.24662583e+02\n",
      "   8.28581198e+02 -9.55563616e+01 -3.27215523e+02  3.79602387e+02\n",
      "  -2.85278119e+02  8.11390005e+02  9.46865858e+02 -2.99250196e+02\n",
      "  -4.36503939e+02 -2.98362656e+02  2.07740594e+03  6.06824327e+02\n",
      "  -3.78661386e+02  8.38236034e+02 -6.44630843e+01  8.54613799e+02\n",
      "  -3.60500123e+02 -6.67916271e+01 -6.19424844e+01 -4.73708321e+00\n",
      "  -9.65562522e+01 -2.07477212e+02  1.50753037e+02  1.06220376e+03\n",
      "  -4.36373547e+02 -6.28769296e+02 -4.42121250e+02 -5.31055528e+01\n",
      "  -1.50970253e+01 -8.63142308e+02 -3.88027039e+02 -6.31210194e+02\n",
      "  -5.75375594e+02 -1.10478362e+02 -4.33855875e+02 -3.87258589e+02\n",
      "   1.71641922e+03 -4.45594260e+02 -6.29930932e+02 -3.93495618e+02\n",
      "  -1.59550090e+02 -6.00774542e+02 -7.32350558e+02 -3.67752309e+02\n",
      "  -7.36744006e+02  1.98250721e+02  4.02217870e+02  4.95886901e+02\n",
      "  -4.48932547e+02  7.93467305e+02  1.60479840e+03 -1.23524596e+02\n",
      "  -2.66553320e+02 -1.67747128e+02 -7.06506347e+01  8.15324159e+02\n",
      "  -9.02469696e+01  8.85999273e+02 -3.91368534e+02  2.84948132e+02\n",
      "   3.32775688e+02  9.11666092e+01  8.26132127e+02 -2.72443965e+02\n",
      "  -4.06046033e+02 -4.92118676e+02  9.36953428e+01 -5.23163457e+02\n",
      "  -6.52274806e+02  3.85449591e+02 -4.57449129e+02 -2.77648999e+02\n",
      "  -5.32841585e+02 -4.33332099e+02 -3.63460535e+02 -4.23585520e+01\n",
      "  -1.05468675e+02 -1.69629355e+02 -2.96311445e+02 -7.76088604e+02\n",
      "  -6.11750001e+02 -5.19561601e+02 -2.34884741e+02 -3.73013711e+02\n",
      "   5.23876767e+02  2.47070962e+02 -4.06209055e+02 -5.02293565e+02\n",
      "  -4.09978422e+02  7.90621392e+02  1.44842836e+03 -3.79990840e+02\n",
      "   1.83936889e+03 -6.71063180e+01 -5.55406210e+02  4.46202676e+02\n",
      "   8.42414450e+02 -5.88924817e+01 -3.83867453e+02  5.04877075e+01\n",
      "   2.32515164e+02 -5.62095002e+02 -5.63845042e+02 -7.55967624e+02\n",
      "  -6.03444135e+02  1.78688536e+02 -3.00734139e+02 -3.42038877e+02\n",
      "   2.82824144e+03  1.37639231e+03  3.90199157e+02 -4.86023943e+02\n",
      "   1.07058280e+02 -5.55748840e+02  6.52582105e+02 -4.30248093e+02\n",
      "  -4.53465837e+02 -3.86067386e+02 -1.24350866e+02 -3.33298359e+02\n",
      "  -6.85469642e+02 -1.87830802e+02 -7.31331619e+01 -3.12697321e+02\n",
      "  -9.61624219e+01  4.90818029e+02  9.47873219e+02  1.32419751e+02\n",
      "  -3.08525888e+02  4.61217812e+02  1.48260886e+03  2.04418599e+02\n",
      "  -2.63623436e+02  1.24670054e+02 -6.58207460e+02  4.12942923e+02\n",
      "  -2.72412738e+02  8.02698919e+01  9.97051472e+02 -4.05092970e+02\n",
      "   2.36670071e+03  2.73638271e+02 -8.19335858e+01 -1.51621888e+02\n",
      "  -4.15428109e+02 -5.82354150e+02  1.26795997e+03  1.66281535e+03\n",
      "  -1.94876522e+02 -2.15206500e+02 -6.11093115e+02  2.32615719e+02\n",
      "  -2.04015093e+02 -1.27813836e+01 -5.85755132e+02 -4.69995973e+01\n",
      "  -3.02943962e+02 -2.28327736e+02  3.88504338e+02 -5.02721083e+02\n",
      "  -4.91150894e+02  1.19401173e+03 -6.62870513e+02 -1.68802906e+02\n",
      "   2.29647999e+03  1.08392975e+03 -1.16086235e+02  5.89796832e+02\n",
      "  -2.10733365e+02 -3.82931152e+02 -4.87582338e+02 -1.82892462e+02\n",
      "   7.19906380e+02 -5.74574508e+02 -2.98650717e+02 -2.81255737e+02\n",
      "  -5.24769159e+02 -4.62960334e+02  1.33889845e+03 -4.47248939e+02\n",
      "   1.18853270e+03  4.33729775e+02  1.20143758e+03 -7.38862448e+01\n",
      "   1.18493051e+03  7.33575437e+01  3.63607158e+02  1.78606495e+02\n",
      "   1.15307437e+03  4.33284771e+02  5.09679673e+02  1.45369683e+02\n",
      "   6.17242967e+02  2.58482814e+03 -5.50815536e+02 -2.36592219e+02\n",
      "  -3.17447230e+02 -5.64288141e+02 -1.80884386e+02 -5.02158572e+02\n",
      "   1.72609476e+03 -6.40723401e+02  5.54793060e+02 -4.62647856e+02\n",
      "  -4.97118080e+02  5.35852305e+02 -1.64873302e+02 -2.16054890e+02\n",
      "   9.73891551e+02 -4.15133649e+02  8.94419140e+02  2.06700123e+02\n",
      "  -3.16321408e+02 -3.57935747e+02 -3.97834640e+02 -3.33456289e+02\n",
      "  -5.14676563e+02 -4.96155389e+02 -9.66263442e+01 -4.41507077e+01\n",
      "  -3.27023019e+02 -4.27173310e+02 -3.65512135e+02 -2.26423133e+02\n",
      "  -5.70885077e+02 -3.95512449e+02 -6.43442992e+01 -6.10885098e+02\n",
      "   1.29923246e+03 -3.77510342e+02  1.01001071e+03 -6.00574132e+02\n",
      "  -4.65988360e+02 -4.70296059e+02 -2.70868078e+02 -7.23567560e+02\n",
      "  -2.02784223e+02 -2.43066638e+02 -4.64330683e+02 -2.95306512e+01\n",
      "  -3.02989062e+02 -4.82500226e+02 -7.75054946e+02 -3.79352925e+02\n",
      "  -4.16348258e+02  7.10453791e+02 -7.13269922e+02 -4.04813013e+02\n",
      "  -5.92300476e+02  9.87023111e+02 -3.19483750e+02  1.22221252e+03\n",
      "  -3.57812660e+02 -3.48765803e+02 -1.32657995e+02 -4.15424310e+02\n",
      "   2.88844429e+02  1.71325412e+02  2.33819327e+02 -2.84451886e+02\n",
      "  -5.20429177e+02 -4.70842227e+02 -3.88138950e+02  5.51656022e+02\n",
      "  -3.34955591e+02  1.07804794e+03 -6.05035298e+02  2.30421759e+03\n",
      "  -2.30141426e+01 -6.47016431e+02 -5.24429248e+02  8.45947142e+02\n",
      "  -4.34234474e+02 -6.22255336e+02 -3.82097430e+02  7.11501655e+00\n",
      "  -4.78899996e+02 -4.47998868e+02 -4.11614689e+02  8.49318901e+01\n",
      "   2.72100090e+03  1.78493416e+02 -5.06414893e+02 -3.73291881e+02\n",
      "  -3.22378849e+02 -1.92016715e+02 -7.10878225e+02 -5.73512756e+02\n",
      "  -3.37662831e+02 -2.79264179e+02 -3.40809359e+02  2.04757006e+02\n",
      "  -2.40380402e+02  1.10217709e+03  9.80521469e+02 -3.22054014e+02\n",
      "   2.40494229e+03  1.58612829e+03  3.40252376e+02 -2.42145805e+01\n",
      "   9.39399721e+02  1.26588250e+03 -2.20141640e+02  5.21529369e+01\n",
      "  -6.18289177e+02 -2.20454409e+02 -2.31153056e+02 -4.71867248e+02\n",
      "  -4.86648595e+02 -5.18977293e+02 -4.44380417e+02 -3.40081211e+02\n",
      "  -2.79529558e+02 -9.97697592e+01 -4.01127519e+02 -1.46890514e+02\n",
      "  -5.05808135e+02  6.41497926e+02 -5.90719281e+02 -7.01731349e+02\n",
      "   4.57687259e+02  1.41897688e+03 -3.83907762e+02 -1.92915575e+02\n",
      "  -2.26835333e+02 -3.24223054e+02 -4.73757538e+02 -3.89230260e+02\n",
      "   5.39399089e+02 -3.60470743e+02 -2.89405492e+02 -3.34306607e+02\n",
      "  -3.94359342e+02 -4.97861513e+02  1.32173362e+02 -2.73669212e+02\n",
      "   5.76209588e+02 -3.30164205e+02 -4.41247952e+02 -4.97867645e+02\n",
      "  -6.98452816e+02  8.28217694e+00  7.73496363e+01 -4.21863664e+02\n",
      "  -6.46308854e+02  8.26211142e+02 -3.52599928e+02 -5.05324890e+02\n",
      "  -4.36338009e+02 -5.91573734e+01 -4.75742905e+02 -1.89064489e+02\n",
      "  -6.17194385e+02 -6.13829443e+02 -5.44413156e+02 -4.88804882e+02\n",
      "  -5.37173976e+02 -3.31993064e+02 -2.48657913e+01 -4.10186841e+02\n",
      "   8.21589728e+02  8.57390181e+02 -7.91889284e+01 -3.91209726e+01\n",
      "  -2.93170335e+02 -1.34669890e+02 -1.45250730e+02 -1.90164936e+02\n",
      "  -4.93690843e+02  4.88376228e+02 -1.85145247e+02 -6.04822971e+02\n",
      "   5.25706888e+02 -4.25633512e+02  6.46046225e+02 -3.43241415e+01\n",
      "  -4.10213185e+01  1.35645994e+03 -4.36192585e+02  7.41384890e+02\n",
      "  -4.16941153e+02 -1.17871335e+02 -2.96968964e+02 -2.00880953e+02\n",
      "  -4.27105870e+02 -2.73821557e+02 -2.86588766e+02 -6.44928887e+02\n",
      "   8.03716112e+02  3.86717805e+03 -1.30334367e+02 -4.57054159e+02\n",
      "  -2.27411027e+02 -1.83928135e+02 -2.25395498e+02 -6.20872171e+02\n",
      "   6.48811118e+02 -4.29748209e+02 -6.15058977e+02 -3.73872299e+02\n",
      "   3.81305542e+01 -3.73893334e+02 -5.38116442e+02 -3.13282620e+02\n",
      "  -6.34926725e+01 -1.68343867e+02 -4.84481541e+02  1.34503261e+02\n",
      "  -3.89808953e+02 -7.04629661e+01 -2.46258593e+02 -2.10513421e+02\n",
      "   2.44347066e+01 -3.49091838e+02 -3.76290741e+01  1.00214850e+03\n",
      "  -4.05353203e+02  2.78679418e+02 -3.19372507e+02  4.57339406e+02\n",
      "   6.52244528e+02 -3.89694528e+02 -2.59641710e+02 -7.02344941e+01\n",
      "  -3.00030110e+02 -3.25928982e+02  8.32609773e+02  1.09948689e+03\n",
      "  -2.30675677e+00 -1.09464701e+02 -3.74935084e+02  2.16618517e+03\n",
      "  -7.08652366e+02 -6.72591115e+02 -4.18653294e+02 -5.52979663e+02\n",
      "   1.25261547e+02  6.45965121e+01 -4.68335643e+02 -9.05470582e+01\n",
      "  -8.17538714e+01 -1.38829918e+01  9.83555360e+01 -4.82149027e+02\n",
      "   7.31367197e+02  9.46295946e+02 -2.60052625e+02 -3.03492556e+02\n",
      "  -6.81583641e+02  2.12701809e+03 -5.20808520e+02 -1.96893522e+02\n",
      "  -6.20561204e+02 -7.45022121e+02 -1.92430670e+02 -3.68577841e+02\n",
      "  -2.25523469e+02 -3.92929018e+02 -4.01674388e+02 -4.07535831e+02\n",
      "  -1.34103392e+02  9.91378730e+02 -5.56616798e+02  1.13558195e+03\n",
      "  -1.43994567e+02 -4.65866538e+02 -7.90313242e+02 -8.15980267e+02\n",
      "  -4.93647933e+02 -6.07825117e+01 -3.96620719e+01 -2.76257863e+02\n",
      "  -2.01254078e+02 -1.71841169e+02 -5.97225414e+02 -6.23076493e+02\n",
      "  -6.35064042e+02 -4.73472752e+02 -5.54764270e+02 -5.24660056e+02\n",
      "  -3.22054342e+02 -7.04967034e+02 -3.17926338e+02 -6.22214536e+02\n",
      "  -6.36046256e+02 -6.70677027e+02 -1.25245136e+02 -4.79335707e+02\n",
      "  -1.77242816e+02 -5.18011863e+02  6.19407986e+01  1.16713698e+03\n",
      "   1.41412668e+03  1.04501885e+03  3.14501756e+02  1.12485812e+03\n",
      "  -7.71527622e+02]]\n"
     ]
    }
   ],
   "source": [
    "prjY = pca.transform(X)\n",
    "print(prjY.T)"
   ]
  },
  {
   "cell_type": "markdown",
   "metadata": {},
   "source": [
    "### Critère du coude"
   ]
  },
  {
   "cell_type": "code",
   "execution_count": 58,
   "metadata": {},
   "outputs": [
    {
     "name": "stdout",
     "output_type": "stream",
     "text": [
      "0.9820446715106609\n"
     ]
    }
   ],
   "source": [
    "print(pca.explained_variance_ratio_.sum())"
   ]
  },
  {
   "cell_type": "code",
   "execution_count": 59,
   "metadata": {},
   "outputs": [
    {
     "data": {
      "text/plain": [
       "<matplotlib.collections.PathCollection at 0x7f728b393790>"
      ]
     },
     "execution_count": 59,
     "metadata": {},
     "output_type": "execute_result"
    },
    {
     "data": {
      "image/png": "[encoded data removed]",
      "text/plain": [
       "<Figure size 432x288 with 1 Axes>"
      ]
     },
     "metadata": {
      "needs_background": "light"
     },
     "output_type": "display_data"
    }
   ],
   "source": [
    "import matplotlib.pyplot as plt\n",
    "plt.scatter(prjY, Y)"
   ]
  },
  {
   "cell_type": "code",
   "execution_count": 60,
   "metadata": {},
   "outputs": [
    {
     "name": "stdout",
     "output_type": "stream",
     "text": [
      "[4.43782605e+05 7.31010006e+03 7.03833742e+02 5.46487379e+01\n",
      " 3.98900178e+01 3.00458768e+00 1.81533030e+00 3.71466740e-01\n",
      " 1.55513547e-01 8.40612196e-02 3.16089533e-02 7.49736514e-03\n",
      " 3.16165652e-03 2.16150395e-03 1.32653879e-03 6.40269304e-04\n",
      " 3.74883320e-04 2.35169626e-04 1.84583467e-04 1.64180064e-04\n",
      " 7.81102011e-05 5.76111660e-05 3.49172775e-05 2.83952689e-05\n",
      " 1.61463677e-05 1.24902419e-05 3.68048171e-06 2.84790425e-06\n",
      " 2.00491564e-06 7.01997261e-07]\n"
     ]
    }
   ],
   "source": [
    "pca = PCA(n_components=X.shape[1])\n",
    "pca.fit(X)\n",
    "pca.transform(X)\n",
    "eigval = pca.explained_variance_ # Valeurs propres\n",
    "print(eigval)"
   ]
  },
  {
   "cell_type": "code",
   "execution_count": 61,
   "metadata": {},
   "outputs": [
    {
     "data": {
      "image/png": "[encoded data removed]",
      "text/plain": [
       "<Figure size 432x288 with 1 Axes>"
      ]
     },
     "metadata": {
      "needs_background": "light"
     },
     "output_type": "display_data"
    }
   ],
   "source": [
    "%matplotlib inline\n",
    "import matplotlib.pyplot as plt\n",
    "plt.plot(np.arange(1, X.shape[1] + 1),eigval)\n",
    "plt.ylabel(\"Eigen values\")\n",
    "plt.xlabel(\"Factor number\")\n",
    "plt.show()"
   ]
  },
  {
   "cell_type": "markdown",
   "metadata": {},
   "source": [
    "If faut retenir `2` axes pour garder au moins 80% de la variance."
   ]
  },
  {
   "cell_type": "markdown",
   "metadata": {},
   "source": [
    "### 3 axes qualité"
   ]
  },
  {
   "cell_type": "code",
   "execution_count": 62,
   "metadata": {},
   "outputs": [],
   "source": [
    "X_train, X_test, Y_train, Y_test = train_test_split(X, Y, test_size=0.2, random_state=1)\n",
    "\n",
    "# ACP train\n",
    "pca = PCA(n_components=3)\n",
    "pca.fit(X_train)\n",
    "prjY_train = pca.transform(X_train)\n",
    "\n",
    "# ACP test\n",
    "pca = PCA(n_components=3)\n",
    "pca.fit(X_test)\n",
    "prjY_test = pca.transform(X_test)"
   ]
  },
  {
   "cell_type": "code",
   "execution_count": 63,
   "metadata": {},
   "outputs": [
    {
     "name": "stdout",
     "output_type": "stream",
     "text": [
      "MAP without ACP :\n",
      "[[38  4]\n",
      " [ 2 70]]\n",
      "94.74%\n"
     ]
    }
   ],
   "source": [
    "print(\"MAP without ACP :\")\n",
    "from sklearn.naive_bayes import GaussianNB\n",
    "nb = GaussianNB()\n",
    "nb.fit(X_train, Y_train)\n",
    "\n",
    "# Evaluate\n",
    "Y_pred = nb.predict(X_test)\n",
    "\n",
    "cm = confusion_matrix(Y_test, Y_pred)\n",
    "print(cm)\n",
    "\n",
    "print(\"{:.2%}\".format(accuracy_score(Y_test, Y_pred)))"
   ]
  },
  {
   "cell_type": "code",
   "execution_count": 64,
   "metadata": {},
   "outputs": [
    {
     "name": "stdout",
     "output_type": "stream",
     "text": [
      "MAP ACP :\n",
      "[[30 12]\n",
      " [ 0 72]]\n",
      "89.47%\n"
     ]
    }
   ],
   "source": [
    "print(\"MAP ACP :\")\n",
    "from sklearn.naive_bayes import GaussianNB\n",
    "nb = GaussianNB()\n",
    "nb.fit(prjY_train, Y_train)\n",
    "\n",
    "# Evaluate\n",
    "Y_pred = nb.predict(prjY_test)\n",
    "\n",
    "cm = confusion_matrix(Y_test, Y_pred)\n",
    "print(cm)\n",
    "\n",
    "print(\"{:.2%}\".format(accuracy_score(Y_test, Y_pred)))"
   ]
  },
  {
   "cell_type": "markdown",
   "metadata": {},
   "source": [
    "On vois qu'on pert en qualité"
   ]
  }
 ],
 "metadata": {
  "interpreter": {
   "hash": "31f2aee4e71d21fbe5cf8b01ff0e069b9275f58929596ceb00d14d90e3e16cd6"
  },
  "kernelspec": {
   "display_name": "Python 3.8.10 64-bit",
   "name": "python3"
  },
  "language_info": {
   "codemirror_mode": {
    "name": "ipython",
    "version": 3
   },
   "file_extension": ".py",
   "mimetype": "text/x-python",
   "name": "python",
   "nbconvert_exporter": "python",
   "pygments_lexer": "ipython3",
   "version": "3.8.10"
  },
  "orig_nbformat": 4
 },
 "nbformat": 4,
 "nbformat_minor": 2
}

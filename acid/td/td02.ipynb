{
 "cells": [
  {
   "cell_type": "code",
   "execution_count": 27,
   "source": [
    "import numpy as np"
   ],
   "outputs": [],
   "metadata": {}
  },
  {
   "cell_type": "code",
   "execution_count": 28,
   "source": [
    "p = np.polynomial.Polynomial([3, 2, 1])\n",
    "p"
   ],
   "outputs": [
    {
     "output_type": "execute_result",
     "data": {
      "text/latex": [
       "$x \\mapsto \\text{3.0} + \\text{2.0}\\,x + \\text{1.0}\\,x^{2}$"
      ],
      "text/plain": [
       "Polynomial([3., 2., 1.], domain=[-1,  1], window=[-1,  1])"
      ]
     },
     "metadata": {},
     "execution_count": 28
    }
   ],
   "metadata": {}
  },
  {
   "cell_type": "markdown",
   "source": [
    "## Exercice 1"
   ],
   "metadata": {}
  },
  {
   "cell_type": "code",
   "execution_count": 29,
   "source": [
    "def valeurPolynome(coeff, x):\n",
    "  return np.polynomial.Polynomial(coeff)(x)"
   ],
   "outputs": [],
   "metadata": {}
  },
  {
   "cell_type": "code",
   "execution_count": 30,
   "source": [
    "valeurPolynome([1, 2, 3], 1)"
   ],
   "outputs": [
    {
     "output_type": "execute_result",
     "data": {
      "text/plain": [
       "6.0"
      ]
     },
     "metadata": {},
     "execution_count": 30
    }
   ],
   "metadata": {}
  },
  {
   "cell_type": "code",
   "execution_count": 31,
   "source": [
    "np.polyval([1, 2, 3], 1)"
   ],
   "outputs": [
    {
     "output_type": "execute_result",
     "data": {
      "text/plain": [
       "6"
      ]
     },
     "metadata": {},
     "execution_count": 31
    }
   ],
   "metadata": {}
  },
  {
   "cell_type": "code",
   "execution_count": 32,
   "source": [
    "valeurPolynome([1, 2, 3, 4], 6)"
   ],
   "outputs": [
    {
     "output_type": "execute_result",
     "data": {
      "text/plain": [
       "985.0"
      ]
     },
     "metadata": {},
     "execution_count": 32
    }
   ],
   "metadata": {}
  },
  {
   "cell_type": "code",
   "execution_count": 33,
   "source": [
    "V1 = np.array([4, 8])\n",
    "valeurPolynome([1, 2, 3], V1)"
   ],
   "outputs": [
    {
     "output_type": "execute_result",
     "data": {
      "text/plain": [
       "array([ 57., 209.])"
      ]
     },
     "metadata": {},
     "execution_count": 33
    }
   ],
   "metadata": {}
  },
  {
   "cell_type": "code",
   "execution_count": 34,
   "source": [
    "def derivPoly(coeff):\n",
    "  return np.polyder(coeff[::-1],)[::-1]"
   ],
   "outputs": [],
   "metadata": {}
  },
  {
   "cell_type": "code",
   "execution_count": 35,
   "source": [
    "derivPoly([1, 2, 3])"
   ],
   "outputs": [
    {
     "output_type": "execute_result",
     "data": {
      "text/plain": [
       "array([2, 6])"
      ]
     },
     "metadata": {},
     "execution_count": 35
    }
   ],
   "metadata": {}
  },
  {
   "cell_type": "markdown",
   "source": [
    "## Exercice 2"
   ],
   "metadata": {}
  },
  {
   "cell_type": "code",
   "execution_count": 36,
   "source": [
    "%matplotlib\n",
    "import matplotlib.pyplot as plt\n",
    "\n",
    "# draw the parabole\n",
    "def parabole(x):\n",
    "  return x * x\n",
    "\n",
    "x = np.linspace(-300,300,600)\n",
    "y = [parabole(i) for i in x]\n",
    "\n",
    "plt.plot(x,y,'g')\n",
    "\n",
    "# desente du gradient\n",
    "epsilon = 0.1\n",
    "nu = 0.2\n",
    "\n",
    "x0=250  # étape 1 x initial\n",
    "xcurrent = x0 - 2*x0 # definition du x courant (étape 2)\n",
    "xprec = x0 # definition du x precedent\n",
    "\n",
    "plt.plot(x0,parabole(x0),'ok') # Draw dot in parabol\n",
    "\n",
    "\n",
    "while(abs(xprec - xcurrent) > epsilon): # étape 3 jusqu'a ce que la valeur et dépasser le minimum\n",
    "  xprec  = xcurrent # definition du x precedent\n",
    "  xcurrent = xprec - nu*2*xprec # definition du x courant avec (étape 2) le calcule de la dérivée partielle\n",
    "  plt.plot(xcurrent,parabole(xcurrent),'ob') # Draw dot in parabol\n",
    "  plt.pause(1) # sleep\n",
    "plt.plot(xcurrent,parabole(xcurrent),'xr') # Draw last dot in parabol\n",
    "print(xcurrent)"
   ],
   "outputs": [
    {
     "output_type": "stream",
     "name": "stdout",
     "text": [
      "Using matplotlib backend: Qt5Agg\n",
      "-0.11754624614399992\n"
     ]
    }
   ],
   "metadata": {}
  },
  {
   "cell_type": "markdown",
   "source": [
    "1. fait\n",
    "2. ça vas plus vite car c'est plus proche. et si la valeur est négative ça vas dans l'autre sense\n",
    "3. On peut avoir une valeur plus précise avec un pa plus petit\n",
    "4. L'algo tourne a l'infini car le nu fait faire la symétrie. Non ce n'est pas spécifique\n",
    "5. dans la version suivant on augmente l'attenuation ce qui fait que le mu commence vers 0.9 et est de plus en plus base donc pressie"
   ],
   "metadata": {}
  },
  {
   "cell_type": "code",
   "execution_count": 37,
   "source": [
    "%matplotlib\n",
    "import matplotlib.pyplot as plt\n",
    "\n",
    "def parabole(x):\n",
    "    return x * x\n",
    "\n",
    "x = np.linspace(-300,300,600)\n",
    "y = [parabole(i) for i in x]\n",
    "\n",
    "epsilon = 0.1\n",
    "attenuation = 3\n",
    "\n",
    "plt.plot(x,y,'g')\n",
    "\n",
    "x0=250\n",
    "xcurrent = x0 - 2*x0\n",
    "xprec = x0\n",
    "\n",
    "plt.plot(x0,parabole(x0),'ok')\n",
    "\n",
    "while(abs(xprec - xcurrent) > epsilon):\n",
    "    xprec  = xcurrent\n",
    "    nu = 1/np.log(attenuation)\n",
    "    attenuation = attenuation+1\n",
    "    xcurrent = xprec - nu*2*xprec\n",
    "    plt.plot(xcurrent,parabole(xcurrent),'ob')\n",
    "    plt.pause(1)\n",
    "plt.plot(xcurrent,parabole(xcurrent),'xr')"
   ],
   "outputs": [
    {
     "output_type": "stream",
     "name": "stdout",
     "text": [
      "Using matplotlib backend: Qt5Agg\n"
     ]
    },
    {
     "output_type": "execute_result",
     "data": {
      "text/plain": [
       "[<matplotlib.lines.Line2D at 0x7feb14410b80>]"
      ]
     },
     "metadata": {},
     "execution_count": 37
    }
   ],
   "metadata": {}
  },
  {
   "cell_type": "markdown",
   "source": [
    "6. La variable nu dmininue et l'intérêt de procéder ainsi est d'être plus précis et d'éviter une boucle infinie.\n",
    "7. si la valeur initial est a 0 cela ne fonctionne pas car il n'y as pas d'atenuation\n",
    "8. l'ateunation est plus forte si on l'aubmente"
   ],
   "metadata": {}
  },
  {
   "cell_type": "markdown",
   "source": [
    "## Exercice 3"
   ],
   "metadata": {}
  },
  {
   "cell_type": "code",
   "execution_count": null,
   "source": [],
   "outputs": [],
   "metadata": {}
  }
 ],
 "metadata": {
  "orig_nbformat": 4,
  "language_info": {
   "name": "python",
   "version": "3.8.10",
   "mimetype": "text/x-python",
   "codemirror_mode": {
    "name": "ipython",
    "version": 3
   },
   "pygments_lexer": "ipython3",
   "nbconvert_exporter": "python",
   "file_extension": ".py"
  },
  "kernelspec": {
   "name": "python3",
   "display_name": "Python 3.8.10 64-bit"
  },
  "interpreter": {
   "hash": "31f2aee4e71d21fbe5cf8b01ff0e069b9275f58929596ceb00d14d90e3e16cd6"
  }
 },
 "nbformat": 4,
 "nbformat_minor": 2
}
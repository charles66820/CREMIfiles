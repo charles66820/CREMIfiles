{
 "cells": [
  {
   "cell_type": "code",
   "execution_count": 1,
   "metadata": {},
   "outputs": [],
   "source": [
    "import pandas as pa"
   ]
  },
  {
   "cell_type": "markdown",
   "metadata": {},
   "source": [
    "## Exercice 1"
   ]
  },
  {
   "cell_type": "code",
   "execution_count": 2,
   "metadata": {},
   "outputs": [
    {
     "data": {
      "text/html": [
       "<div>\n",
       "<style scoped>\n",
       "    .dataframe tbody tr th:only-of-type {\n",
       "        vertical-align: middle;\n",
       "    }\n",
       "\n",
       "    .dataframe tbody tr th {\n",
       "        vertical-align: top;\n",
       "    }\n",
       "\n",
       "    .dataframe thead th {\n",
       "        text-align: right;\n",
       "    }\n",
       "</style>\n",
       "<table border=\"1\" class=\"dataframe\">\n",
       "  <thead>\n",
       "    <tr style=\"text-align: right;\">\n",
       "      <th></th>\n",
       "      <th>Chiffre d'affaires</th>\n",
       "      <th>Frais publicitaires</th>\n",
       "    </tr>\n",
       "  </thead>\n",
       "  <tbody>\n",
       "    <tr>\n",
       "      <th>0</th>\n",
       "      <td>220</td>\n",
       "      <td>2.6</td>\n",
       "    </tr>\n",
       "    <tr>\n",
       "      <th>1</th>\n",
       "      <td>280</td>\n",
       "      <td>2.6</td>\n",
       "    </tr>\n",
       "    <tr>\n",
       "      <th>2</th>\n",
       "      <td>250</td>\n",
       "      <td>2.4</td>\n",
       "    </tr>\n",
       "    <tr>\n",
       "      <th>3</th>\n",
       "      <td>170</td>\n",
       "      <td>1.5</td>\n",
       "    </tr>\n",
       "    <tr>\n",
       "      <th>4</th>\n",
       "      <td>150</td>\n",
       "      <td>0.9</td>\n",
       "    </tr>\n",
       "    <tr>\n",
       "      <th>5</th>\n",
       "      <td>340</td>\n",
       "      <td>3.0</td>\n",
       "    </tr>\n",
       "    <tr>\n",
       "      <th>6</th>\n",
       "      <td>310</td>\n",
       "      <td>2.7</td>\n",
       "    </tr>\n",
       "    <tr>\n",
       "      <th>7</th>\n",
       "      <td>210</td>\n",
       "      <td>2.3</td>\n",
       "    </tr>\n",
       "    <tr>\n",
       "      <th>8</th>\n",
       "      <td>180</td>\n",
       "      <td>1.7</td>\n",
       "    </tr>\n",
       "    <tr>\n",
       "      <th>9</th>\n",
       "      <td>190</td>\n",
       "      <td>1.9</td>\n",
       "    </tr>\n",
       "  </tbody>\n",
       "</table>\n",
       "</div>"
      ],
      "text/plain": [
       "   Chiffre d'affaires  Frais publicitaires\n",
       "0                 220                  2.6\n",
       "1                 280                  2.6\n",
       "2                 250                  2.4\n",
       "3                 170                  1.5\n",
       "4                 150                  0.9\n",
       "5                 340                  3.0\n",
       "6                 310                  2.7\n",
       "7                 210                  2.3\n",
       "8                 180                  1.7\n",
       "9                 190                  1.9"
      ]
     },
     "execution_count": 2,
     "metadata": {},
     "output_type": "execute_result"
    }
   ],
   "source": [
    "data = {\"Chiffre d'affaires\": [220, 280, 250, 170, 150, 340, 310, 210, 180, 190],\n",
    "\"Frais publicitaires\": [2.6, 2.6, 2.4, 1.5, 0.9, 3.0, 2.7, 2.3, 1.7, 1.9]}\n",
    "\n",
    "df = pa.DataFrame(data)\n",
    "\n",
    "df"
   ]
  },
  {
   "cell_type": "code",
   "execution_count": 3,
   "metadata": {},
   "outputs": [
    {
     "data": {
      "text/plain": [
       "<matplotlib.collections.PathCollection at 0x7efdaceb62e0>"
      ]
     },
     "execution_count": 3,
     "metadata": {},
     "output_type": "execute_result"
    },
    {
     "data": {
      "image/png": "[encoded data removed]",
      "text/plain": [
       "<Figure size 432x288 with 1 Axes>"
      ]
     },
     "metadata": {
      "needs_background": "light"
     },
     "output_type": "display_data"
    }
   ],
   "source": [
    "%matplotlib inline\n",
    "import matplotlib.pyplot as plt\n",
    "\n",
    "Y = data[\"Chiffre d'affaires\"]\n",
    "X = data[\"Frais publicitaires\"]\n",
    "\n",
    "plt.scatter(X, Y)"
   ]
  },
  {
   "cell_type": "code",
   "execution_count": 4,
   "metadata": {},
   "outputs": [
    {
     "data": {
      "text/plain": [
       "array([[1.        , 0.89375779],\n",
       "       [0.89375779, 1.        ]])"
      ]
     },
     "execution_count": 4,
     "metadata": {},
     "output_type": "execute_result"
    }
   ],
   "source": [
    "import numpy as np\n",
    "# COEFficient de CORRélation linéaire.\n",
    "np.corrcoef(X, Y)"
   ]
  },
  {
   "cell_type": "code",
   "execution_count": 5,
   "metadata": {},
   "outputs": [
    {
     "data": {
      "text/plain": [
       "LinregressResult(slope=87.40701381509031, intercept=41.20085015940495, rvalue=0.8937577901006998, pvalue=0.0004894341749604697, stderr=15.50930060045945, intercept_stderr=34.825201199589735)"
      ]
     },
     "execution_count": 5,
     "metadata": {},
     "output_type": "execute_result"
    }
   ],
   "source": [
    "from scipy.stats import linregress\n",
    "\n",
    "lr = linregress(X, Y) # LINear REGRESSion\n",
    "lr"
   ]
  },
  {
   "cell_type": "code",
   "execution_count": 6,
   "metadata": {},
   "outputs": [
    {
     "data": {
      "text/plain": [
       "87.40701381509031"
      ]
     },
     "execution_count": 6,
     "metadata": {},
     "output_type": "execute_result"
    }
   ],
   "source": [
    "# Copy / Paste form cours_3-intro\n",
    "beta_1 = np.sum((Y - np.average(Y))*(X - np.average(X))) / np.sum((X-np.average(X))*(X-np.average(X)))\n",
    "beta_1 # slope"
   ]
  },
  {
   "cell_type": "code",
   "execution_count": 7,
   "metadata": {},
   "outputs": [
    {
     "data": {
      "text/plain": [
       "41.20085015940495"
      ]
     },
     "execution_count": 7,
     "metadata": {},
     "output_type": "execute_result"
    }
   ],
   "source": [
    "# Copy / Paste form cours_3-intro\n",
    "beta_0 = np.average(Y) - beta_1 * np.average(X)\n",
    "beta_0 # intercept"
   ]
  },
  {
   "cell_type": "code",
   "execution_count": 8,
   "metadata": {},
   "outputs": [
    {
     "data": {
      "text/plain": [
       "0.8937577901006998"
      ]
     },
     "execution_count": 8,
     "metadata": {},
     "output_type": "execute_result"
    }
   ],
   "source": [
    "lr.rvalue # coefficient de determination // le poursentagen de relation entre x et y"
   ]
  },
  {
   "cell_type": "code",
   "execution_count": 9,
   "metadata": {},
   "outputs": [
    {
     "data": {
      "text/plain": [
       "0.0004894341749604697"
      ]
     },
     "execution_count": 9,
     "metadata": {},
     "output_type": "execute_result"
    }
   ],
   "source": [
    "lr.pvalue # le pourcentage d'erreur"
   ]
  },
  {
   "cell_type": "code",
   "execution_count": 10,
   "metadata": {},
   "outputs": [
    {
     "data": {
      "text/plain": [
       "[<matplotlib.lines.Line2D at 0x7efd8fcf0dc0>]"
      ]
     },
     "execution_count": 10,
     "metadata": {},
     "output_type": "execute_result"
    },
    {
     "data": {
      "image/png": "[encoded data removed]",
      "text/plain": [
       "<Figure size 432x288 with 1 Axes>"
      ]
     },
     "metadata": {
      "needs_background": "light"
     },
     "output_type": "display_data"
    }
   ],
   "source": [
    "# Copy / Paste form cours_3-intro\n",
    "plt.scatter(X, Y)\n",
    "plt.plot(X, lr.intercept + lr.slope * np.array(X), 'r')\n",
    "#  [beta_0 + beta_1 * X[i] for i in range(len(X))]"
   ]
  },
  {
   "cell_type": "code",
   "execution_count": 11,
   "metadata": {},
   "outputs": [
    {
     "data": {
      "text/plain": [
       "2.306004135033371"
      ]
     },
     "execution_count": 11,
     "metadata": {},
     "output_type": "execute_result"
    }
   ],
   "source": [
    "from scipy.stats import t # t-distribution\n",
    "# df : Degrees of Freedom\n",
    "# ppf : Percent Point Function\n",
    "tinv = lambda probability, df: abs(t.ppf(probability/2, df))\n",
    "#tinv : ?\n",
    "ts = tinv(0.05, len(X)-2)\n",
    "ts # ts : ?\n"
   ]
  },
  {
   "cell_type": "markdown",
   "metadata": {},
   "source": [
    "Selon le theorem de la saucisse on vois que la significativité de la régression au risque 5% n'as pas de sens car la pvalue est a 0.0004 ? ou 2.3 ?"
   ]
  },
  {
   "cell_type": "code",
   "execution_count": 12,
   "metadata": {},
   "outputs": [
    {
     "data": {
      "text/plain": [
       "0.8937577901006998"
      ]
     },
     "execution_count": 12,
     "metadata": {},
     "output_type": "execute_result"
    }
   ],
   "source": [
    "# C'est la rvalue\n",
    "lr.rvalue"
   ]
  },
  {
   "cell_type": "code",
   "execution_count": 13,
   "metadata": {},
   "outputs": [
    {
     "data": {
      "text/plain": [
       "76.16365568544109"
      ]
     },
     "execution_count": 13,
     "metadata": {},
     "output_type": "execute_result"
    }
   ],
   "source": [
    "beta_0 + beta_1 * 0.4 # pour 400 euro"
   ]
  },
  {
   "cell_type": "code",
   "execution_count": 14,
   "metadata": {},
   "outputs": [
    {
     "data": {
      "text/plain": [
       "390.8289054197662"
      ]
     },
     "execution_count": 14,
     "metadata": {},
     "output_type": "execute_result"
    }
   ],
   "source": [
    "beta_0 + beta_1 * 4 # pour 4000 euro"
   ]
  },
  {
   "cell_type": "markdown",
   "metadata": {},
   "source": [
    "## Exercice 2"
   ]
  },
  {
   "cell_type": "code",
   "execution_count": 15,
   "metadata": {},
   "outputs": [
    {
     "data": {
      "text/html": [
       "<div>\n",
       "<style scoped>\n",
       "    .dataframe tbody tr th:only-of-type {\n",
       "        vertical-align: middle;\n",
       "    }\n",
       "\n",
       "    .dataframe tbody tr th {\n",
       "        vertical-align: top;\n",
       "    }\n",
       "\n",
       "    .dataframe thead th {\n",
       "        text-align: right;\n",
       "    }\n",
       "</style>\n",
       "<table border=\"1\" class=\"dataframe\">\n",
       "  <thead>\n",
       "    <tr style=\"text-align: right;\">\n",
       "      <th></th>\n",
       "      <th>Valeur Totale</th>\n",
       "      <th>Valeur Terrain</th>\n",
       "      <th>Acre</th>\n",
       "      <th>Pied2</th>\n",
       "      <th>Extérieur</th>\n",
       "      <th>Chauffage</th>\n",
       "      <th>Pièces</th>\n",
       "      <th>Chambre</th>\n",
       "      <th>SbainsC</th>\n",
       "      <th>Sbains</th>\n",
       "      <th>Foyers</th>\n",
       "      <th>Garage</th>\n",
       "    </tr>\n",
       "  </thead>\n",
       "  <tbody>\n",
       "    <tr>\n",
       "      <th>0</th>\n",
       "      <td>199657</td>\n",
       "      <td>63247</td>\n",
       "      <td>1,63</td>\n",
       "      <td>1726</td>\n",
       "      <td>Good</td>\n",
       "      <td>NatGas</td>\n",
       "      <td>8</td>\n",
       "      <td>4</td>\n",
       "      <td>2</td>\n",
       "      <td>1</td>\n",
       "      <td>2</td>\n",
       "      <td>Garage</td>\n",
       "    </tr>\n",
       "    <tr>\n",
       "      <th>1</th>\n",
       "      <td>78482</td>\n",
       "      <td>38091</td>\n",
       "      <td>0,495</td>\n",
       "      <td>1184</td>\n",
       "      <td>Good</td>\n",
       "      <td>NatGas</td>\n",
       "      <td>6</td>\n",
       "      <td>2</td>\n",
       "      <td>1</td>\n",
       "      <td>0</td>\n",
       "      <td>0</td>\n",
       "      <td>NoGarage</td>\n",
       "    </tr>\n",
       "    <tr>\n",
       "      <th>2</th>\n",
       "      <td>119962</td>\n",
       "      <td>37665</td>\n",
       "      <td>0,375</td>\n",
       "      <td>1014</td>\n",
       "      <td>Good</td>\n",
       "      <td>Electric</td>\n",
       "      <td>7</td>\n",
       "      <td>3</td>\n",
       "      <td>2</td>\n",
       "      <td>0</td>\n",
       "      <td>1</td>\n",
       "      <td>Garage</td>\n",
       "    </tr>\n",
       "    <tr>\n",
       "      <th>3</th>\n",
       "      <td>116492</td>\n",
       "      <td>54062</td>\n",
       "      <td>0,981</td>\n",
       "      <td>1260</td>\n",
       "      <td>Average</td>\n",
       "      <td>Electric</td>\n",
       "      <td>6</td>\n",
       "      <td>3</td>\n",
       "      <td>2</td>\n",
       "      <td>0</td>\n",
       "      <td>1</td>\n",
       "      <td>Garage</td>\n",
       "    </tr>\n",
       "    <tr>\n",
       "      <th>4</th>\n",
       "      <td>131263</td>\n",
       "      <td>61546</td>\n",
       "      <td>1,14</td>\n",
       "      <td>1314</td>\n",
       "      <td>Average</td>\n",
       "      <td>NatGas</td>\n",
       "      <td>8</td>\n",
       "      <td>4</td>\n",
       "      <td>2</td>\n",
       "      <td>1</td>\n",
       "      <td>2</td>\n",
       "      <td>NoGarage</td>\n",
       "    </tr>\n",
       "  </tbody>\n",
       "</table>\n",
       "</div>"
      ],
      "text/plain": [
       "   Valeur Totale  Valeur Terrain   Acre  Pied2 Extérieur Chauffage  Pièces  \\\n",
       "0         199657           63247   1,63   1726      Good    NatGas       8   \n",
       "1          78482           38091  0,495   1184      Good    NatGas       6   \n",
       "2         119962           37665  0,375   1014      Good  Electric       7   \n",
       "3         116492           54062  0,981   1260   Average  Electric       6   \n",
       "4         131263           61546   1,14   1314   Average    NatGas       8   \n",
       "\n",
       "   Chambre  SbainsC  Sbains  Foyers    Garage  \n",
       "0        4        2       1       2    Garage  \n",
       "1        2        1       0       0  NoGarage  \n",
       "2        3        2       0       1    Garage  \n",
       "3        3        2       0       1    Garage  \n",
       "4        4        2       1       2  NoGarage  "
      ]
     },
     "execution_count": 15,
     "metadata": {},
     "output_type": "execute_result"
    }
   ],
   "source": [
    "dataset = pa.read_csv(\"https://www.labri.fr/~zemmari/datasets/proprietes.csv\", sep=\";\")\n",
    "df = pa.DataFrame(dataset)\n",
    "df.head()"
   ]
  },
  {
   "cell_type": "code",
   "execution_count": 16,
   "metadata": {},
   "outputs": [
    {
     "name": "stdout",
     "output_type": "stream",
     "text": [
      "<class 'pandas.core.frame.DataFrame'>\n",
      "RangeIndex: 79 entries, 0 to 78\n",
      "Data columns (total 12 columns):\n",
      " #   Column          Non-Null Count  Dtype \n",
      "---  ------          --------------  ----- \n",
      " 0   Valeur Totale   79 non-null     int64 \n",
      " 1   Valeur Terrain  79 non-null     int64 \n",
      " 2   Acre            79 non-null     object\n",
      " 3   Pied2           79 non-null     int64 \n",
      " 4   Extérieur       79 non-null     object\n",
      " 5   Chauffage       79 non-null     object\n",
      " 6   Pièces          79 non-null     int64 \n",
      " 7   Chambre         79 non-null     int64 \n",
      " 8   SbainsC         79 non-null     int64 \n",
      " 9   Sbains          79 non-null     int64 \n",
      " 10  Foyers          79 non-null     int64 \n",
      " 11  Garage          79 non-null     object\n",
      "dtypes: int64(8), object(4)\n",
      "memory usage: 7.5+ KB\n"
     ]
    }
   ],
   "source": [
    "df.info()"
   ]
  },
  {
   "cell_type": "code",
   "execution_count": 17,
   "metadata": {},
   "outputs": [
    {
     "data": {
      "text/plain": [
       "<matplotlib.collections.PathCollection at 0x7efd8fbcf0d0>"
      ]
     },
     "execution_count": 17,
     "metadata": {},
     "output_type": "execute_result"
    },
    {
     "data": {
      "image/png": "[encoded data removed]",
      "text/plain": [
       "<Figure size 432x288 with 1 Axes>"
      ]
     },
     "metadata": {
      "needs_background": "light"
     },
     "output_type": "display_data"
    }
   ],
   "source": [
    "%matplotlib inline\n",
    "import matplotlib.pyplot as plt\n",
    "\n",
    "X = df[\"Valeur Terrain\"]\n",
    "Y = df[\"Valeur Totale\"]\n",
    "\n",
    "plt.scatter(X, Y)"
   ]
  },
  {
   "cell_type": "code",
   "execution_count": 18,
   "metadata": {},
   "outputs": [
    {
     "data": {
      "text/plain": [
       "<matplotlib.collections.PathCollection at 0x7efd8fbad970>"
      ]
     },
     "execution_count": 18,
     "metadata": {},
     "output_type": "execute_result"
    },
    {
     "data": {
      "image/png": "[encoded data removed]",
      "text/plain": [
       "<Figure size 432x288 with 1 Axes>"
      ]
     },
     "metadata": {
      "needs_background": "light"
     },
     "output_type": "display_data"
    }
   ],
   "source": [
    "plt.scatter(df[\"Pied2\"], df[\"Valeur Totale\"])"
   ]
  },
  {
   "cell_type": "code",
   "execution_count": 19,
   "metadata": {},
   "outputs": [
    {
     "data": {
      "text/plain": [
       "<matplotlib.collections.PathCollection at 0x7efd8fcca4c0>"
      ]
     },
     "execution_count": 19,
     "metadata": {},
     "output_type": "execute_result"
    },
    {
     "data": {
      "image/png": "[encoded data removed]",
      "text/plain": [
       "<Figure size 432x288 with 1 Axes>"
      ]
     },
     "metadata": {
      "needs_background": "light"
     },
     "output_type": "display_data"
    }
   ],
   "source": [
    "plt.scatter(df[\"Pièces\"], df[\"Valeur Totale\"])"
   ]
  },
  {
   "cell_type": "code",
   "execution_count": 20,
   "metadata": {},
   "outputs": [
    {
     "data": {
      "text/plain": [
       "<matplotlib.collections.PathCollection at 0x7efd8fa85e50>"
      ]
     },
     "execution_count": 20,
     "metadata": {},
     "output_type": "execute_result"
    },
    {
     "data": {
      "image/png": "[encoded data removed]",
      "text/plain": [
       "<Figure size 432x288 with 1 Axes>"
      ]
     },
     "metadata": {
      "needs_background": "light"
     },
     "output_type": "display_data"
    }
   ],
   "source": [
    "plt.scatter(df[\"Chambre\"], df[\"Valeur Totale\"])"
   ]
  },
  {
   "cell_type": "code",
   "execution_count": 22,
   "metadata": {},
   "outputs": [
    {
     "data": {
      "text/html": [
       "<div>\n",
       "<style scoped>\n",
       "    .dataframe tbody tr th:only-of-type {\n",
       "        vertical-align: middle;\n",
       "    }\n",
       "\n",
       "    .dataframe tbody tr th {\n",
       "        vertical-align: top;\n",
       "    }\n",
       "\n",
       "    .dataframe thead th {\n",
       "        text-align: right;\n",
       "    }\n",
       "</style>\n",
       "<table border=\"1\" class=\"dataframe\">\n",
       "  <thead>\n",
       "    <tr style=\"text-align: right;\">\n",
       "      <th></th>\n",
       "      <th>Valeur Totale</th>\n",
       "      <th>Valeur Terrain</th>\n",
       "      <th>Pied2</th>\n",
       "      <th>Pièces</th>\n",
       "      <th>Chambre</th>\n",
       "      <th>SbainsC</th>\n",
       "      <th>Sbains</th>\n",
       "      <th>Foyers</th>\n",
       "    </tr>\n",
       "  </thead>\n",
       "  <tbody>\n",
       "    <tr>\n",
       "      <th>Valeur Totale</th>\n",
       "      <td>1.000000</td>\n",
       "      <td>0.814685</td>\n",
       "      <td>0.766510</td>\n",
       "      <td>0.626500</td>\n",
       "      <td>0.582365</td>\n",
       "      <td>0.626234</td>\n",
       "      <td>0.435950</td>\n",
       "      <td>0.547980</td>\n",
       "    </tr>\n",
       "    <tr>\n",
       "      <th>Valeur Terrain</th>\n",
       "      <td>0.814685</td>\n",
       "      <td>1.000000</td>\n",
       "      <td>0.515980</td>\n",
       "      <td>0.517940</td>\n",
       "      <td>0.497388</td>\n",
       "      <td>0.505859</td>\n",
       "      <td>0.235842</td>\n",
       "      <td>0.496970</td>\n",
       "    </tr>\n",
       "    <tr>\n",
       "      <th>Pied2</th>\n",
       "      <td>0.766510</td>\n",
       "      <td>0.515980</td>\n",
       "      <td>1.000000</td>\n",
       "      <td>0.562823</td>\n",
       "      <td>0.431150</td>\n",
       "      <td>0.457476</td>\n",
       "      <td>0.353999</td>\n",
       "      <td>0.364592</td>\n",
       "    </tr>\n",
       "    <tr>\n",
       "      <th>Pièces</th>\n",
       "      <td>0.626500</td>\n",
       "      <td>0.517940</td>\n",
       "      <td>0.562823</td>\n",
       "      <td>1.000000</td>\n",
       "      <td>0.790934</td>\n",
       "      <td>0.479091</td>\n",
       "      <td>0.488519</td>\n",
       "      <td>0.394377</td>\n",
       "    </tr>\n",
       "    <tr>\n",
       "      <th>Chambre</th>\n",
       "      <td>0.582365</td>\n",
       "      <td>0.497388</td>\n",
       "      <td>0.431150</td>\n",
       "      <td>0.790934</td>\n",
       "      <td>1.000000</td>\n",
       "      <td>0.585968</td>\n",
       "      <td>0.166039</td>\n",
       "      <td>0.399628</td>\n",
       "    </tr>\n",
       "    <tr>\n",
       "      <th>SbainsC</th>\n",
       "      <td>0.626234</td>\n",
       "      <td>0.505859</td>\n",
       "      <td>0.457476</td>\n",
       "      <td>0.479091</td>\n",
       "      <td>0.585968</td>\n",
       "      <td>1.000000</td>\n",
       "      <td>0.171758</td>\n",
       "      <td>0.485582</td>\n",
       "    </tr>\n",
       "    <tr>\n",
       "      <th>Sbains</th>\n",
       "      <td>0.435950</td>\n",
       "      <td>0.235842</td>\n",
       "      <td>0.353999</td>\n",
       "      <td>0.488519</td>\n",
       "      <td>0.166039</td>\n",
       "      <td>0.171758</td>\n",
       "      <td>1.000000</td>\n",
       "      <td>0.385958</td>\n",
       "    </tr>\n",
       "    <tr>\n",
       "      <th>Foyers</th>\n",
       "      <td>0.547980</td>\n",
       "      <td>0.496970</td>\n",
       "      <td>0.364592</td>\n",
       "      <td>0.394377</td>\n",
       "      <td>0.399628</td>\n",
       "      <td>0.485582</td>\n",
       "      <td>0.385958</td>\n",
       "      <td>1.000000</td>\n",
       "    </tr>\n",
       "  </tbody>\n",
       "</table>\n",
       "</div>"
      ],
      "text/plain": [
       "                Valeur Totale  Valeur Terrain     Pied2    Pièces   Chambre  \\\n",
       "Valeur Totale        1.000000        0.814685  0.766510  0.626500  0.582365   \n",
       "Valeur Terrain       0.814685        1.000000  0.515980  0.517940  0.497388   \n",
       "Pied2                0.766510        0.515980  1.000000  0.562823  0.431150   \n",
       "Pièces               0.626500        0.517940  0.562823  1.000000  0.790934   \n",
       "Chambre              0.582365        0.497388  0.431150  0.790934  1.000000   \n",
       "SbainsC              0.626234        0.505859  0.457476  0.479091  0.585968   \n",
       "Sbains               0.435950        0.235842  0.353999  0.488519  0.166039   \n",
       "Foyers               0.547980        0.496970  0.364592  0.394377  0.399628   \n",
       "\n",
       "                 SbainsC    Sbains    Foyers  \n",
       "Valeur Totale   0.626234  0.435950  0.547980  \n",
       "Valeur Terrain  0.505859  0.235842  0.496970  \n",
       "Pied2           0.457476  0.353999  0.364592  \n",
       "Pièces          0.479091  0.488519  0.394377  \n",
       "Chambre         0.585968  0.166039  0.399628  \n",
       "SbainsC         1.000000  0.171758  0.485582  \n",
       "Sbains          0.171758  1.000000  0.385958  \n",
       "Foyers          0.485582  0.385958  1.000000  "
      ]
     },
     "execution_count": 22,
     "metadata": {},
     "output_type": "execute_result"
    }
   ],
   "source": [
    "df.corr()"
   ]
  },
  {
   "cell_type": "markdown",
   "metadata": {},
   "source": [
    "Oui il y a un lien"
   ]
  },
  {
   "cell_type": "code",
   "execution_count": 23,
   "metadata": {},
   "outputs": [
    {
     "data": {
      "text/html": [
       "<div>\n",
       "<style scoped>\n",
       "    .dataframe tbody tr th:only-of-type {\n",
       "        vertical-align: middle;\n",
       "    }\n",
       "\n",
       "    .dataframe tbody tr th {\n",
       "        vertical-align: top;\n",
       "    }\n",
       "\n",
       "    .dataframe thead th {\n",
       "        text-align: right;\n",
       "    }\n",
       "</style>\n",
       "<table border=\"1\" class=\"dataframe\">\n",
       "  <thead>\n",
       "    <tr style=\"text-align: right;\">\n",
       "      <th></th>\n",
       "      <th>Valeur Totale</th>\n",
       "      <th>Valeur Terrain</th>\n",
       "      <th>Pied2</th>\n",
       "      <th>Pièces</th>\n",
       "      <th>Chambre</th>\n",
       "      <th>SbainsC</th>\n",
       "      <th>Sbains</th>\n",
       "      <th>Foyers</th>\n",
       "    </tr>\n",
       "  </thead>\n",
       "  <tbody>\n",
       "    <tr>\n",
       "      <th>count</th>\n",
       "      <td>79.000000</td>\n",
       "      <td>79.000000</td>\n",
       "      <td>79.000000</td>\n",
       "      <td>79.000000</td>\n",
       "      <td>79.000000</td>\n",
       "      <td>79.000000</td>\n",
       "      <td>79.000000</td>\n",
       "      <td>79.000000</td>\n",
       "    </tr>\n",
       "    <tr>\n",
       "      <th>mean</th>\n",
       "      <td>187253.405063</td>\n",
       "      <td>65899.481013</td>\n",
       "      <td>1677.911392</td>\n",
       "      <td>8.518987</td>\n",
       "      <td>3.987342</td>\n",
       "      <td>2.240506</td>\n",
       "      <td>0.721519</td>\n",
       "      <td>1.974684</td>\n",
       "    </tr>\n",
       "    <tr>\n",
       "      <th>std</th>\n",
       "      <td>84401.421337</td>\n",
       "      <td>22986.951385</td>\n",
       "      <td>634.638847</td>\n",
       "      <td>2.401179</td>\n",
       "      <td>1.265860</td>\n",
       "      <td>1.283177</td>\n",
       "      <td>0.714981</td>\n",
       "      <td>1.367898</td>\n",
       "    </tr>\n",
       "    <tr>\n",
       "      <th>min</th>\n",
       "      <td>74365.000000</td>\n",
       "      <td>35353.000000</td>\n",
       "      <td>672.000000</td>\n",
       "      <td>5.000000</td>\n",
       "      <td>2.000000</td>\n",
       "      <td>1.000000</td>\n",
       "      <td>0.000000</td>\n",
       "      <td>0.000000</td>\n",
       "    </tr>\n",
       "    <tr>\n",
       "      <th>25%</th>\n",
       "      <td>123089.000000</td>\n",
       "      <td>48002.000000</td>\n",
       "      <td>1147.000000</td>\n",
       "      <td>7.000000</td>\n",
       "      <td>3.000000</td>\n",
       "      <td>1.000000</td>\n",
       "      <td>0.000000</td>\n",
       "      <td>1.000000</td>\n",
       "    </tr>\n",
       "    <tr>\n",
       "      <th>50%</th>\n",
       "      <td>156761.000000</td>\n",
       "      <td>59861.000000</td>\n",
       "      <td>1628.000000</td>\n",
       "      <td>8.000000</td>\n",
       "      <td>4.000000</td>\n",
       "      <td>2.000000</td>\n",
       "      <td>1.000000</td>\n",
       "      <td>2.000000</td>\n",
       "    </tr>\n",
       "    <tr>\n",
       "      <th>75%</th>\n",
       "      <td>235277.500000</td>\n",
       "      <td>77868.000000</td>\n",
       "      <td>2022.000000</td>\n",
       "      <td>10.000000</td>\n",
       "      <td>5.000000</td>\n",
       "      <td>3.000000</td>\n",
       "      <td>1.000000</td>\n",
       "      <td>2.500000</td>\n",
       "    </tr>\n",
       "    <tr>\n",
       "      <th>max</th>\n",
       "      <td>453744.000000</td>\n",
       "      <td>131224.000000</td>\n",
       "      <td>3501.000000</td>\n",
       "      <td>18.000000</td>\n",
       "      <td>8.000000</td>\n",
       "      <td>7.000000</td>\n",
       "      <td>3.000000</td>\n",
       "      <td>7.000000</td>\n",
       "    </tr>\n",
       "  </tbody>\n",
       "</table>\n",
       "</div>"
      ],
      "text/plain": [
       "       Valeur Totale  Valeur Terrain        Pied2     Pièces    Chambre  \\\n",
       "count      79.000000       79.000000    79.000000  79.000000  79.000000   \n",
       "mean   187253.405063    65899.481013  1677.911392   8.518987   3.987342   \n",
       "std     84401.421337    22986.951385   634.638847   2.401179   1.265860   \n",
       "min     74365.000000    35353.000000   672.000000   5.000000   2.000000   \n",
       "25%    123089.000000    48002.000000  1147.000000   7.000000   3.000000   \n",
       "50%    156761.000000    59861.000000  1628.000000   8.000000   4.000000   \n",
       "75%    235277.500000    77868.000000  2022.000000  10.000000   5.000000   \n",
       "max    453744.000000   131224.000000  3501.000000  18.000000   8.000000   \n",
       "\n",
       "         SbainsC     Sbains     Foyers  \n",
       "count  79.000000  79.000000  79.000000  \n",
       "mean    2.240506   0.721519   1.974684  \n",
       "std     1.283177   0.714981   1.367898  \n",
       "min     1.000000   0.000000   0.000000  \n",
       "25%     1.000000   0.000000   1.000000  \n",
       "50%     2.000000   1.000000   2.000000  \n",
       "75%     3.000000   1.000000   2.500000  \n",
       "max     7.000000   3.000000   7.000000  "
      ]
     },
     "execution_count": 23,
     "metadata": {},
     "output_type": "execute_result"
    }
   ],
   "source": [
    "df.describe()"
   ]
  },
  {
   "cell_type": "code",
   "execution_count": 24,
   "metadata": {},
   "outputs": [],
   "source": [
    "def plr(x, y):\n",
    "  X = df[x]\n",
    "  Y = df[y]\n",
    "\n",
    "  plt.scatter(X, Y)\n",
    "  lr = linregress(X, Y)\n",
    "  plt.plot(X, lr.intercept + lr.slope * np.array(X), 'r')"
   ]
  },
  {
   "cell_type": "code",
   "execution_count": 25,
   "metadata": {},
   "outputs": [
    {
     "data": {
      "image/png": "[encoded data removed]",
      "text/plain": [
       "<Figure size 432x288 with 1 Axes>"
      ]
     },
     "metadata": {
      "needs_background": "light"
     },
     "output_type": "display_data"
    }
   ],
   "source": [
    "plr(\"Valeur Totale\", \"Valeur Terrain\")"
   ]
  },
  {
   "cell_type": "code",
   "execution_count": 26,
   "metadata": {},
   "outputs": [
    {
     "data": {
      "image/png": "[encoded data removed]",
      "text/plain": [
       "<Figure size 432x288 with 1 Axes>"
      ]
     },
     "metadata": {
      "needs_background": "light"
     },
     "output_type": "display_data"
    }
   ],
   "source": [
    "plr(\"Valeur Totale\", \"Pied2\")"
   ]
  },
  {
   "cell_type": "code",
   "execution_count": 27,
   "metadata": {},
   "outputs": [
    {
     "data": {
      "image/png": "[encoded data removed]",
      "text/plain": [
       "<Figure size 432x288 with 1 Axes>"
      ]
     },
     "metadata": {
      "needs_background": "light"
     },
     "output_type": "display_data"
    }
   ],
   "source": [
    "plr(\"Valeur Totale\", \"Pièces\")"
   ]
  },
  {
   "cell_type": "code",
   "execution_count": 28,
   "metadata": {},
   "outputs": [
    {
     "data": {
      "image/png": "[encoded data removed]",
      "text/plain": [
       "<Figure size 432x288 with 1 Axes>"
      ]
     },
     "metadata": {
      "needs_background": "light"
     },
     "output_type": "display_data"
    }
   ],
   "source": [
    "plr(\"Valeur Totale\", \"Chambre\")"
   ]
  },
  {
   "cell_type": "markdown",
   "metadata": {},
   "source": [
    "régression multiple"
   ]
  },
  {
   "cell_type": "code",
   "execution_count": 29,
   "metadata": {},
   "outputs": [
    {
     "data": {
      "text/html": [
       "<table class=\"simpletable\">\n",
       "<caption>OLS Regression Results</caption>\n",
       "<tr>\n",
       "  <th>Dep. Variable:</th>      <td>Valeur Totale</td>  <th>  R-squared (uncentered):</th>      <td>   0.944</td>\n",
       "</tr>\n",
       "<tr>\n",
       "  <th>Model:</th>                   <td>OLS</td>       <th>  Adj. R-squared (uncentered):</th> <td>   0.943</td>\n",
       "</tr>\n",
       "<tr>\n",
       "  <th>Method:</th>             <td>Least Squares</td>  <th>  F-statistic:       </th>          <td>   1304.</td>\n",
       "</tr>\n",
       "<tr>\n",
       "  <th>Date:</th>             <td>Sun, 24 Oct 2021</td> <th>  Prob (F-statistic):</th>          <td>1.89e-50</td>\n",
       "</tr>\n",
       "<tr>\n",
       "  <th>Time:</th>                 <td>18:30:49</td>     <th>  Log-Likelihood:    </th>          <td> -964.84</td>\n",
       "</tr>\n",
       "<tr>\n",
       "  <th>No. Observations:</th>      <td>    79</td>      <th>  AIC:               </th>          <td>   1932.</td>\n",
       "</tr>\n",
       "<tr>\n",
       "  <th>Df Residuals:</th>          <td>    78</td>      <th>  BIC:               </th>          <td>   1934.</td>\n",
       "</tr>\n",
       "<tr>\n",
       "  <th>Df Model:</th>              <td>     1</td>      <th>                     </th>              <td> </td>   \n",
       "</tr>\n",
       "<tr>\n",
       "  <th>Covariance Type:</th>      <td>nonrobust</td>    <th>                     </th>              <td> </td>   \n",
       "</tr>\n",
       "</table>\n",
       "<table class=\"simpletable\">\n",
       "<tr>\n",
       "         <td></td>           <th>coef</th>     <th>std err</th>      <th>t</th>      <th>P>|t|</th>  <th>[0.025</th>    <th>0.975]</th>  \n",
       "</tr>\n",
       "<tr>\n",
       "  <th>Valeur Terrain</th> <td>    2.8576</td> <td>    0.079</td> <td>   36.113</td> <td> 0.000</td> <td>    2.700</td> <td>    3.015</td>\n",
       "</tr>\n",
       "</table>\n",
       "<table class=\"simpletable\">\n",
       "<tr>\n",
       "  <th>Omnibus:</th>       <td> 4.935</td> <th>  Durbin-Watson:     </th> <td>   1.794</td>\n",
       "</tr>\n",
       "<tr>\n",
       "  <th>Prob(Omnibus):</th> <td> 0.085</td> <th>  Jarque-Bera (JB):  </th> <td>   4.468</td>\n",
       "</tr>\n",
       "<tr>\n",
       "  <th>Skew:</th>          <td> 0.390</td> <th>  Prob(JB):          </th> <td>   0.107</td>\n",
       "</tr>\n",
       "<tr>\n",
       "  <th>Kurtosis:</th>      <td> 3.866</td> <th>  Cond. No.          </th> <td>    1.00</td>\n",
       "</tr>\n",
       "</table><br/><br/>Notes:<br/>[1] R² is computed without centering (uncentered) since the model does not contain a constant.<br/>[2] Standard Errors assume that the covariance matrix of the errors is correctly specified."
      ],
      "text/plain": [
       "<class 'statsmodels.iolib.summary.Summary'>\n",
       "\"\"\"\n",
       "                                 OLS Regression Results                                \n",
       "=======================================================================================\n",
       "Dep. Variable:          Valeur Totale   R-squared (uncentered):                   0.944\n",
       "Model:                            OLS   Adj. R-squared (uncentered):              0.943\n",
       "Method:                 Least Squares   F-statistic:                              1304.\n",
       "Date:                Sun, 24 Oct 2021   Prob (F-statistic):                    1.89e-50\n",
       "Time:                        18:30:49   Log-Likelihood:                         -964.84\n",
       "No. Observations:                  79   AIC:                                      1932.\n",
       "Df Residuals:                      78   BIC:                                      1934.\n",
       "Df Model:                           1                                                  \n",
       "Covariance Type:            nonrobust                                                  \n",
       "==================================================================================\n",
       "                     coef    std err          t      P>|t|      [0.025      0.975]\n",
       "----------------------------------------------------------------------------------\n",
       "Valeur Terrain     2.8576      0.079     36.113      0.000       2.700       3.015\n",
       "==============================================================================\n",
       "Omnibus:                        4.935   Durbin-Watson:                   1.794\n",
       "Prob(Omnibus):                  0.085   Jarque-Bera (JB):                4.468\n",
       "Skew:                           0.390   Prob(JB):                        0.107\n",
       "Kurtosis:                       3.866   Cond. No.                         1.00\n",
       "==============================================================================\n",
       "\n",
       "Notes:\n",
       "[1] R² is computed without centering (uncentered) since the model does not contain a constant.\n",
       "[2] Standard Errors assume that the covariance matrix of the errors is correctly specified.\n",
       "\"\"\""
      ]
     },
     "execution_count": 29,
     "metadata": {},
     "output_type": "execute_result"
    }
   ],
   "source": [
    "from statsmodels.regression.linear_model import OLS\n",
    "m = OLS(Y,X)\n",
    "results = m.fit()\n",
    "su = results.summary()\n",
    "su"
   ]
  },
  {
   "cell_type": "markdown",
   "metadata": {},
   "source": [
    "idk if is good"
   ]
  }
 ],
 "metadata": {
  "interpreter": {
   "hash": "31f2aee4e71d21fbe5cf8b01ff0e069b9275f58929596ceb00d14d90e3e16cd6"
  },
  "kernelspec": {
   "display_name": "Python 3.8.10 64-bit",
   "name": "python3"
  },
  "language_info": {
   "codemirror_mode": {
    "name": "ipython",
    "version": 3
   },
   "file_extension": ".py",
   "mimetype": "text/x-python",
   "name": "python",
   "nbconvert_exporter": "python",
   "pygments_lexer": "ipython3",
   "version": "3.8.10"
  },
  "orig_nbformat": 4
 },
 "nbformat": 4,
 "nbformat_minor": 2
}

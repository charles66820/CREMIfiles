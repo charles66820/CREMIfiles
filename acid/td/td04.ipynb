{
 "cells": [
  {
   "cell_type": "markdown",
   "metadata": {},
   "source": [
    "# k-nn : K-Nearest Neighbors"
   ]
  },
  {
   "cell_type": "markdown",
   "metadata": {},
   "source": [
    "## Exercice 1"
   ]
  },
  {
   "cell_type": "code",
   "execution_count": 30,
   "metadata": {},
   "outputs": [],
   "source": [
    "import numpy as np\n",
    "import pandas as pa\n",
    "\n",
    "import warnings\n",
    "warnings.filterwarnings(\"ignore\")"
   ]
  },
  {
   "cell_type": "code",
   "execution_count": 31,
   "metadata": {},
   "outputs": [],
   "source": [
    "V1 = np.array([1, 2, 3])\n",
    "V2 = np.array([4, 5, 6])"
   ]
  },
  {
   "cell_type": "code",
   "execution_count": 32,
   "metadata": {},
   "outputs": [
    {
     "data": {
      "text/plain": [
       "5.196152422706632"
      ]
     },
     "execution_count": 32,
     "metadata": {},
     "output_type": "execute_result"
    }
   ],
   "source": [
    "def euclidean(u, v): # euclidian distance\n",
    "  return np.linalg.norm(u - v)\n",
    "\n",
    "euclidean(V1, V2)"
   ]
  },
  {
   "cell_type": "code",
   "execution_count": 33,
   "metadata": {},
   "outputs": [
    {
     "data": {
      "text/plain": [
       "5.196152422706632"
      ]
     },
     "execution_count": 33,
     "metadata": {},
     "output_type": "execute_result"
    }
   ],
   "source": [
    "from scipy.spatial import distance\n",
    "dst = distance.euclidean(V1, V2)\n",
    "dst"
   ]
  },
  {
   "cell_type": "code",
   "execution_count": 34,
   "metadata": {},
   "outputs": [
    {
     "name": "stdout",
     "output_type": "stream",
     "text": [
      "0.0\n",
      "1.7320508075688772\n"
     ]
    }
   ],
   "source": [
    "u = np.array([1, 2, 3])\n",
    "v = np.array([1, 2, 3, 1])\n",
    "w = np.array([2, 3, 4, 0])\n",
    "print(euclidean(u, v[:-1]))\n",
    "print(euclidean(u, w[:-1]))"
   ]
  },
  {
   "cell_type": "code",
   "execution_count": 35,
   "metadata": {},
   "outputs": [],
   "source": [
    "def distances(u, dataset):\n",
    "  res = []\n",
    "  for v in dataset:\n",
    "    res.append(euclidean(u, v[:-1]))\n",
    "  return res"
   ]
  },
  {
   "cell_type": "code",
   "execution_count": 36,
   "metadata": {},
   "outputs": [
    {
     "name": "stdout",
     "output_type": "stream",
     "text": [
      "[0.0, 1.7320508075688772, 3.4641016151377544, 5.196152422706632]\n"
     ]
    }
   ],
   "source": [
    "u = np.array([1, 2, 3])\n",
    "dataset = np.array([[1, 2, 3, 0],\n",
    "                   [2, 3, 4, 1],\n",
    "                   [3, 4, 5, 1],\n",
    "                   [4, 5, 6, 0]])\n",
    "dist = distances(u, dataset)\n",
    "print(dist)"
   ]
  },
  {
   "cell_type": "code",
   "execution_count": 37,
   "metadata": {},
   "outputs": [],
   "source": [
    "def voisins(u, dataset, k):\n",
    "    res = []\n",
    "    dist = distances(u, dataset)\n",
    "    ind = np.argpartition(dist, k)[:k]\n",
    "    for i in ind:\n",
    "        res.append(dataset[i])\n",
    "    return res"
   ]
  },
  {
   "cell_type": "code",
   "execution_count": 38,
   "metadata": {},
   "outputs": [
    {
     "name": "stdout",
     "output_type": "stream",
     "text": [
      "[array([1, 2, 3, 1]), array([2, 3, 4, 1])]\n"
     ]
    }
   ],
   "source": [
    "u = np.array([1, 2, 3])\n",
    "dataset = np.array([[1, 2, 3, 1],\n",
    "                   [2, 3, 4, 1],\n",
    "                   [3, 4, 5, 0],\n",
    "                   [4, 5, 6, 0]])\n",
    "print(voisins(u, dataset, 2))"
   ]
  },
  {
   "cell_type": "code",
   "execution_count": 39,
   "metadata": {},
   "outputs": [],
   "source": [
    "# from collections import Counter\n",
    "def classifier(u, dataset, k):\n",
    "  nb = voisins(u, dataset, k)\n",
    "  classes = np.array(nb)[:, -1].astype(int)\n",
    "\n",
    "  counts = np.bincount(classes) # count number of occurrence\n",
    "  return np.argmax(counts) # max index"
   ]
  },
  {
   "cell_type": "code",
   "execution_count": 40,
   "metadata": {},
   "outputs": [
    {
     "name": "stdout",
     "output_type": "stream",
     "text": [
      "[5.196152422706632, 3.4641016151377544, 1.7320508075688772, 0.0, 5.196152422706632]\n",
      "0\n"
     ]
    }
   ],
   "source": [
    "u = np.array([4, 5, 6])\n",
    "dataset = np.array([[1, 2, 3, 0],\n",
    "                   [2, 3, 4, 1],\n",
    "                   [3, 4, 5, 0],\n",
    "                   [4, 5, 6, 1],\n",
    "                   [1, 2, 3, 0]])\n",
    "print(distances(u, dataset))\n",
    "print(classifier(u, dataset, 2))"
   ]
  },
  {
   "cell_type": "markdown",
   "metadata": {},
   "source": [
    "## Exercice 2"
   ]
  },
  {
   "cell_type": "code",
   "execution_count": 41,
   "metadata": {},
   "outputs": [
    {
     "name": "stdout",
     "output_type": "stream",
     "text": [
      ".. _iris_dataset:\n",
      "\n",
      "Iris plants dataset\n",
      "--------------------\n",
      "\n",
      "**Data Set Characteristics:**\n",
      "\n",
      "    :Number of Instances: 150 (50 in each of three classes)\n",
      "    :Number of Attributes: 4 numeric, predictive attributes and the class\n",
      "    :Attribute Information:\n",
      "        - sepal length in cm\n",
      "        - sepal width in cm\n",
      "        - petal length in cm\n",
      "        - petal width in cm\n",
      "        - class:\n",
      "                - Iris-Setosa\n",
      "                - Iris-Versicolour\n",
      "                - Iris-Virginica\n",
      "                \n",
      "    :Summary Statistics:\n",
      "\n",
      "    ============== ==== ==== ======= ===== ====================\n",
      "                    Min  Max   Mean    SD   Class Correlation\n",
      "    ============== ==== ==== ======= ===== ====================\n",
      "    sepal length:   4.3  7.9   5.84   0.83    0.7826\n",
      "    sepal width:    2.0  4.4   3.05   0.43   -0.4194\n",
      "    petal length:   1.0  6.9   3.76   1.76    0.9490  (high!)\n",
      "    petal width:    0.1  2.5   1.20   0.76    0.9565  (high!)\n",
      "    ============== ==== ==== ======= ===== ====================\n",
      "\n",
      "    :Missing Attribute Values: None\n",
      "    :Class Distribution: 33.3% for each of 3 classes.\n",
      "    :Creator: R.A. Fisher\n",
      "    :Donor: Michael Marshall (MARSHALL%PLU@io.arc.nasa.gov)\n",
      "    :Date: July, 1988\n",
      "\n",
      "The famous Iris database, first used by Sir R.A. Fisher. The dataset is taken\n",
      "from Fisher's paper. Note that it's the same as in R, but not as in the UCI\n",
      "Machine Learning Repository, which has two wrong data points.\n",
      "\n",
      "This is perhaps the best known database to be found in the\n",
      "pattern recognition literature.  Fisher's paper is a classic in the field and\n",
      "is referenced frequently to this day.  (See Duda & Hart, for example.)  The\n",
      "data set contains 3 classes of 50 instances each, where each class refers to a\n",
      "type of iris plant.  One class is linearly separable from the other 2; the\n",
      "latter are NOT linearly separable from each other.\n",
      "\n",
      ".. topic:: References\n",
      "\n",
      "   - Fisher, R.A. \"The use of multiple measurements in taxonomic problems\"\n",
      "     Annual Eugenics, 7, Part II, 179-188 (1936); also in \"Contributions to\n",
      "     Mathematical Statistics\" (John Wiley, NY, 1950).\n",
      "   - Duda, R.O., & Hart, P.E. (1973) Pattern Classification and Scene Analysis.\n",
      "     (Q327.D83) John Wiley & Sons.  ISBN 0-471-22361-1.  See page 218.\n",
      "   - Dasarathy, B.V. (1980) \"Nosing Around the Neighborhood: A New System\n",
      "     Structure and Classification Rule for Recognition in Partially Exposed\n",
      "     Environments\".  IEEE Transactions on Pattern Analysis and Machine\n",
      "     Intelligence, Vol. PAMI-2, No. 1, 67-71.\n",
      "   - Gates, G.W. (1972) \"The Reduced Nearest Neighbor Rule\".  IEEE Transactions\n",
      "     on Information Theory, May 1972, 431-433.\n",
      "   - See also: 1988 MLC Proceedings, 54-64.  Cheeseman et al\"s AUTOCLASS II\n",
      "     conceptual clustering system finds 3 classes in the data.\n",
      "   - Many, many more ...\n"
     ]
    }
   ],
   "source": [
    "from sklearn.datasets import load_iris\n",
    "iris = load_iris()\n",
    "print(iris.DESCR)"
   ]
  },
  {
   "cell_type": "code",
   "execution_count": 42,
   "metadata": {},
   "outputs": [
    {
     "name": "stdout",
     "output_type": "stream",
     "text": [
      "[0 0 0 0 0 0 0 0 0 0 0 0 0 0 0 0 0 0 0 0 0 0 0 0 0 0 0 0 0 0 0 0 0 0 0 0 0\n",
      " 0 0 0 0 0 0 0 0 0 0 0 0 0 1 1 1 1 1 1 1 1 1 1 1 1 1 1 1 1 1 1 1 1 1 1 1 1\n",
      " 1 1 1 1 1 1 1 1 1 1 1 1 1 1 1 1 1 1 1 1 1 1 1 1 1 1 2 2 2 2 2 2 2 2 2 2 2\n",
      " 2 2 2 2 2 2 2 2 2 2 2 2 2 2 2 2 2 2 2 2 2 2 2 2 2 2 2 2 2 2 2 2 2 2 2 2 2\n",
      " 2 2]\n"
     ]
    }
   ],
   "source": [
    "print(iris.target)"
   ]
  },
  {
   "cell_type": "code",
   "execution_count": 43,
   "metadata": {},
   "outputs": [
    {
     "name": "stdout",
     "output_type": "stream",
     "text": [
      "(150, 4)\n"
     ]
    }
   ],
   "source": [
    "print(iris.data.shape)"
   ]
  },
  {
   "cell_type": "code",
   "execution_count": 44,
   "metadata": {},
   "outputs": [
    {
     "name": "stdout",
     "output_type": "stream",
     "text": [
      "(150,)\n"
     ]
    }
   ],
   "source": [
    "print(iris.target.shape)"
   ]
  },
  {
   "cell_type": "code",
   "execution_count": 45,
   "metadata": {},
   "outputs": [
    {
     "name": "stdout",
     "output_type": "stream",
     "text": [
      "[0 0 0 0 0 0 0 0 0 0 0 0 0 0 0 0 0 0 0 0 0 0 0 0 0 0 0 0 0 0 0 0 0 0 0 0 0\n",
      " 0 0 0 0 0 0 0 0 0 0 0 0 0 1 1 1 1 1 1 1 1 1 1 1 1 1 1 1 1 1 1 1 1 1 1 1 1\n",
      " 1 1 1 1 1 1 1 1 1 1 1 1 1 1 1 1 1 1 1 1 1 1 1 1 1 1 1 1 1 1 1 1 1 1 1 1 1\n",
      " 1 1 1 1 1 1 1 1 1 1 1 1 1 1 1 1 1 1 1 1 1 1 1 1 1 1 1 1 1 1 1 1 1 1 1 1 1\n",
      " 1 1]\n"
     ]
    }
   ],
   "source": [
    "for i in range(iris.target.size):\n",
    "  if iris.target[i] == 2:\n",
    "    iris.target[i] = 1\n",
    "print(iris.target)"
   ]
  },
  {
   "cell_type": "code",
   "execution_count": 46,
   "metadata": {},
   "outputs": [
    {
     "name": "stdout",
     "output_type": "stream",
     "text": [
      "[[5.1 1.4 0. ]\n",
      " [4.9 1.4 0. ]\n",
      " [4.7 1.3 0. ]\n",
      " [4.6 1.5 0. ]\n",
      " [5.  1.4 0. ]\n",
      " [5.4 1.7 0. ]\n",
      " [4.6 1.4 0. ]\n",
      " [5.  1.5 0. ]\n",
      " [4.4 1.4 0. ]\n",
      " [4.9 1.5 0. ]\n",
      " [5.4 1.5 0. ]\n",
      " [4.8 1.6 0. ]\n",
      " [4.8 1.4 0. ]\n",
      " [4.3 1.1 0. ]\n",
      " [5.8 1.2 0. ]\n",
      " [5.7 1.5 0. ]\n",
      " [5.4 1.3 0. ]\n",
      " [5.1 1.4 0. ]\n",
      " [5.7 1.7 0. ]\n",
      " [5.1 1.5 0. ]\n",
      " [5.4 1.7 0. ]\n",
      " [5.1 1.5 0. ]\n",
      " [4.6 1.  0. ]\n",
      " [5.1 1.7 0. ]\n",
      " [4.8 1.9 0. ]\n",
      " [5.  1.6 0. ]\n",
      " [5.  1.6 0. ]\n",
      " [5.2 1.5 0. ]\n",
      " [5.2 1.4 0. ]\n",
      " [4.7 1.6 0. ]\n",
      " [4.8 1.6 0. ]\n",
      " [5.4 1.5 0. ]\n",
      " [5.2 1.5 0. ]\n",
      " [5.5 1.4 0. ]\n",
      " [4.9 1.5 0. ]\n",
      " [5.  1.2 0. ]\n",
      " [5.5 1.3 0. ]\n",
      " [4.9 1.4 0. ]\n",
      " [4.4 1.3 0. ]\n",
      " [5.1 1.5 0. ]\n",
      " [5.  1.3 0. ]\n",
      " [4.5 1.3 0. ]\n",
      " [4.4 1.3 0. ]\n",
      " [5.  1.6 0. ]\n",
      " [5.1 1.9 0. ]\n",
      " [4.8 1.4 0. ]\n",
      " [5.1 1.6 0. ]\n",
      " [4.6 1.4 0. ]\n",
      " [5.3 1.5 0. ]\n",
      " [5.  1.4 0. ]\n",
      " [7.  4.7 1. ]\n",
      " [6.4 4.5 1. ]\n",
      " [6.9 4.9 1. ]\n",
      " [5.5 4.  1. ]\n",
      " [6.5 4.6 1. ]\n",
      " [5.7 4.5 1. ]\n",
      " [6.3 4.7 1. ]\n",
      " [4.9 3.3 1. ]\n",
      " [6.6 4.6 1. ]\n",
      " [5.2 3.9 1. ]\n",
      " [5.  3.5 1. ]\n",
      " [5.9 4.2 1. ]\n",
      " [6.  4.  1. ]\n",
      " [6.1 4.7 1. ]\n",
      " [5.6 3.6 1. ]\n",
      " [6.7 4.4 1. ]\n",
      " [5.6 4.5 1. ]\n",
      " [5.8 4.1 1. ]\n",
      " [6.2 4.5 1. ]\n",
      " [5.6 3.9 1. ]\n",
      " [5.9 4.8 1. ]\n",
      " [6.1 4.  1. ]\n",
      " [6.3 4.9 1. ]\n",
      " [6.1 4.7 1. ]\n",
      " [6.4 4.3 1. ]\n",
      " [6.6 4.4 1. ]\n",
      " [6.8 4.8 1. ]\n",
      " [6.7 5.  1. ]\n",
      " [6.  4.5 1. ]\n",
      " [5.7 3.5 1. ]\n",
      " [5.5 3.8 1. ]\n",
      " [5.5 3.7 1. ]\n",
      " [5.8 3.9 1. ]\n",
      " [6.  5.1 1. ]\n",
      " [5.4 4.5 1. ]\n",
      " [6.  4.5 1. ]\n",
      " [6.7 4.7 1. ]\n",
      " [6.3 4.4 1. ]\n",
      " [5.6 4.1 1. ]\n",
      " [5.5 4.  1. ]\n",
      " [5.5 4.4 1. ]\n",
      " [6.1 4.6 1. ]\n",
      " [5.8 4.  1. ]\n",
      " [5.  3.3 1. ]\n",
      " [5.6 4.2 1. ]\n",
      " [5.7 4.2 1. ]\n",
      " [5.7 4.2 1. ]\n",
      " [6.2 4.3 1. ]\n",
      " [5.1 3.  1. ]\n",
      " [5.7 4.1 1. ]\n",
      " [6.3 6.  1. ]\n",
      " [5.8 5.1 1. ]\n",
      " [7.1 5.9 1. ]\n",
      " [6.3 5.6 1. ]\n",
      " [6.5 5.8 1. ]\n",
      " [7.6 6.6 1. ]\n",
      " [4.9 4.5 1. ]\n",
      " [7.3 6.3 1. ]\n",
      " [6.7 5.8 1. ]\n",
      " [7.2 6.1 1. ]\n",
      " [6.5 5.1 1. ]\n",
      " [6.4 5.3 1. ]\n",
      " [6.8 5.5 1. ]\n",
      " [5.7 5.  1. ]\n",
      " [5.8 5.1 1. ]\n",
      " [6.4 5.3 1. ]\n",
      " [6.5 5.5 1. ]\n",
      " [7.7 6.7 1. ]\n",
      " [7.7 6.9 1. ]\n",
      " [6.  5.  1. ]\n",
      " [6.9 5.7 1. ]\n",
      " [5.6 4.9 1. ]\n",
      " [7.7 6.7 1. ]\n",
      " [6.3 4.9 1. ]\n",
      " [6.7 5.7 1. ]\n",
      " [7.2 6.  1. ]\n",
      " [6.2 4.8 1. ]\n",
      " [6.1 4.9 1. ]\n",
      " [6.4 5.6 1. ]\n",
      " [7.2 5.8 1. ]\n",
      " [7.4 6.1 1. ]\n",
      " [7.9 6.4 1. ]\n",
      " [6.4 5.6 1. ]\n",
      " [6.3 5.1 1. ]\n",
      " [6.1 5.6 1. ]\n",
      " [7.7 6.1 1. ]\n",
      " [6.3 5.6 1. ]\n",
      " [6.4 5.5 1. ]\n",
      " [6.  4.8 1. ]\n",
      " [6.9 5.4 1. ]\n",
      " [6.7 5.6 1. ]\n",
      " [6.9 5.1 1. ]\n",
      " [5.8 5.1 1. ]\n",
      " [6.8 5.9 1. ]\n",
      " [6.7 5.7 1. ]\n",
      " [6.7 5.2 1. ]\n",
      " [6.3 5.  1. ]\n",
      " [6.5 5.2 1. ]\n",
      " [6.2 5.4 1. ]\n",
      " [5.9 5.1 1. ]]\n"
     ]
    }
   ],
   "source": [
    "dataset = iris.data[:, 0::2]\n",
    "iris.target = iris.target.reshape((iris.target.size, 1))\n",
    "\n",
    "dataset = np.concatenate((dataset, iris.target), axis=1)\n",
    "print(dataset)"
   ]
  },
  {
   "cell_type": "code",
   "execution_count": 47,
   "metadata": {},
   "outputs": [
    {
     "name": "stdout",
     "output_type": "stream",
     "text": [
      "0\n"
     ]
    }
   ],
   "source": [
    "u = np.array([6.5, 2.5])\n",
    "print(classifier(u, dataset, 3))"
   ]
  },
  {
   "cell_type": "code",
   "execution_count": 48,
   "metadata": {},
   "outputs": [
    {
     "name": "stdout",
     "output_type": "stream",
     "text": [
      "[5.1 4.9 4.7 4.6 5.  5.4 4.6 5.  4.4 4.9 5.4 4.8 4.8 4.3 5.8 5.7 5.4 5.1\n",
      " 5.7 5.1 5.4 5.1 4.6 5.1 4.8 5.  5.  5.2 5.2 4.7 4.8 5.4 5.2 5.5 4.9 5.\n",
      " 5.5 4.9 4.4 5.1 5.  4.5 4.4 5.  5.1 4.8 5.1 4.6 5.3 5. ]\n",
      "[1.4 1.4 1.3 1.5 1.4 1.7 1.4 1.5 1.4 1.5 1.5 1.6 1.4 1.1 1.2 1.5 1.3 1.4\n",
      " 1.7 1.5 1.7 1.5 1.  1.7 1.9 1.6 1.6 1.5 1.4 1.6 1.6 1.5 1.5 1.4 1.5 1.2\n",
      " 1.3 1.4 1.3 1.5 1.3 1.3 1.3 1.6 1.9 1.4 1.6 1.4 1.5 1.4]\n"
     ]
    },
    {
     "data": {
      "image/png": "[encoded data removed]",
      "text/plain": [
       "<Figure size 432x288 with 1 Axes>"
      ]
     },
     "metadata": {
      "needs_background": "light"
     },
     "output_type": "display_data"
    }
   ],
   "source": [
    "%matplotlib inline\n",
    "import matplotlib.pyplot as plt\n",
    "\n",
    "X = dataset[dataset[:, 2] == 0.][:, 0]\n",
    "Y = dataset[dataset[:, 2] == 0.][:, 1]\n",
    "print(X)\n",
    "print(Y)\n",
    "plt.scatter(X, Y, c='g')\n",
    "\n",
    "X = dataset[dataset[:, 2] == 1.][:, 0]\n",
    "Y = dataset[dataset[:, 2] == 1.][:, 1]\n",
    "plt.scatter(X, Y, c='b')\n",
    "plt.plot(u[0], u[1], 'ro')\n",
    "\n",
    "c = plt.Circle(u, 1.32, color='r', alpha=0.5)\n",
    "ax = plt.gca()\n",
    "ax.add_patch(c)\n",
    "plt.show()\n"
   ]
  },
  {
   "cell_type": "markdown",
   "metadata": {},
   "source": [
    "## Exercice 3"
   ]
  },
  {
   "cell_type": "code",
   "execution_count": 49,
   "metadata": {},
   "outputs": [
    {
     "data": {
      "text/html": [
       "<div>\n",
       "<style scoped>\n",
       "    .dataframe tbody tr th:only-of-type {\n",
       "        vertical-align: middle;\n",
       "    }\n",
       "\n",
       "    .dataframe tbody tr th {\n",
       "        vertical-align: top;\n",
       "    }\n",
       "\n",
       "    .dataframe thead th {\n",
       "        text-align: right;\n",
       "    }\n",
       "</style>\n",
       "<table border=\"1\" class=\"dataframe\">\n",
       "  <thead>\n",
       "    <tr style=\"text-align: right;\">\n",
       "      <th></th>\n",
       "      <th>fruit_label</th>\n",
       "      <th>fruit_name</th>\n",
       "      <th>fruit_subtype</th>\n",
       "      <th>mass</th>\n",
       "      <th>width</th>\n",
       "      <th>height</th>\n",
       "      <th>color_score</th>\n",
       "    </tr>\n",
       "  </thead>\n",
       "  <tbody>\n",
       "    <tr>\n",
       "      <th>0</th>\n",
       "      <td>1</td>\n",
       "      <td>apple</td>\n",
       "      <td>granny_smith</td>\n",
       "      <td>192</td>\n",
       "      <td>8.4</td>\n",
       "      <td>7.3</td>\n",
       "      <td>0.55</td>\n",
       "    </tr>\n",
       "    <tr>\n",
       "      <th>1</th>\n",
       "      <td>1</td>\n",
       "      <td>apple</td>\n",
       "      <td>granny_smith</td>\n",
       "      <td>180</td>\n",
       "      <td>8.0</td>\n",
       "      <td>6.8</td>\n",
       "      <td>0.59</td>\n",
       "    </tr>\n",
       "    <tr>\n",
       "      <th>2</th>\n",
       "      <td>1</td>\n",
       "      <td>apple</td>\n",
       "      <td>granny_smith</td>\n",
       "      <td>176</td>\n",
       "      <td>7.4</td>\n",
       "      <td>7.2</td>\n",
       "      <td>0.60</td>\n",
       "    </tr>\n",
       "    <tr>\n",
       "      <th>3</th>\n",
       "      <td>2</td>\n",
       "      <td>mandarin</td>\n",
       "      <td>mandarin</td>\n",
       "      <td>86</td>\n",
       "      <td>6.2</td>\n",
       "      <td>4.7</td>\n",
       "      <td>0.80</td>\n",
       "    </tr>\n",
       "  </tbody>\n",
       "</table>\n",
       "</div>"
      ],
      "text/plain": [
       "   fruit_label fruit_name fruit_subtype  mass  width  height  color_score\n",
       "0            1      apple  granny_smith   192    8.4     7.3         0.55\n",
       "1            1      apple  granny_smith   180    8.0     6.8         0.59\n",
       "2            1      apple  granny_smith   176    7.4     7.2         0.60\n",
       "3            2   mandarin      mandarin    86    6.2     4.7         0.80"
      ]
     },
     "execution_count": 49,
     "metadata": {},
     "output_type": "execute_result"
    }
   ],
   "source": [
    "import pandas as pa\n",
    "\n",
    "dataset = pa.read_csv(\"https://www.labri.fr/~zemmari/datasets/fruits.csv\", sep=\"\\t\")\n",
    "df = pa.DataFrame(dataset)\n",
    "df[:4]"
   ]
  },
  {
   "cell_type": "code",
   "execution_count": 50,
   "metadata": {},
   "outputs": [
    {
     "data": {
      "text/plain": [
       "<matplotlib.collections.PathCollection at 0x7f276ca99dc0>"
      ]
     },
     "execution_count": 50,
     "metadata": {},
     "output_type": "execute_result"
    },
    {
     "data": {
      "image/png": "[encoded data removed]",
      "text/plain": [
       "<Figure size 432x288 with 1 Axes>"
      ]
     },
     "metadata": {
      "needs_background": "light"
     },
     "output_type": "display_data"
    }
   ],
   "source": [
    "%matplotlib inline\n",
    "import matplotlib.pyplot as plt\n",
    "X = df[\"height\"]\n",
    "Y = df[\"width\"]\n",
    "plt.scatter(X, Y, c='b')"
   ]
  },
  {
   "cell_type": "code",
   "execution_count": 51,
   "metadata": {},
   "outputs": [
    {
     "data": {
      "text/plain": [
       "0        apple\n",
       "3     mandarin\n",
       "24      orange\n",
       "43       lemon\n",
       "Name: fruit_name, dtype: object"
      ]
     },
     "execution_count": 51,
     "metadata": {},
     "output_type": "execute_result"
    }
   ],
   "source": [
    "fName = df[\"fruit_name\"].drop_duplicates()\n",
    "fName\n"
   ]
  },
  {
   "cell_type": "code",
   "execution_count": 62,
   "metadata": {},
   "outputs": [],
   "source": [
    "def getFruitColor(name):\n",
    "  colors = ['b','g','r','c','m','y','orange','yellow','pink']\n",
    "  i = np.where(fName == name)[0]\n",
    "  if i >= len(colors):\n",
    "    return \"purple\"\n",
    "  return colors[int(i)]"
   ]
  },
  {
   "cell_type": "code",
   "execution_count": 64,
   "metadata": {},
   "outputs": [
    {
     "data": {
      "text/plain": [
       "<matplotlib.collections.PathCollection at 0x7f276ca02a00>"
      ]
     },
     "execution_count": 64,
     "metadata": {},
     "output_type": "execute_result"
    },
    {
     "data": {
      "image/png": "[encoded data removed]",
      "text/plain": [
       "<Figure size 432x288 with 1 Axes>"
      ]
     },
     "metadata": {
      "needs_background": "light"
     },
     "output_type": "display_data"
    }
   ],
   "source": [
    "%matplotlib inline\n",
    "import matplotlib.pyplot as plt\n",
    "X = df[\"height\"]\n",
    "Y = df[\"width\"]\n",
    "y_colors = [getFruitColor(i) for i in df[\"fruit_name\"]]\n",
    "plt.scatter(X, Y, c=y_colors)"
   ]
  },
  {
   "cell_type": "code",
   "execution_count": 69,
   "metadata": {},
   "outputs": [
    {
     "data": {
      "text/plain": [
       "<matplotlib.collections.PathCollection at 0x7f276c7dc430>"
      ]
     },
     "execution_count": 69,
     "metadata": {},
     "output_type": "execute_result"
    },
    {
     "data": {
      "image/png": "[encoded data removed]",
      "text/plain": [
       "<Figure size 432x288 with 1 Axes>"
      ]
     },
     "metadata": {
      "needs_background": "light"
     },
     "output_type": "display_data"
    }
   ],
   "source": [
    "%matplotlib inline\n",
    "import matplotlib.pyplot as plt\n",
    "\n",
    "Xh = df[\"height\"]\n",
    "Xw = df[\"width\"]\n",
    "Xm = df[\"mass\"]\n",
    "\n",
    "# X = df[[\"height\", \"width\", \"mass\"]] #TODO: fix\n",
    "\n",
    "Y = df[\"fruit_name\"]\n",
    "\n",
    "plt.scatter(Xh , Y)\n",
    "plt.scatter(Xw , Y)\n",
    "plt.scatter(Xm , Y)"
   ]
  },
  {
   "cell_type": "markdown",
   "metadata": {},
   "source": [
    "?????"
   ]
  },
  {
   "cell_type": "code",
   "execution_count": 74,
   "metadata": {},
   "outputs": [],
   "source": [
    "from sklearn.model_selection import train_test_split\n",
    "X = df[[\"mass\"]]\n",
    "# X = df[[\"height\", \"width\", \"mass\"]] #TODO: fix\n",
    "Y = df[\"fruit_name\"]\n",
    "\n",
    "X_train, X_test, Y_train, Y_test = train_test_split(X, Y, random_state=1)"
   ]
  },
  {
   "cell_type": "code",
   "execution_count": 75,
   "metadata": {},
   "outputs": [
    {
     "data": {
      "text/plain": [
       "<matplotlib.collections.PathCollection at 0x7f276c969040>"
      ]
     },
     "execution_count": 75,
     "metadata": {},
     "output_type": "execute_result"
    },
    {
     "data": {
      "image/png": "[encoded data removed]",
      "text/plain": [
       "<Figure size 432x288 with 1 Axes>"
      ]
     },
     "metadata": {
      "needs_background": "light"
     },
     "output_type": "display_data"
    }
   ],
   "source": [
    "%matplotlib inline\n",
    "import matplotlib.pyplot as plt\n",
    "\n",
    "plt.scatter(X_train , y_train)"
   ]
  }
 ],
 "metadata": {
  "interpreter": {
   "hash": "31f2aee4e71d21fbe5cf8b01ff0e069b9275f58929596ceb00d14d90e3e16cd6"
  },
  "kernelspec": {
   "display_name": "Python 3.8.10 64-bit",
   "name": "python3"
  },
  "language_info": {
   "codemirror_mode": {
    "name": "ipython",
    "version": 3
   },
   "file_extension": ".py",
   "mimetype": "text/x-python",
   "name": "python",
   "nbconvert_exporter": "python",
   "pygments_lexer": "ipython3",
   "version": "3.8.10"
  },
  "orig_nbformat": 4
 },
 "nbformat": 4,
 "nbformat_minor": 2
}

{
 "cells": [
  {
   "cell_type": "markdown",
   "metadata": {},
   "source": [
    "# k-nn : K-Nearest Neighbors"
   ]
  },
  {
   "cell_type": "markdown",
   "metadata": {},
   "source": [
    "## Exercice 1"
   ]
  },
  {
   "cell_type": "code",
   "execution_count": 143,
   "metadata": {},
   "outputs": [],
   "source": [
    "import numpy as np\n",
    "import pandas as pa\n",
    "\n",
    "import warnings\n",
    "warnings.filterwarnings(\"ignore\")"
   ]
  },
  {
   "cell_type": "code",
   "execution_count": 144,
   "metadata": {},
   "outputs": [],
   "source": [
    "V1 = np.array([1, 2, 3])\n",
    "V2 = np.array([4, 5, 6])"
   ]
  },
  {
   "cell_type": "code",
   "execution_count": 145,
   "metadata": {},
   "outputs": [
    {
     "data": {
      "text/plain": [
       "5.196152422706632"
      ]
     },
     "execution_count": 145,
     "metadata": {},
     "output_type": "execute_result"
    }
   ],
   "source": [
    "def euclidean(u, v): # euclidian distance\n",
    "  return np.linalg.norm(u - v)\n",
    "\n",
    "euclidean(V1, V2)"
   ]
  },
  {
   "cell_type": "code",
   "execution_count": 146,
   "metadata": {},
   "outputs": [
    {
     "data": {
      "text/plain": [
       "5.196152422706632"
      ]
     },
     "execution_count": 146,
     "metadata": {},
     "output_type": "execute_result"
    }
   ],
   "source": [
    "from scipy.spatial import distance\n",
    "dst = distance.euclidean(V1, V2)\n",
    "dst"
   ]
  },
  {
   "cell_type": "code",
   "execution_count": 147,
   "metadata": {},
   "outputs": [
    {
     "name": "stdout",
     "output_type": "stream",
     "text": [
      "0.0\n",
      "1.7320508075688772\n"
     ]
    }
   ],
   "source": [
    "u = np.array([1, 2, 3])\n",
    "v = np.array([1, 2, 3, 1])\n",
    "w = np.array([2, 3, 4, 0])\n",
    "print(euclidean(u, v[:-1]))\n",
    "print(euclidean(u, w[:-1]))"
   ]
  },
  {
   "cell_type": "code",
   "execution_count": 148,
   "metadata": {},
   "outputs": [],
   "source": [
    "def distances(u, dataset):\n",
    "  res = []\n",
    "  for v in dataset:\n",
    "    res.append(euclidean(u, v[:-1]))\n",
    "  return res"
   ]
  },
  {
   "cell_type": "code",
   "execution_count": 149,
   "metadata": {},
   "outputs": [
    {
     "name": "stdout",
     "output_type": "stream",
     "text": [
      "[0.0, 1.7320508075688772, 3.4641016151377544, 5.196152422706632]\n"
     ]
    }
   ],
   "source": [
    "u = np.array([1, 2, 3])\n",
    "dataset = np.array([[1, 2, 3, 0],\n",
    "                   [2, 3, 4, 1],\n",
    "                   [3, 4, 5, 1],\n",
    "                   [4, 5, 6, 0]])\n",
    "dist = distances(u, dataset)\n",
    "print(dist)"
   ]
  },
  {
   "cell_type": "code",
   "execution_count": 150,
   "metadata": {},
   "outputs": [],
   "source": [
    "def voisins(u, dataset, k):\n",
    "    res = []\n",
    "    dist = distances(u, dataset)\n",
    "    ind = np.argpartition(dist, k)[:k]\n",
    "    for i in ind:\n",
    "        res.append(dataset[i])\n",
    "    return res"
   ]
  },
  {
   "cell_type": "code",
   "execution_count": 151,
   "metadata": {},
   "outputs": [
    {
     "name": "stdout",
     "output_type": "stream",
     "text": [
      "[array([1, 2, 3, 1]), array([2, 3, 4, 1])]\n"
     ]
    }
   ],
   "source": [
    "u = np.array([1, 2, 3])\n",
    "dataset = np.array([[1, 2, 3, 1],\n",
    "                   [2, 3, 4, 1],\n",
    "                   [3, 4, 5, 0],\n",
    "                   [4, 5, 6, 0]])\n",
    "print(voisins(u, dataset, 2))"
   ]
  },
  {
   "cell_type": "code",
   "execution_count": 152,
   "metadata": {},
   "outputs": [],
   "source": [
    "# from collections import Counter\n",
    "def classifier(u, dataset, k):\n",
    "  nb = voisins(u, dataset, k)\n",
    "  classes = np.array(nb)[:, -1]\n",
    "\n",
    "  counts = np.bincount(classes) # count number of occurrence\n",
    "  return np.argmax(counts) # max index"
   ]
  },
  {
   "cell_type": "code",
   "execution_count": 153,
   "metadata": {},
   "outputs": [
    {
     "name": "stdout",
     "output_type": "stream",
     "text": [
      "[5.196152422706632, 3.4641016151377544, 1.7320508075688772, 0.0, 5.196152422706632]\n",
      "0\n"
     ]
    }
   ],
   "source": [
    "u = np.array([4, 5, 6])\n",
    "dataset = np.array([[1, 2, 3, 0],\n",
    "                   [2, 3, 4, 1],\n",
    "                   [3, 4, 5, 0],\n",
    "                   [4, 5, 6, 1],\n",
    "                   [1, 2, 3, 0]])\n",
    "print(distances(u, dataset))\n",
    "print(classifier(u, dataset, 2))"
   ]
  },
  {
   "cell_type": "markdown",
   "metadata": {},
   "source": [
    "## Exercice 2"
   ]
  }
 ],
 "metadata": {
  "interpreter": {
   "hash": "31f2aee4e71d21fbe5cf8b01ff0e069b9275f58929596ceb00d14d90e3e16cd6"
  },
  "kernelspec": {
   "display_name": "Python 3.8.10 64-bit",
   "name": "python3"
  },
  "language_info": {
   "codemirror_mode": {
    "name": "ipython",
    "version": 3
   },
   "file_extension": ".py",
   "mimetype": "text/x-python",
   "name": "python",
   "nbconvert_exporter": "python",
   "pygments_lexer": "ipython3",
   "version": "3.8.10"
  },
  "orig_nbformat": 4
 },
 "nbformat": 4,
 "nbformat_minor": 2
}

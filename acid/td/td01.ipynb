{
  "cells": [
    {
      "cell_type": "markdown",
      "metadata": {
        "id": "fRspGSJplWgk"
      },
      "source": [
        "#### Université de Bordeaux,  Master Mention Informatique,  2021-2022\n",
        "\n",
        "# Analyse, classification et indexation des données: feuille 1\n",
        "### Rappels : Probabilités et statistiques, Algèbre linéaire avec Python"
      ]
    },
    {
      "cell_type": "markdown",
      "metadata": {
        "id": "mpIEL2HPlWhc"
      },
      "source": [
        "# 1. Vecteurs et matrices\n",
        "\n",
        "Un élément unique, un vecteur ligne ou colonne sont des cas particuliers de matrice (tableau 2D).\n",
        "\n",
        "Une des bibliothèques de <code>Python</code> les plus utilisées en algèbre linéaire est la bibliothèque <code>numpy</code>. On commence par l'importer pour pouvoir l'utiliser pour la suite."
      ]
    },
    {
      "cell_type": "code",
      "execution_count": 2,
      "metadata": {
        "id": "VimNlUyblWhl"
      },
      "outputs": [],
      "source": [
        "import numpy as np"
      ]
    },
    {
      "cell_type": "markdown",
      "metadata": {
        "id": "GgLQ4a4QlWh4"
      },
      "source": [
        "### Exercice 1.\n",
        "\n",
        "Création de tableaux, accès à un élément d'un tableau "
      ]
    },
    {
      "cell_type": "markdown",
      "metadata": {
        "id": "XCD7LOaVlWh-"
      },
      "source": [
        "Création d'un vecteur ligne :"
      ]
    },
    {
      "cell_type": "code",
      "execution_count": 3,
      "metadata": {
        "colab": {
          "base_uri": "https://localhost:8080/"
        },
        "id": "iZgqpPHplWh_",
        "outputId": "17473d06-812a-48a6-e138-9de89a9c6110"
      },
      "outputs": [
        {
          "data": {
            "text/plain": [
              "array([10, 20, 30, 40])"
            ]
          },
          "execution_count": 3,
          "metadata": {},
          "output_type": "execute_result"
        }
      ],
      "source": [
        "L1 = np.array([10, 20, 30, 40])\n",
        "L1"
      ]
    },
    {
      "cell_type": "code",
      "execution_count": 4,
      "metadata": {
        "colab": {
          "base_uri": "https://localhost:8080/"
        },
        "id": "o36BQUJYo2is",
        "outputId": "ee520096-a85e-44c6-fa80-ab25cf7e21fe"
      },
      "outputs": [
        {
          "data": {
            "text/plain": [
              "array([[10],\n",
              "       [20],\n",
              "       [30],\n",
              "       [40]])"
            ]
          },
          "execution_count": 4,
          "metadata": {},
          "output_type": "execute_result"
        }
      ],
      "source": [
        "C1 = np.array([[10], [20], [30], [40]])\n",
        "C1"
      ]
    },
    {
      "cell_type": "code",
      "execution_count": 5,
      "metadata": {
        "colab": {
          "base_uri": "https://localhost:8080/"
        },
        "id": "elONLkp4o64Z",
        "outputId": "a700c241-dd7d-4d5b-d8bb-f7ccbfed8297"
      },
      "outputs": [
        {
          "data": {
            "text/plain": [
              "array([[10],\n",
              "       [20],\n",
              "       [30],\n",
              "       [40]])"
            ]
          },
          "execution_count": 5,
          "metadata": {},
          "output_type": "execute_result"
        }
      ],
      "source": [
        "C2 = L1.reshape((4, 1)) # array to matrix\n",
        "C2"
      ]
    },
    {
      "cell_type": "code",
      "execution_count": 6,
      "metadata": {
        "colab": {
          "base_uri": "https://localhost:8080/"
        },
        "id": "PyniUCxxpF1W",
        "outputId": "06410251-a795-4117-a5b7-2c33346a4bf3"
      },
      "outputs": [
        {
          "data": {
            "text/plain": [
              "30"
            ]
          },
          "execution_count": 6,
          "metadata": {},
          "output_type": "execute_result"
        }
      ],
      "source": [
        "L1[2]"
      ]
    },
    {
      "cell_type": "code",
      "execution_count": 7,
      "metadata": {
        "colab": {
          "base_uri": "https://localhost:8080/"
        },
        "id": "Zk4TlsMJpKOZ",
        "outputId": "3acc481e-f330-402b-a006-65ff44d72fe0"
      },
      "outputs": [
        {
          "data": {
            "text/plain": [
              "array([30])"
            ]
          },
          "execution_count": 7,
          "metadata": {},
          "output_type": "execute_result"
        }
      ],
      "source": [
        "C1[2]"
      ]
    },
    {
      "cell_type": "code",
      "execution_count": 8,
      "metadata": {
        "colab": {
          "base_uri": "https://localhost:8080/"
        },
        "id": "u5ipZIuWpM3t",
        "outputId": "b7c6da5d-9830-404f-c7d3-29f41a3442a2"
      },
      "outputs": [
        {
          "data": {
            "text/plain": [
              "30"
            ]
          },
          "execution_count": 8,
          "metadata": {},
          "output_type": "execute_result"
        }
      ],
      "source": [
        "C1[2][0]"
      ]
    },
    {
      "cell_type": "code",
      "execution_count": 9,
      "metadata": {
        "colab": {
          "base_uri": "https://localhost:8080/"
        },
        "id": "43npifASpUoT",
        "outputId": "017d46f3-84ab-4417-bf06-ccf43f66368e"
      },
      "outputs": [
        {
          "data": {
            "text/plain": [
              "array([[10, 20, 30],\n",
              "       [40, 50, 60],\n",
              "       [70, 80, 90]])"
            ]
          },
          "execution_count": 9,
          "metadata": {},
          "output_type": "execute_result"
        }
      ],
      "source": [
        "M1 = np.array([[10, 20, 30], [40, 50, 60], [70, 80, 90]])\n",
        "M1"
      ]
    },
    {
      "cell_type": "code",
      "execution_count": 10,
      "metadata": {
        "colab": {
          "base_uri": "https://localhost:8080/"
        },
        "id": "Pqc8_ES1p6b6",
        "outputId": "72af83e2-f34d-433f-9b90-248610550c61"
      },
      "outputs": [
        {
          "data": {
            "text/plain": [
              "(3, 3)"
            ]
          },
          "execution_count": 10,
          "metadata": {},
          "output_type": "execute_result"
        }
      ],
      "source": [
        "M1.shape # matrice size"
      ]
    },
    {
      "cell_type": "code",
      "execution_count": 11,
      "metadata": {
        "colab": {
          "base_uri": "https://localhost:8080/"
        },
        "id": "EP_ChyB_qqH5",
        "outputId": "5e6e5e39-eb57-4ad1-947c-5571adce004a"
      },
      "outputs": [
        {
          "data": {
            "text/plain": [
              "4"
            ]
          },
          "execution_count": 11,
          "metadata": {},
          "output_type": "execute_result"
        }
      ],
      "source": [
        "np.size(L1) # array size"
      ]
    },
    {
      "cell_type": "code",
      "execution_count": 12,
      "metadata": {
        "colab": {
          "base_uri": "https://localhost:8080/"
        },
        "id": "fNP1QmDwqu_r",
        "outputId": "13291d61-29d1-4cc3-9aed-c440f5e176cd"
      },
      "outputs": [
        {
          "data": {
            "text/plain": [
              "4"
            ]
          },
          "execution_count": 12,
          "metadata": {},
          "output_type": "execute_result"
        }
      ],
      "source": [
        "np.size(C1)"
      ]
    },
    {
      "cell_type": "code",
      "execution_count": 13,
      "metadata": {
        "colab": {
          "base_uri": "https://localhost:8080/"
        },
        "id": "ne_HXux-qyNW",
        "outputId": "7e479eba-1fb9-4ca7-e38c-40af36beb843"
      },
      "outputs": [
        {
          "data": {
            "text/plain": [
              "9"
            ]
          },
          "execution_count": 13,
          "metadata": {},
          "output_type": "execute_result"
        }
      ],
      "source": [
        "np.size(M1)"
      ]
    },
    {
      "cell_type": "code",
      "execution_count": 14,
      "metadata": {
        "colab": {
          "base_uri": "https://localhost:8080/"
        },
        "id": "RPfg1EzBq33X",
        "outputId": "5064745e-89ab-41ad-fdf7-1a3eaf724272"
      },
      "outputs": [
        {
          "data": {
            "text/plain": [
              "3"
            ]
          },
          "execution_count": 14,
          "metadata": {},
          "output_type": "execute_result"
        }
      ],
      "source": [
        "np.size(M1[1])"
      ]
    },
    {
      "cell_type": "code",
      "execution_count": 15,
      "metadata": {
        "colab": {
          "base_uri": "https://localhost:8080/"
        },
        "id": "zDNtB4a-q7fv",
        "outputId": "2e92dfc0-5bf0-49c0-bc32-86c7e7376259"
      },
      "outputs": [
        {
          "data": {
            "text/plain": [
              "60"
            ]
          },
          "execution_count": 15,
          "metadata": {},
          "output_type": "execute_result"
        }
      ],
      "source": [
        "iL = 1\n",
        "iC = 2\n",
        "M1[iL, iC]"
      ]
    },
    {
      "cell_type": "code",
      "execution_count": 16,
      "metadata": {
        "colab": {
          "base_uri": "https://localhost:8080/"
        },
        "id": "XKtDd0tnrBIv",
        "outputId": "a65cd58e-89bd-4ffd-f648-67b37e91b512"
      },
      "outputs": [
        {
          "name": "stdout",
          "output_type": "stream",
          "text": [
            "[40 50 60]\n",
            "[30 60 90]\n"
          ]
        }
      ],
      "source": [
        "print(M1[1, :]) # seconde row\n",
        "print(M1[:, 2]) # tiers column"
      ]
    },
    {
      "cell_type": "code",
      "execution_count": 17,
      "metadata": {
        "colab": {
          "base_uri": "https://localhost:8080/"
        },
        "id": "mQvdIHo7rFhv",
        "outputId": "1246fce3-7cf3-40d4-8c3b-0b6603548cba"
      },
      "outputs": [
        {
          "data": {
            "text/plain": [
              "array([[40]])"
            ]
          },
          "execution_count": 17,
          "metadata": {},
          "output_type": "execute_result"
        }
      ],
      "source": [
        "M1[1:2, 0:1]"
      ]
    },
    {
      "cell_type": "code",
      "execution_count": 18,
      "metadata": {
        "colab": {
          "base_uri": "https://localhost:8080/"
        },
        "id": "jC2TUTtFrLzn",
        "outputId": "eabf6055-b14e-4b0a-b58d-0c0e89a09179"
      },
      "outputs": [
        {
          "data": {
            "text/plain": [
              "array([0., 0., 0.])"
            ]
          },
          "execution_count": 18,
          "metadata": {},
          "output_type": "execute_result"
        }
      ],
      "source": [
        "M2 = np.zeros(3)\n",
        "M2"
      ]
    },
    {
      "cell_type": "code",
      "execution_count": 19,
      "metadata": {
        "colab": {
          "base_uri": "https://localhost:8080/"
        },
        "id": "galqvzjkrclN",
        "outputId": "1a0d777a-d9c9-4c8b-cfba-290178231552"
      },
      "outputs": [
        {
          "data": {
            "text/plain": [
              "array([[0., 0., 0.]])"
            ]
          },
          "execution_count": 19,
          "metadata": {},
          "output_type": "execute_result"
        }
      ],
      "source": [
        "M3 = np.zeros((1,3))\n",
        "M3"
      ]
    },
    {
      "cell_type": "code",
      "execution_count": 20,
      "metadata": {
        "colab": {
          "base_uri": "https://localhost:8080/"
        },
        "id": "8LV-OHXnrj7x",
        "outputId": "a8efeaaa-a724-4065-d779-1bdb89b2c442"
      },
      "outputs": [
        {
          "data": {
            "text/plain": [
              "array([[0., 0., 0.],\n",
              "       [0., 0., 0.]])"
            ]
          },
          "execution_count": 20,
          "metadata": {},
          "output_type": "execute_result"
        }
      ],
      "source": [
        "M4 = np.zeros((2, 3)) # create matrix fill by 0\n",
        "M4"
      ]
    },
    {
      "cell_type": "code",
      "execution_count": 21,
      "metadata": {
        "colab": {
          "base_uri": "https://localhost:8080/"
        },
        "id": "eyvy2pgMrnS_",
        "outputId": "21325ad1-e2bb-4301-de64-8cb671e78fd4"
      },
      "outputs": [
        {
          "data": {
            "text/plain": [
              "array([[1., 1., 1., 1.],\n",
              "       [1., 1., 1., 1.]])"
            ]
          },
          "execution_count": 21,
          "metadata": {},
          "output_type": "execute_result"
        }
      ],
      "source": [
        "M5 = np.ones((2,4)) # create matrix fill by 1\n",
        "M5"
      ]
    },
    {
      "cell_type": "code",
      "execution_count": 22,
      "metadata": {
        "colab": {
          "base_uri": "https://localhost:8080/"
        },
        "id": "ag7yA4tZruSc",
        "outputId": "801110c9-e92e-40a0-88d5-dd0ff15deb4b"
      },
      "outputs": [
        {
          "data": {
            "text/plain": [
              "array([[1., 0., 0.],\n",
              "       [0., 1., 0.],\n",
              "       [0., 0., 1.]])"
            ]
          },
          "execution_count": 22,
          "metadata": {},
          "output_type": "execute_result"
        }
      ],
      "source": [
        "Id = np.eye(3) # create \"Matrice identité\" Identity matrix\n",
        "Id"
      ]
    },
    {
      "cell_type": "code",
      "execution_count": 23,
      "metadata": {
        "colab": {
          "base_uri": "https://localhost:8080/"
        },
        "id": "jNjV2ptKtNHy",
        "outputId": "a38d9e46-2c53-4093-e424-3b337baea471"
      },
      "outputs": [
        {
          "data": {
            "text/plain": [
              "array([[ 5,  1,  3],\n",
              "       [10,  4,  2],\n",
              "       [ 3,  5,  0]])"
            ]
          },
          "execution_count": 23,
          "metadata": {},
          "output_type": "execute_result"
        }
      ],
      "source": [
        "L1 = np.array([5, 1, 3])\n",
        "L2 = np.array([10, 4, 2])\n",
        "L3 = np.array([3, 5, 0])\n",
        "M6 = np.concatenate(([L1], [L2], [L3])) # transform arrays tuple in matrix\n",
        "M6"
      ]
    },
    {
      "cell_type": "code",
      "execution_count": 24,
      "metadata": {
        "colab": {
          "base_uri": "https://localhost:8080/"
        },
        "id": "fjKopmh9tslV",
        "outputId": "672cbe34-ea50-4961-d917-07f198c6e28e"
      },
      "outputs": [
        {
          "data": {
            "text/plain": [
              "array([[ 5,  1,  3],\n",
              "       [10,  4,  2]])"
            ]
          },
          "execution_count": 24,
          "metadata": {},
          "output_type": "execute_result"
        }
      ],
      "source": [
        "L1 = np.array([5, 1, 3])\n",
        "L2 = np.array([10, 4, 2])\n",
        "M7 = np.concatenate(([L1], [L2]))\n",
        "M7"
      ]
    },
    {
      "cell_type": "code",
      "execution_count": 25,
      "metadata": {
        "colab": {
          "base_uri": "https://localhost:8080/"
        },
        "id": "GZekzqfEtwbd",
        "outputId": "d33ccd84-ae58-408d-b091-6ec8b30d8354"
      },
      "outputs": [
        {
          "data": {
            "text/plain": [
              "array([[ 5,  1],\n",
              "       [ 3, 10],\n",
              "       [ 4,  2]])"
            ]
          },
          "execution_count": 25,
          "metadata": {},
          "output_type": "execute_result"
        }
      ],
      "source": [
        "M8 = np.reshape(M7, (3, 2)) # truc chelou en math\n",
        "M8"
      ]
    },
    {
      "cell_type": "code",
      "execution_count": 26,
      "metadata": {
        "colab": {
          "base_uri": "https://localhost:8080/"
        },
        "id": "KhbhCFHLt_aQ",
        "outputId": "6e8d4e54-504c-47be-9f79-68074d971c66"
      },
      "outputs": [
        {
          "data": {
            "text/plain": [
              "14"
            ]
          },
          "execution_count": 26,
          "metadata": {},
          "output_type": "execute_result"
        }
      ],
      "source": [
        "L1 = np.array([1, 2, 3])\n",
        "L2 = np.array([1, 2, 3])\n",
        "prod = np.dot(L1, L2) # Produit scalaire de 2 vecteurs\n",
        "prod"
      ]
    },
    {
      "cell_type": "code",
      "execution_count": 27,
      "metadata": {
        "colab": {
          "base_uri": "https://localhost:8080/"
        },
        "id": "uP_iZRi4vIyf",
        "outputId": "d05bc1a7-2e4d-41e4-8452-a02713ba93bd"
      },
      "outputs": [
        {
          "data": {
            "text/plain": [
              "array([[ 0.  ,  1.25,  2.5 ,  3.75,  5.  ,  6.25,  7.5 ,  8.75, 10.  ],\n",
              "       [ 0.  ,  1.25,  2.5 ,  3.75,  5.  ,  6.25,  7.5 ,  8.75, 10.  ],\n",
              "       [ 0.  ,  1.25,  2.5 ,  3.75,  5.  ,  6.25,  7.5 ,  8.75, 10.  ]])"
            ]
          },
          "execution_count": 27,
          "metadata": {},
          "output_type": "execute_result"
        }
      ],
      "source": [
        "L = np.linspace(0, 10, 9) # create table with 9 values between 0 and 10 \n",
        "M = np.array([L, L, L])\n",
        "M"
      ]
    },
    {
      "cell_type": "code",
      "execution_count": 28,
      "metadata": {
        "colab": {
          "base_uri": "https://localhost:8080/"
        },
        "id": "_5H1IW2qvWue",
        "outputId": "608fd2fd-e2d2-467f-e5c8-da26168875cc"
      },
      "outputs": [
        {
          "data": {
            "text/plain": [
              "array([[ 0. ,  2.5,  5. ,  7.5, 10. , 12.5, 15. , 17.5, 20. ],\n",
              "       [ 0. ,  2.5,  5. ,  7.5, 10. , 12.5, 15. , 17.5, 20. ],\n",
              "       [ 0. ,  2.5,  5. ,  7.5, 10. , 12.5, 15. , 17.5, 20. ]])"
            ]
          },
          "execution_count": 28,
          "metadata": {},
          "output_type": "execute_result"
        }
      ],
      "source": [
        "M + M # matrix sum"
      ]
    },
    {
      "cell_type": "code",
      "execution_count": 29,
      "metadata": {
        "colab": {
          "base_uri": "https://localhost:8080/"
        },
        "id": "V4sCachgwBDT",
        "outputId": "afda811c-a581-4eb3-cb93-3629b3d084b7"
      },
      "outputs": [
        {
          "data": {
            "text/plain": [
              "array([[  0.    ,   1.5625,   6.25  ,  14.0625,  25.    ,  39.0625,\n",
              "         56.25  ,  76.5625, 100.    ],\n",
              "       [  0.    ,   1.5625,   6.25  ,  14.0625,  25.    ,  39.0625,\n",
              "         56.25  ,  76.5625, 100.    ],\n",
              "       [  0.    ,   1.5625,   6.25  ,  14.0625,  25.    ,  39.0625,\n",
              "         56.25  ,  76.5625, 100.    ]])"
            ]
          },
          "execution_count": 29,
          "metadata": {},
          "output_type": "execute_result"
        }
      ],
      "source": [
        "M * M # multiplication between each peer elements of the matrix"
      ]
    },
    {
      "cell_type": "code",
      "execution_count": 30,
      "metadata": {
        "id": "PchYfzfWv2rR"
      },
      "outputs": [],
      "source": [
        "# matrix scalar product\n",
        "#np.matmul(M, M) # error: because this matrix is not self compatible (is not square)"
      ]
    },
    {
      "cell_type": "code",
      "execution_count": 31,
      "metadata": {},
      "outputs": [
        {
          "data": {
            "text/plain": [
              "array([[ 0.  ,  0.  ,  0.  ],\n",
              "       [ 1.25,  1.25,  1.25],\n",
              "       [ 2.5 ,  2.5 ,  2.5 ],\n",
              "       [ 3.75,  3.75,  3.75],\n",
              "       [ 5.  ,  5.  ,  5.  ],\n",
              "       [ 6.25,  6.25,  6.25],\n",
              "       [ 7.5 ,  7.5 ,  7.5 ],\n",
              "       [ 8.75,  8.75,  8.75],\n",
              "       [10.  , 10.  , 10.  ]])"
            ]
          },
          "execution_count": 31,
          "metadata": {},
          "output_type": "execute_result"
        }
      ],
      "source": [
        "M.T # Transposé"
      ]
    },
    {
      "cell_type": "code",
      "execution_count": 32,
      "metadata": {
        "colab": {
          "base_uri": "https://localhost:8080/"
        },
        "id": "Oy2WUPGKwrDw",
        "outputId": "7f372bdc-0531-46b0-8066-431d8df272f3"
      },
      "outputs": [
        {
          "data": {
            "text/plain": [
              "array([[318.75, 318.75, 318.75],\n",
              "       [318.75, 318.75, 318.75],\n",
              "       [318.75, 318.75, 318.75]])"
            ]
          },
          "execution_count": 32,
          "metadata": {},
          "output_type": "execute_result"
        }
      ],
      "source": [
        "np.matmul(M, M.T)"
      ]
    },
    {
      "cell_type": "code",
      "execution_count": 33,
      "metadata": {
        "id": "-5Iax3ihw7fC"
      },
      "outputs": [],
      "source": [
        "def prod_matrices(M1, M2):\n",
        "    M = np.zeros((M1.shape[0], M2.shape[1]))\n",
        "    for i in range(M1.shape[0]):\n",
        "        for j in range(M2.shape[1]):\n",
        "            for k in range(M1.shape[1]):\n",
        "                M[i, j] += M1[i, k] * M2[k,j] \n",
        "    return M"
      ]
    },
    {
      "cell_type": "code",
      "execution_count": 34,
      "metadata": {
        "colab": {
          "base_uri": "https://localhost:8080/"
        },
        "id": "YDczK-yaxA6q",
        "outputId": "83adbb2a-8fa6-4059-f3ee-6bdb84839f0a"
      },
      "outputs": [
        {
          "data": {
            "text/plain": [
              "array([[13.,  9.],\n",
              "       [57., 41.]])"
            ]
          },
          "execution_count": 34,
          "metadata": {},
          "output_type": "execute_result"
        }
      ],
      "source": [
        "M1 = np.array([[2, 1, 1], [4, 5, 7]])\n",
        "M2 = np.array([[3, 2], [2, 1], [5, 4]])\n",
        "prod_matrices(M1, M2)"
      ]
    },
    {
      "cell_type": "code",
      "execution_count": 35,
      "metadata": {
        "colab": {
          "base_uri": "https://localhost:8080/"
        },
        "id": "WaQ36WMdxG0u",
        "outputId": "762297e2-f0fa-41f5-84e9-03357edfb0c8"
      },
      "outputs": [
        {
          "data": {
            "text/plain": [
              "array([[3.33500167e+08, 3.33500167e+08, 3.33500167e+08],\n",
              "       [3.33500167e+08, 3.33500167e+08, 3.33500167e+08],\n",
              "       [3.33500167e+08, 3.33500167e+08, 3.33500167e+08]])"
            ]
          },
          "execution_count": 35,
          "metadata": {},
          "output_type": "execute_result"
        }
      ],
      "source": [
        "L = np.linspace(0, 1000, 1000)\n",
        "M = np.array([L, L, L])\n",
        "P = prod_matrices(M, M.T)\n",
        "P"
      ]
    },
    {
      "cell_type": "code",
      "execution_count": 36,
      "metadata": {
        "colab": {
          "base_uri": "https://localhost:8080/"
        },
        "id": "StYVAUOlxTsQ",
        "outputId": "292cc9a2-a137-4da5-b752-22bde460a229"
      },
      "outputs": [
        {
          "name": "stdout",
          "output_type": "stream",
          "text": [
            "CPU times: user 5.9 ms, sys: 0 ns, total: 5.9 ms\n",
            "Wall time: 5.68 ms\n"
          ]
        }
      ],
      "source": [
        "%time P = prod_matrices(M, M.T) "
      ]
    },
    {
      "cell_type": "code",
      "execution_count": 37,
      "metadata": {
        "colab": {
          "base_uri": "https://localhost:8080/"
        },
        "id": "3GXpF2_LxaOL",
        "outputId": "cb3f6eeb-f849-4560-bae3-81616f7d150e"
      },
      "outputs": [
        {
          "name": "stdout",
          "output_type": "stream",
          "text": [
            "CPU times: user 39 µs, sys: 6 µs, total: 45 µs\n",
            "Wall time: 48.2 µs\n"
          ]
        }
      ],
      "source": [
        "%time P= np.matmul(M, M.T)"
      ]
    },
    {
      "cell_type": "code",
      "execution_count": 38,
      "metadata": {
        "id": "PNJce9lMxkW4"
      },
      "outputs": [],
      "source": [
        "L1 = np.linspace(0, 1000, 1000)\n",
        "L2 = np.zeros(1000)\n",
        "M = np.array([L2, L2, L1])"
      ]
    },
    {
      "cell_type": "code",
      "execution_count": 39,
      "metadata": {
        "colab": {
          "base_uri": "https://localhost:8080/"
        },
        "id": "0mbf5VKMx28M",
        "outputId": "88d053ce-3c67-46ab-a18f-6f0ee8b76afa"
      },
      "outputs": [
        {
          "name": "stdout",
          "output_type": "stream",
          "text": [
            "CPU times: user 10.9 ms, sys: 442 µs, total: 11.3 ms\n",
            "Wall time: 13.5 ms\n"
          ]
        }
      ],
      "source": [
        "%time P = prod_matrices(M, M.T)"
      ]
    },
    {
      "cell_type": "code",
      "execution_count": 40,
      "metadata": {
        "colab": {
          "base_uri": "https://localhost:8080/"
        },
        "id": "Q-xbVdz0x6Jo",
        "outputId": "04acebd7-97c5-46a7-d307-b5aaeb9a88ae"
      },
      "outputs": [
        {
          "name": "stdout",
          "output_type": "stream",
          "text": [
            "CPU times: user 44 µs, sys: 0 ns, total: 44 µs\n",
            "Wall time: 47 µs\n"
          ]
        }
      ],
      "source": [
        "%time P= np.matmul(M, M.T)"
      ]
    },
    {
      "cell_type": "code",
      "execution_count": 41,
      "metadata": {
        "id": "_gL4610TyCmU"
      },
      "outputs": [],
      "source": [
        "from random import sample, choices"
      ]
    },
    {
      "cell_type": "code",
      "execution_count": 42,
      "metadata": {
        "colab": {
          "base_uri": "https://localhost:8080/"
        },
        "id": "zT28rugzyGpW",
        "outputId": "30adaecd-72bd-4770-b1ca-738bb2aef2cc"
      },
      "outputs": [
        {
          "data": {
            "text/plain": [
              "array([ 8, 24, 19,  7, 15, 15,  6,  7,  9,  9, 22, 11,  5, 17, 12,  2, 18,\n",
              "       14, 23, 10, 23,  9, 21, 14,  3, 11, 15, 21, 15,  8, 20, 18,  8, 13,\n",
              "       22,  9,  5, 18,  2, 10, 10,  2, 21,  2,  8, 10,  8,  6,  4,  8, 20,\n",
              "        2, 20,  5,  5, 13,  4,  2,  5,  6,  6, 13, 10, 15, 11, 12,  1, 23,\n",
              "       23, 16,  8, 12, 19, 12, 24, 11,  3, 17,  4,  5, 22, 14,  5, 12, 20,\n",
              "        3,  3,  4,  9,  7,  8, 20,  2,  5,  5, 13, 12,  7,  2, 18, 22, 10,\n",
              "        7, 10,  6,  4, 15, 17, 19, 17,  5, 22,  4,  6, 17,  8, 14,  7, 12,\n",
              "       12, 16, 15, 23,  1,  4, 15,  6,  6, 23, 15, 22, 13,  3,  5, 21,  5,\n",
              "       17, 18,  7, 20, 23, 14,  4, 15,  2,  2, 20,  8, 19, 18,  4,  3, 24,\n",
              "        2, 24,  5, 17,  7,  2, 13,  8, 20,  1, 12,  9, 12, 12,  5, 20,  1,\n",
              "        1,  7,  3, 13,  5,  8,  2, 12,  6,  5, 16, 14,  1,  1,  6, 22,  4,\n",
              "       14,  2,  5,  9,  3,  3, 14,  9,  8,  1, 21, 11,  6])"
            ]
          },
          "execution_count": 42,
          "metadata": {},
          "output_type": "execute_result"
        }
      ],
      "source": [
        "# choices(<array of possible elements>, k=<numberOfElement>)\n",
        "V1 = np.reshape(choices(range(1, 25), k=200), (200)) # (200) == (200, )\n",
        "V1"
      ]
    },
    {
      "cell_type": "code",
      "execution_count": 43,
      "metadata": {
        "colab": {
          "base_uri": "https://localhost:8080/"
        },
        "id": "Fkjb_AnDzYCd",
        "outputId": "79951de3-2ba3-4d9d-c6cb-4c4d4837ee9b"
      },
      "outputs": [
        {
          "data": {
            "text/plain": [
              "array([24, 22, 23, 23, 21, 21, 22, 21, 23, 23, 24, 22, 22, 22, 23, 23, 22,\n",
              "       21, 23, 24, 24, 22, 21])"
            ]
          },
          "execution_count": 43,
          "metadata": {},
          "output_type": "execute_result"
        }
      ],
      "source": [
        "V2 = V1[V1>20] # filter\n",
        "V2"
      ]
    },
    {
      "cell_type": "code",
      "execution_count": 44,
      "metadata": {
        "id": "1KzDRLzczdXe"
      },
      "outputs": [],
      "source": [
        "L = np.linspace(0, 1000, 1000)\n",
        "k = 20\n",
        "# sample distribute the population on time\n",
        "# k need to be lower or equal to the population length\n",
        "Vb = np.reshape(sample(range(1, k + 1), k), (k, )) # array of k elements.\n",
        "Va = np.reshape(choices(range(1, 25), k=k), (k, ))"
      ]
    },
    {
      "cell_type": "code",
      "execution_count": 45,
      "metadata": {
        "colab": {
          "base_uri": "https://localhost:8080/"
        },
        "id": "1GSKjkfl1Vwi",
        "outputId": "631491bc-a51d-4e87-d8da-231f13db19ce"
      },
      "outputs": [
        {
          "data": {
            "text/plain": [
              "array([18, 24, 15, 19, 21, 11, 23, 22, 15, 18, 15, 19, 23, 23, 12,  4, 20,\n",
              "       15, 17, 18])"
            ]
          },
          "execution_count": 45,
          "metadata": {},
          "output_type": "execute_result"
        }
      ],
      "source": [
        "V = np.array([Va[i] if Va[i] > Vb[i] else Vb[i] for i in range(Va.shape[0])]) # give the max vector value\n",
        "V"
      ]
    },
    {
      "cell_type": "code",
      "execution_count": 46,
      "metadata": {
        "colab": {
          "base_uri": "https://localhost:8080/"
        },
        "id": "ghtz_2lN2hqK",
        "outputId": "4ef10b6f-776e-4c63-eb08-072b0d751c7c"
      },
      "outputs": [
        {
          "data": {
            "text/plain": [
              "array([18, 24, 15, 19, 21, 11, 23, 22, 15, 18, 15, 19, 23, 23, 12,  4, 20,\n",
              "       15, 17, 18])"
            ]
          },
          "execution_count": 46,
          "metadata": {},
          "output_type": "execute_result"
        }
      ],
      "source": [
        "np.maximum(Va, Vb)"
      ]
    },
    {
      "cell_type": "code",
      "execution_count": 47,
      "metadata": {
        "id": "EOCD2kJh6MsG"
      },
      "outputs": [],
      "source": [
        "from random import uniform"
      ]
    },
    {
      "cell_type": "code",
      "execution_count": 48,
      "metadata": {
        "id": "dQNuhl7t3rKg"
      },
      "outputs": [],
      "source": [
        "def lancer(n, p):\n",
        "  if p < 0 or p > 1:\n",
        "    raise ValueError(\"bad prob\")\n",
        "  c = 0\n",
        "  for i in range(0, n):\n",
        "    if uniform(0, 1) <= p:\n",
        "      c += 1\n",
        "  return c"
      ]
    },
    {
      "cell_type": "code",
      "execution_count": 49,
      "metadata": {
        "colab": {
          "base_uri": "https://localhost:8080/"
        },
        "id": "flwm6sSH3xru",
        "outputId": "539fddfe-1729-44da-ca7b-8290bb3aff8f"
      },
      "outputs": [
        {
          "data": {
            "text/plain": [
              "5"
            ]
          },
          "execution_count": 49,
          "metadata": {},
          "output_type": "execute_result"
        }
      ],
      "source": [
        "lancer(10, 0.5)"
      ]
    },
    {
      "cell_type": "code",
      "execution_count": 50,
      "metadata": {
        "colab": {
          "base_uri": "https://localhost:8080/",
          "height": 265
        },
        "id": "CWd2MXNx65gF",
        "outputId": "653de9cd-f74b-454a-e6d2-f1f512ac436a"
      },
      "outputs": [
        {
          "data": {
            "image/png": "[encoded data removed]",
            "text/plain": [
              "<Figure size 432x288 with 1 Axes>"
            ]
          },
          "metadata": {
            "needs_background": "light"
          },
          "output_type": "display_data"
        }
      ],
      "source": [
        "from scipy.stats import norm\n",
        "import matplotlib.pyplot as plt\n",
        "%matplotlib inline\n",
        "\n",
        "mu = [0, 1, 2, 3]\n",
        "sigma = [1, 2, 3, 4]\n",
        "\n",
        "x_min = -16\n",
        "x_max = 16\n",
        "x_nb = 100\n",
        "\n",
        "x = np.linspace(x_min, x_max, x_nb)\n",
        "\n",
        "for i in range(len(mu)):\n",
        "    y = norm.pdf(x, mu[i], sigma[i]) # probability density function\n",
        "    plt.plot(x, y, label='mu='+str(mu[i])+', sigma='+str(sigma[i]))\n",
        "plt.legend(loc='upper right')\n",
        "plt.show()"
      ]
    },
    {
      "cell_type": "code",
      "execution_count": 51,
      "metadata": {
        "colab": {
          "base_uri": "https://localhost:8080/",
          "height": 419
        },
        "id": "CxZj1EgS7eLw",
        "outputId": "f8037700-00ce-4383-d5ad-479778cbb127"
      },
      "outputs": [
        {
          "data": {
            "text/html": [
              "<div>\n",
              "<style scoped>\n",
              "    .dataframe tbody tr th:only-of-type {\n",
              "        vertical-align: middle;\n",
              "    }\n",
              "\n",
              "    .dataframe tbody tr th {\n",
              "        vertical-align: top;\n",
              "    }\n",
              "\n",
              "    .dataframe thead th {\n",
              "        text-align: right;\n",
              "    }\n",
              "</style>\n",
              "<table border=\"1\" class=\"dataframe\">\n",
              "  <thead>\n",
              "    <tr style=\"text-align: right;\">\n",
              "      <th></th>\n",
              "      <th>0</th>\n",
              "    </tr>\n",
              "  </thead>\n",
              "  <tbody>\n",
              "    <tr>\n",
              "      <th>0</th>\n",
              "      <td>14</td>\n",
              "    </tr>\n",
              "    <tr>\n",
              "      <th>1</th>\n",
              "      <td>17</td>\n",
              "    </tr>\n",
              "    <tr>\n",
              "      <th>2</th>\n",
              "      <td>8</td>\n",
              "    </tr>\n",
              "    <tr>\n",
              "      <th>3</th>\n",
              "      <td>20</td>\n",
              "    </tr>\n",
              "    <tr>\n",
              "      <th>4</th>\n",
              "      <td>19</td>\n",
              "    </tr>\n",
              "    <tr>\n",
              "      <th>...</th>\n",
              "      <td>...</td>\n",
              "    </tr>\n",
              "    <tr>\n",
              "      <th>995</th>\n",
              "      <td>13</td>\n",
              "    </tr>\n",
              "    <tr>\n",
              "      <th>996</th>\n",
              "      <td>13</td>\n",
              "    </tr>\n",
              "    <tr>\n",
              "      <th>997</th>\n",
              "      <td>11</td>\n",
              "    </tr>\n",
              "    <tr>\n",
              "      <th>998</th>\n",
              "      <td>18</td>\n",
              "    </tr>\n",
              "    <tr>\n",
              "      <th>999</th>\n",
              "      <td>15</td>\n",
              "    </tr>\n",
              "  </tbody>\n",
              "</table>\n",
              "<p>1000 rows × 1 columns</p>\n",
              "</div>"
            ],
            "text/plain": [
              "      0\n",
              "0    14\n",
              "1    17\n",
              "2     8\n",
              "3    20\n",
              "4    19\n",
              "..   ..\n",
              "995  13\n",
              "996  13\n",
              "997  11\n",
              "998  18\n",
              "999  15\n",
              "\n",
              "[1000 rows x 1 columns]"
            ]
          },
          "execution_count": 51,
          "metadata": {},
          "output_type": "execute_result"
        }
      ],
      "source": [
        "from pandas import read_csv\n",
        "\n",
        "dataset = read_csv(\"https://www.labri.fr/perso/zemmari/datasets/baniere.csv\", header=None)\n",
        "dataset"
      ]
    },
    {
      "cell_type": "markdown",
      "metadata": {},
      "source": [
        "$$\\hat\\mu = \\frac 1 n \\sum_{i=1}^n x_i$$"
      ]
    },
    {
      "cell_type": "code",
      "execution_count": 52,
      "metadata": {},
      "outputs": [
        {
          "data": {
            "text/plain": [
              "0.30344"
            ]
          },
          "execution_count": 52,
          "metadata": {},
          "output_type": "execute_result"
        }
      ],
      "source": [
        "prob = np.sum(dataset[0], axis=0) / (50 * 1000)\n",
        "prob"
      ]
    },
    {
      "cell_type": "code",
      "execution_count": 53,
      "metadata": {},
      "outputs": [
        {
          "data": {
            "text/plain": [
              "30.343999999999998"
            ]
          },
          "execution_count": 53,
          "metadata": {},
          "output_type": "execute_result"
        }
      ],
      "source": [
        "prob * 100"
      ]
    },
    {
      "cell_type": "code",
      "execution_count": 54,
      "metadata": {},
      "outputs": [
        {
          "name": "stdout",
          "output_type": "stream",
          "text": [
            "Counter({16: 120, 15: 113, 13: 105, 14: 104, 17: 100, 18: 99, 12: 86, 19: 56, 11: 49, 20: 34, 10: 34, 21: 26, 9: 22, 8: 16, 22: 14, 23: 9, 7: 4, 24: 3, 25: 3, 6: 1, 26: 1, 5: 1})\n",
            "[14, 17, 8, 20, 19, 9, 15, 16, 11, 18, 10, 13, 12, 21, 23, 24, 7, 22, 25, 6, 26, 5]\n",
            "[104, 100, 16, 34, 56, 22, 113, 120, 49, 99, 34, 105, 86, 26, 9, 3, 4, 14, 3, 1, 1, 1]\n"
          ]
        },
        {
          "data": {
            "text/plain": [
              "<matplotlib.collections.PathCollection at 0x7f117c6534c0>"
            ]
          },
          "execution_count": 54,
          "metadata": {},
          "output_type": "execute_result"
        },
        {
          "data": {
            "image/png": "[encoded data removed]",
            "text/plain": [
              "<Figure size 432x288 with 1 Axes>"
            ]
          },
          "metadata": {
            "needs_background": "light"
          },
          "output_type": "display_data"
        }
      ],
      "source": [
        "from collections import Counter\n",
        "\n",
        "compteur = Counter(list(dataset[0]))\n",
        "print(compteur)\n",
        "\n",
        "x = list(compteur.keys())\n",
        "print(x)\n",
        "y = [compteur[x[i]] for i in range(len(x))  ]\n",
        "print(y)\n",
        "plt.scatter(x, y, c='red', marker='+')"
      ]
    },
    {
      "cell_type": "markdown",
      "metadata": {},
      "source": [
        "$$\\hat\\mu = \\frac 1 n \\sum_{i=1}^n x_i, \\,\\,\\,\\, \\hat\\sigma^2 = \\frac 1 {n} \\sum_{i=1}^n \\left(x_i - \\hat\\mu\\right)^2.$$"
      ]
    },
    {
      "cell_type": "code",
      "execution_count": 55,
      "metadata": {},
      "outputs": [
        {
          "name": "stdout",
          "output_type": "stream",
          "text": [
            "15.172\n"
          ]
        },
        {
          "data": {
            "text/plain": [
              "0.30344"
            ]
          },
          "execution_count": 55,
          "metadata": {},
          "output_type": "execute_result"
        }
      ],
      "source": [
        "µ = np.average(dataset[0], axis=0) # (la moyen)\n",
        "print(µ)\n",
        "µ / 50"
      ]
    },
    {
      "cell_type": "code",
      "execution_count": 56,
      "metadata": {},
      "outputs": [
        {
          "name": "stdout",
          "output_type": "stream",
          "text": [
            "15.172\n"
          ]
        },
        {
          "data": {
            "text/plain": [
              "0.30344"
            ]
          },
          "execution_count": 56,
          "metadata": {},
          "output_type": "execute_result"
        }
      ],
      "source": [
        "µ = np.mean(dataset[0], axis=0) # is average in statistics (la moyenne)\n",
        "print(µ)\n",
        "µ / 50"
      ]
    },
    {
      "cell_type": "code",
      "execution_count": 57,
      "metadata": {},
      "outputs": [
        {
          "data": {
            "text/plain": [
              "3.3067228489850793"
            ]
          },
          "execution_count": 57,
          "metadata": {},
          "output_type": "execute_result"
        }
      ],
      "source": [
        "σ = np.std(dataset[0], 0) # standard deviation, the variance : a measure of the spread of a distribution, of the array elements.\n",
        "σ"
      ]
    },
    {
      "cell_type": "code",
      "execution_count": 58,
      "metadata": {},
      "outputs": [],
      "source": [
        "mu = µ\n",
        "sigma = σ"
      ]
    },
    {
      "cell_type": "code",
      "execution_count": 59,
      "metadata": {},
      "outputs": [
        {
          "data": {
            "image/png": "[encoded data removed]",
            "text/plain": [
              "<Figure size 432x288 with 1 Axes>"
            ]
          },
          "metadata": {
            "needs_background": "light"
          },
          "output_type": "display_data"
        }
      ],
      "source": [
        "compteur = Counter(list(dataset[0]))\n",
        "x = list(compteur.keys())\n",
        "y = [compteur[x[i]] for i in range(len(x))]\n",
        "plt.scatter(x, y, c='red', marker='+')\n",
        "\n",
        "# Normal distribution\n",
        "nd = [1/(sigma * np.sqrt(2 * np.pi)) * np.exp( - (1 / 2)*((x[i] - mu)/sigma)**2) for i in range(len(x))]\n",
        "# equivalent in scatter() or in plot()\n",
        "#1/(sigma * np.sqrt(2 * np.pi)) * np.exp( - (1 / 2)*((x[i] - mu)/sigma)**2)\n",
        "\n",
        "plt.scatter(x, nd, c='blue', marker='*')\n",
        "\n",
        "# plt.plot(x, nd, linewidth=2, c='blue')\n",
        "plt.show()"
      ]
    }
  ],
  "metadata": {
    "colab": {
      "collapsed_sections": [],
      "name": "td01.ipynb",
      "provenance": []
    },
    "interpreter": {
      "hash": "31f2aee4e71d21fbe5cf8b01ff0e069b9275f58929596ceb00d14d90e3e16cd6"
    },
    "kernelspec": {
      "display_name": "Python 3.8.10 64-bit",
      "name": "python3"
    },
    "language_info": {
      "codemirror_mode": {
        "name": "ipython",
        "version": 3
      },
      "file_extension": ".py",
      "mimetype": "text/x-python",
      "name": "python",
      "nbconvert_exporter": "python",
      "pygments_lexer": "ipython3",
      "version": "3.8.10"
    }
  },
  "nbformat": 4,
  "nbformat_minor": 2
}

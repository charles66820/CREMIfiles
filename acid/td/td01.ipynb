{
  "nbformat": 4,
  "nbformat_minor": 2,
  "metadata": {
    "kernelspec": {
      "name": "python3",
      "display_name": "Python 3.8.10 64-bit"
    },
    "language_info": {
      "codemirror_mode": {
        "name": "ipython",
        "version": 3
      },
      "file_extension": ".py",
      "mimetype": "text/x-python",
      "name": "python",
      "nbconvert_exporter": "python",
      "pygments_lexer": "ipython3",
      "version": "3.8.10"
    },
    "colab": {
      "name": "td01.ipynb",
      "provenance": [],
      "collapsed_sections": []
    },
    "interpreter": {
      "hash": "31f2aee4e71d21fbe5cf8b01ff0e069b9275f58929596ceb00d14d90e3e16cd6"
    }
  },
  "cells": [
    {
      "cell_type": "markdown",
      "source": [
        "#### Université de Bordeaux,  Master Mention Informatique,  2021-2022\n",
        "\n",
        "# Analyse, classification et indexation des données: feuille 1\n",
        "### Rappels : Probabilités et statistiques, Algèbre linéaire avec Python"
      ],
      "metadata": {
        "id": "fRspGSJplWgk"
      }
    },
    {
      "cell_type": "markdown",
      "source": [
        "# 1. Vecteurs et matrices\n",
        "\n",
        "Un élément unique, un vecteur ligne ou colonne sont des cas particuliers de matrice (tableau 2D).\n",
        "\n",
        "Une des bibliothèques de <code>Python</code> les plus utilisées en algèbre linéaire est la bibliothèque <code>numpy</code>. On commence par l'importer pour pouvoir l'utiliser pour la suite."
      ],
      "metadata": {
        "id": "mpIEL2HPlWhc"
      }
    },
    {
      "cell_type": "code",
      "execution_count": 52,
      "source": [
        "import numpy as np"
      ],
      "outputs": [],
      "metadata": {
        "id": "VimNlUyblWhl"
      }
    },
    {
      "cell_type": "markdown",
      "source": [
        "### Exercice 1.\n",
        "\n",
        "Création de tableaux, accès à un élément d'un tableau "
      ],
      "metadata": {
        "id": "GgLQ4a4QlWh4"
      }
    },
    {
      "cell_type": "markdown",
      "source": [
        "Création d'un vecteur ligne :"
      ],
      "metadata": {
        "id": "XCD7LOaVlWh-"
      }
    },
    {
      "cell_type": "code",
      "execution_count": 53,
      "source": [
        "L1 = np.array([10, 20, 30, 40])\n",
        "L1"
      ],
      "outputs": [
        {
          "output_type": "execute_result",
          "data": {
            "text/plain": [
              "array([10, 20, 30, 40])"
            ]
          },
          "metadata": {},
          "execution_count": 53
        }
      ],
      "metadata": {
        "colab": {
          "base_uri": "https://localhost:8080/"
        },
        "id": "iZgqpPHplWh_",
        "outputId": "17473d06-812a-48a6-e138-9de89a9c6110"
      }
    },
    {
      "cell_type": "code",
      "execution_count": 54,
      "source": [
        "C1 = np.array([[10], [20], [30], [40]])\n",
        "C1"
      ],
      "outputs": [
        {
          "output_type": "execute_result",
          "data": {
            "text/plain": [
              "array([[10],\n",
              "       [20],\n",
              "       [30],\n",
              "       [40]])"
            ]
          },
          "metadata": {},
          "execution_count": 54
        }
      ],
      "metadata": {
        "colab": {
          "base_uri": "https://localhost:8080/"
        },
        "id": "o36BQUJYo2is",
        "outputId": "ee520096-a85e-44c6-fa80-ab25cf7e21fe"
      }
    },
    {
      "cell_type": "code",
      "execution_count": 55,
      "source": [
        "C2 = L1.reshape((4, 1)) # array to matrix\n",
        "C2"
      ],
      "outputs": [
        {
          "output_type": "execute_result",
          "data": {
            "text/plain": [
              "array([[10],\n",
              "       [20],\n",
              "       [30],\n",
              "       [40]])"
            ]
          },
          "metadata": {},
          "execution_count": 55
        }
      ],
      "metadata": {
        "colab": {
          "base_uri": "https://localhost:8080/"
        },
        "id": "elONLkp4o64Z",
        "outputId": "a700c241-dd7d-4d5b-d8bb-f7ccbfed8297"
      }
    },
    {
      "cell_type": "code",
      "execution_count": 56,
      "source": [
        "L1[2]"
      ],
      "outputs": [
        {
          "output_type": "execute_result",
          "data": {
            "text/plain": [
              "30"
            ]
          },
          "metadata": {},
          "execution_count": 56
        }
      ],
      "metadata": {
        "colab": {
          "base_uri": "https://localhost:8080/"
        },
        "id": "PyniUCxxpF1W",
        "outputId": "06410251-a795-4117-a5b7-2c33346a4bf3"
      }
    },
    {
      "cell_type": "code",
      "execution_count": 57,
      "source": [
        "C1[2]"
      ],
      "outputs": [
        {
          "output_type": "execute_result",
          "data": {
            "text/plain": [
              "array([30])"
            ]
          },
          "metadata": {},
          "execution_count": 57
        }
      ],
      "metadata": {
        "colab": {
          "base_uri": "https://localhost:8080/"
        },
        "id": "Zk4TlsMJpKOZ",
        "outputId": "3acc481e-f330-402b-a006-65ff44d72fe0"
      }
    },
    {
      "cell_type": "code",
      "execution_count": 58,
      "source": [
        "C1[2][0]"
      ],
      "outputs": [
        {
          "output_type": "execute_result",
          "data": {
            "text/plain": [
              "30"
            ]
          },
          "metadata": {},
          "execution_count": 58
        }
      ],
      "metadata": {
        "colab": {
          "base_uri": "https://localhost:8080/"
        },
        "id": "u5ipZIuWpM3t",
        "outputId": "b7c6da5d-9830-404f-c7d3-29f41a3442a2"
      }
    },
    {
      "cell_type": "code",
      "execution_count": 59,
      "source": [
        "M1 = np.array([[10, 20, 30], [40, 50, 60], [70, 80, 90]])\n",
        "M1"
      ],
      "outputs": [
        {
          "output_type": "execute_result",
          "data": {
            "text/plain": [
              "array([[10, 20, 30],\n",
              "       [40, 50, 60],\n",
              "       [70, 80, 90]])"
            ]
          },
          "metadata": {},
          "execution_count": 59
        }
      ],
      "metadata": {
        "colab": {
          "base_uri": "https://localhost:8080/"
        },
        "id": "43npifASpUoT",
        "outputId": "017d46f3-84ab-4417-bf06-ccf43f66368e"
      }
    },
    {
      "cell_type": "code",
      "execution_count": 60,
      "source": [
        "M1.shape # matrice size"
      ],
      "outputs": [
        {
          "output_type": "execute_result",
          "data": {
            "text/plain": [
              "(3, 3)"
            ]
          },
          "metadata": {},
          "execution_count": 60
        }
      ],
      "metadata": {
        "colab": {
          "base_uri": "https://localhost:8080/"
        },
        "id": "Pqc8_ES1p6b6",
        "outputId": "72af83e2-f34d-433f-9b90-248610550c61"
      }
    },
    {
      "cell_type": "code",
      "execution_count": 61,
      "source": [
        "np.size(L1) # array size"
      ],
      "outputs": [
        {
          "output_type": "execute_result",
          "data": {
            "text/plain": [
              "4"
            ]
          },
          "metadata": {},
          "execution_count": 61
        }
      ],
      "metadata": {
        "colab": {
          "base_uri": "https://localhost:8080/"
        },
        "id": "EP_ChyB_qqH5",
        "outputId": "5e6e5e39-eb57-4ad1-947c-5571adce004a"
      }
    },
    {
      "cell_type": "code",
      "execution_count": 62,
      "source": [
        "np.size(C1)"
      ],
      "outputs": [
        {
          "output_type": "execute_result",
          "data": {
            "text/plain": [
              "4"
            ]
          },
          "metadata": {},
          "execution_count": 62
        }
      ],
      "metadata": {
        "colab": {
          "base_uri": "https://localhost:8080/"
        },
        "id": "fNP1QmDwqu_r",
        "outputId": "13291d61-29d1-4cc3-9aed-c440f5e176cd"
      }
    },
    {
      "cell_type": "code",
      "execution_count": 63,
      "source": [
        "np.size(M1)"
      ],
      "outputs": [
        {
          "output_type": "execute_result",
          "data": {
            "text/plain": [
              "9"
            ]
          },
          "metadata": {},
          "execution_count": 63
        }
      ],
      "metadata": {
        "colab": {
          "base_uri": "https://localhost:8080/"
        },
        "id": "ne_HXux-qyNW",
        "outputId": "7e479eba-1fb9-4ca7-e38c-40af36beb843"
      }
    },
    {
      "cell_type": "code",
      "execution_count": 64,
      "source": [
        "np.size(M1[1])"
      ],
      "outputs": [
        {
          "output_type": "execute_result",
          "data": {
            "text/plain": [
              "3"
            ]
          },
          "metadata": {},
          "execution_count": 64
        }
      ],
      "metadata": {
        "colab": {
          "base_uri": "https://localhost:8080/"
        },
        "id": "RPfg1EzBq33X",
        "outputId": "5064745e-89ab-41ad-fdf7-1a3eaf724272"
      }
    },
    {
      "cell_type": "code",
      "execution_count": 65,
      "source": [
        "iL = 1\n",
        "iC = 2\n",
        "M1[iL, iC]"
      ],
      "outputs": [
        {
          "output_type": "execute_result",
          "data": {
            "text/plain": [
              "60"
            ]
          },
          "metadata": {},
          "execution_count": 65
        }
      ],
      "metadata": {
        "colab": {
          "base_uri": "https://localhost:8080/"
        },
        "id": "zDNtB4a-q7fv",
        "outputId": "2e92dfc0-5bf0-49c0-bc32-86c7e7376259"
      }
    },
    {
      "cell_type": "code",
      "execution_count": 66,
      "source": [
        "print(M1[1, :]) # seconde row\n",
        "print(M1[:, 2]) # tiers column"
      ],
      "outputs": [
        {
          "output_type": "stream",
          "name": "stdout",
          "text": [
            "[40 50 60]\n",
            "[30 60 90]\n"
          ]
        }
      ],
      "metadata": {
        "colab": {
          "base_uri": "https://localhost:8080/"
        },
        "id": "XKtDd0tnrBIv",
        "outputId": "a65cd58e-89bd-4ffd-f648-67b37e91b512"
      }
    },
    {
      "cell_type": "code",
      "execution_count": 67,
      "source": [
        "M1[1:2, 0:1]"
      ],
      "outputs": [
        {
          "output_type": "execute_result",
          "data": {
            "text/plain": [
              "array([[40]])"
            ]
          },
          "metadata": {},
          "execution_count": 67
        }
      ],
      "metadata": {
        "colab": {
          "base_uri": "https://localhost:8080/"
        },
        "id": "mQvdIHo7rFhv",
        "outputId": "1246fce3-7cf3-40d4-8c3b-0b6603548cba"
      }
    },
    {
      "cell_type": "code",
      "execution_count": 68,
      "source": [
        "M2 = np.zeros(3)\n",
        "M2"
      ],
      "outputs": [
        {
          "output_type": "execute_result",
          "data": {
            "text/plain": [
              "array([0., 0., 0.])"
            ]
          },
          "metadata": {},
          "execution_count": 68
        }
      ],
      "metadata": {
        "colab": {
          "base_uri": "https://localhost:8080/"
        },
        "id": "jC2TUTtFrLzn",
        "outputId": "eabf6055-b14e-4b0a-b58d-0c0e89a09179"
      }
    },
    {
      "cell_type": "code",
      "execution_count": 69,
      "source": [
        "M3 = np.zeros((1,3))\n",
        "M3"
      ],
      "outputs": [
        {
          "output_type": "execute_result",
          "data": {
            "text/plain": [
              "array([[0., 0., 0.]])"
            ]
          },
          "metadata": {},
          "execution_count": 69
        }
      ],
      "metadata": {
        "colab": {
          "base_uri": "https://localhost:8080/"
        },
        "id": "galqvzjkrclN",
        "outputId": "1a0d777a-d9c9-4c8b-cfba-290178231552"
      }
    },
    {
      "cell_type": "code",
      "execution_count": 70,
      "source": [
        "M4 = np.zeros((2, 3)) # create matrix fill by 0\n",
        "M4"
      ],
      "outputs": [
        {
          "output_type": "execute_result",
          "data": {
            "text/plain": [
              "array([[0., 0., 0.],\n",
              "       [0., 0., 0.]])"
            ]
          },
          "metadata": {},
          "execution_count": 70
        }
      ],
      "metadata": {
        "colab": {
          "base_uri": "https://localhost:8080/"
        },
        "id": "8LV-OHXnrj7x",
        "outputId": "a8efeaaa-a724-4065-d779-1bdb89b2c442"
      }
    },
    {
      "cell_type": "code",
      "execution_count": 71,
      "source": [
        "M5 = np.ones((2,4)) # create matrix fill by 1\n",
        "M5"
      ],
      "outputs": [
        {
          "output_type": "execute_result",
          "data": {
            "text/plain": [
              "array([[1., 1., 1., 1.],\n",
              "       [1., 1., 1., 1.]])"
            ]
          },
          "metadata": {},
          "execution_count": 71
        }
      ],
      "metadata": {
        "colab": {
          "base_uri": "https://localhost:8080/"
        },
        "id": "eyvy2pgMrnS_",
        "outputId": "21325ad1-e2bb-4301-de64-8cb671e78fd4"
      }
    },
    {
      "cell_type": "code",
      "execution_count": 72,
      "source": [
        "Id = np.eye(3) # create \"Matrice identité\" Identity matrix\n",
        "Id"
      ],
      "outputs": [
        {
          "output_type": "execute_result",
          "data": {
            "text/plain": [
              "array([[1., 0., 0.],\n",
              "       [0., 1., 0.],\n",
              "       [0., 0., 1.]])"
            ]
          },
          "metadata": {},
          "execution_count": 72
        }
      ],
      "metadata": {
        "colab": {
          "base_uri": "https://localhost:8080/"
        },
        "id": "ag7yA4tZruSc",
        "outputId": "801110c9-e92e-40a0-88d5-dd0ff15deb4b"
      }
    },
    {
      "cell_type": "code",
      "execution_count": 73,
      "source": [
        "L1 = np.array([5, 1, 3])\n",
        "L2 = np.array([10, 4, 2])\n",
        "L3 = np.array([3, 5, 0])\n",
        "M6 = np.concatenate(([L1], [L2], [L3])) # transform arrays tuple in matrix\n",
        "M6"
      ],
      "outputs": [
        {
          "output_type": "execute_result",
          "data": {
            "text/plain": [
              "array([[ 5,  1,  3],\n",
              "       [10,  4,  2],\n",
              "       [ 3,  5,  0]])"
            ]
          },
          "metadata": {},
          "execution_count": 73
        }
      ],
      "metadata": {
        "colab": {
          "base_uri": "https://localhost:8080/"
        },
        "id": "jNjV2ptKtNHy",
        "outputId": "a38d9e46-2c53-4093-e424-3b337baea471"
      }
    },
    {
      "cell_type": "code",
      "execution_count": 74,
      "source": [
        "L1 = np.array([5, 1, 3])\n",
        "L2 = np.array([10, 4, 2])\n",
        "M7 = np.concatenate(([L1], [L2]))\n",
        "M7"
      ],
      "outputs": [
        {
          "output_type": "execute_result",
          "data": {
            "text/plain": [
              "array([[ 5,  1,  3],\n",
              "       [10,  4,  2]])"
            ]
          },
          "metadata": {},
          "execution_count": 74
        }
      ],
      "metadata": {
        "colab": {
          "base_uri": "https://localhost:8080/"
        },
        "id": "fjKopmh9tslV",
        "outputId": "672cbe34-ea50-4961-d917-07f198c6e28e"
      }
    },
    {
      "cell_type": "code",
      "execution_count": 75,
      "source": [
        "M8 = np.reshape(M7, (3, 2)) # truc chelou en math\n",
        "M8"
      ],
      "outputs": [
        {
          "output_type": "execute_result",
          "data": {
            "text/plain": [
              "array([[ 5,  1],\n",
              "       [ 3, 10],\n",
              "       [ 4,  2]])"
            ]
          },
          "metadata": {},
          "execution_count": 75
        }
      ],
      "metadata": {
        "colab": {
          "base_uri": "https://localhost:8080/"
        },
        "id": "GZekzqfEtwbd",
        "outputId": "d33ccd84-ae58-408d-b091-6ec8b30d8354"
      }
    },
    {
      "cell_type": "code",
      "execution_count": 76,
      "source": [
        "L1 = np.array([1, 2, 3])\n",
        "L2 = np.array([1, 2, 3])\n",
        "prod = np.dot(L1, L2) # Produit scalaire de 2 vecteurs\n",
        "prod"
      ],
      "outputs": [
        {
          "output_type": "execute_result",
          "data": {
            "text/plain": [
              "14"
            ]
          },
          "metadata": {},
          "execution_count": 76
        }
      ],
      "metadata": {
        "colab": {
          "base_uri": "https://localhost:8080/"
        },
        "id": "KhbhCFHLt_aQ",
        "outputId": "6e8d4e54-504c-47be-9f79-68074d971c66"
      }
    },
    {
      "cell_type": "code",
      "execution_count": 77,
      "source": [
        "L = np.linspace(0, 10, 9) # create table with 9 values between 0 and 10 \n",
        "M = np.array([L, L, L])\n",
        "M"
      ],
      "outputs": [
        {
          "output_type": "execute_result",
          "data": {
            "text/plain": [
              "array([[ 0.  ,  1.25,  2.5 ,  3.75,  5.  ,  6.25,  7.5 ,  8.75, 10.  ],\n",
              "       [ 0.  ,  1.25,  2.5 ,  3.75,  5.  ,  6.25,  7.5 ,  8.75, 10.  ],\n",
              "       [ 0.  ,  1.25,  2.5 ,  3.75,  5.  ,  6.25,  7.5 ,  8.75, 10.  ]])"
            ]
          },
          "metadata": {},
          "execution_count": 77
        }
      ],
      "metadata": {
        "colab": {
          "base_uri": "https://localhost:8080/"
        },
        "id": "uP_iZRi4vIyf",
        "outputId": "d05bc1a7-2e4d-41e4-8452-a02713ba93bd"
      }
    },
    {
      "cell_type": "code",
      "execution_count": 78,
      "source": [
        "M + M # matrix sum"
      ],
      "outputs": [
        {
          "output_type": "execute_result",
          "data": {
            "text/plain": [
              "array([[ 0. ,  2.5,  5. ,  7.5, 10. , 12.5, 15. , 17.5, 20. ],\n",
              "       [ 0. ,  2.5,  5. ,  7.5, 10. , 12.5, 15. , 17.5, 20. ],\n",
              "       [ 0. ,  2.5,  5. ,  7.5, 10. , 12.5, 15. , 17.5, 20. ]])"
            ]
          },
          "metadata": {},
          "execution_count": 78
        }
      ],
      "metadata": {
        "colab": {
          "base_uri": "https://localhost:8080/"
        },
        "id": "_5H1IW2qvWue",
        "outputId": "608fd2fd-e2d2-467f-e5c8-da26168875cc"
      }
    },
    {
      "cell_type": "code",
      "execution_count": 79,
      "source": [
        "M * M # multiplication between each peer elements of the matrix"
      ],
      "outputs": [
        {
          "output_type": "execute_result",
          "data": {
            "text/plain": [
              "array([[  0.    ,   1.5625,   6.25  ,  14.0625,  25.    ,  39.0625,\n",
              "         56.25  ,  76.5625, 100.    ],\n",
              "       [  0.    ,   1.5625,   6.25  ,  14.0625,  25.    ,  39.0625,\n",
              "         56.25  ,  76.5625, 100.    ],\n",
              "       [  0.    ,   1.5625,   6.25  ,  14.0625,  25.    ,  39.0625,\n",
              "         56.25  ,  76.5625, 100.    ]])"
            ]
          },
          "metadata": {},
          "execution_count": 79
        }
      ],
      "metadata": {
        "colab": {
          "base_uri": "https://localhost:8080/"
        },
        "id": "V4sCachgwBDT",
        "outputId": "afda811c-a581-4eb3-cb93-3629b3d084b7"
      }
    },
    {
      "cell_type": "code",
      "execution_count": 80,
      "source": [
        "# matrix scalar product\n",
        "#np.matmul(M, M) # error: because this matrix is not self compatible (is not square)"
      ],
      "outputs": [],
      "metadata": {
        "id": "PchYfzfWv2rR"
      }
    },
    {
      "cell_type": "code",
      "execution_count": 81,
      "source": [
        "np.matmul(M, M.T)"
      ],
      "outputs": [
        {
          "output_type": "execute_result",
          "data": {
            "text/plain": [
              "array([[318.75, 318.75, 318.75],\n",
              "       [318.75, 318.75, 318.75],\n",
              "       [318.75, 318.75, 318.75]])"
            ]
          },
          "metadata": {},
          "execution_count": 81
        }
      ],
      "metadata": {
        "colab": {
          "base_uri": "https://localhost:8080/"
        },
        "id": "Oy2WUPGKwrDw",
        "outputId": "7f372bdc-0531-46b0-8066-431d8df272f3"
      }
    },
    {
      "cell_type": "code",
      "execution_count": 82,
      "source": [
        "def prod_matrices(M1, M2):\n",
        "    M = np.zeros((M1.shape[0], M2.shape[1]))\n",
        "    for i in range(M1.shape[0]):\n",
        "        for j in range(M2.shape[1]):\n",
        "            for k in range(M1.shape[1]):\n",
        "                M[i, j] += M1[i, k] * M2[k,j] \n",
        "    return M"
      ],
      "outputs": [],
      "metadata": {
        "id": "-5Iax3ihw7fC"
      }
    },
    {
      "cell_type": "code",
      "execution_count": 83,
      "source": [
        "M1 = np.array([[2, 1, 1], [4, 5, 7]])\n",
        "M2 = np.array([[3, 2], [2, 1], [5, 4]])\n",
        "prod_matrices(M1, M2)"
      ],
      "outputs": [
        {
          "output_type": "execute_result",
          "data": {
            "text/plain": [
              "array([[13.,  9.],\n",
              "       [57., 41.]])"
            ]
          },
          "metadata": {},
          "execution_count": 83
        }
      ],
      "metadata": {
        "colab": {
          "base_uri": "https://localhost:8080/"
        },
        "id": "YDczK-yaxA6q",
        "outputId": "83adbb2a-8fa6-4059-f3ee-6bdb84839f0a"
      }
    },
    {
      "cell_type": "code",
      "execution_count": 84,
      "source": [
        "L = np.linspace(0, 1000, 1000)\n",
        "M = np.array([L, L, L])\n",
        "P = prod_matrices(M, M.T)\n",
        "P"
      ],
      "outputs": [
        {
          "output_type": "execute_result",
          "data": {
            "text/plain": [
              "array([[3.33500167e+08, 3.33500167e+08, 3.33500167e+08],\n",
              "       [3.33500167e+08, 3.33500167e+08, 3.33500167e+08],\n",
              "       [3.33500167e+08, 3.33500167e+08, 3.33500167e+08]])"
            ]
          },
          "metadata": {},
          "execution_count": 84
        }
      ],
      "metadata": {
        "colab": {
          "base_uri": "https://localhost:8080/"
        },
        "id": "WaQ36WMdxG0u",
        "outputId": "762297e2-f0fa-41f5-84e9-03357edfb0c8"
      }
    },
    {
      "cell_type": "code",
      "execution_count": 85,
      "source": [
        "%time P = prod_matrices(M, M.T) "
      ],
      "outputs": [
        {
          "output_type": "stream",
          "name": "stdout",
          "text": [
            "CPU times: user 14.5 ms, sys: 3.72 ms, total: 18.2 ms\n",
            "Wall time: 20.4 ms\n"
          ]
        }
      ],
      "metadata": {
        "colab": {
          "base_uri": "https://localhost:8080/"
        },
        "id": "StYVAUOlxTsQ",
        "outputId": "292cc9a2-a137-4da5-b752-22bde460a229"
      }
    },
    {
      "cell_type": "code",
      "execution_count": 86,
      "source": [
        "%time P= np.matmul(M, M.T)"
      ],
      "outputs": [
        {
          "output_type": "stream",
          "name": "stdout",
          "text": [
            "CPU times: user 63 µs, sys: 0 ns, total: 63 µs\n",
            "Wall time: 67.9 µs\n"
          ]
        }
      ],
      "metadata": {
        "colab": {
          "base_uri": "https://localhost:8080/"
        },
        "id": "3GXpF2_LxaOL",
        "outputId": "cb3f6eeb-f849-4560-bae3-81616f7d150e"
      }
    },
    {
      "cell_type": "code",
      "execution_count": 87,
      "source": [
        "L1 = np.linspace(0, 1000, 1000)\n",
        "L2 = np.zeros(1000)\n",
        "M = np.array([L2, L2, L1])"
      ],
      "outputs": [],
      "metadata": {
        "id": "PNJce9lMxkW4"
      }
    },
    {
      "cell_type": "code",
      "execution_count": 88,
      "source": [
        "%time P = prod_matrices(M, M.T)"
      ],
      "outputs": [
        {
          "output_type": "stream",
          "name": "stdout",
          "text": [
            "CPU times: user 8.99 ms, sys: 0 ns, total: 8.99 ms\n",
            "Wall time: 8.63 ms\n"
          ]
        }
      ],
      "metadata": {
        "colab": {
          "base_uri": "https://localhost:8080/"
        },
        "id": "0mbf5VKMx28M",
        "outputId": "88d053ce-3c67-46ab-a18f-6f0ee8b76afa"
      }
    },
    {
      "cell_type": "code",
      "execution_count": 89,
      "source": [
        "%time P= np.matmul(M, M.T)"
      ],
      "outputs": [
        {
          "output_type": "stream",
          "name": "stdout",
          "text": [
            "CPU times: user 50 µs, sys: 10 µs, total: 60 µs\n",
            "Wall time: 64.1 µs\n"
          ]
        }
      ],
      "metadata": {
        "colab": {
          "base_uri": "https://localhost:8080/"
        },
        "id": "Q-xbVdz0x6Jo",
        "outputId": "04acebd7-97c5-46a7-d307-b5aaeb9a88ae"
      }
    },
    {
      "cell_type": "code",
      "execution_count": 90,
      "source": [
        "from random import sample, choices"
      ],
      "outputs": [],
      "metadata": {
        "id": "_gL4610TyCmU"
      }
    },
    {
      "cell_type": "code",
      "execution_count": 91,
      "source": [
        "# choices(<array of possible elements>, k=<numberOfElement>)\n",
        "V1 = np.reshape(choices(range(1, 25), k=200), (200)) # (200) == (200, )\n",
        "V1"
      ],
      "outputs": [
        {
          "output_type": "execute_result",
          "data": {
            "text/plain": [
              "array([ 5, 20, 11,  5, 24, 21, 13, 16,  5,  3, 22, 18,  8,  5, 22,  3,  2,\n",
              "       15, 10, 20, 12, 11, 13, 10, 11, 18,  5,  5, 20, 18, 16,  3,  9, 22,\n",
              "       18,  9, 14, 20,  6, 16, 11, 17,  1, 13, 22, 19, 13,  8, 10,  1, 14,\n",
              "        5,  9, 10, 16, 18, 13, 12,  6, 21, 12, 22, 13,  2, 23,  2,  8, 22,\n",
              "        1, 22, 22, 24, 17, 24,  1, 10,  3,  7, 24,  2, 15,  1, 14, 18, 12,\n",
              "        5, 21, 15,  1, 23, 16,  3, 23, 12, 21, 23, 21,  1, 16,  8,  2,  4,\n",
              "       16,  4, 15, 15,  6,  7, 13,  6, 13, 12, 21, 23,  1, 12, 18, 23,  6,\n",
              "       24,  5,  7, 19, 12, 13, 23,  4, 12, 23, 16,  4, 22, 13, 18,  2,  4,\n",
              "       10,  6, 19,  5, 19, 24, 23, 14,  1, 19, 24,  9,  6, 22,  2, 11,  6,\n",
              "       22, 20, 10, 20,  1, 13, 22,  3,  2, 17,  2, 23,  7, 10, 18,  6, 24,\n",
              "        5, 13,  5,  3,  1,  1, 21, 12, 16, 10, 14, 22,  5, 17,  6, 18,  6,\n",
              "       11, 19, 15,  6,  9, 16,  6,  8, 18,  9, 12, 22,  2])"
            ]
          },
          "metadata": {},
          "execution_count": 91
        }
      ],
      "metadata": {
        "colab": {
          "base_uri": "https://localhost:8080/"
        },
        "id": "zT28rugzyGpW",
        "outputId": "30adaecd-72bd-4770-b1ca-738bb2aef2cc"
      }
    },
    {
      "cell_type": "code",
      "execution_count": 92,
      "source": [
        "V2 = V1[V1>20] # filter\n",
        "V2"
      ],
      "outputs": [
        {
          "output_type": "execute_result",
          "data": {
            "text/plain": [
              "array([24, 21, 22, 22, 22, 22, 21, 22, 23, 22, 22, 22, 24, 24, 24, 21, 23,\n",
              "       23, 21, 23, 21, 21, 23, 23, 24, 23, 23, 22, 24, 23, 24, 22, 22, 22,\n",
              "       23, 24, 21, 22, 22])"
            ]
          },
          "metadata": {},
          "execution_count": 92
        }
      ],
      "metadata": {
        "colab": {
          "base_uri": "https://localhost:8080/"
        },
        "id": "Fkjb_AnDzYCd",
        "outputId": "79951de3-2ba3-4d9d-c6cb-4c4d4837ee9b"
      }
    },
    {
      "cell_type": "code",
      "execution_count": 93,
      "source": [
        "L = np.linspace(0, 1000, 1000)\n",
        "k = 20\n",
        "# sample distribute the population on time\n",
        "# k need to be lower or equal to the population length\n",
        "Vb = np.reshape(sample(range(1, k + 1), k), (k, )) # array of k elements.\n",
        "Va = np.reshape(choices(range(1, 25), k=k), (k, ))"
      ],
      "outputs": [],
      "metadata": {
        "id": "1KzDRLzczdXe"
      }
    },
    {
      "cell_type": "code",
      "execution_count": 94,
      "source": [
        "V = np.array([Va[i] if Va[i] > Vb[i] else Vb[i] for i in range(Va.shape[0])]) # give the max vector value\n",
        "V"
      ],
      "outputs": [
        {
          "output_type": "execute_result",
          "data": {
            "text/plain": [
              "array([18, 20, 11,  5, 20, 13,  7, 15, 14, 20, 19,  9, 17, 16,  9, 13, 14,\n",
              "       22, 15, 14])"
            ]
          },
          "metadata": {},
          "execution_count": 94
        }
      ],
      "metadata": {
        "colab": {
          "base_uri": "https://localhost:8080/"
        },
        "id": "1GSKjkfl1Vwi",
        "outputId": "631491bc-a51d-4e87-d8da-231f13db19ce"
      }
    },
    {
      "cell_type": "code",
      "execution_count": 95,
      "source": [
        "np.maximum(Va, Vb)"
      ],
      "outputs": [
        {
          "output_type": "execute_result",
          "data": {
            "text/plain": [
              "array([18, 20, 11,  5, 20, 13,  7, 15, 14, 20, 19,  9, 17, 16,  9, 13, 14,\n",
              "       22, 15, 14])"
            ]
          },
          "metadata": {},
          "execution_count": 95
        }
      ],
      "metadata": {
        "colab": {
          "base_uri": "https://localhost:8080/"
        },
        "id": "ghtz_2lN2hqK",
        "outputId": "4ef10b6f-776e-4c63-eb08-072b0d751c7c"
      }
    },
    {
      "cell_type": "code",
      "execution_count": 96,
      "source": [
        "from random import uniform"
      ],
      "outputs": [],
      "metadata": {
        "id": "EOCD2kJh6MsG"
      }
    },
    {
      "cell_type": "code",
      "execution_count": 97,
      "source": [
        "def lancer(n, p):\n",
        "  if p < 0 or p > 1:\n",
        "    raise ValueError(\"bad prob\")\n",
        "  c = 0\n",
        "  for i in range(0, n):\n",
        "    if uniform(0, 1) <= p:\n",
        "      c += 1\n",
        "  return c"
      ],
      "outputs": [],
      "metadata": {
        "id": "dQNuhl7t3rKg"
      }
    },
    {
      "cell_type": "code",
      "execution_count": 98,
      "source": [
        "lancer(10, 0.5)"
      ],
      "outputs": [
        {
          "output_type": "execute_result",
          "data": {
            "text/plain": [
              "7"
            ]
          },
          "metadata": {},
          "execution_count": 98
        }
      ],
      "metadata": {
        "colab": {
          "base_uri": "https://localhost:8080/"
        },
        "id": "flwm6sSH3xru",
        "outputId": "539fddfe-1729-44da-ca7b-8290bb3aff8f"
      }
    },
    {
      "cell_type": "code",
      "execution_count": 99,
      "source": [
        "from scipy.stats import norm\n",
        "import matplotlib.pyplot as plt\n",
        "%matplotlib inline\n",
        "\n",
        "mu = [0, 1, 2, 3]\n",
        "sigma = [1, 2, 3, 4]\n",
        "\n",
        "x_min = -16\n",
        "x_max = 16\n",
        "x_nb = 100\n",
        "\n",
        "x = np.linspace(x_min, x_max, x_nb)\n",
        "\n",
        "for i in range(len(mu)):\n",
        "    y = norm.pdf(x, mu[i], sigma[i])\n",
        "    plt.plot(x, y, label='mu='+str(mu[i])+', sigma='+str(sigma[i]))\n",
        "plt.legend(loc='upper right')\n",
        "plt.show()"
      ],
      "outputs": [
        {
          "output_type": "stream",
          "name": "stderr",
          "text": [
            "Matplotlib is building the font cache; this may take a moment.\n"
          ]
        },
        {
          "output_type": "display_data",
          "data": {
            "image/png": "[encoded data removed]",
            "text/plain": [
              "<Figure size 432x288 with 1 Axes>"
            ]
          },
          "metadata": {
            "needs_background": "light"
          }
        }
      ],
      "metadata": {
        "colab": {
          "base_uri": "https://localhost:8080/",
          "height": 265
        },
        "id": "CWd2MXNx65gF",
        "outputId": "653de9cd-f74b-454a-e6d2-f1f512ac436a"
      }
    },
    {
      "cell_type": "code",
      "execution_count": 101,
      "source": [
        "from pandas import read_csv\n",
        "\n",
        "dataset = read_csv(\"https://www.labri.fr/perso/zemmari/datasets/baniere.csv\", header=None)\n",
        "dataset"
      ],
      "outputs": [
        {
          "output_type": "execute_result",
          "data": {
            "text/html": [
              "<div>\n",
              "<style scoped>\n",
              "    .dataframe tbody tr th:only-of-type {\n",
              "        vertical-align: middle;\n",
              "    }\n",
              "\n",
              "    .dataframe tbody tr th {\n",
              "        vertical-align: top;\n",
              "    }\n",
              "\n",
              "    .dataframe thead th {\n",
              "        text-align: right;\n",
              "    }\n",
              "</style>\n",
              "<table border=\"1\" class=\"dataframe\">\n",
              "  <thead>\n",
              "    <tr style=\"text-align: right;\">\n",
              "      <th></th>\n",
              "      <th>0</th>\n",
              "    </tr>\n",
              "  </thead>\n",
              "  <tbody>\n",
              "    <tr>\n",
              "      <th>0</th>\n",
              "      <td>14</td>\n",
              "    </tr>\n",
              "    <tr>\n",
              "      <th>1</th>\n",
              "      <td>17</td>\n",
              "    </tr>\n",
              "    <tr>\n",
              "      <th>2</th>\n",
              "      <td>8</td>\n",
              "    </tr>\n",
              "    <tr>\n",
              "      <th>3</th>\n",
              "      <td>20</td>\n",
              "    </tr>\n",
              "    <tr>\n",
              "      <th>4</th>\n",
              "      <td>19</td>\n",
              "    </tr>\n",
              "    <tr>\n",
              "      <th>...</th>\n",
              "      <td>...</td>\n",
              "    </tr>\n",
              "    <tr>\n",
              "      <th>995</th>\n",
              "      <td>13</td>\n",
              "    </tr>\n",
              "    <tr>\n",
              "      <th>996</th>\n",
              "      <td>13</td>\n",
              "    </tr>\n",
              "    <tr>\n",
              "      <th>997</th>\n",
              "      <td>11</td>\n",
              "    </tr>\n",
              "    <tr>\n",
              "      <th>998</th>\n",
              "      <td>18</td>\n",
              "    </tr>\n",
              "    <tr>\n",
              "      <th>999</th>\n",
              "      <td>15</td>\n",
              "    </tr>\n",
              "  </tbody>\n",
              "</table>\n",
              "<p>1000 rows × 1 columns</p>\n",
              "</div>"
            ],
            "text/plain": [
              "      0\n",
              "0    14\n",
              "1    17\n",
              "2     8\n",
              "3    20\n",
              "4    19\n",
              "..   ..\n",
              "995  13\n",
              "996  13\n",
              "997  11\n",
              "998  18\n",
              "999  15\n",
              "\n",
              "[1000 rows x 1 columns]"
            ]
          },
          "metadata": {},
          "execution_count": 101
        }
      ],
      "metadata": {
        "colab": {
          "base_uri": "https://localhost:8080/",
          "height": 419
        },
        "id": "CxZj1EgS7eLw",
        "outputId": "f8037700-00ce-4383-d5ad-479778cbb127"
      }
    }
  ]
}
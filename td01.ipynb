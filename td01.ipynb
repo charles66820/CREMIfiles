{
 "cells": [
  {
   "cell_type": "markdown",
   "metadata": {},
   "source": [
    "#### UniversitÃ© de Bordeaux,  Master Mention Informatique,  2021-2022\n",
    "\n",
    "# Analyse, classification et indexation des donnÃ©es: feuille 1\n",
    "### Rappels : ProbabilitÃ©s et statistiques, AlgÃ¨bre linÃ©aire avec Python"
   ]
  },
  {
   "cell_type": "markdown",
   "metadata": {},
   "source": [
    "# 1. Vecteurs et matrices\n",
    "\n",
    "Un Ã©lÃ©ment unique, un vecteur ligne ou colonne sont des cas particuliers de matrice (tableau 2D).\n",
    "\n",
    "Une des bibliothÃ¨ques de <code>Python</code> les plus utilisÃ©es en algÃ¨bre linÃ©aire est la bibliothÃ¨que <code>numpy</code>. On commence par l'importer pour pouvoir l'utiliser pour la suite."
   ]
  },
  {
   "cell_type": "code",
   "execution_count": null,
   "metadata": {},
   "outputs": [],
   "source": [
    "import numpy as np"
   ]
  },
  {
   "cell_type": "markdown",
   "metadata": {},
   "source": [
    "### Exercice 1.\n",
    "\n",
    "CrÃ©ation de tableaux, accÃ¨s Ã  un Ã©lÃ©ment d'un tableau "
   ]
  },
  {
   "cell_type": "markdown",
   "metadata": {},
   "source": [
    "CrÃ©ation d'un vecteur ligne :"
   ]
  },
  {
   "cell_type": "code",
   "execution_count": null,
   "metadata": {},
   "outputs": [],
   "source": [
    "L1 = np.array([10, 20, 30, 40])\n",
    "L1"
   ]
  }
 ],
 "metadata": {
  "kernelspec": {
   "display_name": "Python 3",
   "language": "python",
   "name": "python3"
  },
  "language_info": {
   "codemirror_mode": {
    "name": "ipython",
    "version": 3
   },
   "file_extension": ".py",
   "mimetype": "text/x-python",
   "name": "python",
   "nbconvert_exporter": "python",
   "pygments_lexer": "ipython3",
   "version": "3.7.4"
  }
 },
 "nbformat": 4,
 "nbformat_minor": 2
}

{
 "cells": [
  {
   "cell_type": "markdown",
   "metadata": {},
   "source": [
    "# Projet CISD IS329 2022-2023 : Auto Encodeurs\n",
    "\n",
    "```\n",
    " Idée farfelue : Implémenter un autoencoder pour encoder des autos \n",
    "```\n",
    "\n",
    "![https://ai.stanford.edu/~jkrause/cars/car_dataset.html](cars.png)\n",
    "\n",
    "On va travailler sur 100 photos de voitures récupérées d'un dataset public. \n",
    "\n",
    "Le but de ce projet est d'utiliser des réseaux de neurones pour compresser ces images.\n",
    "\n",
    "On va procéder en 3 étapes :\n",
    " - Création d'une baseline : Compression sans réseau de neurones\n",
    " - Création d'un modèle Deep Learning : Compression avec un auto-encodeur\n",
    " - Améliorations !\n",
    "\n",
    "## Déroulé du projet\n",
    " - Formez des binomes : A me communiquer lors du TP du 19 janvier.\n",
    " - Réalisez le projet en complétant à minima ce notebook : Notebook à me fournir le jour de la soutenance le 26 janvier.\n",
    " - Préparez des slides pour une présentation de 10min : \n",
    "   - Présentez la démarche que vous avez utilisé pour résoudre le problème\n",
    "   - Présentez les différentes techniques utilisées dans votre projet en justifiant vos choix\n",
    "   - Il peut être intéressant d'évoquer des pistes que vous avez exploré et qui n'ont pas marché\n",
    "\n",
    "## Les critères de notation\n",
    "\n",
    "3 points seront pris en compte pour la notation du projet : \n",
    "- La documentation/les commentaires du code/notebook que vous restituez\n",
    "- Votre prestation sur la présentation le jour de la soutenance\n",
    "- Les pistes supplémentaires explorées en ouverture du projet"
   ]
  },
  {
   "cell_type": "markdown",
   "metadata": {},
   "source": [
    "\n",
    "## Entrée en matière : Baseline\n",
    "### Compression d'images à base de [SVD](https://fr.wikipedia.org/wiki/D%C3%A9composition_en_valeurs_singuli%C3%A8res)\n",
    "\n",
    "Nos images (dans le répertoire cars_sample) sont composées de 3 canaux de couleurs (RGB). Chaque canal peut être représenté par une matrice que l'on peut décomposer comme suit : \n",
    "$$M=U\\Sigma V^{*}\\,\\!$$\n",
    "\n",
    "Dans la pratique on va stacker les 3 canaux pour obtenir une matrice M de taille $m$ x $3n$ pour une image de taille $m$ x $n$.\n",
    "\n",
    "La matrice $\\Sigma$ a ses coefficients diagonnaux réels positifs ou nuls, ce sont les valeurs singulières, et ses coefficients extra diagonnaux nuls. On considère de plus que les valeurs singulières sont décroissantes $\\Sigma_{ii} > \\Sigma_{jj}$ si $i < j$.\n",
    "\n",
    "Notons \n",
    "$$M^{k}=U\\Sigma^{k} V^{*}\\,\\!$$\n",
    "\n",
    "Avec $\\Sigma^{k}$ la matrice telle que $\\Sigma^{k}_{ii} = \\Sigma_{ii}$ pour tout $i <= k$, le reste de ses coefficients étants nuls.\n",
    "\n",
    "Question :\n",
    "A l'aide des bibliothèques scientifiques python (scipy) calculez la décomposition SVD."
   ]
  },
  {
   "cell_type": "code",
   "execution_count": null,
   "metadata": {},
   "outputs": [],
   "source": []
  },
  {
   "cell_type": "markdown",
   "metadata": {},
   "source": [
    "Affichage d'une image"
   ]
  },
  {
   "cell_type": "code",
   "execution_count": null,
   "metadata": {},
   "outputs": [],
   "source": [
    "import glob\n",
    "import random\n",
    "from PIL import Image\n",
    "\n",
    "image_name = random.choice(glob.glob(\"cars_sample/*\"))\n",
    "img = Image.open(image_name)\n",
    "img"
   ]
  },
  {
   "cell_type": "markdown",
   "metadata": {},
   "source": [
    "Définissez une fonction qui prend en entrée une image, calcule la décomposition SVD de l'image"
   ]
  },
  {
   "cell_type": "code",
   "execution_count": null,
   "metadata": {},
   "outputs": [],
   "source": []
  },
  {
   "cell_type": "markdown",
   "metadata": {},
   "source": [
    "Définissez une fonction qui prend en entrée une image et un entier k, calcule la décomposition SVD de l'image et retourne l'approximation $M^{k}$ de cette décomposition"
   ]
  },
  {
   "cell_type": "code",
   "execution_count": null,
   "metadata": {},
   "outputs": [],
   "source": []
  },
  {
   "cell_type": "markdown",
   "metadata": {},
   "source": [
    "Affichez moi des belles images avant et après compression, avec différents niveaux de compression (faites varier $k$)"
   ]
  },
  {
   "cell_type": "code",
   "execution_count": null,
   "metadata": {},
   "outputs": [],
   "source": []
  },
  {
   "cell_type": "markdown",
   "metadata": {},
   "source": [
    "On considère que les images initiales sont stockées sous forme de tableaux d'entiers qui représentent tous les pixels de l'image.\n",
    " - Quel espace mémoire prend 1 image RGB de taille 128x128 ?\n",
    "\n",
    "On calcule la décomposition de cette image en utilisant la SVD tronquée, avec k = 64.\n",
    " - Comment stockez-vous l'image approximée?\n",
    " - Quel espace mémoire prend cette image ?\n",
    " - Quel niveau de compression obtenez vous ? (y en a t'il?)"
   ]
  },
  {
   "cell_type": "raw",
   "metadata": {},
   "source": []
  },
  {
   "cell_type": "markdown",
   "metadata": {},
   "source": [
    "## Compression par autoencodeur\n",
    "\n",
    "On a vu les autoencodeurs dans le TP5, réutilisez ce type d'architecture. Apprenez votre modèle sur le jeu d'images 'car_sample'."
   ]
  },
  {
   "cell_type": "raw",
   "metadata": {},
   "source": []
  },
  {
   "cell_type": "markdown",
   "metadata": {},
   "source": [
    "Mesurez la convergence?\n",
    "\n",
    "Quelle est la qualité des résultats (affichez les images)"
   ]
  },
  {
   "cell_type": "raw",
   "metadata": {},
   "source": []
  },
  {
   "cell_type": "markdown",
   "metadata": {},
   "source": [
    "- Quels éléments vous avez besoin de stocker pour sauvegarder les images compressées?\n",
    "- Quel espace disque est nécessaire pour stocker les 100 images ?\n",
    "- Quel niveau de compression obtenez vous ?\n",
    "- Comparez à la SVD "
   ]
  },
  {
   "cell_type": "raw",
   "metadata": {},
   "source": []
  },
  {
   "cell_type": "markdown",
   "metadata": {},
   "source": [
    "## Idées d'améliorations :\n",
    "- Tester d'autres types d'architectures : Est-ce que ce sont les autoencodeurs les architectures les plus adaptées à la compression ?\n",
    "- Est-ce que l'on peut obtenir les mêmes résultats avec un réseau plus petit ? : Ce principe s'appelle \"distillation\" sur les réseaux de neurones.\n",
    "- ..."
   ]
  }
 ],
 "metadata": {
  "kernelspec": {
   "display_name": "Python 3 (ipykernel)",
   "language": "python",
   "name": "python3"
  },
  "language_info": {
   "codemirror_mode": {
    "name": "ipython",
    "version": 3
   },
   "file_extension": ".py",
   "mimetype": "text/x-python",
   "name": "python",
   "nbconvert_exporter": "python",
   "pygments_lexer": "ipython3",
   "version": "3.10.8"
  },
  "vscode": {
   "interpreter": {
    "hash": "7ce4149955725de646ec937920da43345c1366436e9c09f40689337aabc4a578"
   }
  }
 },
 "nbformat": 4,
 "nbformat_minor": 4
}

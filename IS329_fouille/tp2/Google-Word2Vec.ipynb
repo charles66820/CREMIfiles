{
 "cells": [
  {
   "cell_type": "code",
   "execution_count": 1,
   "metadata": {},
   "outputs": [],
   "source": [
    "# https://radimrehurek.com/gensim/index.html\n",
    "import gensim"
   ]
  },
  {
   "cell_type": "markdown",
   "metadata": {},
   "source": [
    "Le modèle est sur miriel045 dans /tmp/jacq\n",
    "\n",
    "#wget -c \"https://s3.amazonaws.com/dl4j-distribution/GoogleNews-vectors-negative300.bin.gz\"\n",
    "\n",
    "Adaptez la cellule suivante pour le copier dans le /tmp de votre noeud.\n",
    "\n",
    "Ne chargez pas les home des machines le fichier fait ~2Go"
   ]
  },
  {
   "cell_type": "code",
   "execution_count": 2,
   "metadata": {},
   "outputs": [
    {
     "name": "stdout",
     "output_type": "stream",
     "text": [
      "CPU times: user 46.8 s, sys: 3.01 s, total: 49.8 s\n",
      "Wall time: 51 s\n"
     ]
    }
   ],
   "source": [
    "%%time\n",
    "w2v = gensim.models.KeyedVectors.load_word2vec_format(\n",
    "    '/mnt/data/GoogleNews-vectors-negative300.bin.gz',\n",
    "    binary=True,\n",
    ")"
   ]
  },
  {
   "cell_type": "code",
   "execution_count": 3,
   "metadata": {},
   "outputs": [
    {
     "data": {
      "text/plain": [
       "[('queen', 0.7118193507194519),\n",
       " ('monarch', 0.6189674139022827),\n",
       " ('princess', 0.5902431011199951),\n",
       " ('crown_prince', 0.5499460697174072),\n",
       " ('prince', 0.5377321839332581),\n",
       " ('kings', 0.5236844420433044),\n",
       " ('Queen_Consort', 0.5235945582389832),\n",
       " ('queens', 0.5181134343147278),\n",
       " ('sultan', 0.5098593831062317),\n",
       " ('monarchy', 0.5087411999702454)]"
      ]
     },
     "execution_count": 3,
     "metadata": {},
     "output_type": "execute_result"
    }
   ],
   "source": [
    "w2v.most_similar(positive=['woman', 'king'], negative=['man'])"
   ]
  },
  {
   "cell_type": "markdown",
   "metadata": {},
   "source": [
    "Il n'y a pas que la méthode most_similar qui est intéressante : A vous d'explorer"
   ]
  },
  {
   "cell_type": "code",
   "execution_count": 4,
   "metadata": {},
   "outputs": [
    {
     "name": "stdout",
     "output_type": "stream",
     "text": [
      "\u001b[0;31mSignature:\u001b[0m \u001b[0mw2v\u001b[0m\u001b[0;34m.\u001b[0m\u001b[0mdoesnt_match\u001b[0m\u001b[0;34m(\u001b[0m\u001b[0mwords\u001b[0m\u001b[0;34m)\u001b[0m\u001b[0;34m\u001b[0m\u001b[0;34m\u001b[0m\u001b[0m\n",
      "\u001b[0;31mDocstring:\u001b[0m\n",
      "Which key from the given list doesn't go with the others?\n",
      "\n",
      "Parameters\n",
      "----------\n",
      "words : list of str\n",
      "    List of keys.\n",
      "\n",
      "Returns\n",
      "-------\n",
      "str\n",
      "    The key further away from the mean of all keys.\n",
      "\u001b[0;31mFile:\u001b[0m      ~/.local/lib/python3.8/site-packages/gensim/models/keyedvectors.py\n",
      "\u001b[0;31mType:\u001b[0m      method\n"
     ]
    }
   ],
   "source": [
    "w2v.doesnt_match?"
   ]
  },
  {
   "cell_type": "code",
   "execution_count": 5,
   "metadata": {},
   "outputs": [],
   "source": [
    "queen = w2v[\"king\"] - w2v[\"man\"] + w2v[\"woman\"]"
   ]
  },
  {
   "cell_type": "code",
   "execution_count": 6,
   "metadata": {},
   "outputs": [
    {
     "data": {
      "text/plain": [
       "[('king', 0.8449392318725586),\n",
       " ('queen', 0.7300517559051514),\n",
       " ('monarch', 0.645466148853302),\n",
       " ('princess', 0.6156251430511475),\n",
       " ('crown_prince', 0.5818676352500916),\n",
       " ('prince', 0.5777117609977722),\n",
       " ('kings', 0.5613663792610168),\n",
       " ('sultan', 0.5376775860786438),\n",
       " ('Queen_Consort', 0.5344247817993164),\n",
       " ('queens', 0.5289887189865112)]"
      ]
     },
     "execution_count": 6,
     "metadata": {},
     "output_type": "execute_result"
    }
   ],
   "source": [
    "w2v.most_similar(positive=[queen])"
   ]
  },
  {
   "cell_type": "code",
   "execution_count": 7,
   "metadata": {},
   "outputs": [],
   "source": [
    "queen_norm = (\n",
    "    w2v.get_vector(\"king\", norm=True)\n",
    "    - w2v.get_vector(\"man\", norm=True)\n",
    "    + w2v.get_vector(\"woman\", norm=True)\n",
    ")"
   ]
  },
  {
   "cell_type": "code",
   "execution_count": 8,
   "metadata": {},
   "outputs": [
    {
     "data": {
      "text/plain": [
       "(array([ 0.00524902, -0.14355469, -0.06933594,  0.12353516,  0.13183594,\n",
       "        -0.08886719, -0.07128906, -0.21679688, -0.19726562,  0.05566406],\n",
       "       dtype=float32),\n",
       " array([ 0.04296875, -0.17822266, -0.12908936,  0.11523438,  0.00268555,\n",
       "        -0.10229492,  0.19580078, -0.1795044 ,  0.01953125,  0.40991974],\n",
       "       dtype=float32),\n",
       " array([-0.00619015, -0.07542217, -0.05083442,  0.04359096, -0.00321992,\n",
       "        -0.035044  ,  0.08129873, -0.06163806, -0.00235739,  0.14262468],\n",
       "       dtype=float32))"
      ]
     },
     "execution_count": 8,
     "metadata": {},
     "output_type": "execute_result"
    }
   ],
   "source": [
    "w2v[\"queen\"][:10], queen[:10], queen_norm[:10]"
   ]
  },
  {
   "cell_type": "code",
   "execution_count": 9,
   "metadata": {},
   "outputs": [
    {
     "data": {
      "text/plain": [
       "[('king', 0.7992597818374634),\n",
       " ('queen', 0.7118192911148071),\n",
       " ('monarch', 0.6189674139022827),\n",
       " ('princess', 0.5902431011199951),\n",
       " ('crown_prince', 0.5499460697174072),\n",
       " ('prince', 0.5377321839332581),\n",
       " ('kings', 0.5236844420433044),\n",
       " ('Queen_Consort', 0.5235945582389832),\n",
       " ('queens', 0.518113374710083),\n",
       " ('sultan', 0.5098593831062317)]"
      ]
     },
     "execution_count": 9,
     "metadata": {},
     "output_type": "execute_result"
    }
   ],
   "source": [
    "w2v.most_similar(positive=[queen_norm])"
   ]
  },
  {
   "cell_type": "code",
   "execution_count": 10,
   "metadata": {},
   "outputs": [
    {
     "data": {
      "text/plain": [
       "[('puppy', 0.672011137008667),\n",
       " ('pooch', 0.640053927898407),\n",
       " ('pup', 0.612525224685669),\n",
       " ('dogs', 0.6005871295928955),\n",
       " ('German_shepherd', 0.591395378112793),\n",
       " ('cat', 0.5822558999061584),\n",
       " ('golden_retriever', 0.5778035521507263),\n",
       " ('pit_bull', 0.5748783349990845),\n",
       " ('Rottweiler', 0.5717918276786804),\n",
       " ('Yorkshire_terrier', 0.5693223476409912)]"
      ]
     },
     "execution_count": 10,
     "metadata": {},
     "output_type": "execute_result"
    }
   ],
   "source": [
    "w2v.most_similar(positive=['dog', 'child'], negative=['adult'])"
   ]
  },
  {
   "cell_type": "code",
   "execution_count": 11,
   "metadata": {},
   "outputs": [
    {
     "data": {
      "text/plain": [
       "[('puppy', 0.6052532196044922),\n",
       " ('kitten', 0.6021385788917542),\n",
       " ('dog', 0.5852227807044983),\n",
       " ('pup', 0.5823509693145752),\n",
       " ('pooch', 0.5800433158874512),\n",
       " ('cats', 0.5533753633499146),\n",
       " ('stray_cat', 0.5414088368415833),\n",
       " ('kitties', 0.5325700044631958),\n",
       " ('Yorkshire_terrier', 0.5320756435394287),\n",
       " ('pet', 0.5289697647094727)]"
      ]
     },
     "execution_count": 11,
     "metadata": {},
     "output_type": "execute_result"
    }
   ],
   "source": [
    "w2v.most_similar(positive=['cat', 'child'], negative=['adult'])"
   ]
  },
  {
   "cell_type": "code",
   "execution_count": 12,
   "metadata": {},
   "outputs": [
    {
     "data": {
      "text/plain": [
       "[('woof_woof', 0.5396372079849243),\n",
       " ('dogs', 0.4995119869709015),\n",
       " ('bark_incessantly', 0.4923662543296814),\n",
       " ('Woof_woof', 0.4894609749317169),\n",
       " ('Rusty_barked', 0.4648567736148834),\n",
       " ('woofs', 0.46396562457084656),\n",
       " ('yip_yip', 0.45828351378440857),\n",
       " ('growl', 0.45362916588783264),\n",
       " ('moos', 0.4518892765045166),\n",
       " ('barking_incessantly', 0.45174774527549744)]"
      ]
     },
     "execution_count": 12,
     "metadata": {},
     "output_type": "execute_result"
    }
   ],
   "source": [
    "w2v.most_similar(positive=['meow', 'dog'], negative=[\"cat\"])"
   ]
  },
  {
   "cell_type": "code",
   "execution_count": 13,
   "metadata": {},
   "outputs": [
    {
     "data": {
      "text/plain": [
       "[('Milan', 0.7222141623497009),\n",
       " ('Rome', 0.702830970287323),\n",
       " ('Palermo_Sicily', 0.5967570543289185),\n",
       " ('Italian', 0.5911272764205933),\n",
       " ('Tuscany', 0.5632812976837158),\n",
       " ('Bologna', 0.5608358383178711),\n",
       " ('Sicily', 0.5596384406089783),\n",
       " ('Bologna_Italy', 0.5470058917999268),\n",
       " ('Berna_Milan', 0.5464027523994446),\n",
       " ('Genoa', 0.5308900475502014)]"
      ]
     },
     "execution_count": 13,
     "metadata": {},
     "output_type": "execute_result"
    }
   ],
   "source": [
    "w2v.most_similar(positive=['Paris', 'Italy'], negative=[\"France\"])"
   ]
  },
  {
   "cell_type": "code",
   "execution_count": 14,
   "metadata": {},
   "outputs": [
    {
     "data": {
      "text/plain": [
       "[('Friuli', 0.6579111814498901),\n",
       " ('Lecce', 0.6504460573196411),\n",
       " ('Milan', 0.6464554667472839),\n",
       " ('Livorno', 0.6451722979545593),\n",
       " ('Cagliari', 0.6402646899223328),\n",
       " ('Brescia', 0.6326268315315247),\n",
       " ('Bologna', 0.6313794851303101),\n",
       " ('Genoa', 0.6303693652153015),\n",
       " ('Tuscany', 0.6288278698921204),\n",
       " ('Palermo', 0.6284286975860596)]"
      ]
     },
     "execution_count": 14,
     "metadata": {},
     "output_type": "execute_result"
    }
   ],
   "source": [
    "w2v.most_similar(positive=['Bordeaux', 'Italy'], negative=[\"France\"])"
   ]
  },
  {
   "cell_type": "code",
   "execution_count": 15,
   "metadata": {},
   "outputs": [
    {
     "data": {
      "text/plain": [
       "[('Falanghina', 0.6475211977958679),\n",
       " ('Chianti', 0.6175957918167114),\n",
       " ('Chianti_Classico', 0.6059287786483765),\n",
       " ('Barolo', 0.6030843257904053),\n",
       " (\"Nero_d'_Avola\", 0.602142333984375),\n",
       " ('barbera', 0.6005603075027466),\n",
       " ('Pinot_Grigio', 0.5974807143211365),\n",
       " ('Valpolicella', 0.5972704887390137),\n",
       " ('Riserva', 0.5970005393028259),\n",
       " ('malvasia', 0.5907768607139587)]"
      ]
     },
     "execution_count": 15,
     "metadata": {},
     "output_type": "execute_result"
    }
   ],
   "source": [
    "w2v.most_similar(positive=['bordeaux', 'Italy'], negative=[\"France\"])"
   ]
  },
  {
   "cell_type": "code",
   "execution_count": 16,
   "metadata": {},
   "outputs": [
    {
     "data": {
      "text/plain": [
       "[('pinotage', 0.5918348431587219),\n",
       " ('Chenin', 0.5434677004814148),\n",
       " ('shiraz', 0.5277871489524841),\n",
       " ('Vergelegen', 0.5246654748916626),\n",
       " ('Pinotage', 0.5209116339683533),\n",
       " ('rooibos_tea', 0.5206111669540405),\n",
       " ('chenin', 0.5097901821136475),\n",
       " ('Cap_Classique', 0.5078455209732056),\n",
       " ('sauvignon', 0.507658839225769),\n",
       " ('Nederburg', 0.5071874260902405)]"
      ]
     },
     "execution_count": 16,
     "metadata": {},
     "output_type": "execute_result"
    }
   ],
   "source": [
    "w2v.most_similar(positive=['bordeaux', 'South_Africa'], negative=[\"France\"])"
   ]
  }
 ],
 "metadata": {
  "kernelspec": {
   "display_name": "Python 3.8.10 64-bit",
   "language": "python",
   "name": "python3"
  },
  "language_info": {
   "codemirror_mode": {
    "name": "ipython",
    "version": 3
   },
   "file_extension": ".py",
   "mimetype": "text/x-python",
   "name": "python",
   "nbconvert_exporter": "python",
   "pygments_lexer": "ipython3",
   "version": "3.10.6 (main, Nov 14 2022, 16:10:14) [GCC 11.3.0]"
  },
  "vscode": {
   "interpreter": {
    "hash": "31f2aee4e71d21fbe5cf8b01ff0e069b9275f58929596ceb00d14d90e3e16cd6"
   }
  }
 },
 "nbformat": 4,
 "nbformat_minor": 4
}

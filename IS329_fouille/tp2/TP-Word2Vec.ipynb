{
 "cells": [
  {
   "cell_type": "markdown",
   "metadata": {},
   "source": [
    "# Import des modules"
   ]
  },
  {
   "cell_type": "code",
   "execution_count": 1,
   "metadata": {},
   "outputs": [
    {
     "name": "stderr",
     "output_type": "stream",
     "text": [
      "2022-12-08 09:54:32.615554: W tensorflow/stream_executor/platform/default/dso_loader.cc:64] Could not load dynamic library 'libcudart.so.11.0'; dlerror: libcudart.so.11.0: cannot open shared object file: No such file or directory\n",
      "2022-12-08 09:54:32.615575: I tensorflow/stream_executor/cuda/cudart_stub.cc:29] Ignore above cudart dlerror if you do not have a GPU set up on your machine.\n",
      "2022-12-08 09:54:34.102130: I tensorflow/stream_executor/cuda/cuda_gpu_executor.cc:937] successful NUMA node read from SysFS had negative value (-1), but there must be at least one NUMA node, so returning NUMA node zero\n",
      "2022-12-08 09:54:34.103187: W tensorflow/stream_executor/platform/default/dso_loader.cc:64] Could not load dynamic library 'libcudart.so.11.0'; dlerror: libcudart.so.11.0: cannot open shared object file: No such file or directory\n",
      "2022-12-08 09:54:34.103502: W tensorflow/stream_executor/platform/default/dso_loader.cc:64] Could not load dynamic library 'libcublas.so.11'; dlerror: libcublas.so.11: cannot open shared object file: No such file or directory\n",
      "2022-12-08 09:54:34.103775: W tensorflow/stream_executor/platform/default/dso_loader.cc:64] Could not load dynamic library 'libcublasLt.so.11'; dlerror: libcublasLt.so.11: cannot open shared object file: No such file or directory\n",
      "2022-12-08 09:54:34.130017: W tensorflow/stream_executor/platform/default/dso_loader.cc:64] Could not load dynamic library 'libcusolver.so.11'; dlerror: libcusolver.so.11: cannot open shared object file: No such file or directory\n",
      "2022-12-08 09:54:34.130152: W tensorflow/stream_executor/platform/default/dso_loader.cc:64] Could not load dynamic library 'libcusparse.so.11'; dlerror: libcusparse.so.11: cannot open shared object file: No such file or directory\n",
      "2022-12-08 09:54:34.130276: W tensorflow/stream_executor/platform/default/dso_loader.cc:64] Could not load dynamic library 'libcudnn.so.8'; dlerror: libcudnn.so.8: cannot open shared object file: No such file or directory\n",
      "2022-12-08 09:54:34.130293: W tensorflow/core/common_runtime/gpu/gpu_device.cc:1835] Cannot dlopen some GPU libraries. Please make sure the missing libraries mentioned above are installed properly if you would like to use GPU. Follow the guide at https://www.tensorflow.org/install/gpu for how to download and setup the required libraries for your platform.\n",
      "Skipping registering GPU devices...\n"
     ]
    }
   ],
   "source": [
    "import string\n",
    "from collections import Counter\n",
    "\n",
    "import nltk\n",
    "import pandas as pd\n",
    "import numpy as np\n",
    "import sklearn\n",
    "import gensim\n",
    "import spacy\n",
    "\n",
    "# Plots\n",
    "import matplotlib.pyplot as plt\n",
    "%matplotlib inline\n",
    "#libcudart10.1"
   ]
  },
  {
   "cell_type": "markdown",
   "metadata": {},
   "source": [
    "# Chargement des données\n",
    "![Analyse de sentiments](https://modernmarketing.co.za/wp-content/uploads/2019/10/Developing-Customer-Centric-Strategy-Through-Automation-1-1.jpg)"
   ]
  },
  {
   "cell_type": "code",
   "execution_count": 2,
   "metadata": {},
   "outputs": [],
   "source": [
    "# Dataset critiques IMDB\n",
    "df_train = pd.read_csv(\"train.csv.gz\")\n",
    "df_valid = pd.read_csv(\"test.csv.gz\")"
   ]
  },
  {
   "cell_type": "markdown",
   "metadata": {},
   "source": [
    "# Explorez les données"
   ]
  },
  {
   "cell_type": "code",
   "execution_count": 3,
   "metadata": {},
   "outputs": [
    {
     "data": {
      "text/html": [
       "<div>\n",
       "<style scoped>\n",
       "    .dataframe tbody tr th:only-of-type {\n",
       "        vertical-align: middle;\n",
       "    }\n",
       "\n",
       "    .dataframe tbody tr th {\n",
       "        vertical-align: top;\n",
       "    }\n",
       "\n",
       "    .dataframe thead th {\n",
       "        text-align: right;\n",
       "    }\n",
       "</style>\n",
       "<table border=\"1\" class=\"dataframe\">\n",
       "  <thead>\n",
       "    <tr style=\"text-align: right;\">\n",
       "      <th></th>\n",
       "      <th>text</th>\n",
       "      <th>score</th>\n",
       "    </tr>\n",
       "  </thead>\n",
       "  <tbody>\n",
       "    <tr>\n",
       "      <th>0</th>\n",
       "      <td>I rented I AM CURIOUS-YELLOW from my video sto...</td>\n",
       "      <td>4</td>\n",
       "    </tr>\n",
       "    <tr>\n",
       "      <th>1</th>\n",
       "      <td>\"I Am Curious: Yellow\" is a risible and preten...</td>\n",
       "      <td>1</td>\n",
       "    </tr>\n",
       "    <tr>\n",
       "      <th>2</th>\n",
       "      <td>If only to avoid making this type of film in t...</td>\n",
       "      <td>1</td>\n",
       "    </tr>\n",
       "    <tr>\n",
       "      <th>3</th>\n",
       "      <td>This film was probably inspired by Godard's Ma...</td>\n",
       "      <td>2</td>\n",
       "    </tr>\n",
       "    <tr>\n",
       "      <th>4</th>\n",
       "      <td>Oh, brother...after hearing about this ridicul...</td>\n",
       "      <td>1</td>\n",
       "    </tr>\n",
       "  </tbody>\n",
       "</table>\n",
       "</div>"
      ],
      "text/plain": [
       "                                                text  score\n",
       "0  I rented I AM CURIOUS-YELLOW from my video sto...      4\n",
       "1  \"I Am Curious: Yellow\" is a risible and preten...      1\n",
       "2  If only to avoid making this type of film in t...      1\n",
       "3  This film was probably inspired by Godard's Ma...      2\n",
       "4  Oh, brother...after hearing about this ridicul...      1"
      ]
     },
     "execution_count": 3,
     "metadata": {},
     "output_type": "execute_result"
    }
   ],
   "source": [
    "df_train.head()"
   ]
  },
  {
   "cell_type": "code",
   "execution_count": 4,
   "metadata": {},
   "outputs": [
    {
     "data": {
      "text/html": [
       "<div>\n",
       "<style scoped>\n",
       "    .dataframe tbody tr th:only-of-type {\n",
       "        vertical-align: middle;\n",
       "    }\n",
       "\n",
       "    .dataframe tbody tr th {\n",
       "        vertical-align: top;\n",
       "    }\n",
       "\n",
       "    .dataframe thead th {\n",
       "        text-align: right;\n",
       "    }\n",
       "</style>\n",
       "<table border=\"1\" class=\"dataframe\">\n",
       "  <thead>\n",
       "    <tr style=\"text-align: right;\">\n",
       "      <th></th>\n",
       "      <th>text</th>\n",
       "      <th>score</th>\n",
       "    </tr>\n",
       "  </thead>\n",
       "  <tbody>\n",
       "    <tr>\n",
       "      <th>0</th>\n",
       "      <td>I love sci-fi and am willing to put up with a ...</td>\n",
       "      <td>3</td>\n",
       "    </tr>\n",
       "    <tr>\n",
       "      <th>1</th>\n",
       "      <td>Worth the entertainment value of a rental, esp...</td>\n",
       "      <td>4</td>\n",
       "    </tr>\n",
       "    <tr>\n",
       "      <th>2</th>\n",
       "      <td>its a totally average film with a few semi-alr...</td>\n",
       "      <td>3</td>\n",
       "    </tr>\n",
       "    <tr>\n",
       "      <th>3</th>\n",
       "      <td>STAR RATING: ***** Saturday Night **** Friday ...</td>\n",
       "      <td>2</td>\n",
       "    </tr>\n",
       "    <tr>\n",
       "      <th>4</th>\n",
       "      <td>First off let me say, If you haven't enjoyed a...</td>\n",
       "      <td>4</td>\n",
       "    </tr>\n",
       "  </tbody>\n",
       "</table>\n",
       "</div>"
      ],
      "text/plain": [
       "                                                text  score\n",
       "0  I love sci-fi and am willing to put up with a ...      3\n",
       "1  Worth the entertainment value of a rental, esp...      4\n",
       "2  its a totally average film with a few semi-alr...      3\n",
       "3  STAR RATING: ***** Saturday Night **** Friday ...      2\n",
       "4  First off let me say, If you haven't enjoyed a...      4"
      ]
     },
     "execution_count": 4,
     "metadata": {},
     "output_type": "execute_result"
    }
   ],
   "source": [
    "df_valid.head()"
   ]
  },
  {
   "cell_type": "code",
   "execution_count": 5,
   "metadata": {},
   "outputs": [
    {
     "data": {
      "text/plain": [
       "1     5100\n",
       "10    4732\n",
       "8     3009\n",
       "4     2696\n",
       "7     2496\n",
       "3     2420\n",
       "2     2284\n",
       "9     2263\n",
       "Name: score, dtype: int64"
      ]
     },
     "execution_count": 5,
     "metadata": {},
     "output_type": "execute_result"
    }
   ],
   "source": [
    "df_train.score.value_counts()"
   ]
  },
  {
   "cell_type": "markdown",
   "metadata": {},
   "source": [
    "# Préparation du jeu de données\n",
    "\n",
    "On a des critiques qui ont un score entre 1 et 10.\n",
    "\n",
    "On va dire qu'une critique est positive si le score est plus grand que 5 et négative sinon.\n",
    "\n",
    "Créez la colonne \"positive\" qui contient 0 pour les critiques négatives et 1 pour les positives"
   ]
  },
  {
   "cell_type": "code",
   "execution_count": 6,
   "metadata": {},
   "outputs": [],
   "source": [
    "df_train[\"positive\"] = df_train[\"score\"] > 5\n",
    "df_valid[\"positive\"] = df_valid[\"score\"] > 5"
   ]
  },
  {
   "cell_type": "code",
   "execution_count": 7,
   "metadata": {},
   "outputs": [],
   "source": [
    "# Si ça passe c'est ok\n",
    "nb_positives = (df_train[\"positive\"] == 1).sum()\n",
    "assert nb_positives == 12500, f\"nb_positives = {nb_positives} au lieu de 12500\""
   ]
  },
  {
   "cell_type": "markdown",
   "metadata": {},
   "source": [
    "# Bag Of Words preprocessing\n",
    "\n",
    "On récupère toutes les fonctions de preprocessing pour convertir les textes en matrice de features"
   ]
  },
  {
   "cell_type": "code",
   "execution_count": 8,
   "metadata": {},
   "outputs": [
    {
     "name": "stderr",
     "output_type": "stream",
     "text": [
      "[nltk_data] Downloading package stopwords to\n",
      "[nltk_data]     /home/charles/nltk_data...\n",
      "[nltk_data]   Package stopwords is already up-to-date!\n",
      "[nltk_data] Downloading package punkt to /home/charles/nltk_data...\n",
      "[nltk_data]   Package punkt is already up-to-date!\n"
     ]
    }
   ],
   "source": [
    "# nécessaire la 1ere fois\n",
    "nltk.download('stopwords')\n",
    "nltk.download('punkt')\n",
    "from nltk.corpus import stopwords\n",
    "\n",
    "STOP_WORDS = set(stopwords.words('english'))\n",
    "\n",
    "def extract_tokens(text):\n",
    "    res = []\n",
    "    for sent in nltk.sent_tokenize(text):\n",
    "        res += nltk.word_tokenize(sent)\n",
    "    return res\n",
    "\n",
    "def clean_tokens(tokens):\n",
    "    return [token.lower() for token in tokens if token not in string.punctuation]\n",
    "\n",
    "def remove_stop_words(tokens):\n",
    "    return [token for token in tokens if token not in STOP_WORDS]\n",
    "\n",
    "def text2tokens(text):\n",
    "    tokens = extract_tokens(text)\n",
    "    tokens = clean_tokens(tokens)\n",
    "    tokens = remove_stop_words(tokens)\n",
    "    return tokens"
   ]
  },
  {
   "cell_type": "markdown",
   "metadata": {},
   "source": [
    "scikit-learn a toutes les fonctionalités dont on a besoin : https://scikit-learn.org/stable/modules/classes.html?highlight=text#module-sklearn.feature_extraction.text\n",
    "\n",
    "Utilisez ces nouveaux outils pour générer les matrices X_train et X_valid à partir de df_train[\"text\"] et df_valid[\"text\"]"
   ]
  },
  {
   "cell_type": "code",
   "execution_count": 9,
   "metadata": {},
   "outputs": [],
   "source": [
    "from sklearn.feature_extraction.text import TfidfVectorizer\n",
    "\n",
    "vectoriser = TfidfVectorizer()"
   ]
  },
  {
   "cell_type": "code",
   "execution_count": 10,
   "metadata": {},
   "outputs": [],
   "source": [
    "X_train = vectoriser.fit_transform(df_train[\"text\"])"
   ]
  },
  {
   "cell_type": "code",
   "execution_count": 11,
   "metadata": {},
   "outputs": [],
   "source": [
    "X_valid = vectoriser.transform(df_valid[\"text\"])"
   ]
  },
  {
   "cell_type": "markdown",
   "metadata": {},
   "source": [
    "Quelle est la taille du vocabulaire utilisé par votre vectorizer?"
   ]
  },
  {
   "cell_type": "code",
   "execution_count": 12,
   "metadata": {},
   "outputs": [
    {
     "data": {
      "text/plain": [
       "75911"
      ]
     },
     "execution_count": 12,
     "metadata": {},
     "output_type": "execute_result"
    }
   ],
   "source": [
    "len(vectoriser.vocabulary_)"
   ]
  },
  {
   "cell_type": "code",
   "execution_count": 13,
   "metadata": {},
   "outputs": [],
   "source": [
    "# On prépare le vecteur à prédire\n",
    "y_train = df_train[\"positive\"]\n",
    "y_valid = df_valid[\"positive\"]"
   ]
  },
  {
   "cell_type": "markdown",
   "metadata": {},
   "source": [
    "# Un peu de Machine learning\n",
    "\n",
    "On va maintenant utiliser scikit learn pour apprendre une régression logistique sur nos données d'entrainement : https://scikit-learn.org/stable/modules/generated/sklearn.linear_model.LogisticRegression.html#sklearn.linear_model.LogisticRegression\n",
    "\n",
    "Etape 1 : Créez le modèle\n",
    "\n",
    "Etape 2 : fit(X, y)\n",
    "\n",
    "Etape 3 : Evaluons les performances\n",
    "\n",
    "Commencez par instancier le modèle"
   ]
  },
  {
   "cell_type": "code",
   "execution_count": 14,
   "metadata": {},
   "outputs": [],
   "source": [
    "ml = sklearn.linear_model.LogisticRegression(max_iter=1000)"
   ]
  },
  {
   "cell_type": "markdown",
   "metadata": {},
   "source": [
    "Lancez l'apprentissage sur l'ensemble de train"
   ]
  },
  {
   "cell_type": "code",
   "execution_count": 15,
   "metadata": {},
   "outputs": [
    {
     "data": {
      "text/plain": [
       "LogisticRegression(C=1.0, class_weight=None, dual=False, fit_intercept=True,\n",
       "                   intercept_scaling=1, l1_ratio=None, max_iter=1000,\n",
       "                   multi_class='auto', n_jobs=None, penalty='l2',\n",
       "                   random_state=None, solver='lbfgs', tol=0.0001, verbose=0,\n",
       "                   warm_start=False)"
      ]
     },
     "execution_count": 15,
     "metadata": {},
     "output_type": "execute_result"
    }
   ],
   "source": [
    "ml.fit(X_train, y_train)"
   ]
  },
  {
   "cell_type": "markdown",
   "metadata": {},
   "source": [
    "### Affichez la matrice de confusion\n",
    "https://scikit-learn.org/stable/auto_examples/model_selection/plot_confusion_matrix.html\n",
    "\n",
    "Explorez les options 'normalize' : Quelle information est la plus pertinente ?"
   ]
  },
  {
   "cell_type": "code",
   "execution_count": 16,
   "metadata": {},
   "outputs": [],
   "source": [
    "y_pred = ml.predict(X_valid)"
   ]
  },
  {
   "cell_type": "markdown",
   "metadata": {},
   "source": [
    "## Tracez la courbe ROC\n",
    "https://scikit-learn.org/stable/modules/generated/sklearn.metrics.plot_roc_curve.html?highlight=roc%20curve#sklearn.metrics.plot_roc_curve\n"
   ]
  },
  {
   "cell_type": "code",
   "execution_count": 17,
   "metadata": {},
   "outputs": [
    {
     "data": {
      "image/png": "[encoded data removed]",
      "text/plain": [
       "<Figure size 720x432 with 1 Axes>"
      ]
     },
     "metadata": {
      "needs_background": "light"
     },
     "output_type": "display_data"
    }
   ],
   "source": [
    "fpr_lr_train, tpr_lr_train, thresholds_train = sklearn.metrics.roc_curve(y_train, ml.predict_proba(X_train)[:, 1])\n",
    "fpr_lr_valid, tpr_lr_valid, threshold_valid = sklearn.metrics.roc_curve(y_valid, ml.predict_proba(X_valid)[:, 1])\n",
    "plt.figure(figsize=(10,6))\n",
    "plt.plot([0, 1], [0, 1], 'k--')\n",
    "plt.plot(fpr_lr_train, tpr_lr_train, label='LR_train')\n",
    "plt.plot(fpr_lr_valid, tpr_lr_valid, label='LR_valid')\n",
    "plt.xlabel('False positive rate')\n",
    "plt.ylabel('True positive rate')\n",
    "plt.legend()\n",
    "plt.title('ROC curve')\n",
    "plt.show()"
   ]
  },
  {
   "cell_type": "markdown",
   "metadata": {},
   "source": [
    "## Calculer l'AUC : Area Under the ROC Curve\n",
    "https://scikit-learn.org/stable/modules/generated/sklearn.metrics.auc.html?highlight=auc#sklearn.metrics.auc"
   ]
  },
  {
   "cell_type": "code",
   "execution_count": 18,
   "metadata": {},
   "outputs": [
    {
     "data": {
      "text/plain": [
       "0.9810280064000001"
      ]
     },
     "execution_count": 18,
     "metadata": {},
     "output_type": "execute_result"
    }
   ],
   "source": [
    "# Aire sous la courbe ROC - train\n",
    "sklearn.metrics.roc_auc_score(y_train, ml.predict_proba(X_train)[:, 1])"
   ]
  },
  {
   "cell_type": "code",
   "execution_count": 19,
   "metadata": {},
   "outputs": [
    {
     "data": {
      "text/plain": [
       "0.9526552832"
      ]
     },
     "execution_count": 19,
     "metadata": {},
     "output_type": "execute_result"
    }
   ],
   "source": [
    "# Aire sous la courbe ROC - valid\n",
    "sklearn.metrics.roc_auc_score(y_valid, ml.predict_proba(X_valid)[:, 1])"
   ]
  },
  {
   "cell_type": "markdown",
   "metadata": {},
   "source": [
    "## Confusion matrix and score"
   ]
  },
  {
   "cell_type": "code",
   "execution_count": 20,
   "metadata": {},
   "outputs": [
    {
     "name": "stdout",
     "output_type": "stream",
     "text": [
      "[[11051  1449]\n",
      " [ 1479 11021]]\n",
      "88.29%\n"
     ]
    }
   ],
   "source": [
    "from sklearn.metrics import confusion_matrix, accuracy_score\n",
    "\n",
    "cm = confusion_matrix(y_valid, y_pred)\n",
    "print(cm)\n",
    "\n",
    "print(\"{:.2%}\".format(accuracy_score(y_valid, y_pred)))"
   ]
  },
  {
   "cell_type": "markdown",
   "metadata": {},
   "source": [
    "# Au tour de Word2Vec\n",
    "\n",
    "Commencez par rajouter la colonne tokens aux dataframes df_train et df_valid.\n",
    "Vous allez y stocker les tokens des textes en utilisant les fonctions données en début du notebook"
   ]
  },
  {
   "cell_type": "code",
   "execution_count": 21,
   "metadata": {},
   "outputs": [],
   "source": [
    "df_train[\"tokens\"] = df_train[\"text\"].apply(text2tokens)"
   ]
  },
  {
   "cell_type": "code",
   "execution_count": 22,
   "metadata": {},
   "outputs": [],
   "source": [
    "df_valid[\"tokens\"] = df_valid[\"text\"].apply(text2tokens)"
   ]
  },
  {
   "cell_type": "code",
   "execution_count": 23,
   "metadata": {},
   "outputs": [
    {
     "data": {
      "text/plain": [
       "0    [rented, curious-yellow, video, store, controv...\n",
       "1    [``, curious, yellow, '', risible, pretentious...\n",
       "2    [avoid, making, type, film, future, film, inte...\n",
       "3    [film, probably, inspired, godard, 's, masculi...\n",
       "4    [oh, brother, ..., hearing, ridiculous, film, ...\n",
       "Name: tokens, dtype: object"
      ]
     },
     "execution_count": 23,
     "metadata": {},
     "output_type": "execute_result"
    }
   ],
   "source": [
    "df_train[\"tokens\"].head()"
   ]
  },
  {
   "cell_type": "code",
   "execution_count": 24,
   "metadata": {},
   "outputs": [],
   "source": [
    "# Si ça passe c'est ok\n",
    "assert \"tokens\" in df_train.columns, df_train.columns\n",
    "assert \"tokens\" in df_valid.columns, df_valid.columns"
   ]
  },
  {
   "cell_type": "markdown",
   "metadata": {},
   "source": [
    "On va utiliser gensim et sa fonction Word2Vec : https://radimrehurek.com/gensim/models/word2vec.html\n",
    "\n",
    "Crééz un modèle appelé w2v :\n",
    " - Choisissez des vecteur de taille 300,\n",
    " - entrainez le modèle sur les tokens d'entrainement (df_train)\n",
    " - pensez à utiliser tous les cpus à votre disposition"
   ]
  },
  {
   "cell_type": "code",
   "execution_count": 25,
   "metadata": {},
   "outputs": [
    {
     "name": "stdout",
     "output_type": "stream",
     "text": [
      "CPU times: user 3min 33s, sys: 1.63 s, total: 3min 35s\n",
      "Wall time: 1min 10s\n"
     ]
    }
   ],
   "source": [
    "%%time\n",
    "w2v = gensim.models.Word2Vec(sentences=df_train[\"tokens\"], vector_size=300, window=5, min_count=10, epochs=20, workers=4)\n"
   ]
  },
  {
   "cell_type": "markdown",
   "metadata": {},
   "source": [
    "Est-ce que king - man + woman nous donne queen ? Oui/Non et surtout pourquoi?\n",
    "\n",
    "indice : utilisez la méthode most_similar du modèle"
   ]
  },
  {
   "cell_type": "code",
   "execution_count": 26,
   "metadata": {},
   "outputs": [
    {
     "data": {
      "text/plain": [
       "[('furst', 0.3361091613769531),\n",
       " ('regina', 0.321591317653656),\n",
       " ('queen', 0.3185684382915497),\n",
       " ('triton', 0.30101722478866577),\n",
       " ('attila', 0.2915697991847992),\n",
       " ('solomon', 0.2858276069164276),\n",
       " ('lion', 0.2691318392753601),\n",
       " ('stephen', 0.26655054092407227),\n",
       " ('vidor', 0.26454249024391174),\n",
       " ('gator', 0.26169833540916443)]"
      ]
     },
     "execution_count": 26,
     "metadata": {},
     "output_type": "execute_result"
    }
   ],
   "source": [
    "w2v.wv.most_similar(positive=['woman', 'king'], negative=['man'])"
   ]
  },
  {
   "cell_type": "code",
   "execution_count": 27,
   "metadata": {},
   "outputs": [],
   "source": [
    "queen = w2v.wv[\"king\"] - w2v.wv[\"man\"] + w2v.wv[\"woman\"]"
   ]
  },
  {
   "cell_type": "code",
   "execution_count": 28,
   "metadata": {},
   "outputs": [
    {
     "data": {
      "text/plain": [
       "[('king', 0.6143055558204651),\n",
       " ('woman', 0.4675268828868866),\n",
       " ('furst', 0.33099421858787537),\n",
       " ('regina', 0.3191247880458832),\n",
       " ('queen', 0.31430143117904663),\n",
       " ('triton', 0.29867982864379883),\n",
       " ('attila', 0.28571826219558716),\n",
       " ('solomon', 0.2822919487953186),\n",
       " ('vidor', 0.2679447531700134),\n",
       " ('stephen', 0.264792263507843)]"
      ]
     },
     "execution_count": 28,
     "metadata": {},
     "output_type": "execute_result"
    }
   ],
   "source": [
    "w2v.wv.most_similar(positive=[queen])"
   ]
  },
  {
   "cell_type": "code",
   "execution_count": 29,
   "metadata": {},
   "outputs": [
    {
     "data": {
      "text/plain": [
       "[('king', 0.6231549382209778),\n",
       " ('woman', 0.48975637555122375),\n",
       " ('furst', 0.3361091613769531),\n",
       " ('regina', 0.321591317653656),\n",
       " ('queen', 0.3185684382915497),\n",
       " ('triton', 0.30101722478866577),\n",
       " ('attila', 0.2915697395801544),\n",
       " ('solomon', 0.2858276069164276),\n",
       " ('lion', 0.2691318392753601),\n",
       " ('stephen', 0.26655054092407227)]"
      ]
     },
     "execution_count": 29,
     "metadata": {},
     "output_type": "execute_result"
    }
   ],
   "source": [
    "queen_norm = (\n",
    "    w2v.wv.get_vector(\"king\", norm=True)\n",
    "    - w2v.wv.get_vector(\"man\", norm=True)\n",
    "    + w2v.wv.get_vector(\"woman\", norm=True)\n",
    ")\n",
    "w2v.wv[\"queen\"][:10], queen[:10], queen_norm[:10]\n",
    "w2v.wv.most_similar(positive=[queen_norm])"
   ]
  },
  {
   "cell_type": "markdown",
   "metadata": {},
   "source": [
    "Explorez un peu le modèle, est-ce que vous trouvez des choses intéressantes?\n",
    "\n",
    "La méthode doesnt_match peut être intéressante"
   ]
  },
  {
   "cell_type": "code",
   "execution_count": 30,
   "metadata": {},
   "outputs": [
    {
     "name": "stdout",
     "output_type": "stream",
     "text": [
      "\u001b[0;31mSignature:\u001b[0m \u001b[0mw2v\u001b[0m\u001b[0;34m.\u001b[0m\u001b[0mwv\u001b[0m\u001b[0;34m.\u001b[0m\u001b[0mdoesnt_match\u001b[0m\u001b[0;34m(\u001b[0m\u001b[0mwords\u001b[0m\u001b[0;34m)\u001b[0m\u001b[0;34m\u001b[0m\u001b[0;34m\u001b[0m\u001b[0m\n",
      "\u001b[0;31mDocstring:\u001b[0m\n",
      "Which key from the given list doesn't go with the others?\n",
      "\n",
      "Parameters\n",
      "----------\n",
      "words : list of str\n",
      "    List of keys.\n",
      "\n",
      "Returns\n",
      "-------\n",
      "str\n",
      "    The key further away from the mean of all keys.\n",
      "\u001b[0;31mFile:\u001b[0m      ~/.local/lib/python3.8/site-packages/gensim/models/keyedvectors.py\n",
      "\u001b[0;31mType:\u001b[0m      method\n"
     ]
    }
   ],
   "source": [
    "w2v.wv.doesnt_match?"
   ]
  },
  {
   "cell_type": "markdown",
   "metadata": {},
   "source": [
    "# Machine learning avec word2vec\n",
    "\n",
    "Grace au modèle word2vec on est capable de transformer un mot en vecteur et ces vecteurs ont des propriétés intéressantes.\n",
    "\n",
    "Mais on travaille avec des textes composés de plusieurs mots et de plusieurs phrases. Comment utiliser le modèle sur un texte complet.\n",
    "\n",
    "La possibilité la plus souvent utilisée est de prendre la moyenne des vecteurs associés aux mots du texte. Voyons voir ce que ça donne comme performance vs le TF-IDF du début du TP.\n",
    "\n",
    "Créez la fonction text2vec qui à un texte retourne le vecteur qui correspond à la moyenne des vecteurs associés aux mots du texte. (regardez la méthode mean des array numpy)"
   ]
  },
  {
   "cell_type": "code",
   "execution_count": null,
   "metadata": {},
   "outputs": [],
   "source": []
  },
  {
   "cell_type": "markdown",
   "metadata": {},
   "source": [
    "Créez la matrice d'entrainement X_train_w2v à partir de df_train et de text2vec"
   ]
  },
  {
   "cell_type": "code",
   "execution_count": null,
   "metadata": {},
   "outputs": [],
   "source": []
  },
  {
   "cell_type": "markdown",
   "metadata": {},
   "source": [
    "Créez la matrice de validation X_valid_w2v à partir de df_valid et de text2vec"
   ]
  },
  {
   "cell_type": "code",
   "execution_count": null,
   "metadata": {},
   "outputs": [],
   "source": []
  },
  {
   "cell_type": "markdown",
   "metadata": {},
   "source": [
    "On entraine une régression linéaire"
   ]
  },
  {
   "cell_type": "code",
   "execution_count": null,
   "metadata": {},
   "outputs": [],
   "source": []
  },
  {
   "cell_type": "markdown",
   "metadata": {},
   "source": [
    "On plot la matrice de confusion"
   ]
  },
  {
   "cell_type": "code",
   "execution_count": null,
   "metadata": {},
   "outputs": [],
   "source": []
  },
  {
   "cell_type": "markdown",
   "metadata": {},
   "source": [
    "On plot la courbe ROC"
   ]
  },
  {
   "cell_type": "code",
   "execution_count": null,
   "metadata": {},
   "outputs": [],
   "source": []
  },
  {
   "cell_type": "markdown",
   "metadata": {},
   "source": [
    "On calcule l'AUC"
   ]
  },
  {
   "cell_type": "code",
   "execution_count": null,
   "metadata": {},
   "outputs": [],
   "source": []
  },
  {
   "cell_type": "markdown",
   "metadata": {},
   "source": [
    "Alors Word2Vec ça résoud tout les problèmes?"
   ]
  },
  {
   "cell_type": "code",
   "execution_count": null,
   "metadata": {},
   "outputs": [],
   "source": []
  },
  {
   "cell_type": "markdown",
   "metadata": {},
   "source": [
    "# Et si on charge le word2vec de google\n",
    "\n",
    "Il est dispo sur miriel045 : /tmp/jacq/GoogleNews-vectors-negative300.bin.gz\n",
    "Copiez le sur le /tmp de votre machine, pas dans votre home! (1.5G)\n",
    "\n",
    "Vous pouvez aussi utiliser [spacy](https://spacy.io/usage/models) en chargeant les modèles : en_core_web_md ou en_core_web_lg\n",
    "\n",
    "Est-ce que le modèle obtenu avec ces vecteurs est plus performant que le notre? Que le TF-IDF?"
   ]
  },
  {
   "cell_type": "code",
   "execution_count": null,
   "metadata": {},
   "outputs": [],
   "source": []
  }
 ],
 "metadata": {
  "kernelspec": {
   "display_name": "Python 3.8.10 64-bit",
   "language": "python",
   "name": "python3"
  },
  "language_info": {
   "codemirror_mode": {
    "name": "ipython",
    "version": 3
   },
   "file_extension": ".py",
   "mimetype": "text/x-python",
   "name": "python",
   "nbconvert_exporter": "python",
   "pygments_lexer": "ipython3",
   "version": "3.8.10"
  },
  "vscode": {
   "interpreter": {
    "hash": "31f2aee4e71d21fbe5cf8b01ff0e069b9275f58929596ceb00d14d90e3e16cd6"
   }
  }
 },
 "nbformat": 4,
 "nbformat_minor": 4
}

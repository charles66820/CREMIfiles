{
 "cells": [
  {
   "cell_type": "markdown",
   "metadata": {},
   "source": [
    "# Import des modules"
   ]
  },
  {
   "cell_type": "code",
   "execution_count": 1,
   "metadata": {},
   "outputs": [],
   "source": [
    "import string\n",
    "from collections import Counter\n",
    "\n",
    "import nltk\n",
    "import pandas as pd\n",
    "import numpy as np\n",
    "import sklearn\n",
    "import gensim #pip3 install gensim==3.8.3\n",
    "import spacy\n",
    "\n",
    "# Plots\n",
    "import matplotlib.pyplot as plt\n",
    "%matplotlib inline"
   ]
  },
  {
   "cell_type": "markdown",
   "metadata": {},
   "source": [
    "# Chargement des données\n",
    "![Analyse de sentiments](https://modernmarketing.co.za/wp-content/uploads/2019/10/Developing-Customer-Centric-Strategy-Through-Automation-1-1.jpg)"
   ]
  },
  {
   "cell_type": "code",
   "execution_count": 2,
   "metadata": {},
   "outputs": [],
   "source": [
    "# Dataset critiques IMDB\n",
    "df_train = pd.read_csv(\"train.csv.gz\")\n",
    "df_valid = pd.read_csv(\"test.csv.gz\")"
   ]
  },
  {
   "cell_type": "markdown",
   "metadata": {},
   "source": [
    "# Explorez les données"
   ]
  },
  {
   "cell_type": "code",
   "execution_count": 3,
   "metadata": {},
   "outputs": [
    {
     "data": {
      "text/html": [
       "<div>\n",
       "<style scoped>\n",
       "    .dataframe tbody tr th:only-of-type {\n",
       "        vertical-align: middle;\n",
       "    }\n",
       "\n",
       "    .dataframe tbody tr th {\n",
       "        vertical-align: top;\n",
       "    }\n",
       "\n",
       "    .dataframe thead th {\n",
       "        text-align: right;\n",
       "    }\n",
       "</style>\n",
       "<table border=\"1\" class=\"dataframe\">\n",
       "  <thead>\n",
       "    <tr style=\"text-align: right;\">\n",
       "      <th></th>\n",
       "      <th>text</th>\n",
       "      <th>score</th>\n",
       "    </tr>\n",
       "  </thead>\n",
       "  <tbody>\n",
       "    <tr>\n",
       "      <th>0</th>\n",
       "      <td>I rented I AM CURIOUS-YELLOW from my video sto...</td>\n",
       "      <td>4</td>\n",
       "    </tr>\n",
       "    <tr>\n",
       "      <th>1</th>\n",
       "      <td>\"I Am Curious: Yellow\" is a risible and preten...</td>\n",
       "      <td>1</td>\n",
       "    </tr>\n",
       "    <tr>\n",
       "      <th>2</th>\n",
       "      <td>If only to avoid making this type of film in t...</td>\n",
       "      <td>1</td>\n",
       "    </tr>\n",
       "    <tr>\n",
       "      <th>3</th>\n",
       "      <td>This film was probably inspired by Godard's Ma...</td>\n",
       "      <td>2</td>\n",
       "    </tr>\n",
       "    <tr>\n",
       "      <th>4</th>\n",
       "      <td>Oh, brother...after hearing about this ridicul...</td>\n",
       "      <td>1</td>\n",
       "    </tr>\n",
       "  </tbody>\n",
       "</table>\n",
       "</div>"
      ],
      "text/plain": [
       "                                                text  score\n",
       "0  I rented I AM CURIOUS-YELLOW from my video sto...      4\n",
       "1  \"I Am Curious: Yellow\" is a risible and preten...      1\n",
       "2  If only to avoid making this type of film in t...      1\n",
       "3  This film was probably inspired by Godard's Ma...      2\n",
       "4  Oh, brother...after hearing about this ridicul...      1"
      ]
     },
     "execution_count": 3,
     "metadata": {},
     "output_type": "execute_result"
    }
   ],
   "source": [
    "df_train.head()"
   ]
  },
  {
   "cell_type": "code",
   "execution_count": 4,
   "metadata": {},
   "outputs": [
    {
     "data": {
      "text/html": [
       "<div>\n",
       "<style scoped>\n",
       "    .dataframe tbody tr th:only-of-type {\n",
       "        vertical-align: middle;\n",
       "    }\n",
       "\n",
       "    .dataframe tbody tr th {\n",
       "        vertical-align: top;\n",
       "    }\n",
       "\n",
       "    .dataframe thead th {\n",
       "        text-align: right;\n",
       "    }\n",
       "</style>\n",
       "<table border=\"1\" class=\"dataframe\">\n",
       "  <thead>\n",
       "    <tr style=\"text-align: right;\">\n",
       "      <th></th>\n",
       "      <th>text</th>\n",
       "      <th>score</th>\n",
       "    </tr>\n",
       "  </thead>\n",
       "  <tbody>\n",
       "    <tr>\n",
       "      <th>0</th>\n",
       "      <td>I love sci-fi and am willing to put up with a ...</td>\n",
       "      <td>3</td>\n",
       "    </tr>\n",
       "    <tr>\n",
       "      <th>1</th>\n",
       "      <td>Worth the entertainment value of a rental, esp...</td>\n",
       "      <td>4</td>\n",
       "    </tr>\n",
       "    <tr>\n",
       "      <th>2</th>\n",
       "      <td>its a totally average film with a few semi-alr...</td>\n",
       "      <td>3</td>\n",
       "    </tr>\n",
       "    <tr>\n",
       "      <th>3</th>\n",
       "      <td>STAR RATING: ***** Saturday Night **** Friday ...</td>\n",
       "      <td>2</td>\n",
       "    </tr>\n",
       "    <tr>\n",
       "      <th>4</th>\n",
       "      <td>First off let me say, If you haven't enjoyed a...</td>\n",
       "      <td>4</td>\n",
       "    </tr>\n",
       "  </tbody>\n",
       "</table>\n",
       "</div>"
      ],
      "text/plain": [
       "                                                text  score\n",
       "0  I love sci-fi and am willing to put up with a ...      3\n",
       "1  Worth the entertainment value of a rental, esp...      4\n",
       "2  its a totally average film with a few semi-alr...      3\n",
       "3  STAR RATING: ***** Saturday Night **** Friday ...      2\n",
       "4  First off let me say, If you haven't enjoyed a...      4"
      ]
     },
     "execution_count": 4,
     "metadata": {},
     "output_type": "execute_result"
    }
   ],
   "source": [
    "df_valid.head()"
   ]
  },
  {
   "cell_type": "code",
   "execution_count": 5,
   "metadata": {},
   "outputs": [
    {
     "data": {
      "text/plain": [
       "1     5100\n",
       "10    4732\n",
       "8     3009\n",
       "4     2696\n",
       "7     2496\n",
       "3     2420\n",
       "2     2284\n",
       "9     2263\n",
       "Name: score, dtype: int64"
      ]
     },
     "execution_count": 5,
     "metadata": {},
     "output_type": "execute_result"
    }
   ],
   "source": [
    "df_train.score.value_counts()"
   ]
  },
  {
   "cell_type": "markdown",
   "metadata": {},
   "source": [
    "# Préparation du jeu de données\n",
    "\n",
    "On a des critiques qui ont un score entre 1 et 10.\n",
    "\n",
    "On va dire qu'une critique est positive si le score est plus grand que 5 et négative sinon.\n",
    "\n",
    "Créez la colonne \"positive\" qui contient 0 pour les critiques négatives et 1 pour les positives"
   ]
  },
  {
   "cell_type": "code",
   "execution_count": 6,
   "metadata": {},
   "outputs": [],
   "source": [
    "df_train[\"positive\"] = df_train[\"score\"] > 5\n",
    "df_valid[\"positive\"] = df_valid[\"score\"] > 5"
   ]
  },
  {
   "cell_type": "code",
   "execution_count": 7,
   "metadata": {},
   "outputs": [],
   "source": [
    "# Si ça passe c'est ok\n",
    "nb_positives = (df_train[\"positive\"] == 1).sum()\n",
    "assert nb_positives == 12500, f\"nb_positives = {nb_positives} au lieu de 12500\""
   ]
  },
  {
   "cell_type": "markdown",
   "metadata": {},
   "source": [
    "# Bag Of Words preprocessing\n",
    "\n",
    "On récupère toutes les fonctions de preprocessing pour convertir les textes en matrice de features"
   ]
  },
  {
   "cell_type": "code",
   "execution_count": 8,
   "metadata": {},
   "outputs": [
    {
     "name": "stderr",
     "output_type": "stream",
     "text": [
      "[nltk_data] Downloading package stopwords to\n",
      "[nltk_data]     /home/charles/nltk_data...\n",
      "[nltk_data]   Package stopwords is already up-to-date!\n",
      "[nltk_data] Downloading package punkt to /home/charles/nltk_data...\n",
      "[nltk_data]   Package punkt is already up-to-date!\n"
     ]
    }
   ],
   "source": [
    "# nécessaire la 1ere fois\n",
    "nltk.download('stopwords')\n",
    "nltk.download('punkt')\n",
    "from nltk.corpus import stopwords\n",
    "\n",
    "STOP_WORDS = set(stopwords.words('english'))\n",
    "\n",
    "def extract_tokens(text):\n",
    "    res = []\n",
    "    for sent in nltk.sent_tokenize(text):\n",
    "        res += nltk.word_tokenize(sent)\n",
    "    return res\n",
    "\n",
    "def clean_tokens(tokens):\n",
    "    return [token.lower() for token in tokens if token not in string.punctuation]\n",
    "\n",
    "def remove_stop_words(tokens):\n",
    "    return [token for token in tokens if token not in STOP_WORDS]\n",
    "\n",
    "def text2tokens(text):\n",
    "    tokens = extract_tokens(text)\n",
    "    tokens = clean_tokens(tokens)\n",
    "    tokens = remove_stop_words(tokens)\n",
    "    return tokens"
   ]
  },
  {
   "cell_type": "markdown",
   "metadata": {},
   "source": [
    "scikit-learn a toutes les fonctionalités dont on a besoin : https://scikit-learn.org/stable/modules/classes.html?highlight=text#module-sklearn.feature_extraction.text\n",
    "\n",
    "Utilisez ces nouveaux outils pour générer les matrices X_train et X_valid à partir de df_train[\"text\"] et df_valid[\"text\"]"
   ]
  },
  {
   "cell_type": "code",
   "execution_count": 9,
   "metadata": {},
   "outputs": [],
   "source": [
    "from sklearn.feature_extraction.text import TfidfVectorizer\n",
    "\n",
    "vectoriser = TfidfVectorizer()"
   ]
  },
  {
   "cell_type": "code",
   "execution_count": 10,
   "metadata": {},
   "outputs": [],
   "source": [
    "X_train = vectoriser.fit_transform(df_train[\"text\"])"
   ]
  },
  {
   "cell_type": "code",
   "execution_count": 11,
   "metadata": {},
   "outputs": [],
   "source": [
    "X_valid = vectoriser.transform(df_valid[\"text\"])"
   ]
  },
  {
   "cell_type": "markdown",
   "metadata": {},
   "source": [
    "Quelle est la taille du vocabulaire utilisé par votre vectorizer?"
   ]
  },
  {
   "cell_type": "code",
   "execution_count": 12,
   "metadata": {},
   "outputs": [
    {
     "data": {
      "text/plain": [
       "75911"
      ]
     },
     "execution_count": 12,
     "metadata": {},
     "output_type": "execute_result"
    }
   ],
   "source": [
    "len(vectoriser.vocabulary_)"
   ]
  },
  {
   "cell_type": "code",
   "execution_count": 13,
   "metadata": {},
   "outputs": [],
   "source": [
    "# On prépare le vecteur à prédire\n",
    "y_train = df_train[\"positive\"]\n",
    "y_valid = df_valid[\"positive\"]"
   ]
  },
  {
   "cell_type": "markdown",
   "metadata": {},
   "source": [
    "# Un peu de Machine learning\n",
    "\n",
    "On va maintenant utiliser scikit learn pour apprendre une régression logistique sur nos données d'entrainement : https://scikit-learn.org/stable/modules/generated/sklearn.linear_model.LogisticRegression.html#sklearn.linear_model.LogisticRegression\n",
    "\n",
    "Etape 1 : Créez le modèle\n",
    "\n",
    "Etape 2 : fit(X, y)\n",
    "\n",
    "Etape 3 : Evaluons les performances\n",
    "\n",
    "Commencez par instancier le modèle"
   ]
  },
  {
   "cell_type": "code",
   "execution_count": 14,
   "metadata": {},
   "outputs": [],
   "source": [
    "ml = sklearn.linear_model.LogisticRegression(max_iter=1000)"
   ]
  },
  {
   "cell_type": "markdown",
   "metadata": {},
   "source": [
    "Lancez l'apprentissage sur l'ensemble de train"
   ]
  },
  {
   "cell_type": "code",
   "execution_count": 15,
   "metadata": {},
   "outputs": [
    {
     "data": {
      "text/html": [
       "<style>#sk-container-id-1 {color: black;background-color: white;}#sk-container-id-1 pre{padding: 0;}#sk-container-id-1 div.sk-toggleable {background-color: white;}#sk-container-id-1 label.sk-toggleable__label {cursor: pointer;display: block;width: 100%;margin-bottom: 0;padding: 0.3em;box-sizing: border-box;text-align: center;}#sk-container-id-1 label.sk-toggleable__label-arrow:before {content: \"▸\";float: left;margin-right: 0.25em;color: #696969;}#sk-container-id-1 label.sk-toggleable__label-arrow:hover:before {color: black;}#sk-container-id-1 div.sk-estimator:hover label.sk-toggleable__label-arrow:before {color: black;}#sk-container-id-1 div.sk-toggleable__content {max-height: 0;max-width: 0;overflow: hidden;text-align: left;background-color: #f0f8ff;}#sk-container-id-1 div.sk-toggleable__content pre {margin: 0.2em;color: black;border-radius: 0.25em;background-color: #f0f8ff;}#sk-container-id-1 input.sk-toggleable__control:checked~div.sk-toggleable__content {max-height: 200px;max-width: 100%;overflow: auto;}#sk-container-id-1 input.sk-toggleable__control:checked~label.sk-toggleable__label-arrow:before {content: \"▾\";}#sk-container-id-1 div.sk-estimator input.sk-toggleable__control:checked~label.sk-toggleable__label {background-color: #d4ebff;}#sk-container-id-1 div.sk-label input.sk-toggleable__control:checked~label.sk-toggleable__label {background-color: #d4ebff;}#sk-container-id-1 input.sk-hidden--visually {border: 0;clip: rect(1px 1px 1px 1px);clip: rect(1px, 1px, 1px, 1px);height: 1px;margin: -1px;overflow: hidden;padding: 0;position: absolute;width: 1px;}#sk-container-id-1 div.sk-estimator {font-family: monospace;background-color: #f0f8ff;border: 1px dotted black;border-radius: 0.25em;box-sizing: border-box;margin-bottom: 0.5em;}#sk-container-id-1 div.sk-estimator:hover {background-color: #d4ebff;}#sk-container-id-1 div.sk-parallel-item::after {content: \"\";width: 100%;border-bottom: 1px solid gray;flex-grow: 1;}#sk-container-id-1 div.sk-label:hover label.sk-toggleable__label {background-color: #d4ebff;}#sk-container-id-1 div.sk-serial::before {content: \"\";position: absolute;border-left: 1px solid gray;box-sizing: border-box;top: 0;bottom: 0;left: 50%;z-index: 0;}#sk-container-id-1 div.sk-serial {display: flex;flex-direction: column;align-items: center;background-color: white;padding-right: 0.2em;padding-left: 0.2em;position: relative;}#sk-container-id-1 div.sk-item {position: relative;z-index: 1;}#sk-container-id-1 div.sk-parallel {display: flex;align-items: stretch;justify-content: center;background-color: white;position: relative;}#sk-container-id-1 div.sk-item::before, #sk-container-id-1 div.sk-parallel-item::before {content: \"\";position: absolute;border-left: 1px solid gray;box-sizing: border-box;top: 0;bottom: 0;left: 50%;z-index: -1;}#sk-container-id-1 div.sk-parallel-item {display: flex;flex-direction: column;z-index: 1;position: relative;background-color: white;}#sk-container-id-1 div.sk-parallel-item:first-child::after {align-self: flex-end;width: 50%;}#sk-container-id-1 div.sk-parallel-item:last-child::after {align-self: flex-start;width: 50%;}#sk-container-id-1 div.sk-parallel-item:only-child::after {width: 0;}#sk-container-id-1 div.sk-dashed-wrapped {border: 1px dashed gray;margin: 0 0.4em 0.5em 0.4em;box-sizing: border-box;padding-bottom: 0.4em;background-color: white;}#sk-container-id-1 div.sk-label label {font-family: monospace;font-weight: bold;display: inline-block;line-height: 1.2em;}#sk-container-id-1 div.sk-label-container {text-align: center;}#sk-container-id-1 div.sk-container {/* jupyter's `normalize.less` sets `[hidden] { display: none; }` but bootstrap.min.css set `[hidden] { display: none !important; }` so we also need the `!important` here to be able to override the default hidden behavior on the sphinx rendered scikit-learn.org. See: https://github.com/scikit-learn/scikit-learn/issues/21755 */display: inline-block !important;position: relative;}#sk-container-id-1 div.sk-text-repr-fallback {display: none;}</style><div id=\"sk-container-id-1\" class=\"sk-top-container\"><div class=\"sk-text-repr-fallback\"><pre>LogisticRegression(max_iter=1000)</pre><b>In a Jupyter environment, please rerun this cell to show the HTML representation or trust the notebook. <br />On GitHub, the HTML representation is unable to render, please try loading this page with nbviewer.org.</b></div><div class=\"sk-container\" hidden><div class=\"sk-item\"><div class=\"sk-estimator sk-toggleable\"><input class=\"sk-toggleable__control sk-hidden--visually\" id=\"sk-estimator-id-1\" type=\"checkbox\" checked><label for=\"sk-estimator-id-1\" class=\"sk-toggleable__label sk-toggleable__label-arrow\">LogisticRegression</label><div class=\"sk-toggleable__content\"><pre>LogisticRegression(max_iter=1000)</pre></div></div></div></div></div>"
      ],
      "text/plain": [
       "LogisticRegression(max_iter=1000)"
      ]
     },
     "execution_count": 15,
     "metadata": {},
     "output_type": "execute_result"
    }
   ],
   "source": [
    "ml.fit(X_train, y_train)"
   ]
  },
  {
   "cell_type": "markdown",
   "metadata": {},
   "source": [
    "### Affichez la matrice de confusion\n",
    "https://scikit-learn.org/stable/auto_examples/model_selection/plot_confusion_matrix.html\n",
    "\n",
    "Explorez les options 'normalize' : Quelle information est la plus pertinente ?"
   ]
  },
  {
   "cell_type": "code",
   "execution_count": 16,
   "metadata": {},
   "outputs": [],
   "source": [
    "y_pred = ml.predict(X_valid)"
   ]
  },
  {
   "cell_type": "markdown",
   "metadata": {},
   "source": [
    "## Tracez la courbe ROC\n",
    "https://scikit-learn.org/stable/modules/generated/sklearn.metrics.plot_roc_curve.html?highlight=roc%20curve#sklearn.metrics.plot_roc_curve\n"
   ]
  },
  {
   "cell_type": "code",
   "execution_count": 17,
   "metadata": {},
   "outputs": [
    {
     "data": {
      "image/png": "[encoded data removed]",
      "text/plain": [
       "<Figure size 1000x600 with 1 Axes>"
      ]
     },
     "metadata": {},
     "output_type": "display_data"
    }
   ],
   "source": [
    "fpr_lr_train, tpr_lr_train, thresholds_train = sklearn.metrics.roc_curve(y_train, ml.predict_proba(X_train)[:, 1])\n",
    "fpr_lr_valid, tpr_lr_valid, threshold_valid = sklearn.metrics.roc_curve(y_valid, ml.predict_proba(X_valid)[:, 1])\n",
    "plt.figure(figsize=(10,6))\n",
    "plt.plot([0, 1], [0, 1], 'k--')\n",
    "plt.plot(fpr_lr_train, tpr_lr_train, label='LR_train')\n",
    "plt.plot(fpr_lr_valid, tpr_lr_valid, label='LR_valid')\n",
    "plt.xlabel('False positive rate')\n",
    "plt.ylabel('True positive rate')\n",
    "plt.legend()\n",
    "plt.title('ROC curve')\n",
    "plt.show()"
   ]
  },
  {
   "cell_type": "markdown",
   "metadata": {},
   "source": [
    "## Calculer l'AUC : Area Under the ROC Curve\n",
    "https://scikit-learn.org/stable/modules/generated/sklearn.metrics.auc.html?highlight=auc#sklearn.metrics.auc"
   ]
  },
  {
   "cell_type": "code",
   "execution_count": 18,
   "metadata": {},
   "outputs": [
    {
     "data": {
      "text/plain": [
       "0.9810282112000002"
      ]
     },
     "execution_count": 18,
     "metadata": {},
     "output_type": "execute_result"
    }
   ],
   "source": [
    "# Aire sous la courbe ROC - train\n",
    "sklearn.metrics.roc_auc_score(y_train, ml.predict_proba(X_train)[:, 1])"
   ]
  },
  {
   "cell_type": "code",
   "execution_count": 19,
   "metadata": {},
   "outputs": [
    {
     "data": {
      "text/plain": [
       "0.9526545919999999"
      ]
     },
     "execution_count": 19,
     "metadata": {},
     "output_type": "execute_result"
    }
   ],
   "source": [
    "# Aire sous la courbe ROC - valid\n",
    "sklearn.metrics.roc_auc_score(y_valid, ml.predict_proba(X_valid)[:, 1])"
   ]
  },
  {
   "cell_type": "markdown",
   "metadata": {},
   "source": [
    "## Confusion matrix and score"
   ]
  },
  {
   "cell_type": "code",
   "execution_count": 20,
   "metadata": {},
   "outputs": [
    {
     "name": "stdout",
     "output_type": "stream",
     "text": [
      "[[11051  1449]\n",
      " [ 1479 11021]]\n",
      "88.29%\n"
     ]
    }
   ],
   "source": [
    "from sklearn.metrics import confusion_matrix, accuracy_score\n",
    "\n",
    "cm = confusion_matrix(y_valid, y_pred)\n",
    "print(cm)\n",
    "\n",
    "print(\"{:.2%}\".format(accuracy_score(y_valid, y_pred)))"
   ]
  },
  {
   "cell_type": "markdown",
   "metadata": {},
   "source": [
    "# Au tour de Word2Vec\n",
    "\n",
    "Commencez par rajouter la colonne tokens aux dataframes df_train et df_valid.\n",
    "Vous allez y stocker les tokens des textes en utilisant les fonctions données en début du notebook"
   ]
  },
  {
   "cell_type": "code",
   "execution_count": 21,
   "metadata": {},
   "outputs": [],
   "source": [
    "df_train[\"tokens\"] = df_train[\"text\"].apply(text2tokens)"
   ]
  },
  {
   "cell_type": "code",
   "execution_count": 22,
   "metadata": {},
   "outputs": [],
   "source": [
    "df_valid[\"tokens\"] = df_valid[\"text\"].apply(text2tokens)"
   ]
  },
  {
   "cell_type": "code",
   "execution_count": 23,
   "metadata": {},
   "outputs": [
    {
     "data": {
      "text/plain": [
       "0    [rented, curious-yellow, video, store, controv...\n",
       "1    [``, curious, yellow, '', risible, pretentious...\n",
       "2    [avoid, making, type, film, future, film, inte...\n",
       "3    [film, probably, inspired, godard, 's, masculi...\n",
       "4    [oh, brother, ..., hearing, ridiculous, film, ...\n",
       "Name: tokens, dtype: object"
      ]
     },
     "execution_count": 23,
     "metadata": {},
     "output_type": "execute_result"
    }
   ],
   "source": [
    "df_train[\"tokens\"].head()"
   ]
  },
  {
   "cell_type": "code",
   "execution_count": 24,
   "metadata": {},
   "outputs": [],
   "source": [
    "# Si ça passe c'est ok\n",
    "assert \"tokens\" in df_train.columns, df_train.columns\n",
    "assert \"tokens\" in df_valid.columns, df_valid.columns"
   ]
  },
  {
   "cell_type": "markdown",
   "metadata": {},
   "source": [
    "On va utiliser gensim et sa fonction Word2Vec : https://radimrehurek.com/gensim/models/word2vec.html\n",
    "\n",
    "Crééz un modèle appelé w2v :\n",
    " - Choisissez des vecteur de taille 300,\n",
    " - entrainez le modèle sur les tokens d'entrainement (df_train)\n",
    " - pensez à utiliser tous les cpus à votre disposition"
   ]
  },
  {
   "cell_type": "code",
   "execution_count": 25,
   "metadata": {},
   "outputs": [],
   "source": [
    "from gensim.models import Word2Vec\n",
    "\n",
    "model = Word2Vec(sentences=df_train[\"tokens\"], vector_size=300, window=5, min_count=110, epochs=20, workers=4)\n",
    "w2v = model.wv"
   ]
  },
  {
   "cell_type": "markdown",
   "metadata": {},
   "source": [
    "Est-ce que king - man + woman nous donne queen ? Oui/Non et surtout pourquoi?\n",
    "\n",
    "indice : utilisez la méthode most_similar du modèle"
   ]
  },
  {
   "cell_type": "code",
   "execution_count": 26,
   "metadata": {},
   "outputs": [
    {
     "data": {
      "text/plain": [
       "[('queen', 0.296290785074234),\n",
       " ('lion', 0.28140324354171753),\n",
       " ('princess', 0.24734175205230713),\n",
       " ('stephen', 0.2338927835226059),\n",
       " ('claire', 0.2327633798122406),\n",
       " ('hong', 0.22867470979690552),\n",
       " ('elizabeth', 0.22757473587989807),\n",
       " ('foster', 0.22713327407836914),\n",
       " ('susan', 0.22075706720352173),\n",
       " ('dorothy', 0.21301068365573883)]"
      ]
     },
     "execution_count": 26,
     "metadata": {},
     "output_type": "execute_result"
    }
   ],
   "source": [
    "w2v.most_similar(positive=['woman', 'king'], negative=['man'])"
   ]
  },
  {
   "cell_type": "code",
   "execution_count": 27,
   "metadata": {},
   "outputs": [],
   "source": [
    "queen = w2v[\"king\"] - w2v[\"man\"] + w2v[\"woman\"]"
   ]
  },
  {
   "cell_type": "code",
   "execution_count": 28,
   "metadata": {},
   "outputs": [
    {
     "data": {
      "text/plain": [
       "[('king', 0.6770517230033875),\n",
       " ('woman', 0.45444968342781067),\n",
       " ('queen', 0.31028690934181213),\n",
       " ('lion', 0.30307117104530334),\n",
       " ('princess', 0.26722055673599243),\n",
       " ('stephen', 0.25187647342681885),\n",
       " ('foster', 0.2471790909767151),\n",
       " ('hong', 0.2444458305835724),\n",
       " ('claire', 0.23954807221889496),\n",
       " ('elizabeth', 0.23811890184879303)]"
      ]
     },
     "execution_count": 28,
     "metadata": {},
     "output_type": "execute_result"
    }
   ],
   "source": [
    "w2v.most_similar(positive=[queen])"
   ]
  },
  {
   "cell_type": "code",
   "execution_count": 29,
   "metadata": {},
   "outputs": [
    {
     "data": {
      "text/plain": [
       "[('king', 0.6317052841186523),\n",
       " ('woman', 0.4163292348384857),\n",
       " ('queen', 0.296290785074234),\n",
       " ('lion', 0.28140321373939514),\n",
       " ('princess', 0.24734175205230713),\n",
       " ('stephen', 0.2338927984237671),\n",
       " ('claire', 0.2327633649110794),\n",
       " ('hong', 0.2286747246980667),\n",
       " ('elizabeth', 0.22757473587989807),\n",
       " ('foster', 0.22713327407836914)]"
      ]
     },
     "execution_count": 29,
     "metadata": {},
     "output_type": "execute_result"
    }
   ],
   "source": [
    "queen_norm = (\n",
    "    w2v.get_vector(\"king\", norm=True)\n",
    "    - w2v.get_vector(\"man\", norm=True)\n",
    "    + w2v.get_vector(\"woman\", norm=True)\n",
    ")\n",
    "w2v[\"queen\"][:10], queen[:10], queen_norm[:10]\n",
    "w2v.most_similar(positive=[queen_norm])"
   ]
  },
  {
   "cell_type": "markdown",
   "metadata": {},
   "source": [
    "Explorez un peu le modèle, est-ce que vous trouvez des choses intéressantes?\n",
    "\n",
    "La méthode doesnt_match peut être intéressante"
   ]
  },
  {
   "cell_type": "code",
   "execution_count": 30,
   "metadata": {},
   "outputs": [
    {
     "name": "stdout",
     "output_type": "stream",
     "text": [
      "\u001b[0;31mSignature:\u001b[0m \u001b[0mw2v\u001b[0m\u001b[0;34m.\u001b[0m\u001b[0mdoesnt_match\u001b[0m\u001b[0;34m(\u001b[0m\u001b[0mwords\u001b[0m\u001b[0;34m)\u001b[0m\u001b[0;34m\u001b[0m\u001b[0;34m\u001b[0m\u001b[0m\n",
      "\u001b[0;31mDocstring:\u001b[0m\n",
      "Which key from the given list doesn't go with the others?\n",
      "\n",
      "Parameters\n",
      "----------\n",
      "words : list of str\n",
      "    List of keys.\n",
      "\n",
      "Returns\n",
      "-------\n",
      "str\n",
      "    The key further away from the mean of all keys.\n",
      "\u001b[0;31mFile:\u001b[0m      ~/.local/lib/python3.10/site-packages/gensim/models/keyedvectors.py\n",
      "\u001b[0;31mType:\u001b[0m      method\n"
     ]
    }
   ],
   "source": [
    "w2v.doesnt_match?"
   ]
  },
  {
   "cell_type": "markdown",
   "metadata": {},
   "source": [
    "# Machine learning avec word2vec\n",
    "\n",
    "Grace au modèle word2vec on est capable de transformer un mot en vecteur et ces vecteurs ont des propriétés intéressantes.\n",
    "\n",
    "Mais on travaille avec des textes composés de plusieurs mots et de plusieurs phrases. Comment utiliser le modèle sur un texte complet.\n",
    "\n",
    "La possibilité la plus souvent utilisée est de prendre la moyenne des vecteurs associés aux mots du texte. Voyons voir ce que ça donne comme performance vs le TF-IDF du début du TP.\n",
    "\n",
    "Créez la fonction text2vec qui à un texte retourne le vecteur qui correspond à la moyenne des vecteurs associés aux mots du texte. (regardez la méthode mean des array numpy)"
   ]
  },
  {
   "cell_type": "code",
   "execution_count": 31,
   "metadata": {},
   "outputs": [],
   "source": [
    "def text2vec(model, text):\n",
    "    vectors = []\n",
    "    for word in text:\n",
    "        try:\n",
    "            vectors.append(model.wv.get_vector(word))\n",
    "        except KeyError:\n",
    "            pass\n",
    "    return np.mean(vectors, axis=0)"
   ]
  },
  {
   "cell_type": "code",
   "execution_count": 32,
   "metadata": {},
   "outputs": [
    {
     "data": {
      "text/plain": [
       "array([ 2.23806888e-01, -1.14398167e-01, -4.73730080e-02,  1.02309585e-01,\n",
       "        2.95790192e-02,  2.21822292e-01, -2.18696058e-01, -3.36836994e-01,\n",
       "        1.20569736e-01,  2.68881053e-01, -1.67314008e-01, -1.69999361e-01,\n",
       "        9.65955779e-02,  4.15810160e-02, -4.00917083e-02, -4.94417408e-03,\n",
       "       -4.20520455e-02, -6.82633594e-02, -1.41076520e-01, -7.09636882e-02,\n",
       "       -6.81666806e-02, -1.88492984e-01, -1.26094535e-01, -3.58268060e-02,\n",
       "       -2.30135247e-01,  2.16914658e-02, -2.05411352e-02,  1.27325907e-01,\n",
       "        7.02777579e-02,  2.04625890e-01, -3.06633748e-02,  2.88365483e-01,\n",
       "       -2.61829078e-01,  1.56507403e-01, -7.11209476e-02, -1.64773867e-01,\n",
       "       -1.54897183e-01,  1.64116755e-01,  2.12478235e-01,  1.75721511e-01,\n",
       "       -8.69498700e-02, -9.33602005e-02, -1.16892695e-01,  1.79012835e-01,\n",
       "       -9.09119621e-02, -9.83374044e-02, -1.24888094e-02,  1.05673067e-01,\n",
       "       -3.36795039e-02, -1.55479744e-01, -2.63988450e-02, -3.68310779e-01,\n",
       "        1.15514427e-01, -9.88740847e-02, -8.34091678e-02, -9.69463289e-02,\n",
       "        1.02132753e-01,  1.62591990e-02,  1.57242045e-01,  8.01635534e-02,\n",
       "       -1.12031139e-01, -1.09298481e-02,  9.03687067e-03,  8.58267173e-02,\n",
       "       -2.84354258e-02, -8.29043612e-02,  8.57029483e-02,  2.55341291e-01,\n",
       "        8.44343156e-02,  6.59988895e-02, -5.02779000e-02, -2.62413621e-01,\n",
       "       -1.86650708e-01,  2.05906644e-01, -8.89645964e-02, -7.70326182e-02,\n",
       "        2.73214243e-02, -1.61884844e-01, -1.59121692e-01,  5.59257306e-02,\n",
       "       -4.97997478e-02,  3.60151045e-02, -3.06318831e-02, -5.01719534e-01,\n",
       "       -8.17695931e-02,  1.17301717e-01,  1.37780279e-01,  7.65189603e-02,\n",
       "       -1.80185929e-01, -7.80480579e-02, -2.52920479e-01, -1.50237028e-02,\n",
       "        2.39352658e-01, -4.56775427e-02, -2.38616124e-01, -1.17186837e-01,\n",
       "       -5.75470254e-02,  1.13339864e-01,  5.82172647e-02, -5.86726516e-02,\n",
       "        2.87659198e-01, -2.07652524e-02,  1.35351360e-01, -2.21278355e-01,\n",
       "       -2.92551190e-01,  1.03695378e-01, -3.11080110e-03, -1.39770374e-01,\n",
       "        1.40905678e-01,  2.89305055e-04,  8.76660123e-02, -4.12463471e-02,\n",
       "       -1.19244687e-01, -7.68992007e-02, -2.33165428e-01,  1.06350807e-02,\n",
       "       -2.10242793e-01, -1.43935606e-01, -7.99734071e-02,  3.07678655e-02,\n",
       "        2.41629798e-02, -4.62097526e-02,  1.03256114e-01,  8.58674422e-02,\n",
       "       -7.83535019e-02, -2.01402634e-01, -1.09532714e-01,  1.39924049e-01,\n",
       "        4.02986974e-01, -3.78785543e-02,  1.27668634e-01,  1.20349139e-01,\n",
       "        1.44207612e-01,  6.88365698e-02, -6.83903415e-03, -7.32858554e-02,\n",
       "        2.42093533e-01,  1.09621827e-02,  5.57505488e-02,  2.54229069e-01,\n",
       "        1.42644927e-01,  1.18351072e-01, -1.26832649e-01, -2.85109162e-01,\n",
       "        1.32641256e-01, -1.41689226e-01,  2.70165026e-01, -9.51558053e-02,\n",
       "        1.35100354e-02,  1.34893045e-01, -8.07393119e-02,  4.26722407e-01,\n",
       "        4.38272953e-02, -3.51250321e-01,  5.73037798e-03, -1.53094634e-01,\n",
       "       -1.97273955e-01,  7.60073885e-02, -8.50450597e-04, -2.12874502e-01,\n",
       "       -6.93153217e-02, -2.08117172e-01,  1.76828310e-01, -8.62683579e-02,\n",
       "        2.12973297e-01, -2.63847023e-01, -4.51066643e-02,  2.39038765e-01,\n",
       "       -8.85477513e-02,  1.73448455e-02, -3.93918574e-01,  1.65402249e-01,\n",
       "       -1.07533308e-02,  1.51044890e-01,  1.43067047e-01, -1.12136923e-01,\n",
       "       -7.35956728e-02,  2.12397367e-01, -8.04140419e-02,  1.86500221e-01,\n",
       "        8.90599266e-02, -2.10119426e-01,  6.68761507e-02,  2.95421451e-01,\n",
       "        2.42153481e-02,  5.38931750e-02, -1.51107281e-01, -6.44269437e-02,\n",
       "       -2.92357475e-01, -2.04812344e-02, -2.71652669e-01,  1.04345247e-01,\n",
       "        2.28471577e-01, -1.38846366e-02,  1.76726550e-01, -1.00689149e-02,\n",
       "        8.28990564e-02,  6.99364096e-02, -2.37059891e-01, -6.61739483e-02,\n",
       "       -6.23972863e-02, -1.88785400e-02,  5.47239035e-02, -1.70944959e-01,\n",
       "        8.27996656e-02, -1.14660829e-01,  6.07505962e-02, -1.48642166e-02,\n",
       "        8.66364129e-03,  1.64350271e-01,  2.03840304e-02,  4.96040098e-02,\n",
       "        2.90703531e-02,  9.37248319e-02, -5.86725324e-02,  9.23538432e-02,\n",
       "        1.00838318e-01,  3.17316324e-01,  7.32608810e-02, -2.08976582e-01,\n",
       "        1.83626267e-04, -6.18009083e-03,  9.01502445e-02,  1.55059621e-01,\n",
       "       -2.56256759e-02,  2.16064826e-01,  3.72308269e-02,  3.00554745e-02,\n",
       "        2.70330817e-01,  1.41371340e-01,  2.18342155e-01,  1.57144368e-01,\n",
       "       -1.16111726e-01, -1.96820959e-01,  1.12403356e-01, -1.89958096e-01,\n",
       "        2.35060439e-01, -4.11678888e-02, -6.85531944e-02,  1.65353045e-01,\n",
       "       -5.37980348e-02, -2.54408754e-02, -1.74027327e-02, -1.21608146e-01,\n",
       "        2.46791705e-01,  2.93808997e-01,  3.10530573e-01,  1.39799923e-01,\n",
       "       -5.73784858e-02,  8.80913883e-02,  1.25777781e-01, -1.78754777e-01,\n",
       "       -2.32038982e-02,  4.96606901e-02,  2.13757217e-01, -6.29722551e-02,\n",
       "       -5.57424389e-02,  2.80116592e-03,  9.93498042e-02,  1.75673828e-01,\n",
       "       -7.93013275e-02, -1.84052721e-01,  2.07847178e-01,  6.59193546e-02,\n",
       "        2.12574229e-01, -1.12902718e-02,  3.04622259e-02, -6.13858700e-02,\n",
       "        2.54380673e-01, -9.77667049e-02, -9.78248101e-03, -1.39718443e-01,\n",
       "       -1.60088092e-01,  2.37518810e-02,  7.28765577e-02, -1.12498492e-01,\n",
       "       -1.85086071e-01,  7.77720958e-02,  2.86460906e-01, -1.85083613e-01,\n",
       "       -1.19953014e-01, -1.87210903e-01, -3.72085050e-02,  6.59786016e-02,\n",
       "        1.65690750e-01, -9.14099067e-02,  2.75224298e-01,  6.11911826e-02,\n",
       "        5.98811451e-03, -2.44024530e-01, -8.50825980e-02, -1.91143766e-01,\n",
       "       -1.33221345e-02,  1.64143130e-01,  7.48323603e-03, -1.72811016e-01,\n",
       "       -7.81150861e-03,  2.82625780e-02, -2.82179743e-01,  9.03562456e-02],\n",
       "      dtype=float32)"
      ]
     },
     "execution_count": 32,
     "metadata": {},
     "output_type": "execute_result"
    }
   ],
   "source": [
    "text2vec(model, df_train.iloc[0][\"tokens\"])"
   ]
  },
  {
   "cell_type": "markdown",
   "metadata": {},
   "source": [
    "Créez la matrice d'entrainement X_train_w2v à partir de df_train et de text2vec"
   ]
  },
  {
   "cell_type": "code",
   "execution_count": 33,
   "metadata": {},
   "outputs": [],
   "source": [
    "X_train_w2v = np.vstack(df_train[\"tokens\"].apply(lambda token:text2vec(model, token)).values)"
   ]
  },
  {
   "cell_type": "markdown",
   "metadata": {},
   "source": [
    "Créez la matrice de validation X_valid_w2v à partir de df_valid et de text2vec"
   ]
  },
  {
   "cell_type": "code",
   "execution_count": 34,
   "metadata": {},
   "outputs": [],
   "source": [
    "X_valid_w2v = np.vstack(df_valid[\"tokens\"].apply(lambda token:text2vec(model, token)).values)"
   ]
  },
  {
   "cell_type": "markdown",
   "metadata": {},
   "source": [
    "On entraine une régression logistique"
   ]
  },
  {
   "cell_type": "code",
   "execution_count": 35,
   "metadata": {},
   "outputs": [],
   "source": [
    "ml = sklearn.linear_model.LogisticRegression(max_iter=1000)"
   ]
  },
  {
   "cell_type": "code",
   "execution_count": 36,
   "metadata": {},
   "outputs": [
    {
     "data": {
      "text/html": [
       "<style>#sk-container-id-2 {color: black;background-color: white;}#sk-container-id-2 pre{padding: 0;}#sk-container-id-2 div.sk-toggleable {background-color: white;}#sk-container-id-2 label.sk-toggleable__label {cursor: pointer;display: block;width: 100%;margin-bottom: 0;padding: 0.3em;box-sizing: border-box;text-align: center;}#sk-container-id-2 label.sk-toggleable__label-arrow:before {content: \"▸\";float: left;margin-right: 0.25em;color: #696969;}#sk-container-id-2 label.sk-toggleable__label-arrow:hover:before {color: black;}#sk-container-id-2 div.sk-estimator:hover label.sk-toggleable__label-arrow:before {color: black;}#sk-container-id-2 div.sk-toggleable__content {max-height: 0;max-width: 0;overflow: hidden;text-align: left;background-color: #f0f8ff;}#sk-container-id-2 div.sk-toggleable__content pre {margin: 0.2em;color: black;border-radius: 0.25em;background-color: #f0f8ff;}#sk-container-id-2 input.sk-toggleable__control:checked~div.sk-toggleable__content {max-height: 200px;max-width: 100%;overflow: auto;}#sk-container-id-2 input.sk-toggleable__control:checked~label.sk-toggleable__label-arrow:before {content: \"▾\";}#sk-container-id-2 div.sk-estimator input.sk-toggleable__control:checked~label.sk-toggleable__label {background-color: #d4ebff;}#sk-container-id-2 div.sk-label input.sk-toggleable__control:checked~label.sk-toggleable__label {background-color: #d4ebff;}#sk-container-id-2 input.sk-hidden--visually {border: 0;clip: rect(1px 1px 1px 1px);clip: rect(1px, 1px, 1px, 1px);height: 1px;margin: -1px;overflow: hidden;padding: 0;position: absolute;width: 1px;}#sk-container-id-2 div.sk-estimator {font-family: monospace;background-color: #f0f8ff;border: 1px dotted black;border-radius: 0.25em;box-sizing: border-box;margin-bottom: 0.5em;}#sk-container-id-2 div.sk-estimator:hover {background-color: #d4ebff;}#sk-container-id-2 div.sk-parallel-item::after {content: \"\";width: 100%;border-bottom: 1px solid gray;flex-grow: 1;}#sk-container-id-2 div.sk-label:hover label.sk-toggleable__label {background-color: #d4ebff;}#sk-container-id-2 div.sk-serial::before {content: \"\";position: absolute;border-left: 1px solid gray;box-sizing: border-box;top: 0;bottom: 0;left: 50%;z-index: 0;}#sk-container-id-2 div.sk-serial {display: flex;flex-direction: column;align-items: center;background-color: white;padding-right: 0.2em;padding-left: 0.2em;position: relative;}#sk-container-id-2 div.sk-item {position: relative;z-index: 1;}#sk-container-id-2 div.sk-parallel {display: flex;align-items: stretch;justify-content: center;background-color: white;position: relative;}#sk-container-id-2 div.sk-item::before, #sk-container-id-2 div.sk-parallel-item::before {content: \"\";position: absolute;border-left: 1px solid gray;box-sizing: border-box;top: 0;bottom: 0;left: 50%;z-index: -1;}#sk-container-id-2 div.sk-parallel-item {display: flex;flex-direction: column;z-index: 1;position: relative;background-color: white;}#sk-container-id-2 div.sk-parallel-item:first-child::after {align-self: flex-end;width: 50%;}#sk-container-id-2 div.sk-parallel-item:last-child::after {align-self: flex-start;width: 50%;}#sk-container-id-2 div.sk-parallel-item:only-child::after {width: 0;}#sk-container-id-2 div.sk-dashed-wrapped {border: 1px dashed gray;margin: 0 0.4em 0.5em 0.4em;box-sizing: border-box;padding-bottom: 0.4em;background-color: white;}#sk-container-id-2 div.sk-label label {font-family: monospace;font-weight: bold;display: inline-block;line-height: 1.2em;}#sk-container-id-2 div.sk-label-container {text-align: center;}#sk-container-id-2 div.sk-container {/* jupyter's `normalize.less` sets `[hidden] { display: none; }` but bootstrap.min.css set `[hidden] { display: none !important; }` so we also need the `!important` here to be able to override the default hidden behavior on the sphinx rendered scikit-learn.org. See: https://github.com/scikit-learn/scikit-learn/issues/21755 */display: inline-block !important;position: relative;}#sk-container-id-2 div.sk-text-repr-fallback {display: none;}</style><div id=\"sk-container-id-2\" class=\"sk-top-container\"><div class=\"sk-text-repr-fallback\"><pre>LogisticRegression(max_iter=1000)</pre><b>In a Jupyter environment, please rerun this cell to show the HTML representation or trust the notebook. <br />On GitHub, the HTML representation is unable to render, please try loading this page with nbviewer.org.</b></div><div class=\"sk-container\" hidden><div class=\"sk-item\"><div class=\"sk-estimator sk-toggleable\"><input class=\"sk-toggleable__control sk-hidden--visually\" id=\"sk-estimator-id-2\" type=\"checkbox\" checked><label for=\"sk-estimator-id-2\" class=\"sk-toggleable__label sk-toggleable__label-arrow\">LogisticRegression</label><div class=\"sk-toggleable__content\"><pre>LogisticRegression(max_iter=1000)</pre></div></div></div></div></div>"
      ],
      "text/plain": [
       "LogisticRegression(max_iter=1000)"
      ]
     },
     "execution_count": 36,
     "metadata": {},
     "output_type": "execute_result"
    }
   ],
   "source": [
    "ml.fit(X_train_w2v, df_train[\"positive\"])"
   ]
  },
  {
   "cell_type": "code",
   "execution_count": 37,
   "metadata": {},
   "outputs": [],
   "source": [
    "y_pred = ml.predict(X_valid_w2v)"
   ]
  },
  {
   "cell_type": "markdown",
   "metadata": {},
   "source": [
    "On plot la matrice de confusion"
   ]
  },
  {
   "cell_type": "code",
   "execution_count": 38,
   "metadata": {},
   "outputs": [
    {
     "name": "stdout",
     "output_type": "stream",
     "text": [
      "[[10830  1670]\n",
      " [ 1691 10809]]\n",
      "86.56%\n"
     ]
    }
   ],
   "source": [
    "from sklearn.metrics import confusion_matrix, accuracy_score\n",
    "\n",
    "cm = confusion_matrix(y_valid, y_pred)\n",
    "print(cm)\n",
    "\n",
    "print(\"{:.2%}\".format(accuracy_score(y_valid, y_pred)))"
   ]
  },
  {
   "cell_type": "markdown",
   "metadata": {},
   "source": [
    "On plot la courbe ROC"
   ]
  },
  {
   "cell_type": "code",
   "execution_count": 39,
   "metadata": {},
   "outputs": [
    {
     "data": {
      "image/png": "[encoded data removed]",
      "text/plain": [
       "<Figure size 1000x600 with 1 Axes>"
      ]
     },
     "metadata": {},
     "output_type": "display_data"
    }
   ],
   "source": [
    "fpr_lr_train, tpr_lr_train, thresholds_train = sklearn.metrics.roc_curve(df_train[\"positive\"], ml.predict_proba(X_train_w2v)[:, 1])\n",
    "fpr_lr_valid, tpr_lr_valid, threshold_valid = sklearn.metrics.roc_curve(df_valid[\"positive\"], ml.predict_proba(X_valid_w2v)[:, 1])\n",
    "plt.figure(figsize=(10,6))\n",
    "plt.plot([0, 1], [0, 1], 'k--')\n",
    "plt.plot(fpr_lr_train, tpr_lr_train, label='LR_train')\n",
    "plt.plot(fpr_lr_valid, tpr_lr_valid, label='LR_valid')\n",
    "plt.xlabel('False positive rate')\n",
    "plt.ylabel('True positive rate')\n",
    "plt.legend()\n",
    "plt.title('ROC curve')\n",
    "plt.show()"
   ]
  },
  {
   "cell_type": "markdown",
   "metadata": {},
   "source": [
    "On calcule l'AUC"
   ]
  },
  {
   "cell_type": "code",
   "execution_count": 40,
   "metadata": {},
   "outputs": [
    {
     "data": {
      "text/plain": [
       "0.9378032384000001"
      ]
     },
     "execution_count": 40,
     "metadata": {},
     "output_type": "execute_result"
    }
   ],
   "source": [
    "# Aire sous la courbe ROC - train\n",
    "sklearn.metrics.roc_auc_score(df_train[\"positive\"], ml.predict_proba(X_valid_w2v)[:, 1])"
   ]
  },
  {
   "cell_type": "markdown",
   "metadata": {},
   "source": [
    "Alors Word2Vec ça résoud tout les problèmes?"
   ]
  },
  {
   "cell_type": "code",
   "execution_count": 41,
   "metadata": {},
   "outputs": [
    {
     "data": {
      "text/plain": [
       "((25000, 300), (25000, 75911))"
      ]
     },
     "execution_count": 41,
     "metadata": {},
     "output_type": "execute_result"
    }
   ],
   "source": [
    "X_train_w2v.shape, X_train.shape"
   ]
  },
  {
   "cell_type": "markdown",
   "metadata": {},
   "source": [
    "# Et si on charge le word2vec de google\n",
    "\n",
    "Il est dispo sur miriel045 : /tmp/jacq/GoogleNews-vectors-negative300.bin.gz\n",
    "Copiez le sur le /tmp de votre machine, pas dans votre home! (1.5G)\n",
    "\n",
    "Vous pouvez aussi utiliser [spacy](https://spacy.io/usage/models) en chargeant les modèles : en_core_web_md ou en_core_web_lg\n",
    "\n",
    "Est-ce que le modèle obtenu avec ces vecteurs est plus performant que le notre? Que le TF-IDF?"
   ]
  },
  {
   "cell_type": "code",
   "execution_count": null,
   "metadata": {},
   "outputs": [],
   "source": []
  }
 ],
 "metadata": {
  "kernelspec": {
   "display_name": "Python 3",
   "language": "python",
   "name": "python3"
  },
  "language_info": {
   "codemirror_mode": {
    "name": "ipython",
    "version": 3
   },
   "file_extension": ".py",
   "mimetype": "text/x-python",
   "name": "python",
   "nbconvert_exporter": "python",
   "pygments_lexer": "ipython3",
   "version": "3.10.6 (main, Nov 14 2022, 16:10:14) [GCC 11.3.0]"
  },
  "vscode": {
   "interpreter": {
    "hash": "31f2aee4e71d21fbe5cf8b01ff0e069b9275f58929596ceb00d14d90e3e16cd6"
   }
  }
 },
 "nbformat": 4,
 "nbformat_minor": 4
}

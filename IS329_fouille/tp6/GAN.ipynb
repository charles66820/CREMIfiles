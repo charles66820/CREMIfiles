{
 "cells": [
  {
   "cell_type": "markdown",
   "metadata": {},
   "source": [
    "# TP6 : GAN - Generative Adversarial Networks\n",
    "\n",
    "=> https://arxiv.org/abs/1406.2661 Ian Goodfellow 2014\n",
    "\n",
    "\"C'est l'idée la plus intéressante des 10 dernières années dans le domaine du Machine Learning\". Yann LeCun\n",
    "\n",
    "https://github.com/nashory/gans-awesome-applications\n",
    "\n",
    "## Generation images + arithmétique\n",
    "https://github.com/jayleicn/animeGAN\n",
    "\n",
    "## Edition photo\n",
    "https://github.com/ajbrock/Neural-Photo-Editor\n",
    "\n",
    "## Rajeunisseur + Vieillisseur\n",
    "https://github.com/ZZUTK/Face-Aging-CAAE\n",
    "\n",
    "## conversion\n",
    "https://github.com/phillipi/pix2pix\n",
    "\n",
    "## Transfert de style\n",
    "https://github.com/luanfujun/deep-photo-styletransfer\n",
    "\n",
    "## Inpainting\n",
    "https://github.com/pathak22/context-encoder\n",
    "\n",
    "## Super-Résolution\n",
    "https://github.com/david-gpu/srez"
   ]
  },
  {
   "cell_type": "markdown",
   "metadata": {},
   "source": [
    "# Le concept : Faire travailler en opposition 2 réseaux différents\n",
    " - 1 Générateur imagine des images pour faire croire au Discriminateur qu'elles sont réelles\n",
    " - 1 Discriminateur essaye d'identifiersi l'image qu'on lui montre est réelle ou fausse\n",
    "\n",
    "\n",
    "![](https://miro.medium.com/max/445/1*Y9Y5iO-u9zfisjvzUJo3ZA.png)\n",
    "\n",
    "# TP : Générer des fausses images MNIST avec un GAN\n",
    "\n",
    "## 1 : Charger des données réelles "
   ]
  },
  {
   "cell_type": "code",
   "execution_count": null,
   "metadata": {},
   "outputs": [],
   "source": [
    "# import sys\n",
    "# !{sys.executable} -m pip install torch torchvision"
   ]
  },
  {
   "cell_type": "code",
   "execution_count": 10,
   "metadata": {},
   "outputs": [],
   "source": [
    "import torch\n",
    "import torch.nn as nn\n",
    "import torch.nn.functional as F\n",
    "import random\n",
    "\n",
    "from IPython.display import display\n",
    "from torchvision import datasets, transforms\n",
    "from torch.utils.data import DataLoader\n",
    "\n",
    "BATCH_SIZE = 128\n",
    "torch.manual_seed(42)\n",
    "device = torch.device(\"cuda\" if torch.cuda.is_available() else \"cpu\")\n",
    "\n",
    "# define transforms\n",
    "transform = transforms.Compose([transforms.Resize((28, 28)),\n",
    "                                 transforms.ToTensor()])\n",
    "\n",
    "# download and create datasets\n",
    "train_dataset = datasets.MNIST(root='',\n",
    "                               train=True,\n",
    "                               transform=transform,\n",
    "                               download=True)\n",
    "\n",
    "# define the data loaders\n",
    "train_loader = DataLoader(dataset=train_dataset, \n",
    "                          batch_size=BATCH_SIZE)"
   ]
  },
  {
   "cell_type": "code",
   "execution_count": 11,
   "metadata": {},
   "outputs": [
    {
     "data": {
      "image/png": "[encoded data removed]",
      "text/plain": [
       "<PIL.Image.Image image mode=L size=28x28 at 0x7F80015CE200>"
      ]
     },
     "execution_count": 11,
     "metadata": {},
     "output_type": "execute_result"
    }
   ],
   "source": [
    "image, classe = random.choice(train_loader.dataset)\n",
    "transforms.ToPILImage()(image)"
   ]
  },
  {
   "cell_type": "markdown",
   "metadata": {},
   "source": [
    "## 2: Coder le Discriminateur \n",
    "\n",
    "Le réseau va prendre en entrée une image qui sera un vecteur de taille 784 (ou matrice 28x28) et doit sortir une prédiction : est-ce que l'image est vraie ou pas"
   ]
  },
  {
   "cell_type": "code",
   "execution_count": 12,
   "metadata": {},
   "outputs": [],
   "source": [
    "class Discriminateur(nn.Module):\n",
    "    def __init__(self):\n",
    "        super().__init__()\n",
    "    \n",
    "    def forward(self, x):\n",
    "        pass"
   ]
  },
  {
   "cell_type": "markdown",
   "metadata": {},
   "source": [
    "## 3 : Coder le Générateur\n",
    "\n",
    "Le générateur va prendre en entrée un bruit blanc : C'est un vecteur de taille 50 qui a ses valeurs qui suivent une distribution normale.\n",
    "\n",
    "Ecrivez la fonction qui va générer ce vecteur d'entrée"
   ]
  },
  {
   "cell_type": "code",
   "execution_count": 13,
   "metadata": {},
   "outputs": [],
   "source": [
    "def noise(vector_size, batch_size):\n",
    "    pass"
   ]
  },
  {
   "cell_type": "markdown",
   "metadata": {},
   "source": [
    "Codez maintenant le générateur : Il va prendre en entrée un vecteur de taille 50, et doit générer une image : vecteur de taille 784"
   ]
  },
  {
   "cell_type": "code",
   "execution_count": 14,
   "metadata": {},
   "outputs": [],
   "source": [
    "class Generateur(nn.Module):\n",
    "    def __init__(self, vector_size):\n",
    "        super().__init__()\n",
    "    \n",
    "    def forward(self, x):\n",
    "        pass"
   ]
  },
  {
   "cell_type": "code",
   "execution_count": 15,
   "metadata": {},
   "outputs": [
    {
     "ename": "NameError",
     "evalue": "name 'vector_size' is not defined",
     "output_type": "error",
     "traceback": [
      "\u001b[0;31m---------------------------------------------------------------------------\u001b[0m",
      "\u001b[0;31mNameError\u001b[0m                                 Traceback (most recent call last)",
      "Cell \u001b[0;32mIn[15], line 2\u001b[0m\n\u001b[1;32m      1\u001b[0m discriminator \u001b[39m=\u001b[39m Discriminateur()\u001b[39m.\u001b[39mto(device)\n\u001b[0;32m----> 2\u001b[0m generator \u001b[39m=\u001b[39m Generateur(vector_size)\u001b[39m.\u001b[39mto(device)\n",
      "\u001b[0;31mNameError\u001b[0m: name 'vector_size' is not defined"
     ]
    }
   ],
   "source": [
    "discriminator = Discriminateur().to(device)\n",
    "generator = Generateur(vector_size).to(device)"
   ]
  },
  {
   "cell_type": "markdown",
   "metadata": {},
   "source": [
    "## 4 : Optimizers et Loss\n",
    "\n",
    "On prend ce qu'il y a dans les papiers"
   ]
  },
  {
   "cell_type": "code",
   "execution_count": null,
   "metadata": {},
   "outputs": [],
   "source": [
    "from torch import optim\n",
    "# Optimizers\n",
    "d_optimizer = optim.Adam(discriminator.parameters(), lr=0.0002)\n",
    "g_optimizer = optim.Adam(generator.parameters(), lr=0.0002)\n",
    "\n",
    "# Loss function\n",
    "loss = nn.BCELoss()"
   ]
  },
  {
   "cell_type": "markdown",
   "metadata": {},
   "source": [
    "## Monitoring"
   ]
  },
  {
   "cell_type": "code",
   "execution_count": null,
   "metadata": {},
   "outputs": [],
   "source": [
    "# On génère un bruit qui va nous permettre de générer quelques images et suivre com\n",
    "# images au cours des epoch\n",
    "monitoring_noise = noise(8).to(device)\n",
    "def show_images(generator, monitoring_noise):\n",
    "    with torch.no_grad():\n",
    "        monitoring_generated_images = generator(monitoring_noise).to(\"cpu\")\n",
    "    for image in monitoring_generated_images:\n",
    "        display(transforms.ToPILImage()(image))"
   ]
  },
  {
   "cell_type": "markdown",
   "metadata": {},
   "source": [
    "## 5 : L'entrainement\n",
    "\n",
    "C'est parti pour l'entrainement remplissez le code à trous suivant"
   ]
  },
  {
   "cell_type": "code",
   "execution_count": null,
   "metadata": {},
   "outputs": [],
   "source": [
    "num_epochs = 1000\n",
    "discriminator.train()\n",
    "generator.train()\n",
    "for epoch in range(num_epochs):\n",
    "    # For each batch\n",
    "    for real_images, _ in train_loader:\n",
    "        # 1. Entrainement dicriminateur\n",
    "        # 1.1 On utilise les images réelles (on vient de les charger) => target 1\n",
    "        # Faites passer la donnée dans le discriminateur\n",
    "\n",
    "        # Evaluer la perte\n",
    "\n",
    "        # 1.2 On va maintenant Créer des images de toute piece, la target sera 0\n",
    "        # Générez des images : faites du bruit et passez ça dans le générateur\n",
    "\n",
    "        # Faites passer les images dans le discriminateur\n",
    "\n",
    "        # Evaluez la perte\n",
    "\n",
    "        # Sommez les gradients des 2 sous batchs et mettez à jour le discriminateur\n",
    "\n",
    "        # 2. Entrainement generateur\n",
    "        # Calculez les prédictions du discriminateur sur les données générées par le generateur\n",
    "\n",
    "        # Evaluez la perte\n",
    "        \n",
    "        # Mettez le generateur a jour\n",
    "\n",
    "        # ... Et voilà il n'y a plus qu'à attendre\n"
   ]
  },
  {
   "cell_type": "markdown",
   "metadata": {},
   "source": [
    "# Suivre l'entrainement\n",
    "La bonne pratique pour suivre l'avancée de l'entrainement est de générer un ensemble de bruits initiaux (genre 10-20 images) et d'afficher la sortie du générateur au cours des epochs sur ces mêmes bruits.\n",
    "\n",
    "Ca donne quoi pour vous?"
   ]
  },
  {
   "cell_type": "code",
   "execution_count": null,
   "metadata": {},
   "outputs": [],
   "source": []
  },
  {
   "cell_type": "markdown",
   "metadata": {},
   "source": [
    "# Pour aller plus loin :\n",
    " - Vous pouvez complexifier vos réseaux\n",
    " - Changez de dataset\n",
    " - Faites des aditions de vos vecteurs latents (Word2Vec style encore)\n",
    " - des tutos tout prets https://pytorch.org/tutorials/beginner/dcgan_faces_tutorial.html\n",
    " - Avec les AutoEncodeurs on peut aussi générer des images : VAE"
   ]
  }
 ],
 "metadata": {
  "kernelspec": {
   "display_name": "Python 3",
   "language": "python",
   "name": "python3"
  },
  "language_info": {
   "codemirror_mode": {
    "name": "ipython",
    "version": 3
   },
   "file_extension": ".py",
   "mimetype": "text/x-python",
   "name": "python",
   "nbconvert_exporter": "python",
   "pygments_lexer": "ipython3",
   "version": "3.10.6 (main, Nov 14 2022, 16:10:14) [GCC 11.3.0]"
  },
  "vscode": {
   "interpreter": {
    "hash": "31f2aee4e71d21fbe5cf8b01ff0e069b9275f58929596ceb00d14d90e3e16cd6"
   }
  }
 },
 "nbformat": 4,
 "nbformat_minor": 4
}

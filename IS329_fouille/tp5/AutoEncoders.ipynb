{
 "cells": [
  {
   "attachments": {},
   "cell_type": "markdown",
   "metadata": {
    "tags": []
   },
   "source": [
    "# TP5 : Auto Encodeurs\n",
    "\n",
    "## Human In The Loop\n",
    " - On a besoin de beaucoup de Labels pour entrainer des modèles\n",
    " - Ca coute du temps humain, travail répétitif et peu gratifiant, ça coute cher et ça crée des dérives\n",
    " - [Your Roomba is watching you](https://www.technologyreview.com/2022/12/19/1065306/roomba-irobot-robot-vacuums-artificial-intelligence-training-data-privacy/)\n",
    "\n",
    "## Auto Encodeurs\n",
    " - Une idée pour contrer le problème de labelisation des images : Les autoencodeurs \n",
    " - Application : Implémenter un autoencoder pour encoder des courbes et étudier les atouts de ces architectures. "
   ]
  },
  {
   "attachments": {},
   "cell_type": "markdown",
   "metadata": {},
   "source": [
    "# Autoencoders\n",
    "\n",
    " - Principe : C'est un réseau de neurones profond auquel on fournit $X$ en entrée et qui sort $X$ en sortie\n",
    " - ...\n",
    " - $X = Id X$ ?\n",
    " - L'intéret arrive quand on applique certaines contraintes à notre réseau.\n",
    " - Les applications sont alors multiples :\n",
    "     - Compression\n",
    "     - Extractions d'embeddings (comme en NLP)\n",
    "     - Debruitage\n",
    "     - Détection d'anomalie\n",
    "     - Génération d'image   \n",
    " - L'architecture classique que l'on obtient est la suivante :\n",
    "     - Un Encodeur\n",
    "     - La représentation latente $Z$ (plus petite que l'entrée $X$)\n",
    "     - Un décodeur\n",
    "\n",
    "![](https://upload.wikimedia.org/wikipedia/commons/2/28/Autoencoder_structure.png)\n",
    "      \n",
    " - C'est une approche non supervisée car on compare la sortie à l'entrée et on veut qu'elles soient identiques\n",
    "    - Pas besoin de label\n",
    "    - Scalable!\n",
    "    - On peut utiliser des techniques de Data Augmentation si on a peu de données et/ou si on souhaite obtenir des propriétés spécifiques\n",
    " "
   ]
  },
  {
   "attachments": {},
   "cell_type": "markdown",
   "metadata": {},
   "source": [
    "### Encodage de courbes\n",
    "\n"
   ]
  },
  {
   "cell_type": "code",
   "execution_count": null,
   "metadata": {},
   "outputs": [],
   "source": []
  },
  {
   "attachments": {},
   "cell_type": "markdown",
   "metadata": {},
   "source": [
    "On va créer un auto encodeur qui aurra comme code un vecteur de dimension 1\n",
    "\n",
    "Créez 2 réseaux:\n",
    " - Encoder : \n",
    "    - Les données en entrée seront de dimension *vector_size*\n",
    "    - La donnée en sortie sera de dimension 1 \n",
    " - Decoder\n",
    "    - Les données en entrée seront de dimension 1\n",
    "    - La donnée en sortie sera de dimension *vector_size* \n",
    "    \n",
    "Prennez l'architecture la plus simple possible dans ce 1 er cas"
   ]
  },
  {
   "cell_type": "code",
   "execution_count": 94,
   "metadata": {},
   "outputs": [],
   "source": []
  },
  {
   "attachments": {},
   "cell_type": "markdown",
   "metadata": {},
   "source": [
    "Entrainement du réseau !\n",
    "\n",
    "Tracez la courbe d'erreur au cours de l'entrainement"
   ]
  },
  {
   "cell_type": "code",
   "execution_count": null,
   "metadata": {},
   "outputs": [],
   "source": []
  },
  {
   "cell_type": "markdown",
   "metadata": {},
   "source": [
    "Affichez sur un graphe l'input X et sa reconstruction par l'autoencodeur"
   ]
  },
  {
   "cell_type": "code",
   "execution_count": null,
   "metadata": {},
   "outputs": [],
   "source": []
  },
  {
   "attachments": {},
   "cell_type": "markdown",
   "metadata": {},
   "source": [
    "Obtient-on $z = a$ ? \n",
    "- Si oui : Pourquoi ?\n",
    "- Si non : Comment inclure cette contrainte ?"
   ]
  },
  {
   "cell_type": "markdown",
   "metadata": {},
   "source": [
    "On recommence en incluant la contrainte $z = a$"
   ]
  },
  {
   "cell_type": "code",
   "execution_count": null,
   "metadata": {},
   "outputs": [],
   "source": []
  },
  {
   "cell_type": "markdown",
   "metadata": {},
   "source": [
    "Maintenant que se passe-t-il quand on présente au réseau une discrétisation d'une fonction du type $$ g(x) = \\sin(b \\pi x) $$\n",
    "\n",
    "Codez la fonction gen_g, qui prend en paramètre la taille de la discrétisation, sample un b random et retourne le vecteur G associé à la discrétisation de $g(x)$."
   ]
  },
  {
   "cell_type": "code",
   "execution_count": null,
   "metadata": {},
   "outputs": [],
   "source": []
  },
  {
   "cell_type": "markdown",
   "metadata": {},
   "source": [
    "Affichez sur un graphe, G et sa reconstruction par l'autoencodeur"
   ]
  },
  {
   "cell_type": "code",
   "execution_count": null,
   "metadata": {},
   "outputs": [],
   "source": []
  },
  {
   "cell_type": "markdown",
   "metadata": {},
   "source": [
    "Calculez les distances entre l'entrée et la sortie"
   ]
  },
  {
   "cell_type": "code",
   "execution_count": null,
   "metadata": {},
   "outputs": [],
   "source": []
  },
  {
   "attachments": {},
   "cell_type": "markdown",
   "metadata": {},
   "source": [
    "Vous venez de découvrir l'un des usages des autoencodeurs : La détection d'anomalies\n",
    "\n",
    "Est-ce que la même architecture peut encoder des fonctions affine *et* des sinus?\n",
    "\n",
    "- Que changer ?\n",
    "- Implémentez !"
   ]
  },
  {
   "cell_type": "code",
   "execution_count": null,
   "metadata": {},
   "outputs": [],
   "source": []
  },
  {
   "attachments": {},
   "cell_type": "markdown",
   "metadata": {},
   "source": [
    "Maintenant dans l'entrainement incluez des fonctions affines et des sinus. \n",
    "\n",
    "Changez $z$ vous n'avez plus la contrainte dimension = 1.\n",
    "\n",
    "Entrainez!"
   ]
  },
  {
   "cell_type": "code",
   "execution_count": null,
   "metadata": {},
   "outputs": [],
   "source": []
  },
  {
   "attachments": {},
   "cell_type": "markdown",
   "metadata": {},
   "source": [
    "Avec cette architecture je veux maintenant que vous puissiez me dire si c'est un sinus ou une fonction affine :\n",
    " - On fait de la classification avec ce réseau"
   ]
  },
  {
   "cell_type": "code",
   "execution_count": null,
   "metadata": {},
   "outputs": [],
   "source": []
  }
 ],
 "metadata": {
  "kernelspec": {
   "display_name": "Python 3 (ipykernel)",
   "language": "python",
   "name": "python3"
  },
  "language_info": {
   "codemirror_mode": {
    "name": "ipython",
    "version": 3
   },
   "file_extension": ".py",
   "mimetype": "text/x-python",
   "name": "python",
   "nbconvert_exporter": "python",
   "pygments_lexer": "ipython3",
   "version": "3.9.7"
  }
 },
 "nbformat": 4,
 "nbformat_minor": 4
}

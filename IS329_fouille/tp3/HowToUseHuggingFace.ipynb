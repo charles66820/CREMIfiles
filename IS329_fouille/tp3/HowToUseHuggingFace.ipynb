{
 "cells": [
  {
   "cell_type": "markdown",
   "metadata": {},
   "source": [
    "# Mise en bouche avec CamemBERT"
   ]
  },
  {
   "cell_type": "code",
   "execution_count": 1,
   "metadata": {},
   "outputs": [
    {
     "data": {
      "application/vnd.jupyter.widget-view+json": {
       "model_id": "3dd3174768ab4ec19e27a78f1b434c78",
       "version_major": 2,
       "version_minor": 0
      },
      "text/plain": [
       "Downloading:   0%|          | 0.00/445M [00:00<?, ?B/s]"
      ]
     },
     "metadata": {},
     "output_type": "display_data"
    },
    {
     "data": {
      "application/vnd.jupyter.widget-view+json": {
       "model_id": "e768c7ab12694ace940102f19b434401",
       "version_major": 2,
       "version_minor": 0
      },
      "text/plain": [
       "Downloading:   0%|          | 0.00/811k [00:00<?, ?B/s]"
      ]
     },
     "metadata": {},
     "output_type": "display_data"
    },
    {
     "data": {
      "application/vnd.jupyter.widget-view+json": {
       "model_id": "8aa32d3e042f414796af48394eb124b5",
       "version_major": 2,
       "version_minor": 0
      },
      "text/plain": [
       "Downloading:   0%|          | 0.00/1.40M [00:00<?, ?B/s]"
      ]
     },
     "metadata": {},
     "output_type": "display_data"
    },
    {
     "data": {
      "text/plain": [
       "[{'score': 0.490911602973938,\n",
       "  'token': 7200,\n",
       "  'token_str': 'délicieux',\n",
       "  'sequence': 'Le camembert est délicieux :)'},\n",
       " {'score': 0.10556957870721817,\n",
       "  'token': 2183,\n",
       "  'token_str': 'excellent',\n",
       "  'sequence': 'Le camembert est excellent :)'},\n",
       " {'score': 0.03453321009874344,\n",
       "  'token': 26202,\n",
       "  'token_str': 'succulent',\n",
       "  'sequence': 'Le camembert est succulent :)'},\n",
       " {'score': 0.03303122892975807,\n",
       "  'token': 528,\n",
       "  'token_str': 'meilleur',\n",
       "  'sequence': 'Le camembert est meilleur :)'},\n",
       " {'score': 0.030076367780566216,\n",
       "  'token': 1654,\n",
       "  'token_str': 'parfait',\n",
       "  'sequence': 'Le camembert est parfait :)'}]"
      ]
     },
     "execution_count": 1,
     "metadata": {},
     "output_type": "execute_result"
    }
   ],
   "source": [
    "from transformers import pipeline, set_seed\n",
    "\n",
    "camembert_fill_mask  = pipeline(\"fill-mask\", model=\"camembert-base\", tokenizer=\"camembert-base\")\n",
    "results = camembert_fill_mask(\"Le camembert est <mask> :)\")\n",
    "results"
   ]
  },
  {
   "cell_type": "code",
   "execution_count": 2,
   "metadata": {},
   "outputs": [
    {
     "data": {
      "text/plain": [
       "[{'score': 0.22031481564044952,\n",
       "  'token': 501,\n",
       "  'token_str': 'produit',\n",
       "  'sequence': 'Le camembert est un produit délicieux.'},\n",
       " {'score': 0.14769501984119415,\n",
       "  'token': 6432,\n",
       "  'token_str': 'dessert',\n",
       "  'sequence': 'Le camembert est un dessert délicieux.'},\n",
       " {'score': 0.11923044919967651,\n",
       "  'token': 4604,\n",
       "  'token_str': 'mets',\n",
       "  'sequence': 'Le camembert est un mets délicieux.'},\n",
       " {'score': 0.08862794935703278,\n",
       "  'token': 5271,\n",
       "  'token_str': 'fromage',\n",
       "  'sequence': 'Le camembert est un fromage délicieux.'},\n",
       " {'score': 0.08573665469884872,\n",
       "  'token': 1900,\n",
       "  'token_str': 'plat',\n",
       "  'sequence': 'Le camembert est un plat délicieux.'},\n",
       " {'score': 0.08359735459089279,\n",
       "  'token': 10586,\n",
       "  'token_str': 'aliment',\n",
       "  'sequence': 'Le camembert est un aliment délicieux.'},\n",
       " {'score': 0.05693965405225754,\n",
       "  'token': 1450,\n",
       "  'token_str': 'repas',\n",
       "  'sequence': 'Le camembert est un repas délicieux.'},\n",
       " {'score': 0.022056488320231438,\n",
       "  'token': 6734,\n",
       "  'token_str': 'accompagnement',\n",
       "  'sequence': 'Le camembert est un accompagnement délicieux.'},\n",
       " {'score': 0.01757507398724556,\n",
       "  'token': 4780,\n",
       "  'token_str': 'morceau',\n",
       "  'sequence': 'Le camembert est un morceau délicieux.'},\n",
       " {'score': 0.015143537893891335,\n",
       "  'token': 835,\n",
       "  'token_str': 'met',\n",
       "  'sequence': 'Le camembert est un met délicieux.'}]"
      ]
     },
     "execution_count": 2,
     "metadata": {},
     "output_type": "execute_result"
    }
   ],
   "source": [
    "# On calcule le mask\n",
    "masked_line = 'Le camembert est un <mask> délicieux.'\n",
    "camembert_fill_mask(masked_line, top_k=10)"
   ]
  },
  {
   "cell_type": "code",
   "execution_count": 3,
   "metadata": {},
   "outputs": [
    {
     "data": {
      "text/plain": [
       "[{'score': 0.19854094088077545,\n",
       "  'token': 13193,\n",
       "  'token_str': 'chèvre',\n",
       "  'sequence': 'Le chèvre est le meilleur des fromages'},\n",
       " {'score': 0.19833466410636902,\n",
       "  'token': 17886,\n",
       "  'token_str': 'comté',\n",
       "  'sequence': 'Le comté est le meilleur des fromages'},\n",
       " {'score': 0.1603184938430786,\n",
       "  'token': 29122,\n",
       "  'token_str': 'Cantal',\n",
       "  'sequence': 'Le Cantal est le meilleur des fromages'},\n",
       " {'score': 0.06820746511220932,\n",
       "  'token': 29837,\n",
       "  'token_str': 'parmesan',\n",
       "  'sequence': 'Le parmesan est le meilleur des fromages'},\n",
       " {'score': 0.03120097890496254,\n",
       "  'token': 5271,\n",
       "  'token_str': 'fromage',\n",
       "  'sequence': 'Le fromage est le meilleur des fromages'},\n",
       " {'score': 0.015168224461376667,\n",
       "  'token': 14588,\n",
       "  'token_str': 'yaourt',\n",
       "  'sequence': 'Le yaourt est le meilleur des fromages'},\n",
       " {'score': 0.01371549442410469,\n",
       "  'token': 13465,\n",
       "  'token_str': 'saumon',\n",
       "  'sequence': 'Le saumon est le meilleur des fromages'},\n",
       " {'score': 0.00941644050180912,\n",
       "  'token': 2216,\n",
       "  'token_str': 'chocolat',\n",
       "  'sequence': 'Le chocolat est le meilleur des fromages'},\n",
       " {'score': 0.008398734964430332,\n",
       "  'token': 12718,\n",
       "  'token_str': 'Jura',\n",
       "  'sequence': 'Le Jura est le meilleur des fromages'},\n",
       " {'score': 0.008382298983633518,\n",
       "  'token': 29973,\n",
       "  'token_str': 'saucisson',\n",
       "  'sequence': 'Le saucisson est le meilleur des fromages'}]"
      ]
     },
     "execution_count": 3,
     "metadata": {},
     "output_type": "execute_result"
    }
   ],
   "source": [
    "masked_line = 'Le <mask> est le meilleur des fromages'\n",
    "camembert_fill_mask(masked_line, top_k=10)"
   ]
  },
  {
   "cell_type": "markdown",
   "metadata": {},
   "source": [
    "# Analyse de sentiment"
   ]
  },
  {
   "cell_type": "code",
   "execution_count": 4,
   "metadata": {},
   "outputs": [
    {
     "name": "stderr",
     "output_type": "stream",
     "text": [
      "No model was supplied, defaulted to distilbert-base-uncased-finetuned-sst-2-english and revision af0f99b (https://huggingface.co/distilbert-base-uncased-finetuned-sst-2-english).\n",
      "Using a pipeline without specifying a model name and revision in production is not recommended.\n"
     ]
    },
    {
     "data": {
      "application/vnd.jupyter.widget-view+json": {
       "model_id": "e1827f9b392049e9b9998e331c09470c",
       "version_major": 2,
       "version_minor": 0
      },
      "text/plain": [
       "Downloading:   0%|          | 0.00/629 [00:00<?, ?B/s]"
      ]
     },
     "metadata": {},
     "output_type": "display_data"
    },
    {
     "data": {
      "application/vnd.jupyter.widget-view+json": {
       "model_id": "3fc8f455edb843feb8655f9b38343636",
       "version_major": 2,
       "version_minor": 0
      },
      "text/plain": [
       "Downloading:   0%|          | 0.00/268M [00:00<?, ?B/s]"
      ]
     },
     "metadata": {},
     "output_type": "display_data"
    },
    {
     "data": {
      "application/vnd.jupyter.widget-view+json": {
       "model_id": "5a54e63a803f496a881ebdee07f3b300",
       "version_major": 2,
       "version_minor": 0
      },
      "text/plain": [
       "Downloading:   0%|          | 0.00/48.0 [00:00<?, ?B/s]"
      ]
     },
     "metadata": {},
     "output_type": "display_data"
    },
    {
     "data": {
      "application/vnd.jupyter.widget-view+json": {
       "model_id": "f5c8dad72da943b8a5fab90c6e0036b5",
       "version_major": 2,
       "version_minor": 0
      },
      "text/plain": [
       "Downloading:   0%|          | 0.00/232k [00:00<?, ?B/s]"
      ]
     },
     "metadata": {},
     "output_type": "display_data"
    },
    {
     "data": {
      "text/plain": [
       "[{'label': 'NEGATIVE', 'score': 0.9991129040718079},\n",
       " {'label': 'POSITIVE', 'score': 0.9998656511306763}]"
      ]
     },
     "execution_count": 4,
     "metadata": {},
     "output_type": "execute_result"
    }
   ],
   "source": [
    "sentiment = pipeline(\"sentiment-analysis\")\n",
    "sentiment([\"I hate you\", \"I love you\"])"
   ]
  },
  {
   "cell_type": "markdown",
   "metadata": {},
   "source": [
    "# Génération de texte"
   ]
  },
  {
   "cell_type": "code",
   "execution_count": 5,
   "metadata": {},
   "outputs": [
    {
     "data": {
      "application/vnd.jupyter.widget-view+json": {
       "model_id": "dd82d5b0b278452187be76e9c27c7f32",
       "version_major": 2,
       "version_minor": 0
      },
      "text/plain": [
       "Downloading:   0%|          | 0.00/665 [00:00<?, ?B/s]"
      ]
     },
     "metadata": {},
     "output_type": "display_data"
    },
    {
     "data": {
      "application/vnd.jupyter.widget-view+json": {
       "model_id": "ff92e274bd8e4261b3f377bb782e8047",
       "version_major": 2,
       "version_minor": 0
      },
      "text/plain": [
       "Downloading:   0%|          | 0.00/548M [00:00<?, ?B/s]"
      ]
     },
     "metadata": {},
     "output_type": "display_data"
    },
    {
     "data": {
      "application/vnd.jupyter.widget-view+json": {
       "model_id": "7abbf56e349940b48802abd7ab2c3f4d",
       "version_major": 2,
       "version_minor": 0
      },
      "text/plain": [
       "Downloading:   0%|          | 0.00/1.04M [00:00<?, ?B/s]"
      ]
     },
     "metadata": {},
     "output_type": "display_data"
    },
    {
     "data": {
      "application/vnd.jupyter.widget-view+json": {
       "model_id": "4cdb7279e99d4e89883655ad8daad6ff",
       "version_major": 2,
       "version_minor": 0
      },
      "text/plain": [
       "Downloading:   0%|          | 0.00/456k [00:00<?, ?B/s]"
      ]
     },
     "metadata": {},
     "output_type": "display_data"
    },
    {
     "data": {
      "application/vnd.jupyter.widget-view+json": {
       "model_id": "3e48daaa44234848a72392f479907592",
       "version_major": 2,
       "version_minor": 0
      },
      "text/plain": [
       "Downloading:   0%|          | 0.00/1.36M [00:00<?, ?B/s]"
      ]
     },
     "metadata": {},
     "output_type": "display_data"
    },
    {
     "name": "stderr",
     "output_type": "stream",
     "text": [
      "Setting `pad_token_id` to `eos_token_id`:50256 for open-end generation.\n"
     ]
    },
    {
     "data": {
      "text/plain": [
       "[{'generated_text': \"Hello, I'm a language model, I'm writing a new language for you. But first, I'd like to tell you about the language itself\"},\n",
       " {'generated_text': \"Hello, I'm a language model, and I'm trying to be as expressive as possible. In order to be expressive, it is necessary to know\"},\n",
       " {'generated_text': \"Hello, I'm a language model, so I don't get much of a license anymore, but I'm probably more familiar with other languages on that\"},\n",
       " {'generated_text': \"Hello, I'm a language model, a functional model... It's not me, it's me!\\n\\nI won't bore you with how\"},\n",
       " {'generated_text': \"Hello, I'm a language model, not an object model.\\n\\nIn a nutshell, I need to give language model a set of properties that\"}]"
      ]
     },
     "execution_count": 5,
     "metadata": {},
     "output_type": "execute_result"
    }
   ],
   "source": [
    "generator = pipeline('text-generation', model='gpt2')\n",
    "set_seed(42)\n",
    "generator(\"Hello, I'm a language model,\", max_length=30, num_return_sequences=5)"
   ]
  },
  {
   "cell_type": "code",
   "execution_count": null,
   "metadata": {},
   "outputs": [],
   "source": [
    "text = \"Florida couple gives birth to boy thanks to 'Win a Baby' contest\\n\"\n",
    "generator(text, max_length=50, num_return_sequences=5)"
   ]
  },
  {
   "cell_type": "code",
   "execution_count": 6,
   "metadata": {},
   "outputs": [
    {
     "name": "stderr",
     "output_type": "stream",
     "text": [
      "Setting `pad_token_id` to `eos_token_id`:50256 for open-end generation.\n"
     ]
    },
    {
     "data": {
      "text/plain": [
       "[{'generated_text': \"The flat-Earth conspiracy is spreading around the globe. You might even come across it in your book: The Mystery of Atlantis, The Mysterious Life of Mars, the Mystery of the Solar System and the Mysterious World of Venus.\\n\\nBut it's\"},\n",
       " {'generated_text': 'The flat-Earth conspiracy is spreading around the globe.\\n\\nThe conspiracy of the century continues, and now scientists believe that there would be massive global thermonuclear arms race if we did not have the means to destroy the present nuclear weapons, if'},\n",
       " {'generated_text': \"The flat-Earth conspiracy is spreading around the globe. From Ukraine all the way to Japan, to Cuba and finally to America, it's gaining support, not just from right wing extremist groups but also from Americans. It isn't just Islamic terrorists who\"},\n",
       " {'generated_text': 'The flat-Earth conspiracy is spreading around the globe.\\n\\nBut they were never really linked when the CIA went undercover. But now the public knows there\\'s a deeper, if a bit more sinister connection between the \"Deep State Institute\" and the'},\n",
       " {'generated_text': 'The flat-Earth conspiracy is spreading around the globe. People look at it as a conspiracy to destroy humanity. This is not the case at all in real life. While some of our closest friends and enemies live in the United States, it has in'}]"
      ]
     },
     "execution_count": 6,
     "metadata": {},
     "output_type": "execute_result"
    }
   ],
   "source": [
    "text = \"The flat-Earth conspiracy is spreading around the globe.\"\n",
    "generator(text, max_length=50, num_return_sequences=5)"
   ]
  },
  {
   "cell_type": "markdown",
   "metadata": {},
   "source": [
    "# Génération de texte en Français"
   ]
  },
  {
   "cell_type": "code",
   "execution_count": 7,
   "metadata": {},
   "outputs": [
    {
     "data": {
      "application/vnd.jupyter.widget-view+json": {
       "model_id": "27ac3f2095be4a50a3ff45a0d64fd9d1",
       "version_major": 2,
       "version_minor": 0
      },
      "text/plain": [
       "Downloading:   0%|          | 0.00/1.31k [00:00<?, ?B/s]"
      ]
     },
     "metadata": {},
     "output_type": "display_data"
    },
    {
     "data": {
      "application/vnd.jupyter.widget-view+json": {
       "model_id": "df05004daf384c0a9b782fab1e35697a",
       "version_major": 2,
       "version_minor": 0
      },
      "text/plain": [
       "Downloading:   0%|          | 0.00/548M [00:00<?, ?B/s]"
      ]
     },
     "metadata": {},
     "output_type": "display_data"
    },
    {
     "data": {
      "application/vnd.jupyter.widget-view+json": {
       "model_id": "40be473689d24234a6f777cc3a9f349a",
       "version_major": 2,
       "version_minor": 0
      },
      "text/plain": [
       "Downloading:   0%|          | 0.00/2.00 [00:00<?, ?B/s]"
      ]
     },
     "metadata": {},
     "output_type": "display_data"
    },
    {
     "data": {
      "application/vnd.jupyter.widget-view+json": {
       "model_id": "005c7cae0ecf4b618d880b7a133973f3",
       "version_major": 2,
       "version_minor": 0
      },
      "text/plain": [
       "Downloading:   0%|          | 0.00/974k [00:00<?, ?B/s]"
      ]
     },
     "metadata": {},
     "output_type": "display_data"
    },
    {
     "data": {
      "application/vnd.jupyter.widget-view+json": {
       "model_id": "ee23a78a191743b58f1230702dd045d2",
       "version_major": 2,
       "version_minor": 0
      },
      "text/plain": [
       "Downloading:   0%|          | 0.00/532k [00:00<?, ?B/s]"
      ]
     },
     "metadata": {},
     "output_type": "display_data"
    },
    {
     "data": {
      "application/vnd.jupyter.widget-view+json": {
       "model_id": "47bcfdd93a9444cb8255f57c9919b355",
       "version_major": 2,
       "version_minor": 0
      },
      "text/plain": [
       "Downloading:   0%|          | 0.00/90.0 [00:00<?, ?B/s]"
      ]
     },
     "metadata": {},
     "output_type": "display_data"
    },
    {
     "name": "stderr",
     "output_type": "stream",
     "text": [
      "Special tokens have been added in the vocabulary, make sure the associated word embeddings are fine-tuned or trained.\n"
     ]
    }
   ],
   "source": [
    "generator = pipeline('text-generation', model=\"antoiloui/belgpt2\", do_sample=True)"
   ]
  },
  {
   "cell_type": "code",
   "execution_count": 8,
   "metadata": {},
   "outputs": [
    {
     "name": "stderr",
     "output_type": "stream",
     "text": [
      "Setting `pad_token_id` to `eos_token_id`:50256 for open-end generation.\n"
     ]
    },
    {
     "data": {
      "text/plain": [
       "[{'generated_text': 'Coucou tu veux participer? Le projet de créer un système unifié de justice pénale, qui intègre les règles du droit pénal et de procédure pénale dans le droit civil, ainsi que dans le droit international, et qui soit compatible avec la Constitution, ne'},\n",
       " {'generated_text': \"Coucou tu veux un bon de réduction? L' armée française tente de contenir le peuple et de le mettre à l' abri. J' ajouterai que je crois fermement que ce ne sont pas les religions qui oppriment les autres, mais\"},\n",
       " {'generated_text': \"Coucou tu veux me montrer? Après la mort de leur chef, les Assassins prirent la fuite. Ces dispositions s' appliquent donc aux autres opérateurs. Si vous cherchez à donner un style original à votre LG L60 alors cette coque de protection\"},\n",
       " {'generated_text': 'Coucou tu veux être moi ( enfin )? Les hommes du feu sont à vos côtés pour veiller au bon fonctionnement de votre système de sécurité. Il est aussi présent dans plus de 80 pays via ses bureaux mondiaux et centres nationaux de référence. Dans'},\n",
       " {'generated_text': 'Coucou tu veux être prévenue des news sur le sujet? Ces deux aspects de la relation client sont au cœur de son succès et de sa crédibilité : le marketing mobile, les achats, la performance du réseau social et de sa communication. Pour la'}]"
      ]
     },
     "execution_count": 8,
     "metadata": {},
     "output_type": "execute_result"
    }
   ],
   "source": [
    "text = \"Coucou tu veux\"\n",
    "generator(text, max_length=50, num_return_sequences=5)"
   ]
  },
  {
   "cell_type": "markdown",
   "metadata": {},
   "source": [
    "# Traduction"
   ]
  },
  {
   "cell_type": "code",
   "execution_count": 9,
   "metadata": {},
   "outputs": [
    {
     "data": {
      "application/vnd.jupyter.widget-view+json": {
       "model_id": "97cdf2490837411dacabc8dcd4c3a984",
       "version_major": 2,
       "version_minor": 0
      },
      "text/plain": [
       "Downloading:   0%|          | 0.00/1.42k [00:00<?, ?B/s]"
      ]
     },
     "metadata": {},
     "output_type": "display_data"
    },
    {
     "data": {
      "application/vnd.jupyter.widget-view+json": {
       "model_id": "d30eb5137fd44508b0eec253e009e6d5",
       "version_major": 2,
       "version_minor": 0
      },
      "text/plain": [
       "Downloading:   0%|          | 0.00/301M [00:00<?, ?B/s]"
      ]
     },
     "metadata": {},
     "output_type": "display_data"
    },
    {
     "data": {
      "application/vnd.jupyter.widget-view+json": {
       "model_id": "8d636ef242104b218d3833c3bfd61b06",
       "version_major": 2,
       "version_minor": 0
      },
      "text/plain": [
       "Downloading:   0%|          | 0.00/42.0 [00:00<?, ?B/s]"
      ]
     },
     "metadata": {},
     "output_type": "display_data"
    },
    {
     "data": {
      "application/vnd.jupyter.widget-view+json": {
       "model_id": "20eb5ee0a66c4b97b159d2e22680c6c3",
       "version_major": 2,
       "version_minor": 0
      },
      "text/plain": [
       "Downloading:   0%|          | 0.00/778k [00:00<?, ?B/s]"
      ]
     },
     "metadata": {},
     "output_type": "display_data"
    },
    {
     "data": {
      "application/vnd.jupyter.widget-view+json": {
       "model_id": "1def233338904fb8a08c16ccafaa7529",
       "version_major": 2,
       "version_minor": 0
      },
      "text/plain": [
       "Downloading:   0%|          | 0.00/802k [00:00<?, ?B/s]"
      ]
     },
     "metadata": {},
     "output_type": "display_data"
    },
    {
     "data": {
      "application/vnd.jupyter.widget-view+json": {
       "model_id": "145e636e281d4bdf887d5a8938baebcf",
       "version_major": 2,
       "version_minor": 0
      },
      "text/plain": [
       "Downloading:   0%|          | 0.00/1.34M [00:00<?, ?B/s]"
      ]
     },
     "metadata": {},
     "output_type": "display_data"
    },
    {
     "name": "stderr",
     "output_type": "stream",
     "text": [
      "/home/charles/.local/lib/python3.10/site-packages/transformers/models/marian/tokenization_marian.py:194: UserWarning: Recommended: pip install sacremoses.\n",
      "  warnings.warn(\"Recommended: pip install sacremoses.\")\n"
     ]
    }
   ],
   "source": [
    "translator = pipeline('translation', model=\"Helsinki-NLP/opus-mt-en-fr\")"
   ]
  },
  {
   "cell_type": "code",
   "execution_count": 10,
   "metadata": {},
   "outputs": [
    {
     "data": {
      "text/plain": [
       "[{'translation_text': 'Bonjour, quel est votre nom ?'}]"
      ]
     },
     "execution_count": 10,
     "metadata": {},
     "output_type": "execute_result"
    }
   ],
   "source": [
    "translator(\"Hello, what is your name?\")"
   ]
  },
  {
   "cell_type": "code",
   "execution_count": 11,
   "metadata": {},
   "outputs": [
    {
     "name": "stderr",
     "output_type": "stream",
     "text": [
      "Setting `pad_token_id` to `eos_token_id`:50256 for open-end generation.\n"
     ]
    },
    {
     "name": "stdout",
     "output_type": "stream",
     "text": [
      "Coucou tu veux me dire merci pour l' info sur ton nouveau blog! Je suis disponible les samedi et dimanche, en semaine. Il y a aussi quelques \" grands \", avec des produits pour chien qui aiment aussi se faire démonter, à\n",
      "[{'translation_text': 'Coucou tu veux me dire merci pour l\\'info sur ton nouveau blog! Je suis disponible les samedi et dimanche, en semaine. Il y a aussi quelques \" grands \", avec des produits pour chien qui aiment aussi se faire démonter, à'}]\n",
      "Coucou tu veux bien des précisions? Elle est l' auteur de nombreux ouvrages sur la psychologie du développement et sur les questions de développement. Ce ne sont pas les lois de la nature, de la quantité de lumière absorbée mais la présence d'\n",
      "[{'translation_text': \"Coucou tu veux bien des precisions? Elle est l'auteur de nombreux ouvrages sur la psychologie du développement et sur les questions de développement. Ce ne sont pas les lois de la nature, de la quantité de lumière absorbée mais la présence d'\"}]\n",
      "Coucou tu veux faire ce que tu veux à mes côtés? En fin d' après-midi, les premiers résultats devraient être communiqués au gouverneur de Floride. Le groupe avait indiqué dès la première émission de janvier dernier que les prix devraient grimper de\n",
      "[{'translation_text': \"Coucou tu veux faire ce que tu veux à mes côtés? En fin d'après-midi, les premiers résultats doivent être communiqués au gouverneur de Floride. Le groupe avait choisi la première émission de janvier dernier que les prix doivent être grimper de\"}]\n",
      "Coucou tu veux les prendre aussi, parce que ça nous fait plaisir. La première fois, il est même venu avec une bouteille de vin de Chianti pour nous faire profiter des paysages de l' Altiplano. Le second volet d\n",
      "[{'translation_text': \"Coucou tu veux les prendre aussi, parce que ça nous fait plaisir. La première fois, il est même venu avec une bouteille de vin de Chianti pour nous faire profiter des paysages de l'Altiplano.\"}]\n",
      "Coucou tu veux parler des gens qui on connu ça? Il y avait peut-être plus de gens impliqués dans le dossier \" de son patron, souligne son avocat, qui évoque notamment des différends d' héritage. Il y a eu des moments\n",
      "[{'translation_text': 'Coucou tu veux parler des gens qui on connu ça? Il y avait peut-être plus de gens appliqués dans le dossier \" de son patron, souligne son avocat, qui évoque notamment des différences d\\'ancienneté. Il y a eu des moments'}]\n"
     ]
    }
   ],
   "source": [
    "en_generated = generator(text, max_length=50, num_return_sequences=5)\n",
    "for txt in en_generated:\n",
    "    print(txt[\"generated_text\"])\n",
    "    print(translator(txt[\"generated_text\"]))"
   ]
  },
  {
   "cell_type": "markdown",
   "metadata": {},
   "source": [
    "# Explorez : Huggingface\n",
    "\n",
    "https://huggingface.co/models"
   ]
  },
  {
   "cell_type": "code",
   "execution_count": null,
   "metadata": {},
   "outputs": [],
   "source": []
  }
 ],
 "metadata": {
  "kernelspec": {
   "display_name": "Python 3.8.10 64-bit",
   "language": "python",
   "name": "python3"
  },
  "language_info": {
   "codemirror_mode": {
    "name": "ipython",
    "version": 3
   },
   "file_extension": ".py",
   "mimetype": "text/x-python",
   "name": "python",
   "nbconvert_exporter": "python",
   "pygments_lexer": "ipython3",
   "version": "3.10.6"
  },
  "vscode": {
   "interpreter": {
    "hash": "31f2aee4e71d21fbe5cf8b01ff0e069b9275f58929596ceb00d14d90e3e16cd6"
   }
  }
 },
 "nbformat": 4,
 "nbformat_minor": 4
}

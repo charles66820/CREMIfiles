{
 "cells": [
  {
   "cell_type": "markdown",
   "metadata": {},
   "source": [
    "# Introduction au Deep Learning appliqué aux images\n",
    "\n",
    "## Tasks\n",
    "![https://xkcd.com/1425/](https://imgs.xkcd.com/comics/tasks.png)\n",
    "\n",
    "*Title text:* In the 60s, [Marvin Minsky](https://fr.wikipedia.org/wiki/Marvin_Minsky) assigned a couple of undergrads to spend the summer programming a computer to use a camera to identify objects in a scene. He figured they'd have the problem solved by the end of the summer. Half a century later, we're still working on it. \n",
    "\n",
    "https://xkcd.com/1425/\n",
    "\n",
    "## TP4 : Les basiques\n",
    "  - Vue d'ensemble des problématiques traitées par le Deep Learning sur les images\n",
    "  - Les basiques (une redite?) : Le perceptron\n",
    "  - Application : Coder un perceptron en python\n",
    "  - Présentation de Pytorch\n",
    "  - Application : Prise en main de pytorch réseau simple\n",
    "  - Application : ~~classification d'image~~\n",
    "    \n",
    "## TP5 : Autoencodeurs\n",
    "\n",
    "## TP6 : GAN    "
   ]
  },
  {
   "cell_type": "markdown",
   "metadata": {},
   "source": [
    "# Les prouesses du deep learning sur les images\n",
    "\n",
    "https://github.com/kjw0612/awesome-deep-vision\n",
    "\n",
    "\n",
    "## super resolution\n",
    "http://lxu.me/projects/dcnn/results.html\n",
    "\n",
    "## segmentation\n",
    "http://mi.eng.cam.ac.uk/projects/segnet/\n",
    "\n",
    "## Human pose estimation\n",
    "https://beyondminds.ai/an-overview-of-human-pose-estimation-with-deep-learning/\n",
    "\n",
    "## Art ? \n",
    "https://ai.googleblog.com/2015/06/inceptionism-going-deeper-into-neural.html\n",
    "\n",
    "## Art\n",
    "https://github.com/jcjohnson/neural-style\n",
    "\n",
    "## Fake \n",
    "https://thispersondoesnotexist.com/\n",
    "\n",
    "https://thiscatdoesnotexist.com/\n",
    "\n",
    "## Image to text\n",
    "https://cs.stanford.edu/people/karpathy/deepimagesent/\n",
    "\n",
    "## Image from text : Dall-e\n",
    "https://openai.com/blog/dall-e/"
   ]
  },
  {
   "cell_type": "markdown",
   "metadata": {},
   "source": [
    "# Au commencement il y a les neurones\n",
    "\n",
    "![](https://resize1.prod.docfr.doc-media.fr/rcrop/650,380,center-middle/img/var/doctissimo/storage/images/fr/www/sante/maladies-du-cerveau/transmissions-neuronales/transmission-neuronale/374802-2-fre-FR/transmission-neuronale.jpg)\n",
    "\n",
    "# En informatique ça ressemble plutôt à ça\n",
    "\n",
    "![](https://upload.wikimedia.org/wikipedia/commons/thumb/5/58/ArtificialNeuronModel_francais.png/1280px-ArtificialNeuronModel_francais.png)"
   ]
  },
  {
   "attachments": {
    "590d6151-66e5-4e0c-aa83-1664be3aa695.png": {
     "image/png": "[encoded data removed]"
    }
   },
   "cell_type": "markdown",
   "metadata": {},
   "source": [
    "# Perceptron \n",
    "\n",
    "On a des entrées $X$ vecteur de réels de taille n.\n",
    "\n",
    "On a des poids $W$ vecteur de réels de taille n.\n",
    "\n",
    "On obtient à la sortie la valeur $z$ définie par $z= \\sum_i x_i w_i$\n",
    "\n",
    "Puis l'output est généré en passant pas la fonction d'activation $\\phi$.\n",
    "On a donc $o = \\phi(z)$\n",
    "\n",
    "![image.png](attachment:590d6151-66e5-4e0c-aa83-1664be3aa695.png)"
   ]
  },
  {
   "cell_type": "markdown",
   "metadata": {},
   "source": [
    "La sigmoide se définit comme:\n",
    "\n",
    "$$\\phi(x) = \\frac{1}{1+\\exp(-x)}$$\n",
    "\n",
    "**C'est une fonction dérivable!**\n",
    "\n",
    "Pourquoi est-ce important? \n",
    "\n",
    "On va pouvoir facilement faire des calculs d'erreur et une descente de gradient.\n",
    "\n",
    "On définit l'erreur d'un exemple $k$ comme $E_k = (y_k - o_k)$\n",
    "\n",
    "$y_k$ étant la vraie target de l'exemple.\n",
    "\n",
    "Lors de l'apprentissage, on veut réduire l'erreur globale sur les exemples.\n",
    "\n",
    "On calcule une erreur classique :\n",
    "$$E = \\frac{1}{2} \\sum_k E_k^2 = \\frac{1}{2} \\sum_k (y_k - o_k)^2$$\n",
    "\n",
    "Comment on procède pour faire diminuer cette erreur?\n",
    "\n",
    "On applique la méthode de descente de gradient.\n",
    "\n",
    "## Descente de gradient\n",
    "\n",
    "On va chercher à réduire l'erreur dans *la direction de l'erreur*. Cette direction est définie par le gradient dans le réseau.\n",
    "\n",
    "On peut calculer la dérivée partielle de l'erreur par rapport aux poids du réseau:\n",
    "\n",
    "$$ \\frac{\\partial E}{\\partial w_i} = - (y_k - o_k) \\phi' x_i$$\n",
    "\n",
    "Utilisez la \"chain rule\" (dérivation des fonctions composées)\n",
    "\n",
    "\n",
    "On obtient donc la \"Delta rule\" qui permet de mettre à jour les poinds d'un perceptron:\n",
    "\n",
    "$$w_i = w_i + \\alpha \\phi' (y_k -o_k) x_i$$\n",
    "\n",
    "$\\alpha$ étant un paramètre qu'on appelle le 'learning rate'."
   ]
  },
  {
   "attachments": {},
   "cell_type": "markdown",
   "metadata": {},
   "source": [
    "# Les mains dans le cambouis : un perceptron en python\n",
    "\n",
    "Vous souhaitez apprendre la fonction binaire OR.\n",
    "\n",
    "Commencez par générer votre jeu de données.\n",
    "\n",
    "Générez les ensembles d'inputs, et les target associées.\n",
    "\n",
    "*hint* :  Vous devez avoir 2 variables en entrées, et votre jeu de donnée doit avoir 4 exemples distincts"
   ]
  },
  {
   "cell_type": "code",
   "execution_count": null,
   "metadata": {},
   "outputs": [],
   "source": [
    "import numpy as np\n",
    "X = \n",
    "y = \n",
    "X, y"
   ]
  },
  {
   "cell_type": "markdown",
   "metadata": {},
   "source": [
    "Initialisez votre couche cachée W : np.random ..."
   ]
  },
  {
   "cell_type": "code",
   "execution_count": null,
   "metadata": {},
   "outputs": [],
   "source": [
    "W = \n",
    "W"
   ]
  },
  {
   "cell_type": "markdown",
   "metadata": {},
   "source": [
    "Codez la sigmoid:"
   ]
  },
  {
   "cell_type": "code",
   "execution_count": null,
   "metadata": {},
   "outputs": [],
   "source": [
    "import math\n",
    "\n",
    "def sigmoid(x):\n",
    "    return 12"
   ]
  },
  {
   "cell_type": "markdown",
   "metadata": {},
   "source": [
    "Codez la dérivée de la sigmoid !"
   ]
  },
  {
   "cell_type": "code",
   "execution_count": null,
   "metadata": {},
   "outputs": [],
   "source": [
    "def dsigmoid(x):\n",
    "    return 42"
   ]
  },
  {
   "cell_type": "markdown",
   "metadata": {},
   "source": [
    "Maintenant c'est de l'assemblage.\n",
    "\n",
    "Faites une boucle qui va faire plusieures passes d'entrainement.\n",
    " - Faites passer les inputs dans le réseau.\n",
    " - Calculez l'erreur\n",
    " - calculer la mise à jour des poids"
   ]
  },
  {
   "cell_type": "code",
   "execution_count": null,
   "metadata": {},
   "outputs": [],
   "source": [
    "def perceptron(W, X_input):\n",
    "    return 2022"
   ]
  },
  {
   "cell_type": "code",
   "execution_count": null,
   "metadata": {},
   "outputs": [],
   "source": []
  },
  {
   "cell_type": "markdown",
   "metadata": {},
   "source": [
    "Faites un graphe qui montre les erreurs au fil des epochs \n",
    "\n",
    "**Hint** : Il faut sauvegarder les erreurs dans la boucle de la cellule du dessus"
   ]
  },
  {
   "cell_type": "code",
   "execution_count": null,
   "metadata": {},
   "outputs": [],
   "source": [
    "import matplotlib.pyplot as plt\n",
    "\n",
    "plt.title(\"Epoch error\");"
   ]
  },
  {
   "cell_type": "markdown",
   "metadata": {},
   "source": [
    "Ca a fitté?\n",
    "\n",
    "Prouvez le moi!"
   ]
  },
  {
   "cell_type": "code",
   "execution_count": null,
   "metadata": {},
   "outputs": [],
   "source": []
  },
  {
   "cell_type": "markdown",
   "metadata": {},
   "source": [
    "# Nettoyez vous les mains y a des outils plus sympa !\n",
    "\n",
    "\n",
    "\n",
    "## Introduction à pytorch\n",
    "\n",
    "Pour ceux qui sont en avance\n",
    "=> https://pytorch.org/tutorials/beginner/deep_learning_60min_blitz.html"
   ]
  },
  {
   "cell_type": "markdown",
   "metadata": {},
   "source": [
    "## Supercharged numpy like data structure"
   ]
  },
  {
   "cell_type": "code",
   "execution_count": null,
   "metadata": {},
   "outputs": [],
   "source": [
    "import torch\n",
    "import numpy as np\n",
    "torch.cuda.is_available()"
   ]
  },
  {
   "cell_type": "code",
   "execution_count": null,
   "metadata": {},
   "outputs": [],
   "source": [
    "torch.__version__"
   ]
  },
  {
   "cell_type": "code",
   "execution_count": null,
   "metadata": {},
   "outputs": [],
   "source": [
    "a = np.random.randn(3,3)\n",
    "a"
   ]
  },
  {
   "cell_type": "code",
   "execution_count": null,
   "metadata": {},
   "outputs": [],
   "source": [
    "b = torch.Tensor(a)\n",
    "b"
   ]
  },
  {
   "cell_type": "code",
   "execution_count": null,
   "metadata": {},
   "outputs": [],
   "source": [
    "device = torch.device(\"cuda\" if torch.cuda.is_available() else \"cpu\")"
   ]
  },
  {
   "cell_type": "code",
   "execution_count": null,
   "metadata": {},
   "outputs": [],
   "source": [
    "c = b.to(device)\n",
    "c"
   ]
  },
  {
   "cell_type": "markdown",
   "metadata": {},
   "source": [
    "## Autograd\n",
    "\n",
    "![](https://i.chzbgr.com/full/8983265024/h4F684A2F/differentiate-all-the-continuous-functions)\n",
    "\n",
    "[tutoriel autograd](https://pytorch.org/tutorials/beginner/basics/autogradqs_tutorial.html)\n",
    "et [ça aussi](https://pytorch.org/tutorials/beginner/blitz/autograd_tutorial.html#sphx-glr-beginner-blitz-autograd-tutorial-py)"
   ]
  },
  {
   "cell_type": "code",
   "execution_count": null,
   "metadata": {},
   "outputs": [],
   "source": [
    "# requires_grad\n",
    "x = torch.ones(2, 2, requires_grad=True)\n",
    "print(x)"
   ]
  },
  {
   "cell_type": "code",
   "execution_count": null,
   "metadata": {},
   "outputs": [],
   "source": [
    "y = x + 2\n",
    "y"
   ]
  },
  {
   "cell_type": "code",
   "execution_count": null,
   "metadata": {},
   "outputs": [],
   "source": [
    "out = y.mean()\n",
    "out"
   ]
  },
  {
   "cell_type": "code",
   "execution_count": null,
   "metadata": {},
   "outputs": [],
   "source": [
    "out.backward()"
   ]
  },
  {
   "cell_type": "code",
   "execution_count": null,
   "metadata": {},
   "outputs": [],
   "source": [
    "x.grad"
   ]
  },
  {
   "cell_type": "markdown",
   "metadata": {},
   "source": [
    "# Coder un réseau de neurone avec pytorch\n",
    "\n",
    "Les outils sont disponibles dans [**torch.nn**](https://pytorch.org/docs/stable/nn.html) \n",
    "\n",
    "Pour définir un réseau il suffit d'hériter de la classe **torch.nn.Module** et de définir la méthode **forward** qui va transformer vos inputs en outputs.\n",
    "\n",
    "La méthode **backward** qui permet de rétropropager les gradients est calculée automatiquement par **autograd** !\n",
    "\n",
    "\n",
    "## Loss function\n",
    "Pour entrainer un réseau il faut définir une loss fonction (nos moindres carrés du perceptron). Il existe pleins de fonctions de perte qui sont à choisir en fonction de vos problèmes.\n",
    "\n",
    "Les loss disponibles de base sont [ici](https://pytorch.org/docs/stable/nn.html#loss-functions)\n",
    "\n",
    "## Backprop et optimizers\n",
    "\n",
    "On a maintenant tout pour faire apprendre notre réseau, il n'y a plus qu'à appliquer la backpropagation!\n",
    "\n",
    "Et pytorch nous aide car il y a eu des évolutions depuis la définition de la descente de gradient. Il définit toute une liste d'**optimizer**.\n",
    "\n",
    "https://pytorch.org/docs/stable/optim.html\n",
    "\n",
    "## Recodez le perceptron AND avec pytorch\n",
    "\n",
    "Refaites le 1er exercice en pytorch "
   ]
  },
  {
   "cell_type": "markdown",
   "metadata": {},
   "source": [
    "On défini tout d'abord notre modèle"
   ]
  },
  {
   "cell_type": "code",
   "execution_count": null,
   "metadata": {},
   "outputs": [],
   "source": [
    "import torch.nn as nn\n",
    "\n",
    "# https://pytorch.org/docs/stable/generated/torch.nn.Module.html#torch.nn.Module\n",
    "class Model(nn.Module):\n",
    "    ..."
   ]
  },
  {
   "cell_type": "markdown",
   "metadata": {},
   "source": [
    "On peut alors instancier notre modele"
   ]
  },
  {
   "cell_type": "code",
   "execution_count": null,
   "metadata": {},
   "outputs": [],
   "source": [
    "model = Model()"
   ]
  },
  {
   "cell_type": "markdown",
   "metadata": {},
   "source": [
    "Choix d'une fonction de loss"
   ]
  },
  {
   "cell_type": "code",
   "execution_count": null,
   "metadata": {},
   "outputs": [],
   "source": []
  },
  {
   "cell_type": "markdown",
   "metadata": {},
   "source": [
    "Choix d'un optimizer"
   ]
  },
  {
   "cell_type": "code",
   "execution_count": null,
   "metadata": {},
   "outputs": [],
   "source": []
  },
  {
   "cell_type": "markdown",
   "metadata": {},
   "source": [
    "Convertissons le dataset pour qu'il soit \"pytorch friendly\""
   ]
  },
  {
   "cell_type": "code",
   "execution_count": null,
   "metadata": {},
   "outputs": [],
   "source": []
  },
  {
   "cell_type": "markdown",
   "metadata": {},
   "source": [
    "Créons une epoch"
   ]
  },
  {
   "cell_type": "code",
   "execution_count": null,
   "metadata": {},
   "outputs": [],
   "source": []
  },
  {
   "cell_type": "markdown",
   "metadata": {},
   "source": [
    "Il suffit maintenant de faire plusieurs epoch"
   ]
  },
  {
   "cell_type": "code",
   "execution_count": null,
   "metadata": {},
   "outputs": [],
   "source": []
  },
  {
   "cell_type": "code",
   "execution_count": null,
   "metadata": {},
   "outputs": [],
   "source": [
    "import matplotlib.pyplot as plt\n",
    "\n",
    "plt.title(\"Epoch error\");"
   ]
  },
  {
   "attachments": {},
   "cell_type": "markdown",
   "metadata": {},
   "source": [
    "Ca a fitté?\n",
    "\n",
    "Prouvez le moi!"
   ]
  },
  {
   "cell_type": "code",
   "execution_count": null,
   "metadata": {},
   "outputs": [],
   "source": []
  }
 ],
 "metadata": {
  "kernelspec": {
   "display_name": "tp1",
   "language": "python",
   "name": "python3"
  },
  "language_info": {
   "codemirror_mode": {
    "name": "ipython",
    "version": 3
   },
   "file_extension": ".py",
   "mimetype": "text/x-python",
   "name": "python",
   "nbconvert_exporter": "python",
   "pygments_lexer": "ipython3",
   "version": "3.10.8 (main, Nov  4 2022, 13:48:29) [GCC 11.2.0]"
  },
  "vscode": {
   "interpreter": {
    "hash": "7ce4149955725de646ec937920da43345c1366436e9c09f40689337aabc4a578"
   }
  }
 },
 "nbformat": 4,
 "nbformat_minor": 4
}

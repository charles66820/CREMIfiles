{
 "cells": [
  {
   "cell_type": "markdown",
   "metadata": {},
   "source": [
    "# Introduction au Deep Learning appliqué aux images\n",
    "\n",
    "## Tasks\n",
    "![https://xkcd.com/1425/](https://imgs.xkcd.com/comics/tasks.png)\n",
    "\n",
    "*Title text:* In the 60s, [Marvin Minsky](https://fr.wikipedia.org/wiki/Marvin_Minsky) assigned a couple of undergrads to spend the summer programming a computer to use a camera to identify objects in a scene. He figured they'd have the problem solved by the end of the summer. Half a century later, we're still working on it. \n",
    "\n",
    "https://xkcd.com/1425/\n",
    "\n",
    "## TP4 : Les basiques\n",
    "  - Vue d'ensemble des problématiques traitées par le Deep Learning sur les images\n",
    "  - Les basiques (une redite?) : Le perceptron\n",
    "  - Application : Coder un perceptron en python\n",
    "  - Présentation de Pytorch\n",
    "  - Application : Prise en main de pytorch réseau simple\n",
    "  - Application : ~~classification d'image~~\n",
    "    \n",
    "## TP5 : Autoencodeurs\n",
    "\n",
    "## TP6 : GAN    "
   ]
  },
  {
   "cell_type": "markdown",
   "metadata": {},
   "source": [
    "# Les prouesses du deep learning sur les images\n",
    "\n",
    "https://github.com/kjw0612/awesome-deep-vision\n",
    "\n",
    "\n",
    "## super resolution\n",
    "http://lxu.me/projects/dcnn/results.html\n",
    "\n",
    "## segmentation\n",
    "http://mi.eng.cam.ac.uk/projects/segnet/\n",
    "\n",
    "## Human pose estimation\n",
    "https://beyondminds.ai/an-overview-of-human-pose-estimation-with-deep-learning/\n",
    "\n",
    "## Art ? \n",
    "https://ai.googleblog.com/2015/06/inceptionism-going-deeper-into-neural.html\n",
    "\n",
    "## Art\n",
    "https://github.com/jcjohnson/neural-style\n",
    "\n",
    "## Fake \n",
    "https://thispersondoesnotexist.com/\n",
    "\n",
    "https://thiscatdoesnotexist.com/\n",
    "\n",
    "## Image to text\n",
    "https://cs.stanford.edu/people/karpathy/deepimagesent/\n",
    "\n",
    "## Image from text : Dall-e\n",
    "https://openai.com/blog/dall-e/"
   ]
  },
  {
   "cell_type": "markdown",
   "metadata": {},
   "source": [
    "# Au commencement il y a les neurones\n",
    "\n",
    "![](https://resize1.prod.docfr.doc-media.fr/rcrop/650,380,center-middle/img/var/doctissimo/storage/images/fr/www/sante/maladies-du-cerveau/transmissions-neuronales/transmission-neuronale/374802-2-fre-FR/transmission-neuronale.jpg)\n",
    "\n",
    "# En informatique ça ressemble plutôt à ça\n",
    "\n",
    "![](https://upload.wikimedia.org/wikipedia/commons/thumb/5/58/ArtificialNeuronModel_francais.png/1280px-ArtificialNeuronModel_francais.png)"
   ]
  },
  {
   "attachments": {
    "590d6151-66e5-4e0c-aa83-1664be3aa695.png": {
     "image/png": "[encoded data removed]"
    }
   },
   "cell_type": "markdown",
   "metadata": {},
   "source": [
    "# Perceptron \n",
    "\n",
    "On a des entrées $X$ vecteur de réels de taille n.\n",
    "\n",
    "On a des poids $W$ vecteur de réels de taille n.\n",
    "\n",
    "On obtient à la sortie la valeur $z$ définie par $z= \\sum_i x_i w_i$\n",
    "\n",
    "Puis l'output est généré en passant pas la fonction d'activation $\\phi$.\n",
    "On a donc $o = \\phi(z)$\n",
    "\n",
    "![image.png](attachment:590d6151-66e5-4e0c-aa83-1664be3aa695.png)"
   ]
  },
  {
   "cell_type": "markdown",
   "metadata": {},
   "source": [
    "La sigmoide se définit comme:\n",
    "\n",
    "$$\\phi(x) = \\frac{1}{1+\\exp(-x)}$$\n",
    "\n",
    "**C'est une fonction dérivable!**\n",
    "\n",
    "Pourquoi est-ce important? \n",
    "\n",
    "On va pouvoir facilement faire des calculs d'erreur et une descente de gradient.\n",
    "\n",
    "On définit l'erreur d'un exemple $k$ comme $E_k = (y_k - o_k)$\n",
    "\n",
    "$y_k$ étant la vraie target de l'exemple.\n",
    "\n",
    "Lors de l'apprentissage, on veut réduire l'erreur globale sur les exemples.\n",
    "\n",
    "On calcule une erreur classique :\n",
    "$$E = \\frac{1}{2} \\sum_k E_k^2 = \\frac{1}{2} \\sum_k (y_k - o_k)^2$$\n",
    "\n",
    "Comment on procède pour faire diminuer cette erreur?\n",
    "\n",
    "On applique la méthode de descente de gradient.\n",
    "\n",
    "## Descente de gradient\n",
    "\n",
    "On va chercher à réduire l'erreur dans *la direction de l'erreur*. Cette direction est définie par le gradient dans le réseau.\n",
    "\n",
    "On peut calculer la dérivée partielle de l'erreur par rapport aux poids du réseau:\n",
    "\n",
    "$$ \\frac{\\partial E}{\\partial w_i} = - (y_k - o_k) \\phi' x_i$$\n",
    "\n",
    "Utilisez la \"chain rule\" (dérivation des fonctions composées)\n",
    "\n",
    "\n",
    "On obtient donc la \"Delta rule\" qui permet de mettre à jour les poinds d'un perceptron:\n",
    "\n",
    "$$w_i = w_i + \\alpha \\phi' (y_k -o_k) x_i$$\n",
    "\n",
    "$\\alpha$ étant un paramètre qu'on appelle le 'learning rate'."
   ]
  },
  {
   "attachments": {},
   "cell_type": "markdown",
   "metadata": {},
   "source": [
    "# Les mains dans le cambouis : un perceptron en python\n",
    "\n",
    "Vous souhaitez apprendre la fonction binaire OR.\n",
    "\n",
    "Commencez par générer votre jeu de données.\n",
    "\n",
    "Générez les ensembles d'inputs, et les target associées.\n",
    "\n",
    "*hint* :  Vous devez avoir 2 variables en entrées, et votre jeu de donnée doit avoir 4 exemples distincts"
   ]
  },
  {
   "cell_type": "code",
   "execution_count": 255,
   "metadata": {},
   "outputs": [
    {
     "data": {
      "text/plain": [
       "(array([[False, False],\n",
       "        [False,  True],\n",
       "        [ True,  True],\n",
       "        [ True, False]]),\n",
       " array([False,  True,  True,  True]))"
      ]
     },
     "execution_count": 255,
     "metadata": {},
     "output_type": "execute_result"
    }
   ],
   "source": [
    "import numpy as np\n",
    "X = np.array([(False, False), (False, True), (True, True), (True, False)])\n",
    "Y = np.array([False, True, True, True])\n",
    "X, Y"
   ]
  },
  {
   "cell_type": "markdown",
   "metadata": {},
   "source": [
    "Initialisez votre couche cachée W : np.random ..."
   ]
  },
  {
   "cell_type": "code",
   "execution_count": 256,
   "metadata": {},
   "outputs": [
    {
     "data": {
      "text/plain": [
       "array([0.55348214, 0.52197275])"
      ]
     },
     "execution_count": 256,
     "metadata": {},
     "output_type": "execute_result"
    }
   ],
   "source": [
    "W = np.random.rand(2)\n",
    "W"
   ]
  },
  {
   "cell_type": "markdown",
   "metadata": {},
   "source": [
    "Codez la sigmoid:"
   ]
  },
  {
   "cell_type": "code",
   "execution_count": 257,
   "metadata": {},
   "outputs": [],
   "source": [
    "import math\n",
    "\n",
    "def sigmoid(x):\n",
    "    return 1 / (1 + np.e**-x)\n",
    "    # return (np.e**x) / (1 + np.e**x)"
   ]
  },
  {
   "cell_type": "markdown",
   "metadata": {},
   "source": [
    "Codez la dérivée de la sigmoid !"
   ]
  },
  {
   "cell_type": "code",
   "execution_count": 258,
   "metadata": {},
   "outputs": [],
   "source": [
    "def dsigmoid(x):\n",
    "    return sigmoid(x) * (1 - sigmoid(x))"
   ]
  },
  {
   "cell_type": "markdown",
   "metadata": {},
   "source": [
    "Maintenant c'est de l'assemblage.\n",
    "\n",
    "Faites une boucle qui va faire plusieures passes d'entrainement.\n",
    " - Faites passer les inputs dans le réseau.\n",
    " - Calculez l'erreur\n",
    " - calculer la mise à jour des poids"
   ]
  },
  {
   "cell_type": "code",
   "execution_count": 259,
   "metadata": {},
   "outputs": [],
   "source": [
    "def perceptron(W, X_input):\n",
    "    z = W @ X_input\n",
    "    return sigmoid(z)"
   ]
  },
  {
   "cell_type": "code",
   "execution_count": 260,
   "metadata": {},
   "outputs": [
    {
     "name": "stdout",
     "output_type": "stream",
     "text": [
      "[False False] False 0.5\n",
      "[False  True] True 0.6276089453415649\n",
      "[ True  True] True 0.7456329004095897\n",
      "[ True False] True 0.634943096400622\n"
     ]
    }
   ],
   "source": [
    "for x, y in zip(X, Y):\n",
    "    o = perceptron(W, x)\n",
    "    print(x, y, o)"
   ]
  },
  {
   "cell_type": "code",
   "execution_count": 261,
   "metadata": {},
   "outputs": [],
   "source": [
    "alpha = 0.1\n",
    "epochs = 10000\n",
    "E_epochs = []\n",
    "for epoch in range(epochs):\n",
    "  error2Sum = 0\n",
    "  for x, y in zip(X, Y):\n",
    "    o = perceptron(W, x)\n",
    "    error = y - o\n",
    "\n",
    "    # Desente de gradient\n",
    "    delta = alpha * error * dsigmoid(o) * x\n",
    "    W += delta\n",
    "\n",
    "    error2Sum += error * error\n",
    "\n",
    "  E = 0.5 * error2Sum\n",
    "  E_epochs.append(E)"
   ]
  },
  {
   "cell_type": "markdown",
   "metadata": {},
   "source": [
    "Faites un graphe qui montre les erreurs au fil des epochs \n",
    "\n",
    "**Hint** : Il faut sauvegarder les erreurs dans la boucle de la cellule du dessus"
   ]
  },
  {
   "cell_type": "code",
   "execution_count": null,
   "metadata": {},
   "outputs": [],
   "source": []
  },
  {
   "cell_type": "code",
   "execution_count": 262,
   "metadata": {},
   "outputs": [
    {
     "data": {
      "text/plain": [
       "[<matplotlib.lines.Line2D at 0x7f6f00708e80>]"
      ]
     },
     "execution_count": 262,
     "metadata": {},
     "output_type": "execute_result"
    },
    {
     "data": {
      "image/png": "[encoded data removed]",
      "text/plain": [
       "<Figure size 640x480 with 1 Axes>"
      ]
     },
     "metadata": {},
     "output_type": "display_data"
    }
   ],
   "source": [
    "import matplotlib.pyplot as plt\n",
    "\n",
    "plt.title(\"Epoch error\");\n",
    "plt.plot(range(epochs), E_epochs)"
   ]
  },
  {
   "cell_type": "markdown",
   "metadata": {},
   "source": [
    "Ca a fitté?\n",
    "\n",
    "Prouvez le moi!"
   ]
  },
  {
   "cell_type": "code",
   "execution_count": 263,
   "metadata": {},
   "outputs": [
    {
     "name": "stdout",
     "output_type": "stream",
     "text": [
      "[False False] False 0.5\n",
      "[False  True] True 0.9950340251727047\n",
      "[ True  True] True 0.9999751055723708\n",
      "[ True False] True 0.9950365300147597\n"
     ]
    }
   ],
   "source": [
    "for x, y in zip(X, Y):\n",
    "    o = perceptron(W, x)\n",
    "    print(x, y, o)"
   ]
  },
  {
   "cell_type": "markdown",
   "metadata": {},
   "source": [
    "# Nettoyez vous les mains y a des outils plus sympa !\n",
    "\n",
    "\n",
    "\n",
    "## Introduction à pytorch\n",
    "\n",
    "Pour ceux qui sont en avance\n",
    "=> https://pytorch.org/tutorials/beginner/deep_learning_60min_blitz.html"
   ]
  },
  {
   "cell_type": "markdown",
   "metadata": {},
   "source": [
    "## Supercharged numpy like data structure"
   ]
  },
  {
   "cell_type": "code",
   "execution_count": 264,
   "metadata": {},
   "outputs": [
    {
     "data": {
      "text/plain": [
       "True"
      ]
     },
     "execution_count": 264,
     "metadata": {},
     "output_type": "execute_result"
    }
   ],
   "source": [
    "import torch\n",
    "import numpy as np\n",
    "torch.cuda.is_available()"
   ]
  },
  {
   "cell_type": "code",
   "execution_count": 265,
   "metadata": {},
   "outputs": [
    {
     "data": {
      "text/plain": [
       "'1.13.0+cu117'"
      ]
     },
     "execution_count": 265,
     "metadata": {},
     "output_type": "execute_result"
    }
   ],
   "source": [
    "torch.__version__"
   ]
  },
  {
   "cell_type": "code",
   "execution_count": 266,
   "metadata": {},
   "outputs": [
    {
     "data": {
      "text/plain": [
       "array([[ 0.51850583, -0.13203909, -0.91284233],\n",
       "       [-0.25247703,  0.78954435, -0.98083454],\n",
       "       [-0.81859708, -0.64720471, -0.47613666]])"
      ]
     },
     "execution_count": 266,
     "metadata": {},
     "output_type": "execute_result"
    }
   ],
   "source": [
    "a = np.random.randn(3,3)\n",
    "a"
   ]
  },
  {
   "cell_type": "code",
   "execution_count": 267,
   "metadata": {},
   "outputs": [
    {
     "data": {
      "text/plain": [
       "tensor([[ 0.5185, -0.1320, -0.9128],\n",
       "        [-0.2525,  0.7895, -0.9808],\n",
       "        [-0.8186, -0.6472, -0.4761]])"
      ]
     },
     "execution_count": 267,
     "metadata": {},
     "output_type": "execute_result"
    }
   ],
   "source": [
    "b = torch.Tensor(a)\n",
    "b"
   ]
  },
  {
   "cell_type": "code",
   "execution_count": 268,
   "metadata": {},
   "outputs": [],
   "source": [
    "device = torch.device(\"cuda\" if torch.cuda.is_available() else \"cpu\")"
   ]
  },
  {
   "cell_type": "code",
   "execution_count": 269,
   "metadata": {},
   "outputs": [
    {
     "data": {
      "text/plain": [
       "tensor([[ 0.5185, -0.1320, -0.9128],\n",
       "        [-0.2525,  0.7895, -0.9808],\n",
       "        [-0.8186, -0.6472, -0.4761]], device='cuda:0')"
      ]
     },
     "execution_count": 269,
     "metadata": {},
     "output_type": "execute_result"
    }
   ],
   "source": [
    "c = b.to(device)\n",
    "c"
   ]
  },
  {
   "cell_type": "markdown",
   "metadata": {},
   "source": [
    "## Autograd\n",
    "\n",
    "![](https://i.chzbgr.com/full/8983265024/h4F684A2F/differentiate-all-the-continuous-functions)\n",
    "\n",
    "[tutoriel autograd](https://pytorch.org/tutorials/beginner/basics/autogradqs_tutorial.html)\n",
    "et [ça aussi](https://pytorch.org/tutorials/beginner/blitz/autograd_tutorial.html#sphx-glr-beginner-blitz-autograd-tutorial-py)"
   ]
  },
  {
   "cell_type": "code",
   "execution_count": 270,
   "metadata": {},
   "outputs": [
    {
     "name": "stdout",
     "output_type": "stream",
     "text": [
      "tensor([[1., 1.],\n",
      "        [1., 1.]], requires_grad=True)\n"
     ]
    }
   ],
   "source": [
    "# requires_grad\n",
    "x = torch.ones(2, 2, requires_grad=True)\n",
    "print(x)"
   ]
  },
  {
   "cell_type": "code",
   "execution_count": 271,
   "metadata": {},
   "outputs": [
    {
     "data": {
      "text/plain": [
       "tensor([[3., 3.],\n",
       "        [3., 3.]], grad_fn=<AddBackward0>)"
      ]
     },
     "execution_count": 271,
     "metadata": {},
     "output_type": "execute_result"
    }
   ],
   "source": [
    "y = x + 2\n",
    "y"
   ]
  },
  {
   "cell_type": "code",
   "execution_count": 272,
   "metadata": {},
   "outputs": [
    {
     "data": {
      "text/plain": [
       "tensor(3., grad_fn=<MeanBackward0>)"
      ]
     },
     "execution_count": 272,
     "metadata": {},
     "output_type": "execute_result"
    }
   ],
   "source": [
    "out = y.mean()\n",
    "out"
   ]
  },
  {
   "cell_type": "code",
   "execution_count": 273,
   "metadata": {},
   "outputs": [],
   "source": [
    "out.backward()"
   ]
  },
  {
   "cell_type": "code",
   "execution_count": 274,
   "metadata": {},
   "outputs": [
    {
     "data": {
      "text/plain": [
       "tensor([[0.2500, 0.2500],\n",
       "        [0.2500, 0.2500]])"
      ]
     },
     "execution_count": 274,
     "metadata": {},
     "output_type": "execute_result"
    }
   ],
   "source": [
    "x.grad"
   ]
  },
  {
   "cell_type": "markdown",
   "metadata": {},
   "source": [
    "# Coder un réseau de neurone avec pytorch\n",
    "\n",
    "Les outils sont disponibles dans [**torch.nn**](https://pytorch.org/docs/stable/nn.html) \n",
    "\n",
    "Pour définir un réseau il suffit d'hériter de la classe **torch.nn.Module** et de définir la méthode **forward** qui va transformer vos inputs en outputs.\n",
    "\n",
    "La méthode **backward** qui permet de rétropropager les gradients est calculée automatiquement par **autograd** !\n",
    "\n",
    "\n",
    "## Loss function\n",
    "Pour entrainer un réseau il faut définir une loss fonction (nos moindres carrés du perceptron). Il existe pleins de fonctions de perte qui sont à choisir en fonction de vos problèmes.\n",
    "\n",
    "Les loss disponibles de base sont [ici](https://pytorch.org/docs/stable/nn.html#loss-functions)\n",
    "\n",
    "## Backprop et optimizers\n",
    "\n",
    "On a maintenant tout pour faire apprendre notre réseau, il n'y a plus qu'à appliquer la backpropagation!\n",
    "\n",
    "Et pytorch nous aide car il y a eu des évolutions depuis la définition de la descente de gradient. Il définit toute une liste d'**optimizer**.\n",
    "\n",
    "https://pytorch.org/docs/stable/optim.html\n",
    "\n",
    "## Recodez le perceptron AND avec pytorch\n",
    "\n",
    "Refaites le 1er exercice en pytorch "
   ]
  },
  {
   "cell_type": "markdown",
   "metadata": {},
   "source": [
    "On défini tout d'abord notre modèle"
   ]
  },
  {
   "cell_type": "code",
   "execution_count": 275,
   "metadata": {},
   "outputs": [],
   "source": [
    "import torch.nn as nn\n",
    "\n",
    "# https://pytorch.org/docs/stable/generated/torch.nn.Module.html#torch.nn.Module\n",
    "class Model(nn.Module):\n",
    "    def __init__(self):\n",
    "        super().__init__()\n",
    "        nbInFeature = 2\n",
    "        nbOutFeature = 1\n",
    "        self.W = nn.Linear(nbInFeature, nbOutFeature, True)\n",
    "\n",
    "    def forward(self, x):\n",
    "        return torch.sigmoid(self.W(x))"
   ]
  },
  {
   "cell_type": "markdown",
   "metadata": {},
   "source": [
    "On peut alors instancier notre modele"
   ]
  },
  {
   "cell_type": "code",
   "execution_count": 276,
   "metadata": {},
   "outputs": [],
   "source": [
    "model = Model()"
   ]
  },
  {
   "cell_type": "code",
   "execution_count": 277,
   "metadata": {},
   "outputs": [
    {
     "data": {
      "text/plain": [
       "tensor([0.3404], grad_fn=<SigmoidBackward0>)"
      ]
     },
     "execution_count": 277,
     "metadata": {},
     "output_type": "execute_result"
    }
   ],
   "source": [
    "model(torch.Tensor((0, 0)))"
   ]
  },
  {
   "cell_type": "markdown",
   "metadata": {},
   "source": [
    "Choix d'une fonction de loss"
   ]
  },
  {
   "cell_type": "code",
   "execution_count": 278,
   "metadata": {},
   "outputs": [],
   "source": [
    "loss = nn.MSELoss()"
   ]
  },
  {
   "cell_type": "markdown",
   "metadata": {},
   "source": [
    "Choix d'un optimizer"
   ]
  },
  {
   "cell_type": "code",
   "execution_count": 279,
   "metadata": {},
   "outputs": [
    {
     "data": {
      "text/plain": [
       "[Parameter containing:\n",
       " tensor([[0.6307, 0.2520]], requires_grad=True),\n",
       " Parameter containing:\n",
       " tensor([-0.6616], requires_grad=True)]"
      ]
     },
     "execution_count": 279,
     "metadata": {},
     "output_type": "execute_result"
    }
   ],
   "source": [
    "list(model.parameters()) # W + bias"
   ]
  },
  {
   "cell_type": "code",
   "execution_count": 280,
   "metadata": {},
   "outputs": [],
   "source": [
    "# fait évoluer W et bias\n",
    "# optimizer = torch.optim.Adam(model.parameters(), lr=0.01)\n",
    "optimizer = torch.optim.SGD(model.parameters(), lr=0.01)"
   ]
  },
  {
   "cell_type": "markdown",
   "metadata": {},
   "source": [
    "Convertissons le dataset pour qu'il soit \"pytorch friendly\""
   ]
  },
  {
   "cell_type": "code",
   "execution_count": 281,
   "metadata": {},
   "outputs": [
    {
     "name": "stderr",
     "output_type": "stream",
     "text": [
      "/tmp/ipykernel_11403/841068050.py:5: DeprecationWarning: In future, it will be an error for 'np.bool_' scalars to be interpreted as an index\n",
      "  Y_torch = [torch.Tensor([y]) for y in Y]\n"
     ]
    }
   ],
   "source": [
    "X = np.array([(False, False), (False, True), (True, True), (True, False)])\n",
    "Y = np.array([False, True, True, True])\n",
    "\n",
    "X_torch = [torch.Tensor(x) for x in X]\n",
    "Y_torch = [torch.Tensor([y]) for y in Y]"
   ]
  },
  {
   "cell_type": "markdown",
   "metadata": {},
   "source": [
    "Créons une epoch"
   ]
  },
  {
   "cell_type": "code",
   "execution_count": 287,
   "metadata": {},
   "outputs": [],
   "source": [
    "alpha = 0.1\n",
    "epochs = 10000\n",
    "E_epochs = []\n",
    "\n",
    "for epoch in range(epochs):\n",
    "  epochLoss = 0\n",
    "  for x, y in zip(X_torch, Y_torch):\n",
    "    # stop le gradient\n",
    "    optimizer.zero_grad()\n",
    "\n",
    "    # forward-pass\n",
    "    yPred = model(x)\n",
    "\n",
    "    # compute loss\n",
    "    lossVal = loss(yPred, y)\n",
    "\n",
    "    # calcule gradient\n",
    "    lossVal.backward()\n",
    "\n",
    "    epochLoss += float(lossVal)\n",
    "\n",
    "    # application du calcule\n",
    "    optimizer.step()\n",
    "  E = 0.5 * epochLoss\n",
    "  E_epochs.append(E)"
   ]
  },
  {
   "cell_type": "markdown",
   "metadata": {},
   "source": [
    "Il suffit maintenant de faire plusieurs epoch"
   ]
  },
  {
   "cell_type": "code",
   "execution_count": 283,
   "metadata": {},
   "outputs": [],
   "source": [
    "# done"
   ]
  },
  {
   "cell_type": "code",
   "execution_count": 288,
   "metadata": {},
   "outputs": [
    {
     "data": {
      "text/plain": [
       "[<matplotlib.lines.Line2D at 0x7f6f005f3bb0>]"
      ]
     },
     "execution_count": 288,
     "metadata": {},
     "output_type": "execute_result"
    },
    {
     "data": {
      "image/png": "[encoded data removed]",
      "text/plain": [
       "<Figure size 640x480 with 1 Axes>"
      ]
     },
     "metadata": {},
     "output_type": "display_data"
    }
   ],
   "source": [
    "import matplotlib.pyplot as plt\n",
    "\n",
    "plt.title(\"Epoch error\");\n",
    "plt.plot(range(epochs), E_epochs)"
   ]
  },
  {
   "attachments": {},
   "cell_type": "markdown",
   "metadata": {},
   "source": [
    "Ca a fitté?\n",
    "\n",
    "Prouvez le moi!"
   ]
  },
  {
   "cell_type": "code",
   "execution_count": 289,
   "metadata": {},
   "outputs": [
    {
     "name": "stdout",
     "output_type": "stream",
     "text": [
      "tensor([0., 0.]) tensor([0.0726]) tensor([0.])\n",
      "tensor([0., 1.]) tensor([0.9549]) tensor([1.])\n",
      "tensor([1., 1.]) tensor([0.9998]) tensor([1.])\n",
      "tensor([1., 0.]) tensor([0.9549]) tensor([1.])\n"
     ]
    }
   ],
   "source": [
    "for input, target in zip(X_torch, Y_torch):\n",
    "  with torch.no_grad():\n",
    "    output = model(input)\n",
    "    print(input, output, target)"
   ]
  }
 ],
 "metadata": {
  "kernelspec": {
   "display_name": "Python 3",
   "language": "python",
   "name": "python3"
  },
  "language_info": {
   "codemirror_mode": {
    "name": "ipython",
    "version": 3
   },
   "file_extension": ".py",
   "mimetype": "text/x-python",
   "name": "python",
   "nbconvert_exporter": "python",
   "pygments_lexer": "ipython3",
   "version": "3.10.6"
  },
  "vscode": {
   "interpreter": {
    "hash": "31f2aee4e71d21fbe5cf8b01ff0e069b9275f58929596ceb00d14d90e3e16cd6"
   }
  }
 },
 "nbformat": 4,
 "nbformat_minor": 4
}
